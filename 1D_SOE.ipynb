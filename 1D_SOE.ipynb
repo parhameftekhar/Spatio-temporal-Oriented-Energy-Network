{
 "cells": [
  {
   "cell_type": "code",
   "execution_count": null,
   "id": "35929425",
   "metadata": {},
   "outputs": [],
   "source": []
  },
  {
   "cell_type": "code",
   "execution_count": 1,
   "id": "aefe6e64",
   "metadata": {},
   "outputs": [],
   "source": [
    "import SOE_NET_1D as v1\n",
    "import SOE_Net_model_full as v3\n",
    "import tensorflow as tf\n",
    "import numpy as np\n",
    "import configure as cfg\n",
    "import init_SOE_NET as init_net"
   ]
  },
  {
   "cell_type": "code",
   "execution_count": 2,
   "id": "c7908a9a",
   "metadata": {},
   "outputs": [],
   "source": [
    "tf.compat.v1.enable_eager_execution()"
   ]
  },
  {
   "cell_type": "code",
   "execution_count": null,
   "id": "9fee7952",
   "metadata": {},
   "outputs": [],
   "source": [
    "orientations = np.array(init_net.initOrientations (cfg.ORIENTATIONS,cfg.SPEEDS,cfg.NUM_DIRECTIONS), dtype=np.float32)\n",
    "basis = init_net.initSeparableFilters('basis', cfg.FILTER_TAPS, filter_type=\"G3\").astype(np.float32)\n",
    "biases = init_net.initBiases('bias', 0)"
   ]
  },
  {
   "cell_type": "code",
   "execution_count": 4,
   "id": "c99eebeb",
   "metadata": {},
   "outputs": [
    {
     "data": {
      "text/plain": [
       "(5, 13)"
      ]
     },
     "execution_count": 4,
     "metadata": {},
     "output_type": "execute_result"
    }
   ],
   "source": [
    "basis.shape"
   ]
  },
  {
   "cell_type": "markdown",
   "id": "2507adf8",
   "metadata": {},
   "source": [
    "# 1D version"
   ]
  },
  {
   "cell_type": "code",
   "execution_count": 81,
   "id": "534a1dc7",
   "metadata": {},
   "outputs": [],
   "source": [
    "vol1 = np.random.rand(1, 42, 10)\n",
    "vol1 = tf.constant(vol1, dtype=tf.float32)"
   ]
  },
  {
   "cell_type": "code",
   "execution_count": 16,
   "id": "54d3497e",
   "metadata": {},
   "outputs": [
    {
     "data": {
      "text/plain": [
       "-0.004087332711350828"
      ]
     },
     "execution_count": 16,
     "metadata": {},
     "output_type": "execute_result"
    }
   ],
   "source": [
    "basis[0,0]"
   ]
  },
  {
   "cell_type": "code",
   "execution_count": 6,
   "id": "001bace2",
   "metadata": {},
   "outputs": [
    {
     "name": "stderr",
     "output_type": "stream",
     "text": [
      "2022-04-29 11:50:20.728835: I tensorflow/stream_executor/platform/default/dso_loader.cc:44] Successfully opened dynamic library libcudnn.so.7\n",
      "2022-04-29 11:50:21.270036: I tensorflow/stream_executor/platform/default/dso_loader.cc:44] Successfully opened dynamic library libcublas.so.10.0\n"
     ]
    }
   ],
   "source": [
    "conv2 = v1.SC1D('conv1', vol1, basis)"
   ]
  },
  {
   "cell_type": "code",
   "execution_count": 11,
   "id": "2eebc6b1",
   "metadata": {},
   "outputs": [],
   "source": [
    "import configure as cfg\n",
    "import init_SOE_NET as init_net\n",
    "import numpy as np\n",
    "import tensorflow as tf\n",
    "from SOE_NET_1D import conv1d"
   ]
  },
  {
   "cell_type": "code",
   "execution_count": 12,
   "id": "ce93e847",
   "metadata": {},
   "outputs": [],
   "source": [
    "tf.compat.v1.enable_eager_execution()"
   ]
  },
  {
   "cell_type": "code",
   "execution_count": 3,
   "id": "22798f99",
   "metadata": {},
   "outputs": [
    {
     "name": "stderr",
     "output_type": "stream",
     "text": [
      "2022-06-13 12:00:43.666422: I tensorflow/stream_executor/platform/default/dso_loader.cc:44] Successfully opened dynamic library libcuda.so.1\n",
      "2022-06-13 12:00:43.694760: I tensorflow/core/common_runtime/gpu/gpu_device.cc:1618] Found device 0 with properties: \n",
      "name: Quadro P6000 major: 6 minor: 1 memoryClockRate(GHz): 1.645\n",
      "pciBusID: 0000:65:00.0\n",
      "2022-06-13 12:00:43.695104: I tensorflow/stream_executor/platform/default/dso_loader.cc:44] Successfully opened dynamic library libcudart.so.10.0\n",
      "2022-06-13 12:00:43.697606: I tensorflow/stream_executor/platform/default/dso_loader.cc:44] Successfully opened dynamic library libcublas.so.10.0\n",
      "2022-06-13 12:00:43.699703: I tensorflow/stream_executor/platform/default/dso_loader.cc:44] Successfully opened dynamic library libcufft.so.10.0\n",
      "2022-06-13 12:00:43.700228: I tensorflow/stream_executor/platform/default/dso_loader.cc:44] Successfully opened dynamic library libcurand.so.10.0\n",
      "2022-06-13 12:00:43.702142: I tensorflow/stream_executor/platform/default/dso_loader.cc:44] Successfully opened dynamic library libcusolver.so.10.0\n",
      "2022-06-13 12:00:43.703619: I tensorflow/stream_executor/platform/default/dso_loader.cc:44] Successfully opened dynamic library libcusparse.so.10.0\n",
      "2022-06-13 12:00:43.708508: I tensorflow/stream_executor/platform/default/dso_loader.cc:44] Successfully opened dynamic library libcudnn.so.7\n",
      "2022-06-13 12:00:43.708985: I tensorflow/core/common_runtime/gpu/gpu_device.cc:1746] Adding visible gpu devices: 0\n",
      "2022-06-13 12:00:43.709863: I tensorflow/core/platform/cpu_feature_guard.cc:142] Your CPU supports instructions that this TensorFlow binary was not compiled to use: SSE4.1 SSE4.2 AVX AVX2 AVX512F FMA\n",
      "2022-06-13 12:00:43.735093: I tensorflow/core/platform/profile_utils/cpu_utils.cc:94] CPU Frequency: 3699850000 Hz\n",
      "2022-06-13 12:00:43.735881: I tensorflow/compiler/xla/service/service.cc:168] XLA service 0x55f5112e5bb0 initialized for platform Host (this does not guarantee that XLA will be used). Devices:\n",
      "2022-06-13 12:00:43.735911: I tensorflow/compiler/xla/service/service.cc:176]   StreamExecutor device (0): Host, Default Version\n",
      "2022-06-13 12:00:43.736281: I tensorflow/core/common_runtime/gpu/gpu_device.cc:1618] Found device 0 with properties: \n",
      "name: Quadro P6000 major: 6 minor: 1 memoryClockRate(GHz): 1.645\n",
      "pciBusID: 0000:65:00.0\n",
      "2022-06-13 12:00:43.736322: I tensorflow/stream_executor/platform/default/dso_loader.cc:44] Successfully opened dynamic library libcudart.so.10.0\n",
      "2022-06-13 12:00:43.736337: I tensorflow/stream_executor/platform/default/dso_loader.cc:44] Successfully opened dynamic library libcublas.so.10.0\n",
      "2022-06-13 12:00:43.736349: I tensorflow/stream_executor/platform/default/dso_loader.cc:44] Successfully opened dynamic library libcufft.so.10.0\n",
      "2022-06-13 12:00:43.736362: I tensorflow/stream_executor/platform/default/dso_loader.cc:44] Successfully opened dynamic library libcurand.so.10.0\n",
      "2022-06-13 12:00:43.736375: I tensorflow/stream_executor/platform/default/dso_loader.cc:44] Successfully opened dynamic library libcusolver.so.10.0\n",
      "2022-06-13 12:00:43.736387: I tensorflow/stream_executor/platform/default/dso_loader.cc:44] Successfully opened dynamic library libcusparse.so.10.0\n",
      "2022-06-13 12:00:43.736400: I tensorflow/stream_executor/platform/default/dso_loader.cc:44] Successfully opened dynamic library libcudnn.so.7\n",
      "2022-06-13 12:00:43.736722: I tensorflow/core/common_runtime/gpu/gpu_device.cc:1746] Adding visible gpu devices: 0\n",
      "2022-06-13 12:00:43.736755: I tensorflow/stream_executor/platform/default/dso_loader.cc:44] Successfully opened dynamic library libcudart.so.10.0\n",
      "2022-06-13 12:00:43.797679: I tensorflow/core/common_runtime/gpu/gpu_device.cc:1159] Device interconnect StreamExecutor with strength 1 edge matrix:\n",
      "2022-06-13 12:00:43.797701: I tensorflow/core/common_runtime/gpu/gpu_device.cc:1165]      0 \n",
      "2022-06-13 12:00:43.797705: I tensorflow/core/common_runtime/gpu/gpu_device.cc:1178] 0:   N \n",
      "2022-06-13 12:00:43.798123: I tensorflow/core/common_runtime/gpu/gpu_device.cc:1304] Created TensorFlow device (/job:localhost/replica:0/task:0/device:GPU:0 with 21550 MB memory) -> physical GPU (device: 0, name: Quadro P6000, pci bus id: 0000:65:00.0, compute capability: 6.1)\n",
      "2022-06-13 12:00:43.799601: I tensorflow/compiler/xla/service/service.cc:168] XLA service 0x55f512453f70 initialized for platform CUDA (this does not guarantee that XLA will be used). Devices:\n",
      "2022-06-13 12:00:43.799617: I tensorflow/compiler/xla/service/service.cc:176]   StreamExecutor device (0): Quadro P6000, Compute Capability 6.1\n"
     ]
    }
   ],
   "source": [
    "gau_filter = init_net.initSeparableFilters('basis', cfg.FILTER_TAPS, filter_type=\"G3\")"
   ]
  },
  {
   "cell_type": "code",
   "execution_count": 4,
   "id": "5a098098",
   "metadata": {},
   "outputs": [
    {
     "data": {
      "text/plain": [
       "tf.float32"
      ]
     },
     "execution_count": 4,
     "metadata": {},
     "output_type": "execute_result"
    }
   ],
   "source": [
    "gau_filter.dtype"
   ]
  },
  {
   "cell_type": "code",
   "execution_count": 40,
   "id": "9a1a0ab3",
   "metadata": {},
   "outputs": [
    {
     "name": "stdout",
     "output_type": "stream",
     "text": [
      "262144\n"
     ]
    }
   ],
   "source": [
    "print(2**18)"
   ]
  },
  {
   "cell_type": "code",
   "execution_count": 7,
   "id": "c06f70d1",
   "metadata": {},
   "outputs": [],
   "source": [
    "import audio2numpy as a2n\n",
    "x,sr=a2n.audio_from_file(\"bee_102.mp3\")"
   ]
  },
  {
   "cell_type": "code",
   "execution_count": 8,
   "id": "3d209f7e",
   "metadata": {},
   "outputs": [],
   "source": [
    "from util import highestPowerof2\n",
    "n = highestPowerof2(x.shape[0])\n",
    "x = x[x.shape[0]//2 - n // 2 : x.shape[0] // 2 + n //2, :]"
   ]
  },
  {
   "cell_type": "code",
   "execution_count": 9,
   "id": "27b42d2c",
   "metadata": {},
   "outputs": [
    {
     "data": {
      "image/png": "[encoded data removed]",
      "text/plain": [
       "<Figure size 432x288 with 1 Axes>"
      ]
     },
     "metadata": {
      "needs_background": "light"
     },
     "output_type": "display_data"
    }
   ],
   "source": [
    "import matplotlib.pyplot as plt       \n",
    "plt.plot(x[:,1])\n",
    "plt.show()"
   ]
  },
  {
   "cell_type": "code",
   "execution_count": 78,
   "id": "15c3746e",
   "metadata": {},
   "outputs": [
    {
     "data": {
      "image/png": "[encoded data removed]",
      "text/plain": [
       "<Figure size 432x288 with 1 Axes>"
      ]
     },
     "metadata": {
      "needs_background": "light"
     },
     "output_type": "display_data"
    }
   ],
   "source": [
    "import matplotlib.pyplot as plt       \n",
    "plt.plot(x[:,0])\n",
    "plt.show()"
   ]
  },
  {
   "cell_type": "code",
   "execution_count": 79,
   "id": "07afe910",
   "metadata": {},
   "outputs": [
    {
     "data": {
      "text/plain": [
       "TensorShape([Dimension(1), Dimension(262144), Dimension(2)])"
      ]
     },
     "execution_count": 79,
     "metadata": {},
     "output_type": "execute_result"
    }
   ],
   "source": [
    "vol = tf.constant(x[None,:,:], dtype=tf.float32)\n",
    "vol.shape"
   ]
  },
  {
   "cell_type": "code",
   "execution_count": 55,
   "id": "9448c4ea",
   "metadata": {},
   "outputs": [],
   "source": [
    "vol = np.random.rand(1, 1024, 1)\n",
    "vol = tf.constant(vol, dtype=tf.float32)"
   ]
  },
  {
   "cell_type": "code",
   "execution_count": 80,
   "id": "5ffd3c25",
   "metadata": {},
   "outputs": [],
   "source": [
    "from SOE_NET_1D import SOE_Net\n",
    "output = SOE_Net(vol, gau_filter)"
   ]
  },
  {
   "cell_type": "code",
   "execution_count": 81,
   "id": "0b3fa989",
   "metadata": {},
   "outputs": [
    {
     "data": {
      "text/plain": [
       "TensorShape([Dimension(1), Dimension(24)])"
      ]
     },
     "execution_count": 81,
     "metadata": {},
     "output_type": "execute_result"
    }
   ],
   "source": [
    "output.shape"
   ]
  },
  {
   "cell_type": "code",
   "execution_count": 83,
   "id": "4885d280",
   "metadata": {},
   "outputs": [
    {
     "data": {
      "text/plain": [
       "<tf.Tensor: id=34581309, shape=(1, 24), dtype=float32, numpy=\n",
       "array([[5.5490687e-02, 5.6729257e-02, 9.8853445e-01, 1.0223104e+00,\n",
       "        1.9524168e+01, 2.0023069e+01, 3.8774640e+02, 3.7536670e+02,\n",
       "        5.0228735e+03, 4.6052988e+03, 3.8228547e+04, 3.8802906e+04,\n",
       "        5.5502128e-02, 5.6776330e-02, 9.8632181e-01, 1.0180794e+00,\n",
       "        1.9425150e+01, 1.9869133e+01, 3.7861490e+02, 3.6697806e+02,\n",
       "        4.9291152e+03, 4.5775806e+03, 3.8602344e+04, 3.8763688e+04]],\n",
       "      dtype=float32)>"
      ]
     },
     "execution_count": 83,
     "metadata": {},
     "output_type": "execute_result"
    }
   ],
   "source": [
    "output"
   ]
  },
  {
   "cell_type": "code",
   "execution_count": 82,
   "id": "f1c1bb3f",
   "metadata": {},
   "outputs": [
    {
     "data": {
      "image/png": "[encoded data removed]",
      "text/plain": [
       "<Figure size 432x288 with 1 Axes>"
      ]
     },
     "metadata": {
      "needs_background": "light"
     },
     "output_type": "display_data"
    }
   ],
   "source": [
    "plt.plot(output.numpy()[0,:])\n",
    "plt.show()"
   ]
  },
  {
   "cell_type": "code",
   "execution_count": 74,
   "id": "0e54ebc1",
   "metadata": {},
   "outputs": [
    {
     "data": {
      "image/png": "[encoded data removed]",
      "text/plain": [
       "<Figure size 432x288 with 1 Axes>"
      ]
     },
     "metadata": {
      "needs_background": "light"
     },
     "output_type": "display_data"
    }
   ],
   "source": [
    "plt.plot(output.numpy()[0,:])\n",
    "plt.show()"
   ]
  },
  {
   "cell_type": "code",
   "execution_count": 66,
   "id": "19c3a17f",
   "metadata": {},
   "outputs": [
    {
     "data": {
      "image/png": "[encoded data removed]",
      "text/plain": [
       "<Figure size 432x288 with 1 Axes>"
      ]
     },
     "metadata": {
      "needs_background": "light"
     },
     "output_type": "display_data"
    }
   ],
   "source": [
    "plt.plot(output.numpy()[0,:])\n",
    "plt.show()"
   ]
  },
  {
   "cell_type": "code",
   "execution_count": 60,
   "id": "3da4de35",
   "metadata": {},
   "outputs": [
    {
     "data": {
      "image/png": "[encoded data removed]",
      "text/plain": [
       "<Figure size 432x288 with 1 Axes>"
      ]
     },
     "metadata": {
      "needs_background": "light"
     },
     "output_type": "display_data"
    }
   ],
   "source": [
    "plt.plot(output.numpy()[0,:])\n",
    "plt.show()"
   ]
  },
  {
   "cell_type": "code",
   "execution_count": 1,
   "id": "b7e8928d",
   "metadata": {},
   "outputs": [],
   "source": [
    "import configure as cfg\n",
    "import init_SOE_NET as init_net\n",
    "import numpy as np\n",
    "import tensorflow as tf\n",
    "from SOE_NET_1D import conv1d"
   ]
  },
  {
   "cell_type": "code",
   "execution_count": 2,
   "id": "d3594787",
   "metadata": {},
   "outputs": [],
   "source": [
    "tf.compat.v1.enable_eager_execution()"
   ]
  },
  {
   "cell_type": "code",
   "execution_count": 9,
   "id": "b7a69f60",
   "metadata": {},
   "outputs": [],
   "source": [
    "n = 2**(17)\n",
    "delta = [0] * n\n",
    "delta[n//2] = 1\n",
    "vol = tf.constant(delta, dtype=tf.float32)[None, :, None]\n",
    "gau_filter = init_net.initSeparableFilters('basis', cfg.FILTER_TAPS, filter_type=\"G3\")"
   ]
  },
  {
   "cell_type": "code",
   "execution_count": 4,
   "id": "67e916fd",
   "metadata": {},
   "outputs": [],
   "source": [
    "def SC1D(in_data, basis, num_scale):\n",
    "\n",
    "    original_temporal_res = in_data.shape[1]\n",
    "    # Binomial filter to be used for downsampling\n",
    "    binomial_filter = tf.constant(np.array([1, 4, 6, 4, 1])/16, dtype=tf.float32)\n",
    "\n",
    "    all_scales = []\n",
    "\n",
    "    # downsampling untill the level of desire\n",
    "    all_scales.append(in_data)\n",
    "    for scale in range(1, num_scale + 1):\n",
    "        in_data = conv1d('downsampling_smoothing_scale{}'.format(scale), in_data, binomial_filter)\n",
    "        mask = tf.not_equal(tf.range(tf.shape(in_data)[1]) % cfg.DOWN_SAMPLE_FACTOR, 0)\n",
    "        in_data = tf.boolean_mask(in_data, mask, axis=1)\n",
    "        all_scales.append(in_data)\n",
    "\n",
    "    # applying filter of interest and upscaling\n",
    "    for i in range(num_scale + 1):\n",
    "        vol = conv1d('G_a_scale{}'.format(i), all_scales[i], basis[0,:])\n",
    "        while vol.shape.as_list()[1] != original_temporal_res:\n",
    "            vol = tf.keras.layers.UpSampling1D(size=cfg.DOWN_SAMPLE_FACTOR)(vol)\n",
    "            mask = tf.constant([0,1] * (vol.shape.as_list()[1] // 2), dtype=tf.float32)[None, :, None]\n",
    "            mask = tf.repeat(mask, repeats=[vol.shape[-1]], axis=-1)\n",
    "            vol = vol * mask\n",
    "            vol = 1 * conv1d('downsampling_smoothing_scale{}'.format(i), vol, binomial_filter)\n",
    "\n",
    "#         vol = vol / cfg.MULTI_SCALING_NORM_FACTORS[i] \n",
    "        all_scales[i] = vol\n",
    "    \n",
    "\n",
    "    vols = tf.concat(axis=-1, values=all_scales, name='concatScales')            \n",
    "    return vols"
   ]
  },
  {
   "cell_type": "code",
   "execution_count": 8,
   "id": "250c5307",
   "metadata": {},
   "outputs": [
    {
     "data": {
      "text/plain": [
       "1048576"
      ]
     },
     "execution_count": 8,
     "metadata": {},
     "output_type": "execute_result"
    }
   ],
   "source": []
  },
  {
   "cell_type": "code",
   "execution_count": 10,
   "id": "bbdbbfb5",
   "metadata": {},
   "outputs": [],
   "source": [
    "output = SC1D(vol, gau_filter, 15)"
   ]
  },
  {
   "cell_type": "code",
   "execution_count": 6,
   "id": "7a578593",
   "metadata": {},
   "outputs": [
    {
     "data": {
      "text/plain": [
       "<tf.Tensor: id=14693738, shape=(1048576,), dtype=float32, numpy=array([0., 0., 0., ..., 0., 0., 0.], dtype=float32)>"
      ]
     },
     "execution_count": 6,
     "metadata": {},
     "output_type": "execute_result"
    }
   ],
   "source": [
    "output[0,:,15]"
   ]
  },
  {
   "cell_type": "code",
   "execution_count": 67,
   "id": "bd907053",
   "metadata": {},
   "outputs": [],
   "source": [
    "out_np = output.numpy()"
   ]
  },
  {
   "cell_type": "code",
   "execution_count": 68,
   "id": "891294ea",
   "metadata": {},
   "outputs": [],
   "source": [
    "out_np = out_np.squeeze()"
   ]
  },
  {
   "cell_type": "code",
   "execution_count": 69,
   "id": "83fba096",
   "metadata": {},
   "outputs": [],
   "source": [
    "out_np = np.sum(out_np*out_np, axis = 0)"
   ]
  },
  {
   "cell_type": "code",
   "execution_count": 70,
   "id": "08505321",
   "metadata": {},
   "outputs": [
    {
     "data": {
      "text/plain": [
       "array([1.27294004e+00, 7.02542290e-02, 7.57212192e-03, 9.15596494e-04,\n",
       "       1.13530281e-04, 1.41629107e-05, 1.76947970e-06, 2.21157464e-07,\n",
       "       2.76437877e-08, 3.45544504e-09, 4.31928160e-10, 5.39905898e-11,\n",
       "       6.74876084e-12, 8.43561278e-13, 1.05441284e-13, 1.31790534e-14],\n",
       "      dtype=float32)"
      ]
     },
     "execution_count": 70,
     "metadata": {},
     "output_type": "execute_result"
    }
   ],
   "source": [
    "out_np"
   ]
  },
  {
   "cell_type": "code",
   "execution_count": 71,
   "id": "73cc2bac",
   "metadata": {},
   "outputs": [],
   "source": [
    "np.save(\"scales_factor1.npy\", out_np)"
   ]
  },
  {
   "cell_type": "code",
   "execution_count": 48,
   "id": "519af891",
   "metadata": {},
   "outputs": [],
   "source": [
    "scales = np.load(\"scales.npy\")"
   ]
  },
  {
   "cell_type": "code",
   "execution_count": 61,
   "id": "8b222218",
   "metadata": {},
   "outputs": [
    {
     "data": {
      "text/plain": [
       "array([[[1.2729400e+00, 2.8101692e-01, 1.2115395e-01, 5.8598176e-02,\n",
       "         2.9063752e-02, 1.4502821e-02, 7.2477888e-03, 3.6234439e-03,\n",
       "         1.8116633e-03, 9.0582418e-04, 4.5290950e-04]]], dtype=float32)"
      ]
     },
     "execution_count": 61,
     "metadata": {},
     "output_type": "execute_result"
    }
   ],
   "source": [
    "scales"
   ]
  },
  {
   "cell_type": "code",
   "execution_count": 1,
   "id": "8dc40615",
   "metadata": {},
   "outputs": [],
   "source": [
    "def SOE_Net(video, basis):\n",
    "    \n",
    "    with tf.name_scope('Layer1'):\n",
    "        conv1 = SC1D('conv1', video, basis, cfg.NUM_SCALES)\n",
    "        if cfg.REC_STYLE == 'two_path':\n",
    "            rec1 = TPR('Rec1', conv1)\n",
    "        else:\n",
    "            rec1 = FWR('Rec1', conv1)\n",
    "            \n",
    "        norm1 = DivNorm1d('norm1', rec1, cfg.EPSILON)\n",
    "        feat = GSP('GSP',norm1)\n",
    "        \n",
    "\n",
    "\n",
    "    return feat"
   ]
  },
  {
   "cell_type": "code",
   "execution_count": 5,
   "id": "1326ad57",
   "metadata": {},
   "outputs": [
    {
     "data": {
      "image/png": "[encoded data removed]",
      "text/plain": [
       "<Figure size 432x288 with 1 Axes>"
      ]
     },
     "metadata": {
      "needs_background": "light"
     },
     "output_type": "display_data"
    }
   ],
   "source": [
    "import configure as cfg\n",
    "import init_SOE_NET as init_net\n",
    "import numpy as np\n",
    "import tensorflow as tf\n",
    "from SOE_NET_1D import conv1d\n",
    "from util import highestPowerof2\n",
    "import audio2numpy as a2n\n",
    "import matplotlib.pyplot as plt       \n",
    "from SOE_NET_1D import SC1D, TPR, FWR, DivNorm1d, GSP\n",
    "\n",
    "\n",
    "tf.compat.v1.enable_eager_execution()\n",
    "\n",
    "gau_filter = init_net.initSeparableFilters('basis', cfg.FILTER_TAPS, filter_type=\"G3\")\n",
    "\n",
    "x,sr=a2n.audio_from_file(\"wavy_water_223.mp3\")\n",
    "x = x[:,0][:,None]\n",
    "n = highestPowerof2(x.shape[0])\n",
    "x = x[x.shape[0] // 2 - n // 2 : x.shape[0] // 2 + n // 2, :]\n",
    "vol = tf.constant(x[None,:,:], dtype=tf.float32)\n",
    "output = SOE_Net(vol, gau_filter)\n",
    "plt.plot(output.numpy()[0,:])\n",
    "plt.show()\n"
   ]
  },
  {
   "cell_type": "code",
   "execution_count": 5,
   "id": "b3a411b4",
   "metadata": {},
   "outputs": [
    {
     "data": {
      "image/png": "[encoded data removed]",
      "text/plain": [
       "<Figure size 432x288 with 1 Axes>"
      ]
     },
     "metadata": {
      "needs_background": "light"
     },
     "output_type": "display_data"
    }
   ],
   "source": [
    "output = SOE_Net(vol, gau_filter)\n",
    "plt.plot(output.numpy()[0,:])\n",
    "plt.show()\n"
   ]
  },
  {
   "cell_type": "code",
   "execution_count": 18,
   "id": "a49aeb8e",
   "metadata": {},
   "outputs": [
    {
     "data": {
      "image/png": "[encoded data removed]",
      "text/plain": [
       "<Figure size 432x288 with 1 Axes>"
      ]
     },
     "metadata": {
      "needs_background": "light"
     },
     "output_type": "display_data"
    }
   ],
   "source": [
    "import configure as cfg\n",
    "import init_SOE_NET as init_net\n",
    "import numpy as np\n",
    "import tensorflow as tf\n",
    "from SOE_NET_1D import conv1d\n",
    "from util import highestPowerof2\n",
    "import audio2numpy as a2n\n",
    "import matplotlib.pyplot as plt       \n",
    "from SOE_NET_1D import SC1D, TPR, FWR, DivNorm1d, GSP\n",
    "\n",
    "\n",
    "tf.compat.v1.enable_eager_execution()\n",
    "\n",
    "gau_filter = init_net.initSeparableFilters('basis', cfg.FILTER_TAPS, filter_type=\"G3\")\n",
    "\n",
    "x,sr=a2n.audio_from_file(\"./videos/wavy_water_109.mp3\")\n",
    "x = ((x[:,0] + x[:,1])/2)[:,None]\n",
    "n = highestPowerof2(x.shape[0])\n",
    "x = x[x.shape[0] // 2 - n // 2 : x.shape[0] // 2 + n // 2, :]\n",
    "vol = tf.constant(x[None,:,:], dtype=tf.float32)\n",
    "output = SOE_Net(vol, gau_filter)\n",
    "plt.plot(output.numpy()[0,:])\n",
    "plt.show()\n"
   ]
  },
  {
   "cell_type": "code",
   "execution_count": 4,
   "id": "125e5659",
   "metadata": {},
   "outputs": [
    {
     "data": {
      "image/png": "[encoded data removed]",
      "text/plain": [
       "<Figure size 432x288 with 1 Axes>"
      ]
     },
     "metadata": {
      "needs_background": "light"
     },
     "output_type": "display_data"
    }
   ],
   "source": [
    "x_range = output.numpy().shape[1]\n",
    "from util import bar_plot\n",
    "bar_plot(range(x_range), output.numpy()[0,:])"
   ]
  },
  {
   "cell_type": "code",
   "execution_count": 7,
   "id": "f1babff9",
   "metadata": {},
   "outputs": [
    {
     "data": {
      "image/png": "[encoded data removed]",
      "text/plain": [
       "<Figure size 432x288 with 1 Axes>"
      ]
     },
     "metadata": {
      "needs_background": "light"
     },
     "output_type": "display_data"
    }
   ],
   "source": [
    "x_range = output.numpy().shape[1]\n",
    "from util import bar_plot\n",
    "bar_plot(range(x_range), output.numpy()[0,:])"
   ]
  },
  {
   "cell_type": "code",
   "execution_count": 10,
   "id": "0ffc06c9",
   "metadata": {},
   "outputs": [
    {
     "data": {
      "image/png": "[encoded data removed]",
      "text/plain": [
       "<Figure size 432x288 with 1 Axes>"
      ]
     },
     "metadata": {
      "needs_background": "light"
     },
     "output_type": "display_data"
    }
   ],
   "source": [
    "x_range = output.numpy().shape[1]\n",
    "from util import bar_plot\n",
    "bar_plot(range(x_range), output.numpy()[0,:])"
   ]
  },
  {
   "cell_type": "code",
   "execution_count": 13,
   "id": "fe03ee01",
   "metadata": {},
   "outputs": [
    {
     "data": {
      "image/png": "[encoded data removed]",
      "text/plain": [
       "<Figure size 432x288 with 1 Axes>"
      ]
     },
     "metadata": {
      "needs_background": "light"
     },
     "output_type": "display_data"
    }
   ],
   "source": [
    "x_range = output.numpy().shape[1]\n",
    "from util import bar_plot\n",
    "bar_plot(range(x_range), output.numpy()[0,:])"
   ]
  },
  {
   "cell_type": "code",
   "execution_count": 16,
   "id": "0d472adc",
   "metadata": {},
   "outputs": [
    {
     "data": {
      "image/png": "[encoded data removed]",
      "text/plain": [
       "<Figure size 432x288 with 1 Axes>"
      ]
     },
     "metadata": {
      "needs_background": "light"
     },
     "output_type": "display_data"
    }
   ],
   "source": [
    "x_range = output.numpy().shape[1]\n",
    "from util import bar_plot\n",
    "bar_plot(range(x_range), output.numpy()[0,:])"
   ]
  },
  {
   "cell_type": "code",
   "execution_count": 19,
   "id": "c85002b0",
   "metadata": {},
   "outputs": [
    {
     "data": {
      "image/png": "[encoded data removed]",
      "text/plain": [
       "<Figure size 432x288 with 1 Axes>"
      ]
     },
     "metadata": {
      "needs_background": "light"
     },
     "output_type": "display_data"
    }
   ],
   "source": [
    "x_range = output.numpy().shape[1]\n",
    "from util import bar_plot\n",
    "bar_plot(range(x_range), output.numpy()[0,:])"
   ]
  },
  {
   "cell_type": "code",
   "execution_count": 5,
   "id": "179b8b81",
   "metadata": {},
   "outputs": [],
   "source": [
    "output1 = output"
   ]
  },
  {
   "cell_type": "code",
   "execution_count": 8,
   "id": "ed48b288",
   "metadata": {},
   "outputs": [],
   "source": [
    "output2 = output"
   ]
  },
  {
   "cell_type": "code",
   "execution_count": 11,
   "id": "594cf408",
   "metadata": {},
   "outputs": [],
   "source": [
    "output3 = output"
   ]
  },
  {
   "cell_type": "code",
   "execution_count": 14,
   "id": "854b91d8",
   "metadata": {},
   "outputs": [],
   "source": [
    "output4 = output"
   ]
  },
  {
   "cell_type": "code",
   "execution_count": 17,
   "id": "c7d39d0e",
   "metadata": {},
   "outputs": [],
   "source": [
    "output5 = output"
   ]
  },
  {
   "cell_type": "code",
   "execution_count": 20,
   "id": "c56ed38e",
   "metadata": {},
   "outputs": [],
   "source": [
    "output6 = output"
   ]
  },
  {
   "cell_type": "code",
   "execution_count": 21,
   "id": "e74c8106",
   "metadata": {},
   "outputs": [],
   "source": [
    "output1 = output1.numpy().squeeze()\n",
    "output2 = output2.numpy().squeeze()\n",
    "output3 = output3.numpy().squeeze()\n",
    "output4 = output4.numpy().squeeze()\n",
    "output5 = output5.numpy().squeeze()\n",
    "output6 = output6.numpy().squeeze()"
   ]
  },
  {
   "cell_type": "code",
   "execution_count": 49,
   "id": "026ceaa3",
   "metadata": {},
   "outputs": [],
   "source": [
    "import numpy as np\n",
    "from numpy.linalg import norm\n",
    "\n",
    "def similarity(A,B):\n",
    "    # compute cosine similarity\n",
    "    cosine = np.dot(A,B)/(norm(A)*norm(B))\n",
    "    return cosine"
   ]
  },
  {
   "cell_type": "code",
   "execution_count": 50,
   "id": "7ee14f77",
   "metadata": {},
   "outputs": [
    {
     "data": {
      "text/plain": [
       "0.9848804"
      ]
     },
     "execution_count": 50,
     "metadata": {},
     "output_type": "execute_result"
    }
   ],
   "source": [
    "similarity(output2, output1)"
   ]
  },
  {
   "cell_type": "code",
   "execution_count": 47,
   "id": "7d19fe74",
   "metadata": {},
   "outputs": [],
   "source": [
    "outputs = [output1,output2,output3,output4,output5,output6]"
   ]
  },
  {
   "cell_type": "code",
   "execution_count": 53,
   "id": "af47b8da",
   "metadata": {},
   "outputs": [],
   "source": [
    "inner_sims = []\n",
    "between_sims = []\n",
    "for i in range(len(outputs)):\n",
    "    for j in range(i, len(outputs)):\n",
    "        if i == j:\n",
    "            continue\n",
    "        if j - i == 1 and i % 2 == 0:\n",
    "            inner_sims.append(similarity(outputs[i], outputs[j]))\n",
    "        else:\n",
    "            between_sims.append(similarity(outputs[i], outputs[j]))            "
   ]
  },
  {
   "cell_type": "code",
   "execution_count": 54,
   "id": "b7d9b20c",
   "metadata": {},
   "outputs": [
    {
     "data": {
      "text/plain": [
       "[0.9848804, 0.9305928, 0.9982757]"
      ]
     },
     "execution_count": 54,
     "metadata": {},
     "output_type": "execute_result"
    }
   ],
   "source": [
    "inner_sims"
   ]
  },
  {
   "cell_type": "code",
   "execution_count": 56,
   "id": "04fd6c80",
   "metadata": {},
   "outputs": [
    {
     "data": {
      "text/plain": [
       "12"
      ]
     },
     "execution_count": 56,
     "metadata": {},
     "output_type": "execute_result"
    }
   ],
   "source": [
    "len(between_sims)"
   ]
  },
  {
   "cell_type": "code",
   "execution_count": 57,
   "id": "224f3f05",
   "metadata": {},
   "outputs": [
    {
     "data": {
      "text/plain": [
       "[0.9848804,\n",
       " 0.9305928,\n",
       " 0.9982757,\n",
       " 0.25585574,\n",
       " 0.29992113,\n",
       " 0.5581558,\n",
       " 0.5570819,\n",
       " 0.1976879,\n",
       " 0.2777824,\n",
       " 0.60010386,\n",
       " 0.5943513,\n",
       " 0.4907566,\n",
       " 0.5118491,\n",
       " 0.66986716,\n",
       " 0.693938]"
      ]
     },
     "execution_count": 57,
     "metadata": {},
     "output_type": "execute_result"
    }
   ],
   "source": [
    "inner_sims + between_sims"
   ]
  },
  {
   "cell_type": "code",
   "execution_count": null,
   "id": "ba9126f1",
   "metadata": {},
   "outputs": [],
   "source": []
  },
  {
   "cell_type": "code",
   "execution_count": null,
   "id": "b9ce5634",
   "metadata": {},
   "outputs": [],
   "source": []
  },
  {
   "cell_type": "code",
   "execution_count": null,
   "id": "9385053c",
   "metadata": {},
   "outputs": [],
   "source": []
  },
  {
   "cell_type": "code",
   "execution_count": null,
   "id": "650c8854",
   "metadata": {},
   "outputs": [],
   "source": []
  },
  {
   "cell_type": "code",
   "execution_count": null,
   "id": "7def89b3",
   "metadata": {},
   "outputs": [],
   "source": []
  },
  {
   "cell_type": "code",
   "execution_count": 68,
   "id": "a0d4352d",
   "metadata": {},
   "outputs": [
    {
     "data": {
      "image/png": "[encoded data removed]",
      "text/plain": [
       "<Figure size 144x144 with 1 Axes>"
      ]
     },
     "metadata": {
      "needs_background": "light"
     },
     "output_type": "display_data"
    }
   ],
   "source": [
    "import matplotlib.pyplot as plt\n",
    "import numpy as np\n",
    "\n",
    "plt.style.use('_mpl-gallery')\n",
    "\n",
    "\n",
    "# plot:\n",
    "fig, ax = plt.subplots()\n",
    "\n",
    "ax.hist([inner_sims, between_sims], bins=10, linewidth=0.5, edgecolor=\"black\", color=['blue', 'red'])\n",
    "\n",
    "ax.set(xlim=(0, 1),\n",
    "       ylim=(0, 5))\n",
    "\n",
    "plt.show()"
   ]
  },
  {
   "cell_type": "code",
   "execution_count": 44,
   "id": "b044d797",
   "metadata": {},
   "outputs": [
    {
     "data": {
      "text/plain": [
       "array([ 0.,  7., 14., 21., 28., 35., 42., 49., 56.])"
      ]
     },
     "execution_count": 44,
     "metadata": {},
     "output_type": "execute_result"
    }
   ],
   "source": [
    "np.linspace(0, 56, 9)"
   ]
  },
  {
   "cell_type": "markdown",
   "id": "90a8ebf8",
   "metadata": {},
   "source": [
    "# 100 soe net"
   ]
  },
  {
   "cell_type": "code",
   "execution_count": 1,
   "id": "b3015fa5",
   "metadata": {},
   "outputs": [],
   "source": [
    "def SOE_Net(video, basis):\n",
    "    \n",
    "    with tf.name_scope('Layer1'):\n",
    "        conv1 = SC1D('conv1', video, basis, cfg.NUM_SCALES)\n",
    "        if cfg.REC_STYLE == 'two_path':\n",
    "            rec1 = TPR('Rec1', conv1)\n",
    "        else:\n",
    "            rec1 = FWR('Rec1', conv1)\n",
    "            \n",
    "        norm1 = DivNorm1d('norm1', rec1, cfg.EPSILON)\n",
    "        feat = GSP('GSP',norm1)\n",
    "        \n",
    "\n",
    "\n",
    "    return feat"
   ]
  },
  {
   "cell_type": "code",
   "execution_count": 2,
   "id": "1e9f7dd7",
   "metadata": {},
   "outputs": [
    {
     "name": "stderr",
     "output_type": "stream",
     "text": [
      "2022-06-21 11:37:02.689802: I tensorflow/stream_executor/platform/default/dso_loader.cc:44] Successfully opened dynamic library libcuda.so.1\n",
      "2022-06-21 11:37:02.711038: I tensorflow/core/common_runtime/gpu/gpu_device.cc:1618] Found device 0 with properties: \n",
      "name: Quadro P6000 major: 6 minor: 1 memoryClockRate(GHz): 1.645\n",
      "pciBusID: 0000:65:00.0\n",
      "2022-06-21 11:37:02.711210: I tensorflow/stream_executor/platform/default/dso_loader.cc:44] Successfully opened dynamic library libcudart.so.10.0\n",
      "2022-06-21 11:37:02.712355: I tensorflow/stream_executor/platform/default/dso_loader.cc:44] Successfully opened dynamic library libcublas.so.10.0\n",
      "2022-06-21 11:37:02.713333: I tensorflow/stream_executor/platform/default/dso_loader.cc:44] Successfully opened dynamic library libcufft.so.10.0\n",
      "2022-06-21 11:37:02.713574: I tensorflow/stream_executor/platform/default/dso_loader.cc:44] Successfully opened dynamic library libcurand.so.10.0\n",
      "2022-06-21 11:37:02.714853: I tensorflow/stream_executor/platform/default/dso_loader.cc:44] Successfully opened dynamic library libcusolver.so.10.0\n",
      "2022-06-21 11:37:02.715790: I tensorflow/stream_executor/platform/default/dso_loader.cc:44] Successfully opened dynamic library libcusparse.so.10.0\n",
      "2022-06-21 11:37:02.718861: I tensorflow/stream_executor/platform/default/dso_loader.cc:44] Successfully opened dynamic library libcudnn.so.7\n",
      "2022-06-21 11:37:02.719234: I tensorflow/core/common_runtime/gpu/gpu_device.cc:1746] Adding visible gpu devices: 0\n",
      "2022-06-21 11:37:02.719841: I tensorflow/core/platform/cpu_feature_guard.cc:142] Your CPU supports instructions that this TensorFlow binary was not compiled to use: SSE4.1 SSE4.2 AVX AVX2 AVX512F FMA\n",
      "2022-06-21 11:37:02.743082: I tensorflow/core/platform/profile_utils/cpu_utils.cc:94] CPU Frequency: 3699850000 Hz\n",
      "2022-06-21 11:37:02.743745: I tensorflow/compiler/xla/service/service.cc:168] XLA service 0x5597a3b86c80 initialized for platform Host (this does not guarantee that XLA will be used). Devices:\n",
      "2022-06-21 11:37:02.743767: I tensorflow/compiler/xla/service/service.cc:176]   StreamExecutor device (0): Host, Default Version\n",
      "2022-06-21 11:37:02.744160: I tensorflow/core/common_runtime/gpu/gpu_device.cc:1618] Found device 0 with properties: \n",
      "name: Quadro P6000 major: 6 minor: 1 memoryClockRate(GHz): 1.645\n",
      "pciBusID: 0000:65:00.0\n",
      "2022-06-21 11:37:02.744195: I tensorflow/stream_executor/platform/default/dso_loader.cc:44] Successfully opened dynamic library libcudart.so.10.0\n",
      "2022-06-21 11:37:02.744205: I tensorflow/stream_executor/platform/default/dso_loader.cc:44] Successfully opened dynamic library libcublas.so.10.0\n",
      "2022-06-21 11:37:02.744213: I tensorflow/stream_executor/platform/default/dso_loader.cc:44] Successfully opened dynamic library libcufft.so.10.0\n",
      "2022-06-21 11:37:02.744222: I tensorflow/stream_executor/platform/default/dso_loader.cc:44] Successfully opened dynamic library libcurand.so.10.0\n",
      "2022-06-21 11:37:02.744230: I tensorflow/stream_executor/platform/default/dso_loader.cc:44] Successfully opened dynamic library libcusolver.so.10.0\n",
      "2022-06-21 11:37:02.744239: I tensorflow/stream_executor/platform/default/dso_loader.cc:44] Successfully opened dynamic library libcusparse.so.10.0\n",
      "2022-06-21 11:37:02.744247: I tensorflow/stream_executor/platform/default/dso_loader.cc:44] Successfully opened dynamic library libcudnn.so.7\n",
      "2022-06-21 11:37:02.744642: I tensorflow/core/common_runtime/gpu/gpu_device.cc:1746] Adding visible gpu devices: 0\n",
      "2022-06-21 11:37:02.744665: I tensorflow/stream_executor/platform/default/dso_loader.cc:44] Successfully opened dynamic library libcudart.so.10.0\n",
      "2022-06-21 11:37:02.801888: I tensorflow/core/common_runtime/gpu/gpu_device.cc:1159] Device interconnect StreamExecutor with strength 1 edge matrix:\n",
      "2022-06-21 11:37:02.801910: I tensorflow/core/common_runtime/gpu/gpu_device.cc:1165]      0 \n",
      "2022-06-21 11:37:02.801914: I tensorflow/core/common_runtime/gpu/gpu_device.cc:1178] 0:   N \n",
      "2022-06-21 11:37:02.802349: I tensorflow/core/common_runtime/gpu/gpu_device.cc:1304] Created TensorFlow device (/job:localhost/replica:0/task:0/device:GPU:0 with 21616 MB memory) -> physical GPU (device: 0, name: Quadro P6000, pci bus id: 0000:65:00.0, compute capability: 6.1)\n",
      "2022-06-21 11:37:02.803852: I tensorflow/compiler/xla/service/service.cc:168] XLA service 0x5597a51a4980 initialized for platform CUDA (this does not guarantee that XLA will be used). Devices:\n",
      "2022-06-21 11:37:02.803867: I tensorflow/compiler/xla/service/service.cc:176]   StreamExecutor device (0): Quadro P6000, Compute Capability 6.1\n"
     ]
    }
   ],
   "source": [
    "import configure as cfg\n",
    "import init_SOE_NET as init_net\n",
    "import numpy as np\n",
    "import tensorflow as tf\n",
    "from SOE_NET_1D import conv1d\n",
    "from util import highestPowerof2\n",
    "import audio2numpy as a2n\n",
    "import matplotlib.pyplot as plt       \n",
    "from SOE_NET_1D import SC1D, TPR, FWR, DivNorm1d, GSP\n",
    "import os\n",
    "from util import bar_plot\n",
    "\n",
    "\n",
    "tf.compat.v1.enable_eager_execution()\n",
    "gau_filter = init_net.initSeparableFilters('basis', cfg.FILTER_TAPS, filter_type=\"G3\")\n",
    "\n",
    "PATH_AUDIO = \"/home/eftekhar/Documents/Databases/AVDT_backup/Audios\""
   ]
  },
  {
   "cell_type": "code",
   "execution_count": 5,
   "id": "a363f7c7",
   "metadata": {},
   "outputs": [
    {
     "name": "stdout",
     "output_type": "stream",
     "text": [
      "flag\n",
      "piano\n",
      "waterfall\n",
      "rushing river\n",
      "vegetation\n",
      "airshow\n",
      "fire\n",
      "rainfall\n",
      "running_train\n",
      "car_traffic\n",
      "firework\n",
      "keyboard_typing\n",
      "bee\n",
      "drumline\n",
      "wavy_water\n",
      "geyser_fountain\n",
      "school_of_fish\n",
      "applause\n",
      "string_orchestra\n"
     ]
    }
   ],
   "source": [
    "classes = []\n",
    "outputs = []\n",
    "for d in os.listdir(PATH_AUDIO):\n",
    "    classes.append(d)\n",
    "    audios = os.listdir(os.path.join(PATH_AUDIO, d))\n",
    "#     m = min(100, len(audios))\n",
    "    for aud in os.listdir(os.path.join(PATH_AUDIO, d))[:1]:\n",
    "        print(d)\n",
    "        audio_path = os.path.join(PATH_AUDIO, d, aud)\n",
    "        x,sr=a2n.audio_from_file(audio_path)\n",
    "        x = ((x[:,0] + x[:,1])/2)[:,None]\n",
    "        n = highestPowerof2(x.shape[0])\n",
    "        x = x[x.shape[0] // 2 - n // 2 : x.shape[0] // 2 + n // 2, :]\n",
    "        vol = tf.constant(x[None,:,:], dtype=tf.float32)\n",
    "        output = SOE_Net(vol, gau_filter)\n",
    "        outputs.append(output.numpy())\n",
    "#         x_range = output.numpy().shape[1]\n",
    "#         bar_plot(range(x_range), output.numpy()[0,:])\n",
    "    "
   ]
  },
  {
   "cell_type": "code",
   "execution_count": 8,
   "id": "d2ff7cc8",
   "metadata": {},
   "outputs": [
    {
     "data": {
      "text/plain": [
       "[array([[8.7454765e+01, 2.4609114e+03, 1.5494168e+04, 6.9025957e+03,\n",
       "         7.3480186e+03, 4.5056312e+04, 1.1667762e+04, 7.1885156e+02,\n",
       "         1.6580477e+00, 1.3234052e-01, 5.6501795e-02, 8.6287491e+01,\n",
       "         2.4469626e+03, 1.5470098e+04, 6.9062773e+03, 7.3649595e+03,\n",
       "         4.5096664e+04, 1.1827905e+04, 7.2836829e+02, 2.7728407e+00,\n",
       "         6.2427771e-01, 2.0920685e-01]], dtype=float32),\n",
       " array([[1.7285893e+00, 1.7107788e+02, 2.1240042e+03, 1.3954226e+04,\n",
       "         3.6071742e+04, 2.6174822e+04, 1.2805229e+04, 9.9791736e+02,\n",
       "         2.9463830e+00, 4.9845308e-01, 1.9356367e-01, 1.7020694e+00,\n",
       "         1.7103065e+02, 2.0626836e+03, 1.3750568e+04, 3.4869016e+04,\n",
       "         2.6128688e+04, 1.3066096e+04, 1.0202292e+03, 2.8863783e+00,\n",
       "         4.1321450e-01, 1.8426532e-01]], dtype=float32),\n",
       " array([[1.0479424e+03, 3.3277314e+03, 5.5204907e+03, 6.0862744e+03,\n",
       "         8.7194502e+03, 1.1406028e+04, 2.1814141e+04, 2.8308715e+04,\n",
       "         1.7877611e+04, 4.5085809e+02, 1.6385559e+01, 1.0503619e+03,\n",
       "         3.3316028e+03, 5.5087715e+03, 6.1024746e+03, 8.7131250e+03,\n",
       "         1.1447928e+04, 2.2184324e+04, 2.7961953e+04, 1.8111758e+04,\n",
       "         4.2021628e+02, 1.8077400e+01]], dtype=float32),\n",
       " array([[1.3881331e+03, 2.9956738e+04, 3.6100289e+04, 2.0416451e+04,\n",
       "         6.2700513e+03, 6.7973511e+02, 1.8438071e+02, 4.9547520e+01,\n",
       "         1.3561333e+01, 7.4009237e+00, 4.4617834e+00, 1.3989072e+03,\n",
       "         3.0187592e+04, 3.6155227e+04, 2.0599496e+04, 6.2956069e+03,\n",
       "         6.7632452e+02, 1.8222745e+02, 4.9655628e+01, 1.3083178e+01,\n",
       "         6.7294044e+00, 4.4180508e+00]], dtype=float32),\n",
       " array([[6.3043419e+01, 4.3866879e+02, 1.2782157e+03, 6.4022949e+03,\n",
       "         1.6041094e+04, 2.2126625e+04, 7.3837354e+03, 1.3623010e+02,\n",
       "         1.5981386e+00, 2.7601129e-01, 1.4008947e-01, 6.3019333e+01,\n",
       "         4.3821667e+02, 1.3001702e+03, 6.3070542e+03, 1.5889310e+04,\n",
       "         2.2119197e+04, 7.3744688e+03, 1.3925879e+02, 2.1548147e+00,\n",
       "         3.8659859e-01, 2.2098136e-01]], dtype=float32),\n",
       " array([[1.4766283e+01, 2.4731638e+02, 7.2413489e+02, 2.7800405e+03,\n",
       "         5.3945859e+03, 9.8833750e+03, 2.0915066e+04, 1.2348459e+04,\n",
       "         1.0143327e+01, 1.5320165e+00, 2.5251135e-01, 1.4681103e+01,\n",
       "         2.4986938e+02, 7.7722736e+02, 2.6515200e+03, 5.7383926e+03,\n",
       "         1.0912297e+04, 1.8819773e+04, 9.8512090e+03, 1.0845365e+01,\n",
       "         1.9297434e+00, 2.4470906e-01]], dtype=float32),\n",
       " array([[7.81780910e+00, 1.79448273e+02, 1.06179726e+02, 1.13074745e+02,\n",
       "         1.54124817e+03, 2.00554883e+04, 5.15217344e+04, 1.53821670e+04,\n",
       "         1.33170410e+02, 4.77351952e+00, 1.08727646e+00, 7.88000393e+00,\n",
       "         1.80184937e+02, 1.05341980e+02, 1.19540047e+02, 1.58800708e+03,\n",
       "         2.01045273e+04, 5.15898125e+04, 1.50112061e+04, 1.37427872e+02,\n",
       "         4.67400503e+00, 1.14074385e+00]], dtype=float32),\n",
       " array([[1.6062856e+03, 2.8301189e+03, 3.5715488e+03, 3.5612920e+03,\n",
       "         6.8687207e+03, 2.5291547e+04, 4.1002488e+04, 1.3015941e+04,\n",
       "         1.7870920e+02, 7.4333053e+00, 1.9077044e+00, 1.6044631e+03,\n",
       "         2.8262913e+03, 3.5862415e+03, 3.5747046e+03, 7.0715205e+03,\n",
       "         2.5722168e+04, 4.1515406e+04, 1.3128279e+04, 1.8558006e+02,\n",
       "         9.1244736e+00, 2.3739493e+00]], dtype=float32),\n",
       " array([[4.4096889e+00, 8.7986572e+01, 9.8905042e+02, 6.1719194e+03,\n",
       "         7.6853291e+03, 9.6725537e+03, 1.7061387e+04, 7.6061592e+03,\n",
       "         2.8372383e+01, 3.5044775e+00, 1.8490915e+00, 4.4335966e+00,\n",
       "         8.8265717e+01, 1.0014474e+03, 6.1393926e+03, 7.8135479e+03,\n",
       "         9.3079980e+03, 1.7223863e+04, 7.6183408e+03, 2.9144558e+01,\n",
       "         2.1451559e+00, 1.2428892e+00]], dtype=float32),\n",
       " array([[2.14842270e+02, 7.72779395e+03, 8.67394531e+03, 1.18174980e+04,\n",
       "         1.31320723e+04, 2.52566562e+04, 3.44741094e+04, 3.44853174e+03,\n",
       "         1.48413315e+01, 3.40014148e+00, 1.43908274e+00, 2.15155853e+02,\n",
       "         7.74018262e+03, 8.67496680e+03, 1.19252842e+04, 1.31223086e+04,\n",
       "         2.50627207e+04, 3.44129219e+04, 3.45308447e+03, 1.16292114e+01,\n",
       "         1.55080688e+00, 6.79051459e-01]], dtype=float32),\n",
       " array([[8.18478088e+01, 4.08832642e+02, 1.62089929e+03, 3.27573364e+03,\n",
       "         7.20824658e+03, 1.24733516e+04, 2.57949062e+04, 1.72408203e+04,\n",
       "         1.72409839e+03, 1.23991327e+01, 2.61549377e+00, 7.97253342e+01,\n",
       "         4.25841675e+02, 1.72311768e+03, 3.31970361e+03, 7.38223340e+03,\n",
       "         1.27342705e+04, 2.62777188e+04, 1.71064766e+04, 1.75339709e+03,\n",
       "         1.33776398e+01, 2.67421055e+00]], dtype=float32),\n",
       " array([[5.4664392e+02, 1.7565984e+03, 1.6374706e+03, 4.2207620e+02,\n",
       "         3.3030369e+03, 3.3480586e+04, 2.4709594e+04, 1.6399817e+02,\n",
       "         4.0544224e+00, 1.6886722e+00, 8.2255167e-01, 5.5955249e+02,\n",
       "         1.7888032e+03, 1.6333894e+03, 4.2578711e+02, 3.2200708e+03,\n",
       "         3.3436340e+04, 2.4969953e+04, 1.6962932e+02, 8.2798939e+00,\n",
       "         2.8576107e+00, 1.1617056e+00]], dtype=float32),\n",
       " array([[2.7806572e+01, 3.5511313e+02, 1.0255731e+03, 2.6071377e+03,\n",
       "         7.9118613e+03, 2.6983504e+04, 5.3063433e+03, 2.8757236e+02,\n",
       "         1.3161709e+00, 2.4014969e-01, 1.3344800e-01, 2.7630741e+01,\n",
       "         3.5132562e+02, 1.0388788e+03, 2.6589089e+03, 7.9945527e+03,\n",
       "         2.7125844e+04, 5.3786553e+03, 2.9089874e+02, 9.0649819e-01,\n",
       "         5.8166645e-02, 2.7373541e-02]], dtype=float32),\n",
       " array([[1.3629868e+02, 5.1618085e+02, 8.0265332e+02, 2.2279058e+03,\n",
       "         3.9235356e+03, 8.7091113e+03, 1.5434193e+04, 9.9015254e+03,\n",
       "         6.6928665e+01, 4.6347570e+00, 1.2448050e+00, 1.3629053e+02,\n",
       "         5.1323425e+02, 8.1161194e+02, 2.2206802e+03, 3.8929507e+03,\n",
       "         8.8830645e+03, 1.6167549e+04, 1.0564818e+04, 7.6413879e+01,\n",
       "         5.2037659e+00, 1.8877335e+00]], dtype=float32),\n",
       " array([[2.4509282e+03, 4.9295698e+03, 8.6086719e+03, 1.2070025e+04,\n",
       "         1.1164205e+04, 1.3065785e+04, 4.3157021e+03, 4.9049570e+02,\n",
       "         7.1538057e+00, 2.2506185e+00, 1.1149324e+00, 2.4538723e+03,\n",
       "         4.9485640e+03, 8.6120645e+03, 1.2083667e+04, 1.1124471e+04,\n",
       "         1.3062318e+04, 4.1489712e+03, 4.9481165e+02, 7.1757956e+00,\n",
       "         2.2950726e+00, 1.0706251e+00]], dtype=float32),\n",
       " array([[7.3668628e+02, 2.8923740e+03, 7.2861787e+03, 3.6110740e+03,\n",
       "         4.0008826e+03, 1.9862379e+04, 8.1916162e+03, 2.3248611e+02,\n",
       "         2.6490827e+00, 9.0117967e-01, 4.4675544e-01, 7.3374445e+02,\n",
       "         2.8938071e+03, 7.2838232e+03, 3.6118401e+03, 4.0291462e+03,\n",
       "         1.9846762e+04, 8.1913921e+03, 2.2863277e+02, 1.7742720e+00,\n",
       "         4.1758966e-01, 2.3288003e-01]], dtype=float32),\n",
       " array([[2.1289725e-02, 2.5889742e-01, 9.5630808e+00, 2.7578485e+02,\n",
       "         5.5008838e+03, 2.4947393e+04, 1.9692992e+04, 1.2003023e+04,\n",
       "         3.0234937e+02, 3.1580997e+01, 9.4939470e+00, 2.1300888e-02,\n",
       "         3.7923241e-01, 1.0231533e+01, 2.7348557e+02, 5.4428828e+03,\n",
       "         2.5011127e+04, 1.9591098e+04, 1.2032151e+04, 3.2121759e+02,\n",
       "         3.2008400e+01, 8.8848648e+00]], dtype=float32),\n",
       " array([[6.5344336e+02, 4.4317021e+03, 1.2553745e+04, 1.0445014e+04,\n",
       "         5.4327852e+03, 8.9031172e+03, 8.8759043e+03, 9.8741724e+02,\n",
       "         8.7481489e+00, 1.8105842e+00, 9.7817028e-01, 6.5532477e+02,\n",
       "         4.4431074e+03, 1.2533506e+04, 1.0415729e+04, 5.4524873e+03,\n",
       "         9.1408301e+03, 9.1194580e+03, 9.6944659e+02, 7.7300262e+00,\n",
       "         1.6695472e+00, 6.7286342e-01]], dtype=float32),\n",
       " array([[5.2640984e+01, 1.8725403e+03, 7.3924854e+03, 1.3161287e+04,\n",
       "         1.9469988e+04, 2.9085766e+04, 1.2482631e+04, 6.4938604e+03,\n",
       "         6.6891789e+00, 2.1857872e+00, 1.3953029e+00, 5.2810608e+01,\n",
       "         1.8662545e+03, 7.4402168e+03, 1.3309170e+04, 1.9573188e+04,\n",
       "         2.9073137e+04, 1.2405943e+04, 6.4991743e+03, 6.4168215e+00,\n",
       "         2.0735743e+00, 1.2336340e+00]], dtype=float32)]"
      ]
     },
     "execution_count": 8,
     "metadata": {},
     "output_type": "execute_result"
    }
   ],
   "source": [
    "outputs"
   ]
  },
  {
   "cell_type": "code",
   "execution_count": 14,
   "id": "a490b675",
   "metadata": {},
   "outputs": [],
   "source": [
    "np.save(\"results.npy\", np.concatenate(outputs, axis=0))"
   ]
  },
  {
   "cell_type": "code",
   "execution_count": 15,
   "id": "b8712ca1",
   "metadata": {},
   "outputs": [],
   "source": [
    "a = np.load(\"results.npy\")"
   ]
  },
  {
   "cell_type": "code",
   "execution_count": 17,
   "id": "1d855bee",
   "metadata": {},
   "outputs": [],
   "source": [
    "import pickle\n",
    "\n",
    "with open(\"classes\", \"wb\") as f:   #Pickling\n",
    "    pickle.dump(classes, f)\n"
   ]
  },
  {
   "cell_type": "code",
   "execution_count": 18,
   "id": "8bf424d5",
   "metadata": {},
   "outputs": [],
   "source": [
    "with open(\"classes\", \"rb\") as f:   # Unpickling\n",
    "    cls = pickle.load(f)"
   ]
  },
  {
   "cell_type": "code",
   "execution_count": 19,
   "id": "5850a045",
   "metadata": {},
   "outputs": [
    {
     "data": {
      "text/plain": [
       "['flag',\n",
       " 'piano',\n",
       " 'waterfall',\n",
       " 'rushing river',\n",
       " 'vegetation',\n",
       " 'airshow',\n",
       " 'fire',\n",
       " 'rainfall',\n",
       " 'running_train',\n",
       " 'car_traffic',\n",
       " 'firework',\n",
       " 'keyboard_typing',\n",
       " 'bee',\n",
       " 'drumline',\n",
       " 'wavy_water',\n",
       " 'geyser_fountain',\n",
       " 'school_of_fish',\n",
       " 'applause',\n",
       " 'string_orchestra']"
      ]
     },
     "execution_count": 19,
     "metadata": {},
     "output_type": "execute_result"
    }
   ],
   "source": [
    "classes"
   ]
  },
  {
   "cell_type": "code",
   "execution_count": 20,
   "id": "3c869392",
   "metadata": {},
   "outputs": [
    {
     "data": {
      "text/plain": [
       "['flag',\n",
       " 'piano',\n",
       " 'waterfall',\n",
       " 'rushing river',\n",
       " 'vegetation',\n",
       " 'airshow',\n",
       " 'fire',\n",
       " 'rainfall',\n",
       " 'running_train',\n",
       " 'car_traffic',\n",
       " 'firework',\n",
       " 'keyboard_typing',\n",
       " 'bee',\n",
       " 'drumline',\n",
       " 'wavy_water',\n",
       " 'geyser_fountain',\n",
       " 'school_of_fish',\n",
       " 'applause',\n",
       " 'string_orchestra']"
      ]
     },
     "execution_count": 20,
     "metadata": {},
     "output_type": "execute_result"
    }
   ],
   "source": [
    "cls"
   ]
  },
  {
   "cell_type": "code",
   "execution_count": null,
   "id": "5a36a07b",
   "metadata": {},
   "outputs": [],
   "source": [
    "x,sr=a2n.audio_from_file(\"./videos/wavy_water_109.mp3\")\n",
    "x = ((x[:,0] + x[:,1])/2)[:,None]\n",
    "n = highestPowerof2(x.shape[0])\n",
    "x = x[x.shape[0] // 2 - n // 2 : x.shape[0] // 2 + n // 2, :]\n",
    "vol = tf.constant(x[None,:,:], dtype=tf.float32)\n",
    "output = SOE_Net(vol, gau_filter)\n",
    "plt.plot(output.numpy()[0,:])\n",
    "plt.show()\n"
   ]
  },
  {
   "cell_type": "markdown",
   "id": "47cc67b4",
   "metadata": {},
   "source": [
    "# Cosine similarity"
   ]
  },
  {
   "cell_type": "code",
   "execution_count": 1,
   "id": "88a0e844",
   "metadata": {},
   "outputs": [],
   "source": [
    "import numpy as np\n",
    "from sklearn.metrics.pairwise import cosine_similarity"
   ]
  },
  {
   "cell_type": "code",
   "execution_count": 2,
   "id": "f6b9c5ac",
   "metadata": {},
   "outputs": [],
   "source": [
    "outputs = np.load(\"results.npy\")"
   ]
  },
  {
   "cell_type": "code",
   "execution_count": 3,
   "id": "c6a102da",
   "metadata": {},
   "outputs": [],
   "source": [
    "sim_pairs = cosine_similarity(outputs)"
   ]
  },
  {
   "cell_type": "code",
   "execution_count": null,
   "id": "a6edea1b",
   "metadata": {},
   "outputs": [],
   "source": []
  },
  {
   "cell_type": "code",
   "execution_count": 4,
   "id": "9f7b3a83",
   "metadata": {},
   "outputs": [],
   "source": [
    "inner_similarity = []\n",
    "between_similarity = []\n",
    "for i in range(sim_pairs.shape[0]):\n",
    "    for j in range(i, sim_pairs.shape[0]):\n",
    "        if i == j:\n",
    "            continue\n",
    "        if i // 98 == j // 98:\n",
    "            inner_similarity.append(sim_pairs[i,j])\n",
    "        else:\n",
    "            between_similarity.append(sim_pairs[i,j])"
   ]
  },
  {
   "cell_type": "code",
   "execution_count": 5,
   "id": "3862ee65",
   "metadata": {},
   "outputs": [
    {
     "data": {
      "text/plain": [
       "90307"
      ]
     },
     "execution_count": 5,
     "metadata": {},
     "output_type": "execute_result"
    }
   ],
   "source": [
    "len(inner_similarity)"
   ]
  },
  {
   "cell_type": "code",
   "execution_count": 6,
   "id": "85bfbc0f",
   "metadata": {},
   "outputs": [
    {
     "data": {
      "image/png": "[encoded data removed]",
      "text/plain": [
       "<Figure size 144x144 with 1 Axes>"
      ]
     },
     "metadata": {
      "needs_background": "light"
     },
     "output_type": "display_data"
    }
   ],
   "source": [
    "import matplotlib.pyplot as plt\n",
    "import numpy as np\n",
    "from matplotlib.ticker import PercentFormatter\n",
    "\n",
    "\n",
    "plt.style.use('_mpl-gallery')\n",
    "\n",
    "\n",
    "# plot:\n",
    "# fig, ax = plt.subplots()\n",
    "\n",
    "plt.hist([inner_similarity, between_similarity], bins=10, linewidth=0.5, edgecolor=\"black\", color=['blue', 'red'],)\n",
    "# plt.gca().yaxis.set_major_formatter(PercentFormatter(1))\n",
    "# plt.set(xlim=(0, 1))\n",
    "\n",
    "plt.show()"
   ]
  },
  {
   "cell_type": "code",
   "execution_count": 8,
   "id": "dd9fc6b8",
   "metadata": {},
   "outputs": [
    {
     "data": {
      "image/png": "[encoded data removed]",
      "text/plain": [
       "<Figure size 144x144 with 1 Axes>"
      ]
     },
     "metadata": {
      "needs_background": "light"
     },
     "output_type": "display_data"
    }
   ],
   "source": [
    "import matplotlib.pyplot as plt\n",
    "import numpy as np\n",
    "from matplotlib.ticker import PercentFormatter\n",
    "\n",
    "\n",
    "plt.style.use('_mpl-gallery')\n",
    "\n",
    "\n",
    "# plot:\n",
    "fig, ax = plt.subplots()\n",
    "\n",
    "ax.hist([inner_similarity, between_similarity], bins=10, linewidth=0.5, edgecolor=\"black\", color=['blue', 'red'],weights=[np.ones_like(inner_similarity) / len(inner_similarity),np.ones_like(between_similarity) / len(between_similarity)])\n",
    "ax.set(xlim=(0, 1))\n",
    "\n",
    "plt.show()"
   ]
  },
  {
   "cell_type": "code",
   "execution_count": 34,
   "id": "14993679",
   "metadata": {},
   "outputs": [
    {
     "data": {
      "text/plain": [
       "0.14184635544156796"
      ]
     },
     "execution_count": 34,
     "metadata": {},
     "output_type": "execute_result"
    }
   ],
   "source": [
    "len(list(filter(lambda x: 0.80 <x < 0.90, between_similarity)))/len(between_similarity)"
   ]
  },
  {
   "cell_type": "markdown",
   "id": "60f2c6e4",
   "metadata": {},
   "source": [
    "# Finding similar classes"
   ]
  },
  {
   "cell_type": "code",
   "execution_count": 11,
   "id": "0bb92987",
   "metadata": {},
   "outputs": [],
   "source": [
    "import numpy as np\n",
    "from sklearn.metrics.pairwise import cosine_similarity\n",
    "import pickle\n",
    "import pandas as pd"
   ]
  },
  {
   "cell_type": "code",
   "execution_count": 2,
   "id": "e5234a07",
   "metadata": {},
   "outputs": [],
   "source": [
    "with open(\"classes\", \"rb\") as f:   # Unpickling\n",
    "    classes = pickle.load(f)"
   ]
  },
  {
   "cell_type": "code",
   "execution_count": 3,
   "id": "22807887",
   "metadata": {},
   "outputs": [],
   "source": [
    "outputs = np.load(\"results.npy\")"
   ]
  },
  {
   "cell_type": "code",
   "execution_count": 4,
   "id": "7f512eac",
   "metadata": {},
   "outputs": [],
   "source": [
    "sim_pairs = cosine_similarity(outputs)"
   ]
  },
  {
   "cell_type": "code",
   "execution_count": 5,
   "id": "16cace6d",
   "metadata": {},
   "outputs": [],
   "source": [
    "NUM_CLASS = 19\n",
    "SAMPLE_PER_CLASS = 98\n",
    "class_vs_class = []\n",
    "for i in range(NUM_CLASS):\n",
    "    for j in range(i, NUM_CLASS):\n",
    "        class_names = \"{}_vs_{}\".format(classes[i], classes[j])\n",
    "        sub_sim = sim_pairs[i*SAMPLE_PER_CLASS: i*SAMPLE_PER_CLASS + SAMPLE_PER_CLASS, j*SAMPLE_PER_CLASS: j*SAMPLE_PER_CLASS + SAMPLE_PER_CLASS]\n",
    "        c = SAMPLE_PER_CLASS if i==j else 0\n",
    "        greater90 = (sub_sim[sub_sim > 0.9].shape[0] - c) / (SAMPLE_PER_CLASS**2)\n",
    "        class_vs_class.append((class_names, greater90))"
   ]
  },
  {
   "cell_type": "code",
   "execution_count": 6,
   "id": "bb95d644",
   "metadata": {},
   "outputs": [],
   "source": [
    "class_vs_class.sort(key= lambda x: x[1], reverse=True)"
   ]
  },
  {
   "cell_type": "code",
   "execution_count": 7,
   "id": "401896cd",
   "metadata": {},
   "outputs": [
    {
     "data": {
      "text/plain": [
       "[('flag_vs_flag', 0.9554352353186173),\n",
       " ('bee_vs_bee', 0.8835901707621824),\n",
       " ('flag_vs_bee', 0.881820074968763),\n",
       " ('airshow_vs_airshow', 0.6870054144106622),\n",
       " ('vegetation_vs_airshow', 0.6479591836734694),\n",
       " ('flag_vs_geyser_fountain', 0.6037067888379841),\n",
       " ('vegetation_vs_vegetation', 0.5970428987921699),\n",
       " ('geyser_fountain_vs_geyser_fountain', 0.5903790087463557),\n",
       " ('airshow_vs_rainfall', 0.588088296543107),\n",
       " ('bee_vs_geyser_fountain', 0.5795501874219076),\n",
       " ('applause_vs_applause', 0.5566430653894211),\n",
       " ('rainfall_vs_rainfall', 0.5264473136193253),\n",
       " ('vegetation_vs_rainfall', 0.5186380674718867),\n",
       " ('bee_vs_string_orchestra', 0.514369012911287),\n",
       " ('flag_vs_string_orchestra', 0.48021657642648896),\n",
       " ('flag_vs_school_of_fish', 0.476780508121616),\n",
       " ('rushing river_vs_rushing river', 0.4700124947938359),\n",
       " ('string_orchestra_vs_string_orchestra', 0.45564348188254894),\n",
       " ('airshow_vs_car_traffic', 0.4468971261974177),\n",
       " ('bee_vs_school_of_fish', 0.4299250312369846),\n",
       " ('bee_vs_wavy_water', 0.4286755518533944),\n",
       " ('vegetation_vs_car_traffic', 0.4094127446897126),\n",
       " ('rainfall_vs_car_traffic', 0.398896293211162),\n",
       " ('flag_vs_wavy_water', 0.3963973344439817),\n",
       " ('wavy_water_vs_string_orchestra', 0.38536026655560185),\n",
       " ('wavy_water_vs_wavy_water', 0.3577675968346522),\n",
       " ('geyser_fountain_vs_string_orchestra', 0.35495626822157433),\n",
       " ('car_traffic_vs_car_traffic', 0.35235318617242817),\n",
       " ('piano_vs_piano', 0.33527696793002915),\n",
       " ('piano_vs_airshow', 0.3272594752186589),\n",
       " ('wavy_water_vs_geyser_fountain', 0.31997084548104954),\n",
       " ('piano_vs_vegetation', 0.30476884631403584),\n",
       " ('fire_vs_bee', 0.30154102457309456),\n",
       " ('geyser_fountain_vs_school_of_fish', 0.29997917534360685),\n",
       " ('vegetation_vs_drumline', 0.295085381091212),\n",
       " ('school_of_fish_vs_string_orchestra', 0.2888379841732611),\n",
       " ('flag_vs_fire', 0.28873386089129527),\n",
       " ('airshow_vs_drumline', 0.2879008746355685),\n",
       " ('school_of_fish_vs_school_of_fish', 0.2817576009995835),\n",
       " ('airshow_vs_running_train', 0.27832153269471055),\n",
       " ('vegetation_vs_running_train', 0.2716576426488963),\n",
       " ('wavy_water_vs_school_of_fish', 0.26541024573094546),\n",
       " ('waterfall_vs_wavy_water', 0.2648896293211162),\n",
       " ('waterfall_vs_bee', 0.2644731361932528),\n",
       " ('keyboard_typing_vs_keyboard_typing', 0.2573927530195752),\n",
       " ('rainfall_vs_running_train', 0.2567680133277801),\n",
       " ('piano_vs_rainfall', 0.25447730112453143),\n",
       " ('running_train_vs_car_traffic', 0.2482299042065806),\n",
       " ('running_train_vs_running_train', 0.2471886713869221),\n",
       " ('drumline_vs_drumline', 0.24510620574760517),\n",
       " ('waterfall_vs_string_orchestra', 0.24385672636401498),\n",
       " ('waterfall_vs_waterfall', 0.2432319866722199),\n",
       " ('flag_vs_waterfall', 0.24198250728862974),\n",
       " ('flag_vs_vegetation', 0.2392753019575177),\n",
       " ('waterfall_vs_geyser_fountain', 0.2366722199083715),\n",
       " ('waterfall_vs_rushing river', 0.23635985006247398),\n",
       " ('rainfall_vs_drumline', 0.23219491878384008),\n",
       " ('car_traffic_vs_drumline', 0.22782174094127447),\n",
       " ('piano_vs_running_train', 0.22313619325281134),\n",
       " ('piano_vs_car_traffic', 0.22167846730528945),\n",
       " ('rushing river_vs_wavy_water', 0.22115785089546022),\n",
       " ('rushing river_vs_running_train', 0.2202207413577676),\n",
       " ('running_train_vs_drumline', 0.21303623490212412),\n",
       " ('drumline_vs_string_orchestra', 0.2099125364431487),\n",
       " ('piano_vs_drumline', 0.20824656393169513),\n",
       " ('airshow_vs_fire', 0.20637234485630987),\n",
       " ('fire_vs_fire', 0.20366513952519782),\n",
       " ('fire_vs_rainfall', 0.20199916701374426),\n",
       " ('vegetation_vs_fire', 0.20127030403998333),\n",
       " ('vegetation_vs_school_of_fish', 0.19741774260724698),\n",
       " ('fire_vs_geyser_fountain', 0.19741774260724698),\n",
       " ('piano_vs_string_orchestra', 0.1946064139941691),\n",
       " ('flag_vs_keyboard_typing', 0.19273219491878385),\n",
       " ('fire_vs_string_orchestra', 0.19189920866305707),\n",
       " ('drumline_vs_wavy_water', 0.19158683881715952),\n",
       " ('flag_vs_drumline', 0.1880466472303207),\n",
       " ('drumline_vs_school_of_fish', 0.18398583923365264),\n",
       " ('waterfall_vs_school_of_fish', 0.17846730528946272),\n",
       " ('firework_vs_firework', 0.1711786755518534),\n",
       " ('fire_vs_school_of_fish', 0.17107455226988755),\n",
       " ('fire_vs_wavy_water', 0.1672219908371512),\n",
       " ('airshow_vs_school_of_fish', 0.16670137442732194),\n",
       " ('rushing river_vs_applause', 0.16211995002082466),\n",
       " ('keyboard_typing_vs_bee', 0.15993336109954187),\n",
       " ('running_train_vs_wavy_water', 0.15618492294877134),\n",
       " ('running_train_vs_string_orchestra', 0.1493127863390254),\n",
       " ('firework_vs_keyboard_typing', 0.14920866305705957),\n",
       " ('flag_vs_airshow', 0.1471261974177426),\n",
       " ('rushing river_vs_string_orchestra', 0.14379425239483548),\n",
       " ('fire_vs_car_traffic', 0.14358600583090378),\n",
       " ('vegetation_vs_bee', 0.13994169096209913),\n",
       " ('running_train_vs_school_of_fish', 0.13827571845064557),\n",
       " ('bee_vs_drumline', 0.13827571845064557),\n",
       " ('vegetation_vs_geyser_fountain', 0.13556851311953352),\n",
       " ('rushing river_vs_drumline', 0.1350478967097043),\n",
       " ('rushing river_vs_school_of_fish', 0.13390254060807996),\n",
       " ('waterfall_vs_drumline', 0.1296334860474802),\n",
       " ('fire_vs_drumline', 0.12900874635568513),\n",
       " ('keyboard_typing_vs_geyser_fountain', 0.12859225322782175),\n",
       " ('firework_vs_string_orchestra', 0.12734277384423157),\n",
       " ('rushing river_vs_car_traffic', 0.12682215743440234),\n",
       " ('vegetation_vs_string_orchestra', 0.12401082882132444),\n",
       " ('firework_vs_drumline', 0.12380258225739275),\n",
       " ('drumline_vs_geyser_fountain', 0.1215118700541441),\n",
       " ('firework_vs_wavy_water', 0.12026239067055394),\n",
       " ('piano_vs_fire', 0.11849229487713453),\n",
       " ('waterfall_vs_firework', 0.11807580174927114),\n",
       " ('waterfall_vs_fire', 0.11765930862140775),\n",
       " ('rushing river_vs_firework', 0.11713869221157851),\n",
       " ('running_train_vs_firework', 0.11630570595585173),\n",
       " ('vegetation_vs_firework', 0.11391087047063723),\n",
       " ('piano_vs_wavy_water', 0.113390254060808),\n",
       " ('car_traffic_vs_school_of_fish', 0.11224489795918367),\n",
       " ('waterfall_vs_running_train', 0.11068304872969596),\n",
       " ('airshow_vs_firework', 0.10849645980841316),\n",
       " ('piano_vs_school_of_fish', 0.10797584339858392),\n",
       " ('flag_vs_firework', 0.10766347355268638),\n",
       " ('fire_vs_firework', 0.10724698042482299),\n",
       " ('firework_vs_bee', 0.1070387338608913),\n",
       " ('vegetation_vs_wavy_water', 0.10630987088713036),\n",
       " ('waterfall_vs_applause', 0.10516451478550604),\n",
       " ('car_traffic_vs_firework', 0.10516451478550604),\n",
       " ('firework_vs_school_of_fish', 0.10318617242815493),\n",
       " ('keyboard_typing_vs_school_of_fish', 0.102457309454394),\n",
       " ('rainfall_vs_school_of_fish', 0.09985422740524781),\n",
       " ('fire_vs_running_train', 0.09964598084131612),\n",
       " ('piano_vs_rushing river', 0.0980841316118284),\n",
       " ('rainfall_vs_firework', 0.09745939192003332),\n",
       " ('car_traffic_vs_applause', 0.0937109537692628),\n",
       " ('piano_vs_firework', 0.09235735110370678),\n",
       " ('fire_vs_keyboard_typing', 0.09089962515618492),\n",
       " ('piano_vs_bee', 0.08840066638900458),\n",
       " ('keyboard_typing_vs_string_orchestra', 0.08788004997917534),\n",
       " ('firework_vs_geyser_fountain', 0.08704706372344856),\n",
       " ('car_traffic_vs_wavy_water', 0.08569346105789255),\n",
       " ('flag_vs_running_train', 0.08132028321532694),\n",
       " ('keyboard_typing_vs_wavy_water', 0.08059142024156601),\n",
       " ('airshow_vs_bee', 0.07850895460224906),\n",
       " ('running_train_vs_applause', 0.07830070803831737),\n",
       " ('wavy_water_vs_applause', 0.07778009162848813),\n",
       " ('waterfall_vs_keyboard_typing', 0.07507288629737609),\n",
       " ('car_traffic_vs_string_orchestra', 0.07236568096626406),\n",
       " ('airshow_vs_string_orchestra', 0.07194918783840067),\n",
       " ('vegetation_vs_keyboard_typing', 0.06715951686797168),\n",
       " ('airshow_vs_geyser_fountain', 0.06695127030403998),\n",
       " ('waterfall_vs_car_traffic', 0.06299458558933778),\n",
       " ('flag_vs_piano', 0.0597667638483965),\n",
       " ('keyboard_typing_vs_drumline', 0.05830903790087463),\n",
       " ('airshow_vs_wavy_water', 0.0577884214910454),\n",
       " ('running_train_vs_bee', 0.054039983340274884),\n",
       " ('waterfall_vs_vegetation', 0.053623490212411494),\n",
       " ('running_train_vs_geyser_fountain', 0.053311120366513955),\n",
       " ('airshow_vs_keyboard_typing', 0.05299875052061641),\n",
       " ('piano_vs_waterfall', 0.05070803831736776),\n",
       " ('flag_vs_car_traffic', 0.048833819241982504),\n",
       " ('drumline_vs_applause', 0.04310703873386089),\n",
       " ('rushing river_vs_rainfall', 0.042169929196168264),\n",
       " ('rainfall_vs_keyboard_typing', 0.04196168263223657),\n",
       " ('rainfall_vs_applause', 0.04008746355685131),\n",
       " ('rainfall_vs_wavy_water', 0.03654727197001249),\n",
       " ('car_traffic_vs_geyser_fountain', 0.033007080383173674),\n",
       " ('piano_vs_geyser_fountain', 0.030820491461890878),\n",
       " ('car_traffic_vs_bee', 0.02988338192419825),\n",
       " ('waterfall_vs_rainfall', 0.029154518950437316),\n",
       " ('car_traffic_vs_keyboard_typing', 0.02905039566847147),\n",
       " ('running_train_vs_keyboard_typing', 0.0278009162848813),\n",
       " ('rushing river_vs_airshow', 0.024989587671803416),\n",
       " ('rushing river_vs_vegetation', 0.023740108288213244),\n",
       " ('firework_vs_applause', 0.023635985006247397),\n",
       " ('vegetation_vs_applause', 0.023323615160349854),\n",
       " ('school_of_fish_vs_applause', 0.023323615160349854),\n",
       " ('waterfall_vs_airshow', 0.02176176593086214),\n",
       " ('piano_vs_keyboard_typing', 0.0212411495210329),\n",
       " ('keyboard_typing_vs_applause', 0.018950437317784258),\n",
       " ('rushing river_vs_fire', 0.017805081216159934),\n",
       " ('rainfall_vs_string_orchestra', 0.016555601832569763),\n",
       " ('airshow_vs_applause', 0.012494793835901708),\n",
       " ('rainfall_vs_geyser_fountain', 0.012494793835901708),\n",
       " ('applause_vs_string_orchestra', 0.01020408163265306),\n",
       " ('flag_vs_rainfall', 0.009995835068721367),\n",
       " ('fire_vs_applause', 0.0085381091211995),\n",
       " ('rainfall_vs_bee', 0.008433985839233653),\n",
       " ('rushing river_vs_keyboard_typing', 0.007496876301541024),\n",
       " ('rushing river_vs_geyser_fountain', 0.006976259891711787),\n",
       " ('geyser_fountain_vs_applause', 0.005518533944189921),\n",
       " ('piano_vs_applause', 0.0032278217409412746),\n",
       " ('rushing river_vs_bee', 0.0014577259475218659),\n",
       " ('flag_vs_rushing river', 0.00041649312786339027),\n",
       " ('flag_vs_applause', 0.0),\n",
       " ('bee_vs_applause', 0.0)]"
      ]
     },
     "execution_count": 7,
     "metadata": {},
     "output_type": "execute_result"
    }
   ],
   "source": [
    "class_vs_class"
   ]
  },
  {
   "cell_type": "code",
   "execution_count": 13,
   "id": "4bc42c01",
   "metadata": {},
   "outputs": [],
   "source": [
    "df = pd.DataFrame(class_vs_class)"
   ]
  },
  {
   "cell_type": "code",
   "execution_count": 14,
   "id": "5cf50b28",
   "metadata": {},
   "outputs": [],
   "source": [
    "df.to_csv('similarities.csv')"
   ]
  },
  {
   "cell_type": "code",
   "execution_count": null,
   "id": "d4bbaf2a",
   "metadata": {},
   "outputs": [],
   "source": []
  },
  {
   "cell_type": "markdown",
   "id": "5acab6ae",
   "metadata": {},
   "source": [
    "# Classification"
   ]
  },
  {
   "cell_type": "code",
   "execution_count": 5,
   "id": "2f6cb3f4",
   "metadata": {},
   "outputs": [],
   "source": [
    "import numpy as np\n",
    "from sklearn.metrics.pairwise import cosine_similarity\n",
    "import pickle\n",
    "import pandas as pd\n",
    "from scipy import stats"
   ]
  },
  {
   "cell_type": "code",
   "execution_count": 18,
   "id": "8c6ef1a3",
   "metadata": {},
   "outputs": [],
   "source": [
    "with open(\"20classes\", \"rb\") as f:   # Unpickling\n",
    "    classes = pickle.load(f)"
   ]
  },
  {
   "cell_type": "code",
   "execution_count": 19,
   "id": "d823157e",
   "metadata": {},
   "outputs": [],
   "source": [
    "outputs = np.load(\"results_2layer_numscale20_downfac_root_2_no_norm1_librosa_44100_two_path_kaiser_fast_20_classes_100videos.npy\")"
   ]
  },
  {
   "cell_type": "code",
   "execution_count": 20,
   "id": "36dc52a3",
   "metadata": {},
   "outputs": [
    {
     "data": {
      "text/plain": [
       "(2000, 1764)"
      ]
     },
     "execution_count": 20,
     "metadata": {},
     "output_type": "execute_result"
    }
   ],
   "source": [
    "outputs.shape"
   ]
  },
  {
   "cell_type": "code",
   "execution_count": null,
   "id": "63608c3e",
   "metadata": {},
   "outputs": [],
   "source": []
  },
  {
   "cell_type": "code",
   "execution_count": 21,
   "id": "c564195e",
   "metadata": {},
   "outputs": [],
   "source": [
    "sim_pairs = cosine_similarity(outputs)"
   ]
  },
  {
   "cell_type": "code",
   "execution_count": 22,
   "id": "f1591077",
   "metadata": {},
   "outputs": [],
   "source": [
    "sorted_sim = np.argsort(sim_pairs, axis=1)"
   ]
  },
  {
   "cell_type": "code",
   "execution_count": 23,
   "id": "209cff2d",
   "metadata": {},
   "outputs": [
    {
     "data": {
      "text/plain": [
       "0.5345"
      ]
     },
     "execution_count": 23,
     "metadata": {},
     "output_type": "execute_result"
    }
   ],
   "source": [
    "NN = sorted_sim[:,-2].tolist()\n",
    "c = 0\n",
    "for i, s in enumerate(NN):\n",
    "    if s // 100 == i // 100:\n",
    "        c = c + 1\n",
    "c / len(NN)        "
   ]
  },
  {
   "cell_type": "code",
   "execution_count": 12,
   "id": "991a7f41",
   "metadata": {},
   "outputs": [
    {
     "data": {
      "text/plain": [
       "0.8075"
      ]
     },
     "execution_count": 12,
     "metadata": {},
     "output_type": "execute_result"
    }
   ],
   "source": [
    "top5 = sorted_sim[:,-6:-1]\n",
    "c = 0\n",
    "for i in range(top5.shape[0]):\n",
    "    if (i // 100) in (top5[i] // 100).tolist():\n",
    "        c += 1\n",
    "c / top5.shape[0]"
   ]
  },
  {
   "cell_type": "code",
   "execution_count": 19,
   "id": "be97ea2b",
   "metadata": {},
   "outputs": [],
   "source": [
    "KNN = sorted_sim[:,-5:-1]"
   ]
  },
  {
   "cell_type": "code",
   "execution_count": 20,
   "id": "1f679c1f",
   "metadata": {},
   "outputs": [
    {
     "data": {
      "text/plain": [
       "array([[15,  0,  6, ...,  2,  4, 18]])"
      ]
     },
     "execution_count": 20,
     "metadata": {},
     "output_type": "execute_result"
    }
   ],
   "source": [
    "KNN = KNN // 98\n",
    "mode = stats.mode(KNN.T)\n",
    "mode[0]"
   ]
  },
  {
   "cell_type": "code",
   "execution_count": 21,
   "id": "85561a20",
   "metadata": {},
   "outputs": [
    {
     "data": {
      "text/plain": [
       "0.5585392051557465"
      ]
     },
     "execution_count": 21,
     "metadata": {},
     "output_type": "execute_result"
    }
   ],
   "source": [
    "c = 0\n",
    "for i, s in enumerate(mode[0].squeeze().tolist()):\n",
    "    if s == i // 98:\n",
    "        c = c + 1\n",
    "c / len(NN)        "
   ]
  },
  {
   "cell_type": "code",
   "execution_count": 99,
   "id": "d9a6c249",
   "metadata": {},
   "outputs": [
    {
     "data": {
      "text/plain": [
       "[15,\n",
       " 11,\n",
       " 12,\n",
       " 0,\n",
       " 0,\n",
       " 0,\n",
       " 16,\n",
       " 0,\n",
       " 0,\n",
       " 0,\n",
       " 0,\n",
       " 0,\n",
       " 0,\n",
       " 6,\n",
       " 0,\n",
       " 18,\n",
       " 0,\n",
       " 16,\n",
       " 0,\n",
       " 0,\n",
       " 0,\n",
       " 0,\n",
       " 0,\n",
       " 1,\n",
       " 0,\n",
       " 0,\n",
       " 16,\n",
       " 0,\n",
       " 0,\n",
       " 0,\n",
       " 0,\n",
       " 0,\n",
       " 16,\n",
       " 14,\n",
       " 0,\n",
       " 0,\n",
       " 0,\n",
       " 0,\n",
       " 0,\n",
       " 0,\n",
       " 14,\n",
       " 0,\n",
       " 14,\n",
       " 0,\n",
       " 0,\n",
       " 0,\n",
       " 0,\n",
       " 0,\n",
       " 15,\n",
       " 0,\n",
       " 0,\n",
       " 0,\n",
       " 0,\n",
       " 0,\n",
       " 0,\n",
       " 0,\n",
       " 0,\n",
       " 0,\n",
       " 12,\n",
       " 12,\n",
       " 16,\n",
       " 0,\n",
       " 16,\n",
       " 0,\n",
       " 0,\n",
       " 16,\n",
       " 0,\n",
       " 16,\n",
       " 0,\n",
       " 0,\n",
       " 0,\n",
       " 0,\n",
       " 0,\n",
       " 0,\n",
       " 16,\n",
       " 0,\n",
       " 0,\n",
       " 0,\n",
       " 0,\n",
       " 0,\n",
       " 0,\n",
       " 0,\n",
       " 0,\n",
       " 0,\n",
       " 16,\n",
       " 0,\n",
       " 0,\n",
       " 0,\n",
       " 0,\n",
       " 12,\n",
       " 0,\n",
       " 0,\n",
       " 0,\n",
       " 0,\n",
       " 14,\n",
       " 0,\n",
       " 18,\n",
       " 0,\n",
       " 1,\n",
       " 1,\n",
       " 1,\n",
       " 1,\n",
       " 3,\n",
       " 1,\n",
       " 1,\n",
       " 5,\n",
       " 12,\n",
       " 1,\n",
       " 1,\n",
       " 1,\n",
       " 1,\n",
       " 1,\n",
       " 1,\n",
       " 5,\n",
       " 1,\n",
       " 9,\n",
       " 1,\n",
       " 8,\n",
       " 1,\n",
       " 4,\n",
       " 1,\n",
       " 1,\n",
       " 1,\n",
       " 1,\n",
       " 1,\n",
       " 5,\n",
       " 1,\n",
       " 1,\n",
       " 1,\n",
       " 4,\n",
       " 1,\n",
       " 8,\n",
       " 1,\n",
       " 1,\n",
       " 1,\n",
       " 4,\n",
       " 1,\n",
       " 1,\n",
       " 1,\n",
       " 1,\n",
       " 3,\n",
       " 1,\n",
       " 3,\n",
       " 1,\n",
       " 18,\n",
       " 1,\n",
       " 8,\n",
       " 6,\n",
       " 16,\n",
       " 1,\n",
       " 1,\n",
       " 1,\n",
       " 8,\n",
       " 1,\n",
       " 1,\n",
       " 13,\n",
       " 1,\n",
       " 1,\n",
       " 1,\n",
       " 1,\n",
       " 4,\n",
       " 1,\n",
       " 1,\n",
       " 4,\n",
       " 9,\n",
       " 1,\n",
       " 5,\n",
       " 6,\n",
       " 1,\n",
       " 1,\n",
       " 1,\n",
       " 1,\n",
       " 1,\n",
       " 10,\n",
       " 3,\n",
       " 5,\n",
       " 1,\n",
       " 1,\n",
       " 1,\n",
       " 1,\n",
       " 1,\n",
       " 1,\n",
       " 4,\n",
       " 8,\n",
       " 1,\n",
       " 1,\n",
       " 1,\n",
       " 1,\n",
       " 1,\n",
       " 1,\n",
       " 8,\n",
       " 5,\n",
       " 1,\n",
       " 1,\n",
       " 18,\n",
       " 4,\n",
       " 2,\n",
       " 16,\n",
       " 2,\n",
       " 2,\n",
       " 7,\n",
       " 15,\n",
       " 14,\n",
       " 2,\n",
       " 14,\n",
       " 14,\n",
       " 2,\n",
       " 14,\n",
       " 2,\n",
       " 3,\n",
       " 14,\n",
       " 2,\n",
       " 2,\n",
       " 2,\n",
       " 2,\n",
       " 2,\n",
       " 2,\n",
       " 2,\n",
       " 7,\n",
       " 2,\n",
       " 2,\n",
       " 2,\n",
       " 2,\n",
       " 14,\n",
       " 3,\n",
       " 2,\n",
       " 2,\n",
       " 11,\n",
       " 2,\n",
       " 2,\n",
       " 15,\n",
       " 2,\n",
       " 2,\n",
       " 2,\n",
       " 10,\n",
       " 2,\n",
       " 2,\n",
       " 2,\n",
       " 2,\n",
       " 14,\n",
       " 16,\n",
       " 2,\n",
       " 2,\n",
       " 13,\n",
       " 2,\n",
       " 2,\n",
       " 3,\n",
       " 15,\n",
       " 3,\n",
       " 2,\n",
       " 3,\n",
       " 18,\n",
       " 12,\n",
       " 2,\n",
       " 2,\n",
       " 2,\n",
       " 2,\n",
       " 3,\n",
       " 2,\n",
       " 2,\n",
       " 2,\n",
       " 15,\n",
       " 18,\n",
       " 15,\n",
       " 2,\n",
       " 2,\n",
       " 2,\n",
       " 2,\n",
       " 2,\n",
       " 2,\n",
       " 14,\n",
       " 2,\n",
       " 2,\n",
       " 2,\n",
       " 2,\n",
       " 3,\n",
       " 2,\n",
       " 2,\n",
       " 17,\n",
       " 2,\n",
       " 2,\n",
       " 2,\n",
       " 10,\n",
       " 2,\n",
       " 2,\n",
       " 2,\n",
       " 10,\n",
       " 2,\n",
       " 15,\n",
       " 3,\n",
       " 2,\n",
       " 10,\n",
       " 2,\n",
       " 3,\n",
       " 2,\n",
       " 3,\n",
       " 9,\n",
       " 9,\n",
       " 16,\n",
       " 14,\n",
       " 2,\n",
       " 18,\n",
       " 8,\n",
       " 3,\n",
       " 2,\n",
       " 14,\n",
       " 3,\n",
       " 3,\n",
       " 8,\n",
       " 9,\n",
       " 3,\n",
       " 3,\n",
       " 3,\n",
       " 7,\n",
       " 2,\n",
       " 3,\n",
       " 1,\n",
       " 3,\n",
       " 14,\n",
       " 3,\n",
       " 3,\n",
       " 3,\n",
       " 14,\n",
       " 3,\n",
       " 3,\n",
       " 16,\n",
       " 3,\n",
       " 8,\n",
       " 3,\n",
       " 10,\n",
       " 4,\n",
       " 3,\n",
       " 3,\n",
       " 3,\n",
       " 8,\n",
       " 1,\n",
       " 2,\n",
       " 2,\n",
       " 13,\n",
       " 3,\n",
       " 2,\n",
       " 3,\n",
       " 3,\n",
       " 2,\n",
       " 10,\n",
       " 2,\n",
       " 2,\n",
       " 14,\n",
       " 3,\n",
       " 3,\n",
       " 3,\n",
       " 3,\n",
       " 2,\n",
       " 3,\n",
       " 2,\n",
       " 3,\n",
       " 2,\n",
       " 3,\n",
       " 3,\n",
       " 3,\n",
       " 2,\n",
       " 16,\n",
       " 2,\n",
       " 3,\n",
       " 3,\n",
       " 2,\n",
       " 1,\n",
       " 3,\n",
       " 3,\n",
       " 14,\n",
       " 2,\n",
       " 3,\n",
       " 3,\n",
       " 3,\n",
       " 11,\n",
       " 9,\n",
       " 2,\n",
       " 3,\n",
       " 16,\n",
       " 2,\n",
       " 2,\n",
       " 3,\n",
       " 2,\n",
       " 8,\n",
       " 18,\n",
       " 9,\n",
       " 3,\n",
       " 3,\n",
       " 2,\n",
       " 3,\n",
       " 3,\n",
       " 10,\n",
       " 18,\n",
       " 4,\n",
       " 5,\n",
       " 1,\n",
       " 1,\n",
       " 4,\n",
       " 4,\n",
       " 4,\n",
       " 4,\n",
       " 7,\n",
       " 5,\n",
       " 7,\n",
       " 4,\n",
       " 4,\n",
       " 4,\n",
       " 4,\n",
       " 7,\n",
       " 4,\n",
       " 4,\n",
       " 4,\n",
       " 4,\n",
       " 4,\n",
       " 3,\n",
       " 12,\n",
       " 4,\n",
       " 4,\n",
       " 8,\n",
       " 4,\n",
       " 4,\n",
       " 4,\n",
       " 4,\n",
       " 12,\n",
       " 4,\n",
       " 4,\n",
       " 4,\n",
       " 7,\n",
       " 9,\n",
       " 4,\n",
       " 1,\n",
       " 4,\n",
       " 4,\n",
       " 5,\n",
       " 4,\n",
       " 5,\n",
       " 7,\n",
       " 4,\n",
       " 4,\n",
       " 13,\n",
       " 6,\n",
       " 4,\n",
       " 4,\n",
       " 7,\n",
       " 4,\n",
       " 4,\n",
       " 8,\n",
       " 4,\n",
       " 12,\n",
       " 2,\n",
       " 4,\n",
       " 4,\n",
       " 4,\n",
       " 4,\n",
       " 16,\n",
       " 13,\n",
       " 4,\n",
       " 9,\n",
       " 4,\n",
       " 1,\n",
       " 4,\n",
       " 4,\n",
       " 4,\n",
       " 4,\n",
       " 4,\n",
       " 4,\n",
       " 4,\n",
       " 7,\n",
       " 4,\n",
       " 17,\n",
       " 13,\n",
       " 4,\n",
       " 5,\n",
       " 17,\n",
       " 7,\n",
       " 7,\n",
       " 9,\n",
       " 4,\n",
       " 4,\n",
       " 1,\n",
       " 4,\n",
       " 2,\n",
       " 4,\n",
       " 9,\n",
       " 5,\n",
       " 4,\n",
       " 9,\n",
       " 1,\n",
       " 4,\n",
       " 7,\n",
       " 8,\n",
       " 11,\n",
       " 4,\n",
       " 4,\n",
       " 4,\n",
       " 5,\n",
       " 1,\n",
       " 4,\n",
       " 1,\n",
       " 4,\n",
       " 9,\n",
       " 10,\n",
       " 5,\n",
       " 5,\n",
       " 7,\n",
       " 4,\n",
       " 5,\n",
       " 1,\n",
       " 5,\n",
       " 3,\n",
       " 5,\n",
       " 4,\n",
       " 5,\n",
       " 13,\n",
       " 5,\n",
       " 4,\n",
       " 5,\n",
       " 7,\n",
       " 1,\n",
       " 5,\n",
       " 4,\n",
       " 5,\n",
       " 5,\n",
       " 1,\n",
       " 12,\n",
       " 8,\n",
       " 4,\n",
       " 5,\n",
       " 5,\n",
       " 10,\n",
       " 18,\n",
       " 1,\n",
       " 6,\n",
       " 5,\n",
       " 8,\n",
       " 16,\n",
       " 16,\n",
       " 5,\n",
       " 5,\n",
       " 5,\n",
       " 4,\n",
       " 7,\n",
       " 5,\n",
       " 5,\n",
       " 4,\n",
       " 4,\n",
       " 4,\n",
       " 1,\n",
       " 5,\n",
       " 7,\n",
       " 7,\n",
       " 7,\n",
       " 5,\n",
       " 5,\n",
       " 5,\n",
       " 17,\n",
       " 7,\n",
       " 5,\n",
       " 7,\n",
       " 5,\n",
       " 5,\n",
       " 7,\n",
       " 9,\n",
       " 5,\n",
       " 4,\n",
       " 9,\n",
       " 5,\n",
       " 16,\n",
       " 5,\n",
       " 5,\n",
       " 4,\n",
       " 4,\n",
       " 7,\n",
       " 5,\n",
       " 7,\n",
       " 1,\n",
       " 6,\n",
       " 10,\n",
       " 5,\n",
       " 10,\n",
       " 4,\n",
       " 5,\n",
       " 4,\n",
       " 16,\n",
       " 13,\n",
       " 5,\n",
       " 16,\n",
       " 6,\n",
       " 9,\n",
       " 6,\n",
       " 11,\n",
       " 6,\n",
       " 6,\n",
       " 8,\n",
       " 6,\n",
       " 8,\n",
       " 6,\n",
       " 10,\n",
       " 6,\n",
       " 3,\n",
       " 10,\n",
       " 1,\n",
       " 7,\n",
       " 6,\n",
       " 3,\n",
       " 6,\n",
       " 12,\n",
       " 7,\n",
       " 4,\n",
       " 9,\n",
       " 2,\n",
       " 6,\n",
       " 6,\n",
       " 6,\n",
       " 18,\n",
       " 13,\n",
       " 5,\n",
       " 6,\n",
       " 6,\n",
       " 6,\n",
       " 4,\n",
       " 6,\n",
       " 11,\n",
       " 6,\n",
       " 11,\n",
       " 10,\n",
       " 6,\n",
       " 14,\n",
       " 6,\n",
       " 6,\n",
       " 9,\n",
       " 6,\n",
       " 7,\n",
       " 6,\n",
       " 6,\n",
       " 6,\n",
       " 6,\n",
       " 4,\n",
       " 5,\n",
       " 10,\n",
       " 12,\n",
       " 6,\n",
       " 2,\n",
       " 6,\n",
       " 12,\n",
       " 5,\n",
       " 6,\n",
       " 15,\n",
       " 6,\n",
       " 6,\n",
       " 6,\n",
       " 6,\n",
       " 10,\n",
       " 6,\n",
       " 6,\n",
       " 6,\n",
       " 7,\n",
       " 6,\n",
       " 6,\n",
       " 6,\n",
       " 6,\n",
       " 6,\n",
       " 6,\n",
       " 6,\n",
       " 4,\n",
       " 6,\n",
       " 12,\n",
       " 6,\n",
       " 1,\n",
       " 1,\n",
       " 9,\n",
       " 11,\n",
       " 11,\n",
       " 6,\n",
       " 15,\n",
       " 6,\n",
       " 10,\n",
       " 11,\n",
       " 6,\n",
       " 6,\n",
       " 6,\n",
       " 3,\n",
       " 18,\n",
       " 4,\n",
       " 10,\n",
       " 7,\n",
       " 7,\n",
       " 7,\n",
       " 7,\n",
       " 2,\n",
       " 4,\n",
       " 4,\n",
       " 5,\n",
       " 7,\n",
       " 7,\n",
       " 4,\n",
       " 7,\n",
       " 3,\n",
       " 9,\n",
       " 7,\n",
       " 7,\n",
       " 7,\n",
       " 4,\n",
       " 7,\n",
       " 7,\n",
       " 7,\n",
       " 5,\n",
       " 9,\n",
       " 7,\n",
       " 7,\n",
       " 7,\n",
       " 2,\n",
       " 7,\n",
       " 2,\n",
       " 7,\n",
       " 4,\n",
       " 4,\n",
       " 7,\n",
       " 9,\n",
       " 7,\n",
       " 7,\n",
       " 7,\n",
       " 7,\n",
       " 7,\n",
       " 7,\n",
       " 9,\n",
       " 4,\n",
       " 18,\n",
       " 7,\n",
       " 7,\n",
       " 7,\n",
       " 4,\n",
       " 7,\n",
       " 3,\n",
       " 7,\n",
       " 13,\n",
       " 7,\n",
       " 7,\n",
       " 4,\n",
       " 7,\n",
       " 7,\n",
       " 7,\n",
       " 7,\n",
       " 5,\n",
       " 9,\n",
       " 7,\n",
       " 3,\n",
       " 7,\n",
       " 10,\n",
       " 7,\n",
       " 7,\n",
       " 7,\n",
       " 9,\n",
       " 7,\n",
       " 7,\n",
       " 5,\n",
       " 7,\n",
       " 7,\n",
       " 7,\n",
       " 10,\n",
       " 4,\n",
       " 7,\n",
       " 2,\n",
       " 2,\n",
       " 7,\n",
       " 7,\n",
       " 4,\n",
       " 2,\n",
       " 4,\n",
       " 7,\n",
       " 7,\n",
       " 7,\n",
       " 7,\n",
       " 7,\n",
       " 7,\n",
       " 7,\n",
       " 4,\n",
       " 13,\n",
       " 7,\n",
       " 4,\n",
       " 10,\n",
       " 9,\n",
       " 17,\n",
       " 9,\n",
       " 8,\n",
       " 1,\n",
       " 5,\n",
       " 8,\n",
       " 9,\n",
       " 7,\n",
       " 18,\n",
       " 8,\n",
       " 3,\n",
       " 1,\n",
       " 1,\n",
       " 3,\n",
       " 8,\n",
       " 1,\n",
       " 5,\n",
       " 9,\n",
       " 3,\n",
       " 2,\n",
       " 4,\n",
       " 4,\n",
       " 11,\n",
       " 10,\n",
       " 1,\n",
       " 6,\n",
       " 15,\n",
       " 3,\n",
       " 3,\n",
       " 3,\n",
       " 9,\n",
       " 4,\n",
       " 8,\n",
       " 1,\n",
       " 6,\n",
       " 18,\n",
       " 1,\n",
       " 3,\n",
       " 8,\n",
       " 4,\n",
       " 1,\n",
       " 5,\n",
       " 5,\n",
       " 3,\n",
       " 5,\n",
       " 4,\n",
       " 4,\n",
       " 4,\n",
       " 14,\n",
       " 17,\n",
       " 3,\n",
       " 8,\n",
       " 3,\n",
       " 8,\n",
       " 1,\n",
       " 3,\n",
       " 1,\n",
       " 3,\n",
       " 14,\n",
       " 8,\n",
       " 3,\n",
       " 3,\n",
       " 7,\n",
       " 4,\n",
       " 8,\n",
       " 1,\n",
       " 2,\n",
       " 3,\n",
       " 5,\n",
       " 14,\n",
       " 3,\n",
       " 3,\n",
       " 3,\n",
       " 3,\n",
       " 10,\n",
       " 1,\n",
       " 7,\n",
       " 1,\n",
       " 7,\n",
       " 3,\n",
       " 6,\n",
       " 16,\n",
       " 2,\n",
       " 3,\n",
       " 9,\n",
       " 5,\n",
       " 1,\n",
       " 2,\n",
       " 8,\n",
       " 5,\n",
       " 3,\n",
       " 7,\n",
       " 3,\n",
       " 8,\n",
       " 1,\n",
       " 14,\n",
       " 3,\n",
       " 5,\n",
       " 3,\n",
       " 2,\n",
       " 5,\n",
       " 7,\n",
       " 2,\n",
       " 9,\n",
       " 9,\n",
       " 4,\n",
       " 5,\n",
       " 3,\n",
       " 7,\n",
       " 18,\n",
       " 9,\n",
       " 7,\n",
       " 3,\n",
       " 14,\n",
       " 9,\n",
       " 8,\n",
       " 3,\n",
       " 4,\n",
       " 3,\n",
       " 7,\n",
       " 4,\n",
       " 7,\n",
       " 9,\n",
       " 13,\n",
       " 7,\n",
       " 9,\n",
       " 5,\n",
       " 5,\n",
       " 4,\n",
       " 3,\n",
       " 7,\n",
       " 7,\n",
       " 3,\n",
       " 7,\n",
       " 4,\n",
       " 5,\n",
       " 9,\n",
       " 5,\n",
       " 7,\n",
       " 4,\n",
       " 13,\n",
       " 2,\n",
       " 4,\n",
       " 9,\n",
       " 8,\n",
       " 8,\n",
       " 7,\n",
       " 3,\n",
       " 9,\n",
       " 6,\n",
       " 17,\n",
       " 9,\n",
       " 9,\n",
       " 9,\n",
       " 14,\n",
       " 13,\n",
       " 9,\n",
       " 3,\n",
       " 4,\n",
       " 7,\n",
       " 4,\n",
       " 7,\n",
       " 5,\n",
       " 4,\n",
       " 14,\n",
       " 4,\n",
       " 5,\n",
       " 4,\n",
       " 3,\n",
       " 7,\n",
       " 4,\n",
       " 9,\n",
       " 4,\n",
       " 14,\n",
       " 9,\n",
       " 9,\n",
       " 1,\n",
       " 9,\n",
       " 9,\n",
       " 2,\n",
       " 17,\n",
       " 6,\n",
       " 4,\n",
       " 8,\n",
       " 5,\n",
       " 1,\n",
       " 3,\n",
       " 7,\n",
       " 5,\n",
       " 5,\n",
       " 5,\n",
       " 11,\n",
       " 18,\n",
       " 9,\n",
       " 9,\n",
       " 12,\n",
       " 7,\n",
       " 9,\n",
       " 5,\n",
       " 10,\n",
       " 2,\n",
       " 7,\n",
       " 0,\n",
       " 7,\n",
       " 10,\n",
       " 10,\n",
       " 8,\n",
       " 3,\n",
       " 14,\n",
       " 7,\n",
       " 10,\n",
       " 9,\n",
       " 8,\n",
       " 10,\n",
       " 8,\n",
       " 15,\n",
       " 5,\n",
       " 11,\n",
       " ...]"
      ]
     },
     "execution_count": 99,
     "metadata": {},
     "output_type": "execute_result"
    }
   ],
   "source": [
    "mode[0].squeeze().tolist()"
   ]
  },
  {
   "cell_type": "code",
   "execution_count": 30,
   "id": "eebf06c6",
   "metadata": {},
   "outputs": [
    {
     "data": {
      "text/plain": [
       "(1862, 42)"
      ]
     },
     "execution_count": 30,
     "metadata": {},
     "output_type": "execute_result"
    }
   ],
   "source": [
    "outputs.shape"
   ]
  },
  {
   "cell_type": "code",
   "execution_count": 48,
   "id": "5a493383",
   "metadata": {},
   "outputs": [
    {
     "data": {
      "text/plain": [
       "array([1.2729399 , 0.90011156, 0.6365104 , 0.45020866, 0.3184085 ,\n",
       "       0.22518179, 0.15936026, 0.11266714, 0.07983626, 0.05648889,\n",
       "       0.04007097, 0.02840197, 0.02010614, 0.01411424, 0.01021266,\n",
       "       0.00728996, 0.00527258, 0.00355556, 0.00281423, 0.00177788,\n",
       "       0.00150499], dtype=float32)"
      ]
     },
     "execution_count": 48,
     "metadata": {},
     "output_type": "execute_result"
    }
   ],
   "source": [
    "np.load('scales_librosa.npy')"
   ]
  },
  {
   "cell_type": "code",
   "execution_count": 31,
   "id": "34abc85a",
   "metadata": {},
   "outputs": [
    {
     "data": {
      "text/plain": [
       "<Figure size 3600x3600 with 0 Axes>"
      ]
     },
     "metadata": {},
     "output_type": "display_data"
    },
    {
     "data": {
      "image/png": "[encoded data removed]",
      "text/plain": [
       "<Figure size 432x288 with 1 Axes>"
      ]
     },
     "metadata": {
      "needs_background": "light"
     },
     "output_type": "display_data"
    }
   ],
   "source": [
    "x_range = outputs.shape[1]\n",
    "from util import bar_plot\n",
    "bar_plot(range(x_range), outputs[555])"
   ]
  },
  {
   "cell_type": "markdown",
   "id": "956fc7cc",
   "metadata": {},
   "source": [
    "# classification with combined features (first and second layers)"
   ]
  },
  {
   "cell_type": "code",
   "execution_count": 19,
   "id": "310fb0d5",
   "metadata": {},
   "outputs": [],
   "source": [
    "import numpy as np\n",
    "from sklearn.metrics.pairwise import cosine_similarity\n",
    "import pickle\n",
    "import pandas as pd\n",
    "from scipy import stats"
   ]
  },
  {
   "cell_type": "code",
   "execution_count": 20,
   "id": "b85b7ce8",
   "metadata": {},
   "outputs": [],
   "source": [
    "with open(\"20classes\", \"rb\") as f:   # Unpickling\n",
    "    classes = pickle.load(f)"
   ]
  },
  {
   "cell_type": "code",
   "execution_count": 26,
   "id": "6829cbcc",
   "metadata": {},
   "outputs": [],
   "source": [
    "outputs2 = np.load(\"results_3layer_numscale20_downfac_root_2_no_norm1_librosa_44100_one_path_kaiser_fast_20_classes_100videos.npy\")"
   ]
  },
  {
   "cell_type": "code",
   "execution_count": 27,
   "id": "7d13028d",
   "metadata": {},
   "outputs": [],
   "source": [
    "outputs1 = np.load(\"results_2layer_numscale20_downfac_root_2_no_norm1_librosa_44100_one_path_kaiser_fast_20_classes_100videos.npy\")"
   ]
  },
  {
   "cell_type": "code",
   "execution_count": 28,
   "id": "008f2893",
   "metadata": {},
   "outputs": [],
   "source": [
    "outputs1 = outputs1 / np.linalg.norm(outputs1, axis=1)[:,None]\n",
    "outputs2 = outputs2 / np.linalg.norm(outputs2, axis=1)[:,None]"
   ]
  },
  {
   "cell_type": "code",
   "execution_count": 9,
   "id": "78d2935e",
   "metadata": {},
   "outputs": [],
   "source": [
    "alpha = 1\n",
    "outputs = alpha * outputs1 + (1 - alpha) * outputs2"
   ]
  },
  {
   "cell_type": "code",
   "execution_count": 29,
   "id": "ac1319c0",
   "metadata": {},
   "outputs": [],
   "source": [
    "outputs = np.concatenate((outputs1, outputs2), axis=-1)"
   ]
  },
  {
   "cell_type": "code",
   "execution_count": 30,
   "id": "73be2bdf",
   "metadata": {},
   "outputs": [
    {
     "data": {
      "text/plain": [
       "0.583"
      ]
     },
     "execution_count": 30,
     "metadata": {},
     "output_type": "execute_result"
    }
   ],
   "source": [
    "sim_pairs = cosine_similarity(outputs)\n",
    "sorted_sim = np.argsort(sim_pairs, axis=1)\n",
    "\n",
    "NN = sorted_sim[:,-2].tolist()\n",
    "c = 0\n",
    "for i, s in enumerate(NN):\n",
    "    if s // 100 == i // 100:\n",
    "        c = c + 1\n",
    "c / len(NN)    "
   ]
  },
  {
   "cell_type": "code",
   "execution_count": 28,
   "id": "f817db89",
   "metadata": {},
   "outputs": [],
   "source": [
    "sim_pairs2 = cosine_similarity(outputs2)\n",
    "sorted_sim2 = np.argsort(sim_pairs2, axis=1)\n",
    "\n",
    "sim_pairs1 = cosine_similarity(outputs1)\n",
    "sorted_sim1 = np.argsort(sim_pairs1, axis=1)\n",
    "\n",
    "sorted_sim2 = sorted_sim2 // 98\n",
    "sorted_sim1 = sorted_sim1 // 98"
   ]
  },
  {
   "cell_type": "code",
   "execution_count": 29,
   "id": "04d038cc",
   "metadata": {},
   "outputs": [
    {
     "data": {
      "text/plain": [
       "0.48775510204081635"
      ]
     },
     "execution_count": 29,
     "metadata": {},
     "output_type": "execute_result"
    }
   ],
   "source": [
    "c = 0\n",
    "for i in range(sorted_sim1.shape[0]):\n",
    "    if (sorted_sim2[:, -2][i] == (i // 98)) and (sorted_sim1[:, -2][i] == (i // 98)):\n",
    "           c += 1\n",
    "c / sorted_sim1.shape[0]"
   ]
  },
  {
   "cell_type": "code",
   "execution_count": 25,
   "id": "6ee98848",
   "metadata": {},
   "outputs": [
    {
     "data": {
      "text/plain": [
       "0.20032223415682063"
      ]
     },
     "execution_count": 25,
     "metadata": {},
     "output_type": "execute_result"
    }
   ],
   "source": [
    "c = 0\n",
    "for i in range(sorted_sim1.shape[0]):\n",
    "    if (sorted_sim2[:, -2][i] == sorted_sim1[:, -2][i]) and (sorted_sim1[:, -2][i] != (i // 98)):\n",
    "           c += 1\n",
    "c / sorted_sim1.shape[0]"
   ]
  },
  {
   "cell_type": "code",
   "execution_count": 8,
   "id": "b7d65cf4",
   "metadata": {},
   "outputs": [
    {
     "data": {
      "text/plain": [
       "array([15,  0, 12, ...,  2,  4, 18])"
      ]
     },
     "execution_count": 8,
     "metadata": {},
     "output_type": "execute_result"
    }
   ],
   "source": [
    "sorted_sim1[:, -2]"
   ]
  },
  {
   "cell_type": "code",
   "execution_count": 31,
   "id": "a3a39cc0",
   "metadata": {},
   "outputs": [
    {
     "data": {
      "text/plain": [
       "0.5801020408163265"
      ]
     },
     "execution_count": 31,
     "metadata": {},
     "output_type": "execute_result"
    }
   ],
   "source": [
    "# sorted_sim2[:,-3:-1]\n",
    "\n",
    "sorted_sim1[:, -2:-1][:,0]\n",
    "c = 0\n",
    "for i in range(sorted_sim1.shape[0]):\n",
    "    if sorted_sim2[:, -2][i] in sorted_sim1[:,-3:-1][i].tolist():\n",
    "        pred = sorted_sim2[:, -2][i]\n",
    "    else:\n",
    "        pred = sorted_sim1[:,-2][i]\n",
    "    if pred == i // 98:\n",
    "        c += 1\n",
    "c / sorted_sim1.shape[0]        "
   ]
  },
  {
   "cell_type": "code",
   "execution_count": 49,
   "id": "8603d831",
   "metadata": {},
   "outputs": [
    {
     "data": {
      "text/plain": [
       "[0, 0]"
      ]
     },
     "execution_count": 49,
     "metadata": {},
     "output_type": "execute_result"
    }
   ],
   "source": [
    "sorted_sim2[:,-3:-1][1].tolist()"
   ]
  },
  {
   "cell_type": "code",
   "execution_count": 50,
   "id": "112707b3",
   "metadata": {},
   "outputs": [
    {
     "data": {
      "text/plain": [
       "18"
      ]
     },
     "execution_count": 50,
     "metadata": {},
     "output_type": "execute_result"
    }
   ],
   "source": [
    "sorted_sim2[:,-2][i]"
   ]
  },
  {
   "cell_type": "code",
   "execution_count": 34,
   "id": "590c3dae",
   "metadata": {},
   "outputs": [
    {
     "data": {
      "text/plain": [
       "array([[15, 15],\n",
       "       [ 0,  0],\n",
       "       [12, 14],\n",
       "       ...,\n",
       "       [18,  2],\n",
       "       [ 4, 18],\n",
       "       [18, 18]])"
      ]
     },
     "execution_count": 34,
     "metadata": {},
     "output_type": "execute_result"
    }
   ],
   "source": [
    "sorted_sim2[:,-3:-1]"
   ]
  },
  {
   "cell_type": "code",
   "execution_count": 16,
   "id": "7551149c",
   "metadata": {},
   "outputs": [
    {
     "data": {
      "text/plain": [
       "0.5805585392051558"
      ]
     },
     "execution_count": 16,
     "metadata": {},
     "output_type": "execute_result"
    }
   ],
   "source": [
    "NN = sorted_sim[:,-2].tolist()\n",
    "c = 0\n",
    "for i, s in enumerate(NN):\n",
    "    if s // 98 == i // 98:\n",
    "        c = c + 1\n",
    "c / len(NN)        "
   ]
  },
  {
   "cell_type": "markdown",
   "id": "e9beabf3",
   "metadata": {},
   "source": [
    "# classification with SVM\n"
   ]
  },
  {
   "cell_type": "code",
   "execution_count": 44,
   "id": "5d77ef42",
   "metadata": {},
   "outputs": [],
   "source": [
    "import numpy as np\n",
    "from sklearn.metrics.pairwise import cosine_similarity\n",
    "import pickle\n",
    "import pandas as pd\n",
    "from scipy import stats\n",
    "from sklearn.metrics import confusion_matrix\n",
    "from sklearn.model_selection import train_test_split\n",
    "from sklearn import svm, datasets\n",
    "import matplotlib.pyplot as plt\n",
    "import numpy as np"
   ]
  },
  {
   "cell_type": "code",
   "execution_count": 45,
   "id": "6b6a882b",
   "metadata": {},
   "outputs": [],
   "source": [
    "with open(\"20classes\", \"rb\") as f:   # Unpickling\n",
    "    classes = pickle.load(f)"
   ]
  },
  {
   "cell_type": "code",
   "execution_count": 46,
   "id": "fab0f65e",
   "metadata": {},
   "outputs": [],
   "source": [
    "outputs1 = np.load(\"results_2layer_numscale20_downfac_root_2_no_norm1_librosa_44100_two_path_kaiser_fast_20_classes_100videos.npy\")\n",
    "# outputs2 = np.load(\"results_3layer_numscale20_downfac_root_2_no_norm1_librosa_44100_one_path_kaiser_fast_20_classes_100videos.npy\")\n"
   ]
  },
  {
   "cell_type": "code",
   "execution_count": 20,
   "id": "a2a67fb6",
   "metadata": {},
   "outputs": [],
   "source": [
    "outputs = np.concatenate((outputs1, outputs2), axis=-1)"
   ]
  },
  {
   "cell_type": "code",
   "execution_count": 47,
   "id": "4cd7ae5a",
   "metadata": {},
   "outputs": [],
   "source": [
    "outputs = outputs1"
   ]
  },
  {
   "cell_type": "code",
   "execution_count": 48,
   "id": "72210e6e",
   "metadata": {},
   "outputs": [],
   "source": [
    "labels = [i//100 for i in range(outputs.shape[0])]"
   ]
  },
  {
   "cell_type": "code",
   "execution_count": 49,
   "id": "031072c6",
   "metadata": {},
   "outputs": [],
   "source": [
    "threshold = int(100 * 0.8)"
   ]
  },
  {
   "cell_type": "code",
   "execution_count": 50,
   "id": "e070e2af",
   "metadata": {},
   "outputs": [],
   "source": [
    "x_train = []\n",
    "x_test = []\n",
    "y_train = []\n",
    "y_test = []\n",
    "for i in range(outputs.shape[0]):\n",
    "    if i % 100 <= threshold:\n",
    "        x_train.append(outputs[i][None, :])\n",
    "        y_train.append(labels[i])\n",
    "    else:\n",
    "        x_test.append(outputs[i][None, :])\n",
    "        y_test.append(labels[i])\n"
   ]
  },
  {
   "cell_type": "code",
   "execution_count": 51,
   "id": "1a9c1415",
   "metadata": {},
   "outputs": [],
   "source": [
    "x_train = np.concatenate(x_train, axis=0)\n",
    "x_test = np.concatenate(x_test, axis=0)"
   ]
  },
  {
   "cell_type": "code",
   "execution_count": null,
   "id": "533961ee",
   "metadata": {},
   "outputs": [],
   "source": []
  },
  {
   "cell_type": "code",
   "execution_count": 52,
   "id": "1a44f87d",
   "metadata": {},
   "outputs": [],
   "source": [
    "linear = svm.SVC(kernel='linear', C=1, decision_function_shape='ovo').fit(x_train, y_train)\n",
    "rbf = svm.SVC(kernel='rbf', gamma=1, C=1, decision_function_shape='ovo').fit(x_train, y_train)\n",
    "poly = svm.SVC(kernel='poly', degree=3, C=1, decision_function_shape='ovo').fit(x_train, y_train)\n",
    "sig = svm.SVC(kernel='sigmoid', C=1, decision_function_shape='ovo').fit(x_train, y_train)"
   ]
  },
  {
   "cell_type": "code",
   "execution_count": 53,
   "id": "c61c1821",
   "metadata": {},
   "outputs": [
    {
     "name": "stdout",
     "output_type": "stream",
     "text": [
      "Accuracy Linear Kernel: 0.6631578947368421\n",
      "Accuracy Polynomial Kernel: 0.40789473684210525\n",
      "Accuracy Radial Basis Kernel: 0.05526315789473684\n",
      "Accuracy Sigmoid Kernel: 0.2868421052631579\n"
     ]
    }
   ],
   "source": [
    "accuracy_lin = linear.score(x_test, y_test)\n",
    "accuracy_poly = poly.score(x_test, y_test)\n",
    "accuracy_rbf = rbf.score(x_test, y_test)\n",
    "accuracy_sig = sig.score(x_test, y_test)\n",
    "print(\"Accuracy Linear Kernel:\", accuracy_lin)\n",
    "print(\"Accuracy Polynomial Kernel:\", accuracy_poly)\n",
    "print(\"Accuracy Radial Basis Kernel:\", accuracy_rbf)\n",
    "print(\"Accuracy Sigmoid Kernel:\", accuracy_sig)"
   ]
  },
  {
   "cell_type": "code",
   "execution_count": 14,
   "id": "93ad707b",
   "metadata": {},
   "outputs": [
    {
     "data": {
      "text/plain": [
       "array([ 0,  0,  0,  0, 16,  0,  0,  0,  0,  0,  0,  0, 15,  0,  0,  0,  0,\n",
       "        0,  0,  1,  1,  1,  1,  1,  5,  1,  1,  1,  1,  1,  1,  1,  1,  1,\n",
       "        1,  1,  1, 19,  3,  2,  2,  3, 17, 15,  2,  2,  2,  2,  2,  2,  2,\n",
       "        2,  3,  2,  9,  2,  2,  3,  9,  9,  3,  3,  3,  3,  8,  9,  2,  3,\n",
       "       14,  9,  3,  3,  8,  3,  3, 13,  4,  4,  9,  4,  7,  3,  4,  4,  4,\n",
       "        7,  2,  4,  3, 18,  4,  9,  9,  4,  4,  5,  5,  9,  5,  1,  4,  8,\n",
       "        6,  5,  5,  8, 13,  5,  5,  8,  5,  5,  5,  5,  6, 13,  6,  7, 11,\n",
       "        6,  8, 11,  6,  6,  6, 10,  6,  8, 16,  0,  6,  6,  6,  7,  4,  3,\n",
       "        7,  7,  7,  7,  7,  7,  7,  7,  7,  7,  7,  7, 18,  7, 17,  7, 14,\n",
       "        7,  8,  3,  8,  3,  8,  8,  9,  8,  4,  3, 14, 14,  8,  8,  4,  8,\n",
       "        3,  9, 17,  9,  9,  9,  4, 13,  9,  9,  5,  9,  4,  9,  8,  9,  9,\n",
       "        0,  9,  9, 11, 10, 10, 10, 10, 10, 10, 10, 10, 10, 10, 10, 10,  6,\n",
       "       10, 10, 10, 10,  9, 11, 11, 11, 11, 11, 11, 11, 16, 11, 11, 11, 11,\n",
       "       11, 11, 11, 11, 11, 11, 11, 12, 12, 12,  5, 12,  0, 15, 15, 12, 12,\n",
       "       12, 12, 16, 12, 12, 12, 12, 12,  0, 13, 13, 13, 13, 13, 11, 13, 13,\n",
       "       13, 13, 13, 13, 13, 13,  8, 13, 13,  8, 13, 15,  2,  3, 15, 14,  3,\n",
       "       14,  8,  2, 12,  3, 14, 14, 14,  9, 14, 14, 14,  3, 15, 15, 15, 18,\n",
       "       18,  0, 15, 15, 15, 15, 16,  2,  2, 12, 15,  0, 15, 14, 15, 16, 16,\n",
       "       16, 12, 13, 16, 16, 13, 16,  8, 16, 16, 14, 16, 16, 16, 12, 12, 16,\n",
       "       17, 17, 17, 17, 17, 17, 17, 17, 17, 17, 17, 17, 17, 17, 17, 17, 17,\n",
       "       17, 17, 18, 18, 18, 18, 18, 18, 18, 18,  7,  7,  8, 18,  6, 18, 18,\n",
       "       18, 18, 18, 18, 19, 19, 19,  8, 19, 19, 19, 19, 19, 19, 19, 19, 19,\n",
       "       19, 19, 19, 19, 19, 19])"
      ]
     },
     "execution_count": 14,
     "metadata": {},
     "output_type": "execute_result"
    }
   ],
   "source": [
    "linear_pred = linear.predict(x_test)\n",
    "linear_pred"
   ]
  },
  {
   "cell_type": "code",
   "execution_count": 28,
   "id": "a26a8a94",
   "metadata": {},
   "outputs": [
    {
     "data": {
      "text/plain": [
       "array([ 0,  0,  0,  0,  0,  0,  0,  0,  0,  0,  0,  0,  0,  0,  0,  0,  0,\n",
       "        0,  0,  1,  1,  1,  1,  1,  1,  1,  1,  1,  1,  1,  1,  1,  1,  1,\n",
       "        1,  1,  1,  1,  2,  2,  2,  2,  2,  2,  2,  2,  2,  2,  2,  2,  2,\n",
       "        2,  2,  2,  2,  2,  2,  3,  3,  3,  3,  3,  3,  3,  3,  3,  3,  3,\n",
       "        3,  3,  3,  3,  3,  3,  3,  3,  4,  4,  4,  4,  4,  4,  4,  4,  4,\n",
       "        4,  4,  4,  4,  4,  4,  4,  4,  4,  4,  5,  5,  5,  5,  5,  5,  5,\n",
       "        5,  5,  5,  5,  5,  5,  5,  5,  5,  5,  5,  5,  6,  6,  6,  6,  6,\n",
       "        6,  6,  6,  6,  6,  6,  6,  6,  6,  6,  6,  6,  6,  6,  7,  7,  7,\n",
       "        7,  7,  7,  7,  7,  7,  7,  7,  7,  7,  7,  7,  7,  7,  7,  7,  8,\n",
       "        8,  8,  8,  8,  8,  8,  8,  8,  8,  8,  8,  8,  8,  8,  8,  8,  8,\n",
       "        8,  9,  9,  9,  9,  9,  9,  9,  9,  9,  9,  9,  9,  9,  9,  9,  9,\n",
       "        9,  9,  9, 10, 10, 10, 10, 10, 10, 10, 10, 10, 10, 10, 10, 10, 10,\n",
       "       10, 10, 10, 10, 10, 11, 11, 11, 11, 11, 11, 11, 11, 11, 11, 11, 11,\n",
       "       11, 11, 11, 11, 11, 11, 11, 12, 12, 12, 12, 12, 12, 12, 12, 12, 12,\n",
       "       12, 12, 12, 12, 12, 12, 12, 12, 12, 13, 13, 13, 13, 13, 13, 13, 13,\n",
       "       13, 13, 13, 13, 13, 13, 13, 13, 13, 13, 13, 14, 14, 14, 14, 14, 14,\n",
       "       14, 14, 14, 14, 14, 14, 14, 14, 14, 14, 14, 14, 14, 15, 15, 15, 15,\n",
       "       15, 15, 15, 15, 15, 15, 15, 15, 15, 15, 15, 15, 15, 15, 15, 16, 16,\n",
       "       16, 16, 16, 16, 16, 16, 16, 16, 16, 16, 16, 16, 16, 16, 16, 16, 16,\n",
       "       17, 17, 17, 17, 17, 17, 17, 17, 17, 17, 17, 17, 17, 17, 17, 17, 17,\n",
       "       17, 17, 18, 18, 18, 18, 18, 18, 18, 18, 18, 18, 18, 18, 18, 18, 18,\n",
       "       18, 18, 18, 18, 19, 19, 19, 19, 19, 19, 19, 19, 19, 19, 19, 19, 19,\n",
       "       19, 19, 19, 19, 19, 19])"
      ]
     },
     "execution_count": 28,
     "metadata": {},
     "output_type": "execute_result"
    }
   ],
   "source": [
    "np.array(y_test)"
   ]
  },
  {
   "cell_type": "markdown",
   "id": "fff84fee",
   "metadata": {},
   "source": [
    "# Average Histogram"
   ]
  },
  {
   "cell_type": "code",
   "execution_count": 109,
   "id": "195a30b0",
   "metadata": {},
   "outputs": [],
   "source": [
    "import numpy as np\n",
    "from sklearn.metrics.pairwise import cosine_similarity\n",
    "import pickle\n",
    "import pandas as pd\n",
    "from scipy import stats\n",
    "from sklearn.metrics.pairwise import cosine_similarity"
   ]
  },
  {
   "cell_type": "code",
   "execution_count": 110,
   "id": "4aa7153a",
   "metadata": {},
   "outputs": [],
   "source": [
    "with open(\"classes\", \"rb\") as f:   # Unpickling\n",
    "    classes = pickle.load(f)"
   ]
  },
  {
   "cell_type": "code",
   "execution_count": 111,
   "id": "fee9dc2e",
   "metadata": {},
   "outputs": [],
   "source": [
    "outputs = np.load(\"results_numscale20_downfac_root_2_no_norm_librosa_44100.npy\")"
   ]
  },
  {
   "cell_type": "code",
   "execution_count": 112,
   "id": "529a1da3",
   "metadata": {},
   "outputs": [],
   "source": [
    "bee_index = classes.index('bee')\n",
    "flag_index = classes.index('flag')\n",
    "veg_index = classes.index('vegetation')\n",
    "airshow_index = classes.index('airshow')"
   ]
  },
  {
   "cell_type": "code",
   "execution_count": 113,
   "id": "1b5b95b0",
   "metadata": {},
   "outputs": [],
   "source": [
    "VID_PER_CLASS = 98"
   ]
  },
  {
   "cell_type": "code",
   "execution_count": 114,
   "id": "3ffe5e5e",
   "metadata": {},
   "outputs": [],
   "source": [
    "bee_outputs = outputs[bee_index * VID_PER_CLASS: (bee_index + 1) * VID_PER_CLASS]\n",
    "flag_outputs = outputs[flag_index * VID_PER_CLASS: (flag_index + 1) * VID_PER_CLASS]\n",
    "veg_outputs = outputs[veg_index * VID_PER_CLASS: (veg_index + 1) * VID_PER_CLASS]\n",
    "airshow_outputs = outputs[airshow_index * VID_PER_CLASS: (airshow_index + 1) * VID_PER_CLASS]"
   ]
  },
  {
   "cell_type": "code",
   "execution_count": 115,
   "id": "50087368",
   "metadata": {},
   "outputs": [],
   "source": [
    "bee_mean = np.mean(bee_outputs, axis=0)\n",
    "flag_mean = np.mean(flag_outputs, axis=0)\n",
    "veg_mean = np.mean(veg_outputs, axis=0)\n",
    "airshow_mean = np.mean(airshow_outputs, axis=0)"
   ]
  },
  {
   "cell_type": "code",
   "execution_count": 116,
   "id": "49afb031",
   "metadata": {},
   "outputs": [
    {
     "data": {
      "image/png": "[encoded data removed]",
      "text/plain": [
       "<Figure size 1440x216 with 1 Axes>"
      ]
     },
     "metadata": {
      "needs_background": "light"
     },
     "output_type": "display_data"
    }
   ],
   "source": [
    "import matplotlib.pyplot as plt\n",
    "x_range = bee_mean.shape[0]\n",
    "x, y1, y2 = np.arange(x_range), bee_mean, flag_mean\n",
    "fig, ax = plt.subplots()\n",
    "ax.bar(x - 0.25, y1, width=0.25, edgecolor=\"white\")\n",
    "ax.bar(x + 0.25, y2, width=0.25, edgecolor=\"white\")\n",
    "ax.set(xlim=(0, max(x)),xticks=np.arange(1, max(x)))\n",
    "plt.show()"
   ]
  },
  {
   "cell_type": "code",
   "execution_count": 117,
   "id": "4ceb97c4",
   "metadata": {},
   "outputs": [
    {
     "data": {
      "image/png": "[encoded data removed]",
      "text/plain": [
       "<Figure size 1440x216 with 1 Axes>"
      ]
     },
     "metadata": {
      "needs_background": "light"
     },
     "output_type": "display_data"
    }
   ],
   "source": [
    "import matplotlib.pyplot as plt\n",
    "from matplotlib.pyplot import figure\n",
    "import matplotlib.pyplot as plt\n",
    "plt.rcParams[\"figure.figsize\"] = (20,3)\n",
    "\n",
    "x_range = bee_mean.shape[0]\n",
    "x, y1, y2 = np.arange(x_range), veg_mean, airshow_mean\n",
    "fig, ax = plt.subplots()\n",
    "\n",
    "ax.bar(x - 0.25, y1, width=0.25, edgecolor=\"white\")\n",
    "ax.bar(x + 0.25, y2, width=0.25, edgecolor=\"white\")\n",
    "ax.set(xlim=(0, max(x)),xticks=np.arange(1, max(x)))\n",
    "plt.show()"
   ]
  },
  {
   "cell_type": "code",
   "execution_count": 44,
   "id": "85d6cbe1",
   "metadata": {},
   "outputs": [
    {
     "data": {
      "text/plain": [
       "array([[0.9820208]], dtype=float32)"
      ]
     },
     "execution_count": 44,
     "metadata": {},
     "output_type": "execute_result"
    }
   ],
   "source": [
    "cosine_similarity(bee_mean[None,:], flag_mean[None,:])"
   ]
  },
  {
   "cell_type": "code",
   "execution_count": 10,
   "id": "e247b664",
   "metadata": {},
   "outputs": [
    {
     "data": {
      "text/plain": [
       "array([[0.99484986]], dtype=float32)"
      ]
     },
     "execution_count": 10,
     "metadata": {},
     "output_type": "execute_result"
    }
   ],
   "source": [
    "cosine_similarity(airshow_mean[None,:], veg_mean[None,:])"
   ]
  },
  {
   "cell_type": "markdown",
   "id": "c7bbb831",
   "metadata": {},
   "source": [
    "# Automatic Average Histogram"
   ]
  },
  {
   "cell_type": "code",
   "execution_count": 41,
   "id": "8ecd3b87",
   "metadata": {},
   "outputs": [],
   "source": [
    "import numpy as np\n",
    "from sklearn.metrics.pairwise import cosine_similarity\n",
    "import pickle\n",
    "import pandas as pd\n",
    "from scipy import stats\n",
    "from sklearn.metrics.pairwise import cosine_similarity"
   ]
  },
  {
   "cell_type": "code",
   "execution_count": 42,
   "id": "a269d239",
   "metadata": {},
   "outputs": [],
   "source": [
    "with open(\"classes\", \"rb\") as f:   # Unpickling\n",
    "    classes = pickle.load(f)"
   ]
  },
  {
   "cell_type": "code",
   "execution_count": 43,
   "id": "e9bbce3a",
   "metadata": {},
   "outputs": [],
   "source": [
    "outputs = np.load(\"results_numscale20_downfac_root_2_no_norm_44100.npy\")"
   ]
  },
  {
   "cell_type": "code",
   "execution_count": 44,
   "id": "5f730303",
   "metadata": {},
   "outputs": [],
   "source": [
    "VID_PER_CLASS = 98\n",
    "C1 = 'bee'\n",
    "C2 = 'flag'"
   ]
  },
  {
   "cell_type": "code",
   "execution_count": 45,
   "id": "fc4ec205",
   "metadata": {},
   "outputs": [],
   "source": [
    "c1_index = classes.index(C1)\n",
    "c2_index = classes.index(C2)"
   ]
  },
  {
   "cell_type": "code",
   "execution_count": 46,
   "id": "20b70815",
   "metadata": {},
   "outputs": [],
   "source": [
    "c1_outputs = outputs[c1_index * VID_PER_CLASS: (c1_index + 1) * VID_PER_CLASS]\n",
    "c2_outputs = outputs[c2_index * VID_PER_CLASS: (c2_index + 1) * VID_PER_CLASS]"
   ]
  },
  {
   "cell_type": "code",
   "execution_count": 47,
   "id": "085afaab",
   "metadata": {},
   "outputs": [],
   "source": [
    "c1_mean = np.mean(c1_outputs, axis=0)\n",
    "c2_mean = np.mean(c2_outputs, axis=0)"
   ]
  },
  {
   "cell_type": "code",
   "execution_count": null,
   "id": "189aa2fb",
   "metadata": {},
   "outputs": [],
   "source": []
  },
  {
   "cell_type": "code",
   "execution_count": 31,
   "id": "9c2df7fa",
   "metadata": {},
   "outputs": [
    {
     "data": {
      "image/png": "[encoded data removed]",
      "text/plain": [
       "<Figure size 1440x216 with 1 Axes>"
      ]
     },
     "metadata": {
      "needs_background": "light"
     },
     "output_type": "display_data"
    }
   ],
   "source": [
    "import matplotlib.pyplot as plt\n",
    "from matplotlib.pyplot import figure\n",
    "import matplotlib.pyplot as plt\n",
    "plt.rcParams[\"figure.figsize\"] = (20,3)\n",
    "\n",
    "x_range = c1_mean.shape[0]\n",
    "x, y1, y2 = np.arange(x_range), c1_mean, c2_mean\n",
    "fig, ax = plt.subplots()\n",
    "ax.bar(x - 0.25, y1, width=0.25, edgecolor=\"white\")\n",
    "ax.bar(x + 0.25, y2, width=0.25, edgecolor=\"white\")\n",
    "ax.set(xlim=(0, max(x)),xticks=np.arange(1, max(x)))\n",
    "plt.show()"
   ]
  },
  {
   "cell_type": "markdown",
   "id": "d7ff4353",
   "metadata": {},
   "source": [
    "# Metric Learning"
   ]
  },
  {
   "cell_type": "code",
   "execution_count": 31,
   "id": "bc967c83",
   "metadata": {},
   "outputs": [],
   "source": [
    "from metric_learn import NCA\n",
    "import numpy as np\n",
    "import pickle\n",
    "import itertools\n",
    "from sklearn.model_selection import train_test_split\n",
    "from sklearn.neighbors import KNeighborsClassifier"
   ]
  },
  {
   "cell_type": "code",
   "execution_count": 12,
   "id": "692540dd",
   "metadata": {},
   "outputs": [],
   "source": [
    "outputs = np.load(\"results.npy\")"
   ]
  },
  {
   "cell_type": "code",
   "execution_count": 13,
   "id": "c2ca0bec",
   "metadata": {},
   "outputs": [],
   "source": [
    "with open(\"classes\", \"rb\") as f:   # Unpickling\n",
    "    classes = pickle.load(f)"
   ]
  },
  {
   "cell_type": "code",
   "execution_count": 19,
   "id": "38c1b0ea",
   "metadata": {},
   "outputs": [],
   "source": [
    "### build numeric labels for the data\n",
    "NUM_CLASS = 19\n",
    "NUM_PER_CLASS = outputs.shape[0] // NUM_CLASS\n",
    "lables = [[i] * NUM_PER_CLASS for i in range(NUM_CLASS)]\n",
    "lables = list(itertools.chain(*lables))"
   ]
  },
  {
   "cell_type": "code",
   "execution_count": 24,
   "id": "ff78ffbd",
   "metadata": {},
   "outputs": [],
   "source": [
    "### split data into train and test sets"
   ]
  },
  {
   "cell_type": "code",
   "execution_count": 25,
   "id": "5fe1b511",
   "metadata": {},
   "outputs": [],
   "source": [
    "X_train, X_test, y_train, y_test = train_test_split(outputs, lables, test_size=0.2, random_state=42)"
   ]
  },
  {
   "cell_type": "code",
   "execution_count": 32,
   "id": "52d7bf80",
   "metadata": {},
   "outputs": [
    {
     "name": "stdout",
     "output_type": "stream",
     "text": [
      "[NCA]\n",
      "[NCA]  Iteration      Objective Value    Time(s)\n",
      "[NCA] ------------------------------------------\n",
      "[NCA]          0         7.590000e+02       0.11\n",
      "[NCA] Training took     0.12s.\n"
     ]
    }
   ],
   "source": [
    "nca = NCA(verbose=True)\n",
    "train_transformed = nca.fit_transform(X_train, y_train)\n",
    "test_transformed = nca.transform(X_test)"
   ]
  },
  {
   "cell_type": "code",
   "execution_count": 54,
   "id": "10c24b2a",
   "metadata": {},
   "outputs": [
    {
     "data": {
      "text/plain": [
       "0.45576407506702415"
      ]
     },
     "execution_count": 54,
     "metadata": {},
     "output_type": "execute_result"
    }
   ],
   "source": [
    "K = 10\n",
    "knn = KNeighborsClassifier(n_neighbors=K, metric='euclidean')\n",
    "knn.fit(train_transformed, y_train)\n",
    "pred = knn.predict(test_transformed)\n",
    "(pred == y_test).sum()/len(pred)"
   ]
  },
  {
   "cell_type": "code",
   "execution_count": null,
   "id": "e5460426",
   "metadata": {},
   "outputs": [],
   "source": []
  },
  {
   "cell_type": "markdown",
   "id": "6dbbf108",
   "metadata": {},
   "source": [
    "# multi-scaling and downsampling with non-integer factor"
   ]
  },
  {
   "cell_type": "code",
   "execution_count": 50,
   "id": "a26046aa",
   "metadata": {},
   "outputs": [],
   "source": [
    "PATH = './videos/bee_101.mp3'"
   ]
  },
  {
   "cell_type": "code",
   "execution_count": 27,
   "id": "6f2c8ef4",
   "metadata": {},
   "outputs": [
    {
     "name": "stdout",
     "output_type": "stream",
     "text": [
      "flag\n"
     ]
    },
    {
     "name": "stderr",
     "output_type": "stream",
     "text": [
      "/home/eftekhar/anaconda3/envs/SOE_NET/lib/python3.7/site-packages/librosa/util/decorators.py:88: UserWarning: PySoundFile failed. Trying audioread instead.\n",
      "  return f(*args, **kwargs)\n"
     ]
    },
    {
     "name": "stdout",
     "output_type": "stream",
     "text": [
      "flag\n"
     ]
    },
    {
     "name": "stderr",
     "output_type": "stream",
     "text": [
      "/home/eftekhar/anaconda3/envs/SOE_NET/lib/python3.7/site-packages/librosa/util/decorators.py:88: UserWarning: PySoundFile failed. Trying audioread instead.\n",
      "  return f(*args, **kwargs)\n"
     ]
    },
    {
     "name": "stdout",
     "output_type": "stream",
     "text": [
      "flag\n"
     ]
    },
    {
     "name": "stderr",
     "output_type": "stream",
     "text": [
      "/home/eftekhar/anaconda3/envs/SOE_NET/lib/python3.7/site-packages/librosa/util/decorators.py:88: UserWarning: PySoundFile failed. Trying audioread instead.\n",
      "  return f(*args, **kwargs)\n"
     ]
    },
    {
     "name": "stdout",
     "output_type": "stream",
     "text": [
      "flag\n"
     ]
    },
    {
     "name": "stderr",
     "output_type": "stream",
     "text": [
      "/home/eftekhar/anaconda3/envs/SOE_NET/lib/python3.7/site-packages/librosa/util/decorators.py:88: UserWarning: PySoundFile failed. Trying audioread instead.\n",
      "  return f(*args, **kwargs)\n"
     ]
    },
    {
     "name": "stdout",
     "output_type": "stream",
     "text": [
      "flag\n"
     ]
    },
    {
     "name": "stderr",
     "output_type": "stream",
     "text": [
      "/home/eftekhar/anaconda3/envs/SOE_NET/lib/python3.7/site-packages/librosa/util/decorators.py:88: UserWarning: PySoundFile failed. Trying audioread instead.\n",
      "  return f(*args, **kwargs)\n"
     ]
    },
    {
     "name": "stdout",
     "output_type": "stream",
     "text": [
      "flag\n"
     ]
    },
    {
     "name": "stderr",
     "output_type": "stream",
     "text": [
      "/home/eftekhar/anaconda3/envs/SOE_NET/lib/python3.7/site-packages/librosa/util/decorators.py:88: UserWarning: PySoundFile failed. Trying audioread instead.\n",
      "  return f(*args, **kwargs)\n"
     ]
    },
    {
     "name": "stdout",
     "output_type": "stream",
     "text": [
      "flag\n"
     ]
    },
    {
     "name": "stderr",
     "output_type": "stream",
     "text": [
      "/home/eftekhar/anaconda3/envs/SOE_NET/lib/python3.7/site-packages/librosa/util/decorators.py:88: UserWarning: PySoundFile failed. Trying audioread instead.\n",
      "  return f(*args, **kwargs)\n"
     ]
    },
    {
     "name": "stdout",
     "output_type": "stream",
     "text": [
      "flag\n"
     ]
    },
    {
     "name": "stderr",
     "output_type": "stream",
     "text": [
      "/home/eftekhar/anaconda3/envs/SOE_NET/lib/python3.7/site-packages/librosa/util/decorators.py:88: UserWarning: PySoundFile failed. Trying audioread instead.\n",
      "  return f(*args, **kwargs)\n"
     ]
    },
    {
     "name": "stdout",
     "output_type": "stream",
     "text": [
      "flag\n"
     ]
    },
    {
     "ename": "KeyboardInterrupt",
     "evalue": "",
     "output_type": "error",
     "traceback": [
      "\u001b[0;31m---------------------------------------------------------------------------\u001b[0m",
      "\u001b[0;31mKeyboardInterrupt\u001b[0m                         Traceback (most recent call last)",
      "\u001b[0;32m/tmp/ipykernel_586619/2587731447.py\u001b[0m in \u001b[0;36m<module>\u001b[0;34m\u001b[0m\n\u001b[1;32m      9\u001b[0m         \u001b[0maudio_path\u001b[0m \u001b[0;34m=\u001b[0m \u001b[0mos\u001b[0m\u001b[0;34m.\u001b[0m\u001b[0mpath\u001b[0m\u001b[0;34m.\u001b[0m\u001b[0mjoin\u001b[0m\u001b[0;34m(\u001b[0m\u001b[0mPATH_AUDIO\u001b[0m\u001b[0;34m,\u001b[0m \u001b[0md\u001b[0m\u001b[0;34m,\u001b[0m \u001b[0maud\u001b[0m\u001b[0;34m)\u001b[0m\u001b[0;34m\u001b[0m\u001b[0;34m\u001b[0m\u001b[0m\n\u001b[1;32m     10\u001b[0m         \u001b[0;31m# x,sr=a2n.audio_from_file(audio_path)\u001b[0m\u001b[0;34m\u001b[0m\u001b[0;34m\u001b[0m\u001b[0;34m\u001b[0m\u001b[0m\n\u001b[0;32m---> 11\u001b[0;31m         \u001b[0mx\u001b[0m\u001b[0;34m,\u001b[0m \u001b[0ms\u001b[0m \u001b[0;34m=\u001b[0m \u001b[0mlibrosa\u001b[0m\u001b[0;34m.\u001b[0m\u001b[0mload\u001b[0m\u001b[0;34m(\u001b[0m\u001b[0maudio_path\u001b[0m\u001b[0;34m)\u001b[0m\u001b[0;34m\u001b[0m\u001b[0;34m\u001b[0m\u001b[0m\n\u001b[0m\u001b[1;32m     12\u001b[0m         \u001b[0;31m# x = ((x[:,0] + x[:,1])/2)[:,None]\u001b[0m\u001b[0;34m\u001b[0m\u001b[0;34m\u001b[0m\u001b[0;34m\u001b[0m\u001b[0m\n\u001b[1;32m     13\u001b[0m         \u001b[0mn\u001b[0m \u001b[0;34m=\u001b[0m \u001b[0mhighestPowerof2\u001b[0m\u001b[0;34m(\u001b[0m\u001b[0mx\u001b[0m\u001b[0;34m.\u001b[0m\u001b[0mshape\u001b[0m\u001b[0;34m[\u001b[0m\u001b[0;36m0\u001b[0m\u001b[0;34m]\u001b[0m\u001b[0;34m)\u001b[0m\u001b[0;34m\u001b[0m\u001b[0;34m\u001b[0m\u001b[0m\n",
      "\u001b[0;32m~/anaconda3/envs/SOE_NET/lib/python3.7/site-packages/librosa/util/decorators.py\u001b[0m in \u001b[0;36minner_f\u001b[0;34m(*args, **kwargs)\u001b[0m\n\u001b[1;32m     86\u001b[0m             \u001b[0mextra_args\u001b[0m \u001b[0;34m=\u001b[0m \u001b[0mlen\u001b[0m\u001b[0;34m(\u001b[0m\u001b[0margs\u001b[0m\u001b[0;34m)\u001b[0m \u001b[0;34m-\u001b[0m \u001b[0mlen\u001b[0m\u001b[0;34m(\u001b[0m\u001b[0mall_args\u001b[0m\u001b[0;34m)\u001b[0m\u001b[0;34m\u001b[0m\u001b[0;34m\u001b[0m\u001b[0m\n\u001b[1;32m     87\u001b[0m             \u001b[0;32mif\u001b[0m \u001b[0mextra_args\u001b[0m \u001b[0;34m<=\u001b[0m \u001b[0;36m0\u001b[0m\u001b[0;34m:\u001b[0m\u001b[0;34m\u001b[0m\u001b[0;34m\u001b[0m\u001b[0m\n\u001b[0;32m---> 88\u001b[0;31m                 \u001b[0;32mreturn\u001b[0m \u001b[0mf\u001b[0m\u001b[0;34m(\u001b[0m\u001b[0;34m*\u001b[0m\u001b[0margs\u001b[0m\u001b[0;34m,\u001b[0m \u001b[0;34m**\u001b[0m\u001b[0mkwargs\u001b[0m\u001b[0;34m)\u001b[0m\u001b[0;34m\u001b[0m\u001b[0;34m\u001b[0m\u001b[0m\n\u001b[0m\u001b[1;32m     89\u001b[0m \u001b[0;34m\u001b[0m\u001b[0m\n\u001b[1;32m     90\u001b[0m             \u001b[0;31m# extra_args > 0\u001b[0m\u001b[0;34m\u001b[0m\u001b[0;34m\u001b[0m\u001b[0;34m\u001b[0m\u001b[0m\n",
      "\u001b[0;32m~/anaconda3/envs/SOE_NET/lib/python3.7/site-packages/librosa/core/audio.py\u001b[0m in \u001b[0;36mload\u001b[0;34m(path, sr, mono, offset, duration, dtype, res_type)\u001b[0m\n\u001b[1;32m    156\u001b[0m     \"\"\"\n\u001b[1;32m    157\u001b[0m \u001b[0;34m\u001b[0m\u001b[0m\n\u001b[0;32m--> 158\u001b[0;31m     \u001b[0;32mif\u001b[0m \u001b[0misinstance\u001b[0m\u001b[0;34m(\u001b[0m\u001b[0mpath\u001b[0m\u001b[0;34m,\u001b[0m \u001b[0mtuple\u001b[0m\u001b[0;34m(\u001b[0m\u001b[0maudioread\u001b[0m\u001b[0;34m.\u001b[0m\u001b[0mavailable_backends\u001b[0m\u001b[0;34m(\u001b[0m\u001b[0;34m)\u001b[0m\u001b[0;34m)\u001b[0m\u001b[0;34m)\u001b[0m\u001b[0;34m:\u001b[0m\u001b[0;34m\u001b[0m\u001b[0;34m\u001b[0m\u001b[0m\n\u001b[0m\u001b[1;32m    159\u001b[0m         \u001b[0;31m# Force the audioread loader if we have a reader object already\u001b[0m\u001b[0;34m\u001b[0m\u001b[0;34m\u001b[0m\u001b[0;34m\u001b[0m\u001b[0m\n\u001b[1;32m    160\u001b[0m         \u001b[0my\u001b[0m\u001b[0;34m,\u001b[0m \u001b[0msr_native\u001b[0m \u001b[0;34m=\u001b[0m \u001b[0m__audioread_load\u001b[0m\u001b[0;34m(\u001b[0m\u001b[0mpath\u001b[0m\u001b[0;34m,\u001b[0m \u001b[0moffset\u001b[0m\u001b[0;34m,\u001b[0m \u001b[0mduration\u001b[0m\u001b[0;34m,\u001b[0m \u001b[0mdtype\u001b[0m\u001b[0;34m)\u001b[0m\u001b[0;34m\u001b[0m\u001b[0;34m\u001b[0m\u001b[0m\n",
      "\u001b[0;32m~/anaconda3/envs/SOE_NET/lib/python3.7/site-packages/audioread/__init__.py\u001b[0m in \u001b[0;36mavailable_backends\u001b[0;34m()\u001b[0m\n\u001b[1;32m     69\u001b[0m \u001b[0;34m\u001b[0m\u001b[0m\n\u001b[1;32m     70\u001b[0m     \u001b[0;31m# Core Audio.\u001b[0m\u001b[0;34m\u001b[0m\u001b[0;34m\u001b[0m\u001b[0;34m\u001b[0m\u001b[0m\n\u001b[0;32m---> 71\u001b[0;31m     \u001b[0;32mif\u001b[0m \u001b[0m_ca_available\u001b[0m\u001b[0;34m(\u001b[0m\u001b[0;34m)\u001b[0m\u001b[0;34m:\u001b[0m\u001b[0;34m\u001b[0m\u001b[0;34m\u001b[0m\u001b[0m\n\u001b[0m\u001b[1;32m     72\u001b[0m         \u001b[0;32mfrom\u001b[0m \u001b[0;34m.\u001b[0m \u001b[0;32mimport\u001b[0m \u001b[0mmacca\u001b[0m\u001b[0;34m\u001b[0m\u001b[0;34m\u001b[0m\u001b[0m\n\u001b[1;32m     73\u001b[0m         \u001b[0mresult\u001b[0m\u001b[0;34m.\u001b[0m\u001b[0mappend\u001b[0m\u001b[0;34m(\u001b[0m\u001b[0mmacca\u001b[0m\u001b[0;34m.\u001b[0m\u001b[0mExtAudioFile\u001b[0m\u001b[0;34m)\u001b[0m\u001b[0;34m\u001b[0m\u001b[0;34m\u001b[0m\u001b[0m\n",
      "\u001b[0;32m~/anaconda3/envs/SOE_NET/lib/python3.7/site-packages/audioread/__init__.py\u001b[0m in \u001b[0;36m_ca_available\u001b[0;34m()\u001b[0m\n\u001b[1;32m     47\u001b[0m     \"\"\"\n\u001b[1;32m     48\u001b[0m     \u001b[0;32mimport\u001b[0m \u001b[0mctypes\u001b[0m\u001b[0;34m.\u001b[0m\u001b[0mutil\u001b[0m\u001b[0;34m\u001b[0m\u001b[0;34m\u001b[0m\u001b[0m\n\u001b[0;32m---> 49\u001b[0;31m     \u001b[0mlib\u001b[0m \u001b[0;34m=\u001b[0m \u001b[0mctypes\u001b[0m\u001b[0;34m.\u001b[0m\u001b[0mutil\u001b[0m\u001b[0;34m.\u001b[0m\u001b[0mfind_library\u001b[0m\u001b[0;34m(\u001b[0m\u001b[0;34m'AudioToolbox'\u001b[0m\u001b[0;34m)\u001b[0m\u001b[0;34m\u001b[0m\u001b[0;34m\u001b[0m\u001b[0m\n\u001b[0m\u001b[1;32m     50\u001b[0m     \u001b[0;32mreturn\u001b[0m \u001b[0mlib\u001b[0m \u001b[0;32mis\u001b[0m \u001b[0;32mnot\u001b[0m \u001b[0;32mNone\u001b[0m\u001b[0;34m\u001b[0m\u001b[0;34m\u001b[0m\u001b[0m\n\u001b[1;32m     51\u001b[0m \u001b[0;34m\u001b[0m\u001b[0m\n",
      "\u001b[0;32m~/anaconda3/envs/SOE_NET/lib/python3.7/ctypes/util.py\u001b[0m in \u001b[0;36mfind_library\u001b[0;34m(name)\u001b[0m\n\u001b[1;32m    348\u001b[0m             \u001b[0;32melse\u001b[0m\u001b[0;34m:\u001b[0m\u001b[0;34m\u001b[0m\u001b[0;34m\u001b[0m\u001b[0m\n\u001b[1;32m    349\u001b[0m                 \u001b[0;32mreturn\u001b[0m \u001b[0m_findLib_prefix\u001b[0m\u001b[0;34m(\u001b[0m\u001b[0mname\u001b[0m\u001b[0;34m)\u001b[0m \u001b[0;32mor\u001b[0m\u001b[0;31m \u001b[0m\u001b[0;31m\\\u001b[0m\u001b[0;34m\u001b[0m\u001b[0;34m\u001b[0m\u001b[0m\n\u001b[0;32m--> 350\u001b[0;31m                        \u001b[0m_findSoname_ldconfig\u001b[0m\u001b[0;34m(\u001b[0m\u001b[0mname\u001b[0m\u001b[0;34m)\u001b[0m \u001b[0;32mor\u001b[0m\u001b[0;31m \u001b[0m\u001b[0;31m\\\u001b[0m\u001b[0;34m\u001b[0m\u001b[0;34m\u001b[0m\u001b[0m\n\u001b[0m\u001b[1;32m    351\u001b[0m                        \u001b[0m_get_soname\u001b[0m\u001b[0;34m(\u001b[0m\u001b[0m_findLib_gcc\u001b[0m\u001b[0;34m(\u001b[0m\u001b[0mname\u001b[0m\u001b[0;34m)\u001b[0m \u001b[0;32mor\u001b[0m \u001b[0m_findLib_ld\u001b[0m\u001b[0;34m(\u001b[0m\u001b[0mname\u001b[0m\u001b[0;34m)\u001b[0m\u001b[0;34m)\u001b[0m\u001b[0;34m\u001b[0m\u001b[0;34m\u001b[0m\u001b[0m\n\u001b[1;32m    352\u001b[0m \u001b[0;34m\u001b[0m\u001b[0m\n",
      "\u001b[0;32m~/anaconda3/envs/SOE_NET/lib/python3.7/ctypes/util.py\u001b[0m in \u001b[0;36m_findSoname_ldconfig\u001b[0;34m(name)\u001b[0m\n\u001b[1;32m    292\u001b[0m                                       \u001b[0mstderr\u001b[0m\u001b[0;34m=\u001b[0m\u001b[0msubprocess\u001b[0m\u001b[0;34m.\u001b[0m\u001b[0mDEVNULL\u001b[0m\u001b[0;34m,\u001b[0m\u001b[0;34m\u001b[0m\u001b[0;34m\u001b[0m\u001b[0m\n\u001b[1;32m    293\u001b[0m                                       \u001b[0mstdout\u001b[0m\u001b[0;34m=\u001b[0m\u001b[0msubprocess\u001b[0m\u001b[0;34m.\u001b[0m\u001b[0mPIPE\u001b[0m\u001b[0;34m,\u001b[0m\u001b[0;34m\u001b[0m\u001b[0;34m\u001b[0m\u001b[0m\n\u001b[0;32m--> 294\u001b[0;31m                                       env={'LC_ALL': 'C', 'LANG': 'C'}) as p:\n\u001b[0m\u001b[1;32m    295\u001b[0m                     \u001b[0mres\u001b[0m \u001b[0;34m=\u001b[0m \u001b[0mre\u001b[0m\u001b[0;34m.\u001b[0m\u001b[0msearch\u001b[0m\u001b[0;34m(\u001b[0m\u001b[0mregex\u001b[0m\u001b[0;34m,\u001b[0m \u001b[0mp\u001b[0m\u001b[0;34m.\u001b[0m\u001b[0mstdout\u001b[0m\u001b[0;34m.\u001b[0m\u001b[0mread\u001b[0m\u001b[0;34m(\u001b[0m\u001b[0;34m)\u001b[0m\u001b[0;34m)\u001b[0m\u001b[0;34m\u001b[0m\u001b[0;34m\u001b[0m\u001b[0m\n\u001b[1;32m    296\u001b[0m                     \u001b[0;32mif\u001b[0m \u001b[0mres\u001b[0m\u001b[0;34m:\u001b[0m\u001b[0;34m\u001b[0m\u001b[0;34m\u001b[0m\u001b[0m\n",
      "\u001b[0;32m~/anaconda3/envs/SOE_NET/lib/python3.7/subprocess.py\u001b[0m in \u001b[0;36m__init__\u001b[0;34m(self, args, bufsize, executable, stdin, stdout, stderr, preexec_fn, close_fds, shell, cwd, env, universal_newlines, startupinfo, creationflags, restore_signals, start_new_session, pass_fds, encoding, errors, text)\u001b[0m\n\u001b[1;32m    798\u001b[0m                                 \u001b[0mc2pread\u001b[0m\u001b[0;34m,\u001b[0m \u001b[0mc2pwrite\u001b[0m\u001b[0;34m,\u001b[0m\u001b[0;34m\u001b[0m\u001b[0;34m\u001b[0m\u001b[0m\n\u001b[1;32m    799\u001b[0m                                 \u001b[0merrread\u001b[0m\u001b[0;34m,\u001b[0m \u001b[0merrwrite\u001b[0m\u001b[0;34m,\u001b[0m\u001b[0;34m\u001b[0m\u001b[0;34m\u001b[0m\u001b[0m\n\u001b[0;32m--> 800\u001b[0;31m                                 restore_signals, start_new_session)\n\u001b[0m\u001b[1;32m    801\u001b[0m         \u001b[0;32mexcept\u001b[0m\u001b[0;34m:\u001b[0m\u001b[0;34m\u001b[0m\u001b[0;34m\u001b[0m\u001b[0m\n\u001b[1;32m    802\u001b[0m             \u001b[0;31m# Cleanup if the child failed starting.\u001b[0m\u001b[0;34m\u001b[0m\u001b[0;34m\u001b[0m\u001b[0;34m\u001b[0m\u001b[0m\n",
      "\u001b[0;32m~/anaconda3/envs/SOE_NET/lib/python3.7/subprocess.py\u001b[0m in \u001b[0;36m_execute_child\u001b[0;34m(self, args, executable, preexec_fn, close_fds, pass_fds, cwd, env, startupinfo, creationflags, shell, p2cread, p2cwrite, c2pread, c2pwrite, errread, errwrite, restore_signals, start_new_session)\u001b[0m\n\u001b[1;32m   1480\u001b[0m                             \u001b[0merrread\u001b[0m\u001b[0;34m,\u001b[0m \u001b[0merrwrite\u001b[0m\u001b[0;34m,\u001b[0m\u001b[0;34m\u001b[0m\u001b[0;34m\u001b[0m\u001b[0m\n\u001b[1;32m   1481\u001b[0m                             \u001b[0merrpipe_read\u001b[0m\u001b[0;34m,\u001b[0m \u001b[0merrpipe_write\u001b[0m\u001b[0;34m,\u001b[0m\u001b[0;34m\u001b[0m\u001b[0;34m\u001b[0m\u001b[0m\n\u001b[0;32m-> 1482\u001b[0;31m                             restore_signals, start_new_session, preexec_fn)\n\u001b[0m\u001b[1;32m   1483\u001b[0m                     \u001b[0mself\u001b[0m\u001b[0;34m.\u001b[0m\u001b[0m_child_created\u001b[0m \u001b[0;34m=\u001b[0m \u001b[0;32mTrue\u001b[0m\u001b[0;34m\u001b[0m\u001b[0;34m\u001b[0m\u001b[0m\n\u001b[1;32m   1484\u001b[0m                 \u001b[0;32mfinally\u001b[0m\u001b[0;34m:\u001b[0m\u001b[0;34m\u001b[0m\u001b[0;34m\u001b[0m\u001b[0m\n",
      "\u001b[0;31mKeyboardInterrupt\u001b[0m: "
     ]
    }
   ],
   "source": [
    "import os\n",
    "PATH_AUDIO = \"/home/eftekhar/Documents/Databases/AVDT_backup/Audios\"\n",
    "for d in os.listdir(PATH_AUDIO):\n",
    "#     classes.append(d)\n",
    "    audios = os.listdir(os.path.join(PATH_AUDIO, d))\n",
    "#     m = min(100, len(audios))\n",
    "    for aud in os.listdir(os.path.join(PATH_AUDIO, d))[:98]:\n",
    "        print(d)\n",
    "        audio_path = os.path.join(PATH_AUDIO, d, aud)\n",
    "        # x,sr=a2n.audio_from_file(audio_path)\n",
    "        x, s = librosa.load(audio_path)\n",
    "        # x = ((x[:,0] + x[:,1])/2)[:,None]\n",
    "        n = highestPowerof2(x.shape[0])\n",
    "        x = x[x.shape[0] // 2 - n // 2 : x.shape[0] // 2 + n // 2]"
   ]
  },
  {
   "cell_type": "code",
   "execution_count": 51,
   "id": "4cc9089f",
   "metadata": {},
   "outputs": [
    {
     "name": "stderr",
     "output_type": "stream",
     "text": [
      "/home/eftekhar/anaconda3/envs/SOE_NET/lib/python3.7/site-packages/librosa/util/decorators.py:88: UserWarning: PySoundFile failed. Trying audioread instead.\n",
      "  return f(*args, **kwargs)\n"
     ]
    }
   ],
   "source": [
    "import librosa   \n",
    "import numpy as np\n",
    "import tensorflow as tf\n",
    "from SOE_NET_1D import conv1d\n",
    "import configure as cfg\n",
    "import init_SOE_NET as init_net\n",
    "import math\n",
    "from util import highestPowerof2\n",
    "\n",
    "tf.compat.v1.enable_eager_execution()\n",
    "\n",
    "\n",
    "y, s = librosa.load(PATH)"
   ]
  },
  {
   "cell_type": "code",
   "execution_count": 5,
   "id": "f3732baa",
   "metadata": {},
   "outputs": [
    {
     "data": {
      "text/plain": [
       "(285768,)"
      ]
     },
     "execution_count": 5,
     "metadata": {},
     "output_type": "execute_result"
    }
   ],
   "source": [
    "y = librosa.resample(y, orig_sr=s, target_sr=2*s)\n",
    "y.shape"
   ]
  },
  {
   "cell_type": "code",
   "execution_count": 6,
   "id": "72aad2e5",
   "metadata": {},
   "outputs": [],
   "source": [
    "x = y"
   ]
  },
  {
   "cell_type": "code",
   "execution_count": 8,
   "id": "fd382a9b",
   "metadata": {},
   "outputs": [],
   "source": [
    "n = highestPowerof2(x.shape[0])\n",
    "x = x[x.shape[0] // 2 - n // 2 : x.shape[0] // 2 + n // 2]\n",
    "vol = tf.constant(x[None,:,None], dtype=tf.float32)"
   ]
  },
  {
   "cell_type": "code",
   "execution_count": 9,
   "id": "5172a178",
   "metadata": {},
   "outputs": [
    {
     "data": {
      "text/plain": [
       "TensorShape([Dimension(1), Dimension(262144), Dimension(1)])"
      ]
     },
     "execution_count": 9,
     "metadata": {},
     "output_type": "execute_result"
    }
   ],
   "source": [
    "vol.shape"
   ]
  },
  {
   "cell_type": "code",
   "execution_count": null,
   "id": "eb1fd8c8",
   "metadata": {},
   "outputs": [],
   "source": []
  },
  {
   "cell_type": "code",
   "execution_count": 9,
   "id": "a0b4bc5d",
   "metadata": {},
   "outputs": [
    {
     "data": {
      "text/plain": [
       "(142884,)"
      ]
     },
     "execution_count": 9,
     "metadata": {},
     "output_type": "execute_result"
    }
   ],
   "source": [
    "y.shape"
   ]
  },
  {
   "cell_type": "code",
   "execution_count": 53,
   "id": "f6cbbf84",
   "metadata": {},
   "outputs": [],
   "source": [
    "gau_filter = init_net.initSeparableFilters('basis', cfg.FILTER_TAPS, filter_type=\"G3\")"
   ]
  },
  {
   "cell_type": "code",
   "execution_count": 63,
   "id": "8d8fb1d9",
   "metadata": {},
   "outputs": [],
   "source": [
    "n = 2**(21)\n",
    "delta = [0] * n\n",
    "delta[n//2] = 1\n",
    "vol = tf.constant(delta, dtype=tf.float32)[None, :, None]"
   ]
  },
  {
   "cell_type": "code",
   "execution_count": null,
   "id": "766ecd50",
   "metadata": {},
   "outputs": [],
   "source": []
  },
  {
   "cell_type": "code",
   "execution_count": 69,
   "id": "a0437b97",
   "metadata": {},
   "outputs": [],
   "source": [
    "def SC1D_non_int_fac(name, in_data, basis, down_fac, num_scale):\n",
    "    all_scales = []\n",
    "    \n",
    "    all_scales.append(conv1d('G_a_scale{}'.format(0), in_data, basis[0,:]))\n",
    "    \n",
    "    in_data_np = np.squeeze(in_data.numpy())\n",
    "    n = in_data_np.shape[0]\n",
    "    for i in range(1, num_scale + 1):\n",
    "        resample_rate = cfg.ORIGINAL_SAMPLING_RATE // (down_fac ** i)\n",
    "        x = librosa.resample(in_data_np, orig_sr = cfg.ORIGINAL_SAMPLING_RATE, target_sr = resample_rate)\n",
    "        x = tf.constant(x[None,:,None], dtype=tf.float32)\n",
    "        x = conv1d('G_a_scale{}'.format(i), x, basis[0,:])\n",
    "        x = np.squeeze(x.numpy())       \n",
    "        x = librosa.resample(x, orig_sr = resample_rate, target_sr = cfg.ORIGINAL_SAMPLING_RATE) \n",
    "        x = tf.constant(x[None,:,None], dtype=tf.float32)\n",
    "#         x = x / cfg.MULTI_SCALING_NORM_FACTORS[i]\n",
    "#         x = x[:, x.shape[1] // 2 - n // 2 : x.shape[1] // 2 + n // 2, :]\n",
    "        all_scales.append(x)\n",
    "        \n",
    "#     max_len = max([x.get_shape().as_list()[1] for x in all_scales])\n",
    "#     for \n",
    "    \n",
    "    \n",
    "        print(x.shape)\n",
    "        print(i)\n",
    "#     return tf.concat(axis=-1, values=all_scales, name='concatScales')\n",
    "    return all_scales"
   ]
  },
  {
   "cell_type": "code",
   "execution_count": 24,
   "id": "c8b16fb5",
   "metadata": {},
   "outputs": [],
   "source": [
    "vol = tf.constant(y[None,:,None], dtype=tf.float32)"
   ]
  },
  {
   "cell_type": "code",
   "execution_count": 32,
   "id": "c6909cb2",
   "metadata": {},
   "outputs": [
    {
     "data": {
      "text/plain": [
       "131072"
      ]
     },
     "execution_count": 32,
     "metadata": {},
     "output_type": "execute_result"
    }
   ],
   "source": [
    "2**17"
   ]
  },
  {
   "cell_type": "code",
   "execution_count": 70,
   "id": "bee13b77",
   "metadata": {},
   "outputs": [
    {
     "name": "stdout",
     "output_type": "stream",
     "text": [
      "(1, 2097153, 1)\n",
      "1\n",
      "(1, 2097153, 1)\n",
      "2\n",
      "(1, 2097155, 1)\n",
      "3\n",
      "(1, 2097155, 1)\n",
      "4\n",
      "(1, 2097155, 1)\n",
      "5\n",
      "(1, 2097159, 1)\n",
      "6\n",
      "(1, 2097162, 1)\n",
      "7\n",
      "(1, 2097167, 1)\n",
      "8\n",
      "(1, 2097173, 1)\n",
      "9\n",
      "(1, 2097183, 1)\n",
      "10\n",
      "(1, 2097195, 1)\n",
      "11\n",
      "(1, 2097186, 1)\n",
      "12\n",
      "(1, 2097200, 1)\n",
      "13\n",
      "(1, 2097186, 1)\n",
      "14\n",
      "(1, 2097302, 1)\n",
      "15\n",
      "(1, 2097314, 1)\n",
      "16\n",
      "(1, 2097323, 1)\n",
      "17\n",
      "(1, 2097314, 1)\n",
      "18\n",
      "(1, 2097690, 1)\n",
      "19\n",
      "(1, 2097900, 1)\n",
      "20\n",
      "(1, 2097690, 1)\n",
      "21\n",
      "(1, 2099160, 1)\n",
      "22\n",
      "(1, 2097900, 1)\n",
      "23\n",
      "(1, 2099160, 1)\n",
      "24\n",
      "(1, 2102100, 1)\n",
      "25\n"
     ]
    }
   ],
   "source": [
    "conv1 = SC1D_non_int_fac('conv1', vol, gau_filter, math.sqrt(2), 25)"
   ]
  },
  {
   "cell_type": "code",
   "execution_count": null,
   "id": "35f162f9",
   "metadata": {},
   "outputs": [],
   "source": []
  },
  {
   "cell_type": "markdown",
   "id": "3b31ccde",
   "metadata": {},
   "source": [
    "# Confusion matrix\n"
   ]
  },
  {
   "cell_type": "code",
   "execution_count": 7,
   "id": "b5023f45",
   "metadata": {},
   "outputs": [],
   "source": [
    "import numpy as np\n",
    "from sklearn.metrics.pairwise import cosine_similarity\n",
    "import pickle\n",
    "import pandas as pd\n",
    "from scipy import stats\n",
    "from sklearn.metrics import confusion_matrix\n",
    "import seaborn as sn\n",
    "import matplotlib.pyplot as plt"
   ]
  },
  {
   "cell_type": "code",
   "execution_count": 8,
   "id": "bb4fec81",
   "metadata": {},
   "outputs": [],
   "source": [
    "with open(\"20classes\", \"rb\") as f:   # Unpickling\n",
    "    classes = pickle.load(f)"
   ]
  },
  {
   "cell_type": "code",
   "execution_count": 9,
   "id": "ef658659",
   "metadata": {},
   "outputs": [],
   "source": [
    "outputs = np.load(\"results_2layer_numscale20_downfac_root_2_no_norm1_librosa_44100_one_path_kaiser_fast_20_classes.npy\")"
   ]
  },
  {
   "cell_type": "code",
   "execution_count": 10,
   "id": "71eedd39",
   "metadata": {},
   "outputs": [],
   "source": [
    "sim_pairs = cosine_similarity(outputs)"
   ]
  },
  {
   "cell_type": "code",
   "execution_count": 11,
   "id": "e44926a4",
   "metadata": {},
   "outputs": [],
   "source": [
    "sorted_sim = np.argsort(sim_pairs, axis=1)"
   ]
  },
  {
   "cell_type": "code",
   "execution_count": 12,
   "id": "e899bdaa",
   "metadata": {},
   "outputs": [
    {
     "data": {
      "text/plain": [
       "0.5821428571428572"
      ]
     },
     "execution_count": 12,
     "metadata": {},
     "output_type": "execute_result"
    }
   ],
   "source": [
    "NN = sorted_sim[:,-2].tolist()\n",
    "c = 0\n",
    "for i, s in enumerate(NN):\n",
    "    if s // 98 == i // 98:\n",
    "        c = c + 1\n",
    "c / len(NN)        "
   ]
  },
  {
   "cell_type": "code",
   "execution_count": 13,
   "id": "e75a0c8e",
   "metadata": {},
   "outputs": [],
   "source": [
    "labels = [n // 98 for n in NN]"
   ]
  },
  {
   "cell_type": "code",
   "execution_count": 14,
   "id": "c393d768",
   "metadata": {},
   "outputs": [],
   "source": [
    "ground_truth = [i // 98 for i in range(len(labels))]"
   ]
  },
  {
   "cell_type": "code",
   "execution_count": 15,
   "id": "6aec75ea",
   "metadata": {},
   "outputs": [],
   "source": [
    "conf_mat = confusion_matrix(ground_truth, labels, normalize='true')"
   ]
  },
  {
   "cell_type": "code",
   "execution_count": 16,
   "id": "3979ddb9",
   "metadata": {},
   "outputs": [
    {
     "data": {
      "text/plain": [
       "<AxesSubplot:>"
      ]
     },
     "execution_count": 16,
     "metadata": {},
     "output_type": "execute_result"
    },
    {
     "data": {
      "image/png": "[encoded data removed]",
      "text/plain": [
       "<Figure size 1440x720 with 2 Axes>"
      ]
     },
     "metadata": {
      "needs_background": "light"
     },
     "output_type": "display_data"
    }
   ],
   "source": [
    "df_cm = pd.DataFrame(conf_mat, index = classes, columns = classes)\n",
    "plt.figure(figsize = (20,10))\n",
    "sn.heatmap(df_cm, annot=True)"
   ]
  },
  {
   "cell_type": "code",
   "execution_count": 40,
   "id": "3a402c8e",
   "metadata": {},
   "outputs": [],
   "source": [
    "conf_mat = confusion_matrix(ground_truth, labels, normalize='pred')"
   ]
  },
  {
   "cell_type": "code",
   "execution_count": 41,
   "id": "c3dfb5e2",
   "metadata": {},
   "outputs": [
    {
     "data": {
      "text/plain": [
       "<AxesSubplot:>"
      ]
     },
     "execution_count": 41,
     "metadata": {},
     "output_type": "execute_result"
    },
    {
     "data": {
      "image/png": "[encoded data removed]",
      "text/plain": [
       "<Figure size 1440x720 with 2 Axes>"
      ]
     },
     "metadata": {
      "needs_background": "light"
     },
     "output_type": "display_data"
    }
   ],
   "source": [
    "df_cm = pd.DataFrame(conf_mat, index = classes, columns = classes)\n",
    "plt.figure(figsize = (20,10))\n",
    "sn.heatmap(df_cm, annot=True)"
   ]
  },
  {
   "cell_type": "code",
   "execution_count": null,
   "id": "23504406",
   "metadata": {},
   "outputs": [],
   "source": []
  },
  {
   "cell_type": "markdown",
   "id": "b45c55bb",
   "metadata": {},
   "source": [
    "# similar pairs between classes"
   ]
  },
  {
   "cell_type": "code",
   "execution_count": 15,
   "id": "3e989613",
   "metadata": {},
   "outputs": [],
   "source": [
    "import numpy as np\n",
    "from sklearn.metrics.pairwise import cosine_similarity\n",
    "import pickle\n",
    "import pandas as pd\n",
    "from scipy import stats\n",
    "from sklearn.metrics.pairwise import cosine_similarity\n",
    "import os"
   ]
  },
  {
   "cell_type": "code",
   "execution_count": 16,
   "id": "137ba2d0",
   "metadata": {},
   "outputs": [],
   "source": [
    "with open(\"classes\", \"rb\") as f:   # Unpickling\n",
    "    classes = pickle.load(f)"
   ]
  },
  {
   "cell_type": "code",
   "execution_count": 69,
   "id": "121630a7",
   "metadata": {},
   "outputs": [],
   "source": [
    "outputs = np.load(\"results_numscale20_downfac_root_2_no_norm_librosa_44100.npy\")"
   ]
  },
  {
   "cell_type": "code",
   "execution_count": 73,
   "id": "ded5e1c9",
   "metadata": {},
   "outputs": [],
   "source": [
    "VID_PER_CLASS = 98\n",
    "C1 = 'car_traffic'\n",
    "C2 = 'rushing river'"
   ]
  },
  {
   "cell_type": "code",
   "execution_count": 74,
   "id": "88bc3b76",
   "metadata": {},
   "outputs": [],
   "source": [
    "c1_index = classes.index(C1)\n",
    "c2_index = classes.index(C2)"
   ]
  },
  {
   "cell_type": "code",
   "execution_count": 75,
   "id": "0e2919ac",
   "metadata": {},
   "outputs": [],
   "source": [
    "c1_outputs = outputs[c1_index * VID_PER_CLASS: (c1_index + 1) * VID_PER_CLASS]\n",
    "c2_outputs = outputs[c2_index * VID_PER_CLASS: (c2_index + 1) * VID_PER_CLASS]"
   ]
  },
  {
   "cell_type": "code",
   "execution_count": null,
   "id": "6bafb4dd",
   "metadata": {},
   "outputs": [],
   "source": []
  },
  {
   "cell_type": "code",
   "execution_count": 76,
   "id": "ef5f07e2",
   "metadata": {},
   "outputs": [],
   "source": [
    "sim_pairs = cosine_similarity(c1_outputs, c2_outputs)"
   ]
  },
  {
   "cell_type": "code",
   "execution_count": 77,
   "id": "c8ae3bf9",
   "metadata": {},
   "outputs": [],
   "source": [
    "x, y = np.where(sim_pairs == np.amax(sim_pairs))"
   ]
  },
  {
   "cell_type": "code",
   "execution_count": 78,
   "id": "198b4f66",
   "metadata": {},
   "outputs": [],
   "source": [
    "x, y = x.item(), y.item()"
   ]
  },
  {
   "cell_type": "code",
   "execution_count": 83,
   "id": "56ad9b21",
   "metadata": {},
   "outputs": [
    {
     "name": "stdout",
     "output_type": "stream",
     "text": [
      "carTraffic (91).mp3\n",
      "vegetation_192.mp3\n"
     ]
    }
   ],
   "source": [
    "PATH_AUDIO = \"/home/eftekhar/Documents/Databases/AVDT_backup/Audios\"\n",
    "\n",
    "d1 = os.path.join(PATH_AUDIO, C1)\n",
    "d2 = os.path.join(PATH_AUDIO, C2)\n",
    "\n",
    "print(os.listdir(d1)[x])\n",
    "print(os.listdir(d2)[y])"
   ]
  },
  {
   "cell_type": "code",
   "execution_count": 26,
   "id": "df22ba5b",
   "metadata": {},
   "outputs": [
    {
     "data": {
      "text/plain": [
       "0.99908173"
      ]
     },
     "execution_count": 26,
     "metadata": {},
     "output_type": "execute_result"
    }
   ],
   "source": [
    "np.amax(sim_pairs)"
   ]
  },
  {
   "cell_type": "code",
   "execution_count": 29,
   "id": "31b6d346",
   "metadata": {},
   "outputs": [
    {
     "data": {
      "text/plain": [
       "array([5.0222803e+02, 8.0545526e+02, 6.7644128e+02, 7.8915576e+02,\n",
       "       8.7804480e+02, 1.0810317e+03, 1.0933525e+03, 7.7701550e+02,\n",
       "       8.6268250e+02, 2.3914644e+03, 7.1125869e+03, 1.7462953e+04,\n",
       "       2.9125637e+04, 2.6482076e+04, 1.1896379e+04, 2.1877258e+03,\n",
       "       1.3525087e+02, 1.0946440e+01, 2.9483135e+00, 1.5026824e+00,\n",
       "       1.1841532e+00, 5.0220438e+02, 8.0468396e+02, 6.7434033e+02,\n",
       "       7.8592358e+02, 8.7990308e+02, 1.0805149e+03, 1.1007856e+03,\n",
       "       7.9167352e+02, 8.8707300e+02, 2.5101299e+03, 7.4077070e+03,\n",
       "       1.8007570e+04, 2.9579391e+04, 2.6650094e+04, 1.2316391e+04,\n",
       "       2.3004504e+03, 1.3621967e+02, 1.1083696e+01, 2.6403468e+00,\n",
       "       1.2390233e+00, 1.0565817e+00], dtype=float32)"
      ]
     },
     "execution_count": 29,
     "metadata": {},
     "output_type": "execute_result"
    }
   ],
   "source": [
    "c1_outputs[x,:]"
   ]
  },
  {
   "cell_type": "code",
   "execution_count": null,
   "id": "9560c9be",
   "metadata": {},
   "outputs": [],
   "source": []
  },
  {
   "cell_type": "code",
   "execution_count": 79,
   "id": "88def2f5",
   "metadata": {},
   "outputs": [
    {
     "data": {
      "image/png": "[encoded data removed]",
      "text/plain": [
       "<Figure size 1440x216 with 1 Axes>"
      ]
     },
     "metadata": {
      "needs_background": "light"
     },
     "output_type": "display_data"
    }
   ],
   "source": [
    "import matplotlib.pyplot as plt\n",
    "from matplotlib.pyplot import figure\n",
    "import matplotlib.pyplot as plt\n",
    "plt.rcParams[\"figure.figsize\"] = (20,3)\n",
    "x_range = c1_outputs[x,:].shape[0]\n",
    "y1, y2 =  c1_outputs[x,:], c2_outputs[y,:]\n",
    "x = np.arange(x_range)\n",
    "fig, ax = plt.subplots()\n",
    "ax.bar(x - 0.25, y1, width=0.25, edgecolor=\"white\")\n",
    "ax.bar(x + 0.25, y2, width=0.25, edgecolor=\"white\")\n",
    "ax.set(xlim=(0, max(x)),xticks=np.arange(1, max(x)))\n",
    "plt.show()"
   ]
  },
  {
   "cell_type": "code",
   "execution_count": null,
   "id": "8ce3e78c",
   "metadata": {},
   "outputs": [],
   "source": []
  },
  {
   "cell_type": "markdown",
   "id": "3c73cc65",
   "metadata": {},
   "source": [
    "# Modifiying conv layer"
   ]
  },
  {
   "cell_type": "code",
   "execution_count": 1,
   "id": "cb9f09dd",
   "metadata": {},
   "outputs": [],
   "source": [
    "def SC1D_non_int_fac(name, in_data, basis, down_fac, num_scale):\n",
    "    all_scales = []\n",
    "    \n",
    "    all_scales.append(conv1d('G_a_scale{}'.format(0), in_data, basis[0,:]))\n",
    "    \n",
    "    in_data_np = np.squeeze(in_data.numpy())\n",
    "    n = in_data_np.shape[0]\n",
    "    for i in range(1, num_scale + 1):\n",
    "        resample_rate = cfg.ORIGINAL_SAMPLING_RATE // (down_fac ** i)\n",
    "        x = librosa.resample(in_data_np, orig_sr = cfg.ORIGINAL_SAMPLING_RATE, target_sr = resample_rate)\n",
    "        x = tf.constant(x[None,:,None], dtype=tf.float32)\n",
    "        x = conv1d('G_a_scale{}'.format(i), x, basis[0,:])\n",
    "        x = np.squeeze(x.numpy())       \n",
    "        x = librosa.resample(x, orig_sr = resample_rate, target_sr = cfg.ORIGINAL_SAMPLING_RATE) \n",
    "        x = tf.constant(x[None,:,None], dtype=tf.float32)\n",
    "        # x = x / cfg.MULTI_SCALING_NORM_FACTORS[i]\n",
    "        x = x[:, x.shape[1] // 2 - n // 2 : x.shape[1] // 2 + n // 2, :]\n",
    "        all_scales.append(x)\n",
    "        \n",
    "    return tf.concat(axis=-1, values=all_scales, name='concatScales')\n",
    "\n"
   ]
  },
  {
   "cell_type": "code",
   "execution_count": 2,
   "id": "8051245d",
   "metadata": {},
   "outputs": [],
   "source": [
    "import configure as cfg\n",
    "import tensorflow as tf\n",
    "import numpy as np\n",
    "import init_SOE_NET as init_net\n",
    "from SOE_NET_1D import conv1d\n",
    "import librosa\n",
    "\n",
    "def SC1D(name, in_data, basis, down_fac, num_scale):\n",
    "    all_scales = []\n",
    "    \n",
    "    all_scales.append(conv1d('G_a_scale{}'.format(0), in_data, basis[0,:]))\n",
    "    \n",
    "    in_data_np = in_data.numpy()\n",
    "    n = in_data_np.shape[1]\n",
    "    for i in range(1, num_scale + 1):\n",
    "        resample_rate = cfg.ORIGINAL_SAMPLING_RATE // (down_fac ** i)\n",
    "        x = down_sampling_multi_channels(in_data_np, resample_rate)\n",
    "#         x = librosa.resample(in_data_np, orig_sr = cfg.ORIGINAL_SAMPLING_RATE, target_sr = resample_rate)\n",
    "        x = tf.constant(x, dtype=tf.float32)\n",
    "        x = conv1d('G_a_scale{}'.format(i), x, basis[0,:])\n",
    "        x = x.numpy()       \n",
    "#         x = librosa.resample(x, orig_sr = resample_rate, target_sr = cfg.ORIGINAL_SAMPLING_RATE) \n",
    "        x = up_sampling_multi_channels(x, resample_rate)\n",
    "        x = tf.constant(x, dtype=tf.float32)\n",
    "        # x = x / cfg.MULTI_SCALING_NORM_FACTORS[i]\n",
    "        x = x[:, x.shape[1] // 2 - n // 2 : x.shape[1] // 2 + n // 2, :]\n",
    "        all_scales.append(x)\n",
    "        \n",
    "    return tf.concat(axis=-1, values=all_scales, name='concatScales')\n",
    "\n"
   ]
  },
  {
   "cell_type": "code",
   "execution_count": 3,
   "id": "161ab8de",
   "metadata": {},
   "outputs": [],
   "source": [
    "def down_sampling_multi_channels(x, resample_rate):\n",
    "    num_channels = x.shape[2]\n",
    "    output = []\n",
    "    for ch in range(num_channels):\n",
    "        output.append(librosa.resample(x[0, :, ch], orig_sr = cfg.ORIGINAL_SAMPLING_RATE, target_sr = resample_rate)[None, :, None])\n",
    "    return np.concatenate(output, axis=2)"
   ]
  },
  {
   "cell_type": "code",
   "execution_count": 4,
   "id": "4b2d26f5",
   "metadata": {},
   "outputs": [],
   "source": [
    "def up_sampling_multi_channels(x, resample_rate):\n",
    "    num_channels = x.shape[2]\n",
    "    output = []\n",
    "    for ch in range(num_channels):\n",
    "        output.append(librosa.resample(x[0, :, ch], orig_sr = resample_rate, target_sr = cfg.ORIGINAL_SAMPLING_RATE)[None, :, None])\n",
    "    return np.concatenate(output, axis=2)"
   ]
  },
  {
   "cell_type": "code",
   "execution_count": 37,
   "id": "b7ffa4a0",
   "metadata": {},
   "outputs": [
    {
     "data": {
      "text/plain": [
       "(1, 262145, 20)"
      ]
     },
     "execution_count": 37,
     "metadata": {},
     "output_type": "execute_result"
    }
   ],
   "source": [
    "import math\n",
    "x = np.random.rand(1, 262144, 20)\n",
    "resample_rate = cfg.ORIGINAL_SAMPLING_RATE // (math.sqrt(2) ** 1)\n",
    "d = down_sampling_multi_channels(x, resample_rate)\n",
    "up_sampling_multi_channels(d, resample_rate).shape"
   ]
  },
  {
   "cell_type": "code",
   "execution_count": 33,
   "id": "0989288c",
   "metadata": {},
   "outputs": [
    {
     "data": {
      "text/plain": [
       "1.4142272957779911"
      ]
     },
     "execution_count": 33,
     "metadata": {},
     "output_type": "execute_result"
    }
   ],
   "source": [
    "262144 / 185362"
   ]
  },
  {
   "cell_type": "code",
   "execution_count": 14,
   "id": "3be68a27",
   "metadata": {},
   "outputs": [
    {
     "name": "stdout",
     "output_type": "stream",
     "text": [
      "--- 3.1563878059387207 seconds ---\n"
     ]
    }
   ],
   "source": [
    "\n",
    "\n",
    "import time\n",
    "start_time = time.time()\n",
    "\n",
    "# tf.compat.v1.enable_eager_execution()\n",
    "\n",
    "vol1 = np.random.rand(1, 262144, 1)\n",
    "vol1 = tf.constant(vol1, dtype=tf.float32)\n",
    "\n",
    "gau_filter = init_net.initSeparableFilters('basis', cfg.FILTER_TAPS, filter_type=\"G3\")\n",
    "\n",
    "\n",
    "conv1 = SC1D('conv1', vol1, gau_filter, cfg.DOWN_SAMPLE_FACTOR, cfg.NUM_SCALES)\n",
    "conv2 = SC1D_non_int_fac('conv1', vol1, gau_filter, cfg.DOWN_SAMPLE_FACTOR, cfg.NUM_SCALES)\n",
    "print(\"--- %s seconds ---\" % (time.time() - start_time))"
   ]
  },
  {
   "cell_type": "code",
   "execution_count": 15,
   "id": "0dd6bbb2",
   "metadata": {},
   "outputs": [
    {
     "data": {
      "text/plain": [
       "<tf.Tensor: id=2515, shape=(), dtype=bool, numpy=True>"
      ]
     },
     "execution_count": 15,
     "metadata": {},
     "output_type": "execute_result"
    }
   ],
   "source": [
    "tf.math.reduce_all(tf.math.equal(conv1,conv2))"
   ]
  },
  {
   "cell_type": "code",
   "execution_count": 3,
   "id": "7a094c66",
   "metadata": {},
   "outputs": [
    {
     "name": "stdout",
     "output_type": "stream",
     "text": [
      "flag\n"
     ]
    },
    {
     "name": "stderr",
     "output_type": "stream",
     "text": [
      "/home/eftekhar/anaconda3/envs/SOE_NET/lib/python3.7/site-packages/librosa/util/decorators.py:88: UserWarning: PySoundFile failed. Trying audioread instead.\n",
      "  return f(*args, **kwargs)\n"
     ]
    },
    {
     "name": "stdout",
     "output_type": "stream",
     "text": [
      "(1, 262144, 1)\n",
      "--- 23.695122480392456 seconds ---\n"
     ]
    }
   ],
   "source": [
    "from SOE_NET_1D import SOE_Net\n",
    "import configure as cfg\n",
    "import init_SOE_NET as init_net\n",
    "import numpy as np\n",
    "import tensorflow as tf\n",
    "from SOE_NET_1D import conv1d\n",
    "from util import highestPowerof2\n",
    "import audio2numpy as a2n\n",
    "import librosa\n",
    "import matplotlib.pyplot as plt       \n",
    "# from SOE_NET_1D import SC1D, TPR, FWR, DivNorm1d, GSP\n",
    "import os\n",
    "from util import bar_plot\n",
    "import pickle\n",
    "\n",
    "import time\n",
    "start_time = time.time()\n",
    "\n",
    "tf.compat.v1.enable_eager_execution()\n",
    "gau_filter = init_net.initSeparableFilters('basis', cfg.FILTER_TAPS, filter_type=\"G3\")\n",
    "\n",
    "PATH_AUDIO = \"/home/eftekhar/Documents/Databases/AVDT_backup/Audios\"\n",
    "\n",
    "classes = []\n",
    "outputs = []\n",
    "for d in os.listdir(PATH_AUDIO):\n",
    "    classes.append(d)\n",
    "    audios = os.listdir(os.path.join(PATH_AUDIO, d))\n",
    "#     m = min(100, len(audios))\n",
    "    for aud in os.listdir(os.path.join(PATH_AUDIO, d))[:98]:\n",
    "        print(d)\n",
    "        audio_path = os.path.join(PATH_AUDIO, d, aud)\n",
    "        # x,sr=a2n.audio_from_file(audio_path)\n",
    "        x, s = librosa.load(audio_path, sr=cfg.ORIGINAL_SAMPLING_RATE)\n",
    "        x = x / np.amax(np.abs(x))\n",
    "        # x = ((x[:,0] + x[:,1])/2)\n",
    "        n = highestPowerof2(x.shape[0])\n",
    "        x = x[x.shape[0] // 2 - n // 2 : x.shape[0] // 2 + n // 2]\n",
    "        vol = tf.constant(x[None,:,None], dtype=tf.float32)\n",
    "        print(vol.shape)\n",
    "        output = SOE_Net(vol, gau_filter)\n",
    "        outputs.append(output.numpy())\n",
    "        break\n",
    "    break\n",
    "print(\"--- %s seconds ---\" % (time.time() - start_time))\n",
    "# np.save(\"results_numscale20_downfac_root_2_no_norm_librosa_44100_apm.npy\", np.concatenate(outputs, axis=0))\n",
    "\n",
    "# with open(\"classes_for_results_numscale10_downfac_2_no_norm_old\", \"wb\") as f:   #Pickling\n",
    "#     pickle.dump(classes, f)\n"
   ]
  },
  {
   "cell_type": "code",
   "execution_count": 3,
   "id": "0e056f13",
   "metadata": {},
   "outputs": [
    {
     "data": {
      "text/plain": [
       "<tf.Tensor: id=1919, shape=(1, 84), dtype=float32, numpy=\n",
       "array([[1.3816388e+02, 6.1273077e+02, 2.0388280e+03, 4.6148975e+03,\n",
       "        8.3173730e+03, 8.8833262e+03, 5.2183145e+03, 2.6735309e+02,\n",
       "        1.8676340e+02, 3.4060382e+02, 1.6393391e+03, 2.8753972e+03,\n",
       "        1.0293870e+03, 6.8859390e+01, 1.3071711e+01, 4.7669318e-01,\n",
       "        1.7829424e-03, 1.0042757e-04, 5.4072210e-05, 2.6403872e-05,\n",
       "        1.2820914e-05, 1.3710889e+02, 6.0438892e+02, 2.0097678e+03,\n",
       "        4.5717959e+03, 8.2561904e+03, 8.8263223e+03, 5.2100952e+03,\n",
       "        2.6491028e+02, 1.6557381e+02, 3.3053159e+02, 1.6470750e+03,\n",
       "        2.8274487e+03, 1.0375059e+03, 7.0095337e+01, 1.3975152e+01,\n",
       "        5.0520623e-01, 6.6116464e-04, 3.1159143e-06, 4.1986601e-07,\n",
       "        2.3786167e-07, 1.9334524e-07, 1.4457812e+02, 6.5830194e+02,\n",
       "        2.0400734e+03, 5.1907588e+03, 7.6289443e+03, 1.0731959e+04,\n",
       "        4.0803203e+03, 2.7877902e+02, 1.8135956e+02, 3.3809039e+02,\n",
       "        1.5894927e+03, 2.8721855e+03, 1.0014702e+03, 6.8337868e+01,\n",
       "        1.2839761e+01, 4.6960866e-01, 1.7681121e-03, 9.4984549e-05,\n",
       "        4.8665977e-05, 2.4631239e-05, 1.2673669e-05, 1.4576222e+02,\n",
       "        6.5622540e+02, 2.0244851e+03, 5.2078125e+03, 7.5348076e+03,\n",
       "        1.0668578e+04, 4.0795400e+03, 2.8285413e+02, 1.6443759e+02,\n",
       "        3.2978549e+02, 1.5966475e+03, 2.8364321e+03, 1.0153052e+03,\n",
       "        6.9228546e+01, 1.3746691e+01, 4.9482042e-01, 6.4978999e-04,\n",
       "        3.3083354e-06, 4.1765242e-07, 2.3487559e-07, 1.9055099e-07]],\n",
       "      dtype=float32)>"
      ]
     },
     "execution_count": 3,
     "metadata": {},
     "output_type": "execute_result"
    }
   ],
   "source": [
    "output"
   ]
  },
  {
   "cell_type": "code",
   "execution_count": 1,
   "id": "74e8c117",
   "metadata": {},
   "outputs": [
    {
     "name": "stderr",
     "output_type": "stream",
     "text": [
      "2022-07-28 22:20:40.428069: I tensorflow/stream_executor/platform/default/dso_loader.cc:44] Successfully opened dynamic library libcuda.so.1\n",
      "2022-07-28 22:20:40.431920: I tensorflow/core/common_runtime/gpu/gpu_device.cc:1618] Found device 0 with properties: \n",
      "name: Quadro P6000 major: 6 minor: 1 memoryClockRate(GHz): 1.645\n",
      "pciBusID: 0000:65:00.0\n",
      "2022-07-28 22:20:40.432082: I tensorflow/stream_executor/platform/default/dso_loader.cc:44] Successfully opened dynamic library libcudart.so.10.0\n",
      "2022-07-28 22:20:40.433062: I tensorflow/stream_executor/platform/default/dso_loader.cc:44] Successfully opened dynamic library libcublas.so.10.0\n",
      "2022-07-28 22:20:40.433906: I tensorflow/stream_executor/platform/default/dso_loader.cc:44] Successfully opened dynamic library libcufft.so.10.0\n",
      "2022-07-28 22:20:40.434127: I tensorflow/stream_executor/platform/default/dso_loader.cc:44] Successfully opened dynamic library libcurand.so.10.0\n",
      "2022-07-28 22:20:40.435183: I tensorflow/stream_executor/platform/default/dso_loader.cc:44] Successfully opened dynamic library libcusolver.so.10.0\n",
      "2022-07-28 22:20:40.436005: I tensorflow/stream_executor/platform/default/dso_loader.cc:44] Successfully opened dynamic library libcusparse.so.10.0\n",
      "2022-07-28 22:20:40.438659: I tensorflow/stream_executor/platform/default/dso_loader.cc:44] Successfully opened dynamic library libcudnn.so.7\n",
      "2022-07-28 22:20:40.438994: I tensorflow/core/common_runtime/gpu/gpu_device.cc:1746] Adding visible gpu devices: 0\n",
      "2022-07-28 22:20:40.439711: I tensorflow/core/platform/cpu_feature_guard.cc:142] Your CPU supports instructions that this TensorFlow binary was not compiled to use: SSE4.1 SSE4.2 AVX AVX2 AVX512F FMA\n",
      "2022-07-28 22:20:40.463080: I tensorflow/core/platform/profile_utils/cpu_utils.cc:94] CPU Frequency: 3699850000 Hz\n",
      "2022-07-28 22:20:40.463695: I tensorflow/compiler/xla/service/service.cc:168] XLA service 0x55619aff8090 initialized for platform Host (this does not guarantee that XLA will be used). Devices:\n",
      "2022-07-28 22:20:40.463717: I tensorflow/compiler/xla/service/service.cc:176]   StreamExecutor device (0): Host, Default Version\n",
      "2022-07-28 22:20:40.464007: I tensorflow/core/common_runtime/gpu/gpu_device.cc:1618] Found device 0 with properties: \n",
      "name: Quadro P6000 major: 6 minor: 1 memoryClockRate(GHz): 1.645\n",
      "pciBusID: 0000:65:00.0\n",
      "2022-07-28 22:20:40.464045: I tensorflow/stream_executor/platform/default/dso_loader.cc:44] Successfully opened dynamic library libcudart.so.10.0\n",
      "2022-07-28 22:20:40.464057: I tensorflow/stream_executor/platform/default/dso_loader.cc:44] Successfully opened dynamic library libcublas.so.10.0\n",
      "2022-07-28 22:20:40.464068: I tensorflow/stream_executor/platform/default/dso_loader.cc:44] Successfully opened dynamic library libcufft.so.10.0\n",
      "2022-07-28 22:20:40.464078: I tensorflow/stream_executor/platform/default/dso_loader.cc:44] Successfully opened dynamic library libcurand.so.10.0\n",
      "2022-07-28 22:20:40.464089: I tensorflow/stream_executor/platform/default/dso_loader.cc:44] Successfully opened dynamic library libcusolver.so.10.0\n",
      "2022-07-28 22:20:40.464099: I tensorflow/stream_executor/platform/default/dso_loader.cc:44] Successfully opened dynamic library libcusparse.so.10.0\n",
      "2022-07-28 22:20:40.464110: I tensorflow/stream_executor/platform/default/dso_loader.cc:44] Successfully opened dynamic library libcudnn.so.7\n",
      "2022-07-28 22:20:40.464360: I tensorflow/core/common_runtime/gpu/gpu_device.cc:1746] Adding visible gpu devices: 0\n",
      "2022-07-28 22:20:40.464391: I tensorflow/stream_executor/platform/default/dso_loader.cc:44] Successfully opened dynamic library libcudart.so.10.0\n",
      "2022-07-28 22:20:40.530401: I tensorflow/core/common_runtime/gpu/gpu_device.cc:1159] Device interconnect StreamExecutor with strength 1 edge matrix:\n",
      "2022-07-28 22:20:40.530421: I tensorflow/core/common_runtime/gpu/gpu_device.cc:1165]      0 \n",
      "2022-07-28 22:20:40.530426: I tensorflow/core/common_runtime/gpu/gpu_device.cc:1178] 0:   N \n",
      "2022-07-28 22:20:40.530920: I tensorflow/core/common_runtime/gpu/gpu_device.cc:1304] Created TensorFlow device (/job:localhost/replica:0/task:0/device:GPU:0 with 21675 MB memory) -> physical GPU (de"
     ]
    }
   ],
   "source": [
    "from SOE_NET_1D import SOE_Net\n",
    "import configure as cfg\n",
    "import init_SOE_NET as init_net\n",
    "import numpy as np\n",
    "import tensorflow as tf\n",
    "from SOE_NET_1D import conv1d\n",
    "from util import highestPowerof2\n",
    "import audio2numpy as a2n\n",
    "import librosa\n",
    "import matplotlib.pyplot as plt       \n",
    "from SOE_NET_1D import SC1D, TPR, FWR, DivNorm1d, GSP, SC1D_MULTI_CH\n",
    "import os\n",
    "from util import bar_plot\n",
    "import pickle\n",
    "\n",
    "tf.compat.v1.enable_eager_execution()\n",
    "gau_filter = init_net.initSeparableFilters('basis', cfg.FILTER_TAPS, filter_type=\"G3\")\n"
   ]
  },
  {
   "cell_type": "code",
   "execution_count": 3,
   "id": "f0dbc8b4",
   "metadata": {},
   "outputs": [
    {
     "name": "stdout",
     "output_type": "stream",
     "text": [
      "--- 6.416281461715698 seconds ---\n"
     ]
    }
   ],
   "source": [
    "vol = np.random.rand(1, 262144, 21)\n",
    "vol = tf.constant(vol, dtype=tf.float32)\n",
    "\n",
    "import time\n",
    "start_time = time.time()\n",
    "\n",
    "vol = SC1D_MULTI_CH('conv1', vol, gau_filter, cfg.DOWN_SAMPLE_FACTOR, cfg.NUM_SCALES)\n",
    "print(\"--- %s seconds ---\" % (time.time() - start_time))"
   ]
  },
  {
   "cell_type": "code",
   "execution_count": 4,
   "id": "dcc2ac21",
   "metadata": {},
   "outputs": [
    {
     "data": {
      "text/plain": [
       "TensorShape([Dimension(1), Dimension(262144), Dimension(441)])"
      ]
     },
     "execution_count": 4,
     "metadata": {},
     "output_type": "execute_result"
    }
   ],
   "source": [
    "vol.shape"
   ]
  },
  {
   "cell_type": "code",
   "execution_count": 6,
   "id": "72c33baf",
   "metadata": {},
   "outputs": [
    {
     "data": {
      "text/plain": [
       "262144"
      ]
     },
     "execution_count": 6,
     "metadata": {},
     "output_type": "execute_result"
    }
   ],
   "source": [
    "2**18"
   ]
  },
  {
   "cell_type": "markdown",
   "id": "06b7f982",
   "metadata": {},
   "source": [
    "# channel wise pooling "
   ]
  },
  {
   "cell_type": "code",
   "execution_count": 13,
   "id": "5ef43679",
   "metadata": {},
   "outputs": [],
   "source": [
    "def CP3D(name, in_data, num_scales, rectification_type):\n",
    "    num_ch = in_data.get_shape().as_list()[-1]\n",
    "    output = []\n",
    "    if rectification_type == 'one_path':\n",
    "        for s in range(num_scales+1):\n",
    "            sliced = in_data[:,:,s:num_ch:num_scales+1]\n",
    "            output.append(tf.reduce_mean(sliced, axis=-1, keep_dims=True))\n",
    "            \n",
    "        return tf.concat(output, axis = -1)\n",
    "    else:\n",
    "        pass\n",
    "    "
   ]
  },
  {
   "cell_type": "code",
   "execution_count": 14,
   "id": "3117a209",
   "metadata": {},
   "outputs": [
    {
     "data": {
      "text/plain": [
       "<tf.Tensor: id=279, shape=(1, 262144, 21), dtype=float32, numpy=\n",
       "array([[[0.47640958, 0.587796  , 0.48244253, ..., 0.5027801 ,\n",
       "         0.47877374, 0.5269707 ],\n",
       "        [0.581561  , 0.49780536, 0.5677166 , ..., 0.39149174,\n",
       "         0.42115653, 0.39053136],\n",
       "        [0.6004311 , 0.43176433, 0.52855355, ..., 0.511485  ,\n",
       "         0.48869506, 0.52652085],\n",
       "        ...,\n",
       "        [0.5301098 , 0.5484703 , 0.47165748, ..., 0.5889327 ,\n",
       "         0.5235284 , 0.5254437 ],\n",
       "        [0.5616927 , 0.5201645 , 0.48361364, ..., 0.5569017 ,\n",
       "         0.53914374, 0.46417236],\n",
       "        [0.43116832, 0.5454833 , 0.5499594 , ..., 0.4211827 ,\n",
       "         0.5639369 , 0.4808824 ]]], dtype=float32)>"
      ]
     },
     "execution_count": 14,
     "metadata": {},
     "output_type": "execute_result"
    }
   ],
   "source": [
    "CP3D(\"hi\", vol, 20, \"one_path\")"
   ]
  },
  {
   "cell_type": "code",
   "execution_count": 2,
   "id": "bceeeac3",
   "metadata": {},
   "outputs": [],
   "source": [
    "import numpy as np\n",
    "import tensorflow as tf\n",
    "tf.compat.v1.enable_eager_execution()\n",
    "\n",
    "vol = np.random.rand(1, 262144, 21**2)\n",
    "vol = tf.constant(vol, dtype=tf.float32)\n"
   ]
  },
  {
   "cell_type": "code",
   "execution_count": 6,
   "id": "a8a2e13f",
   "metadata": {},
   "outputs": [
    {
     "data": {
      "text/plain": [
       "<tf.Tensor: id=25, shape=(1, 262144, 1), dtype=float32, numpy=\n",
       "array([[[0.36580768],\n",
       "        [0.43485153],\n",
       "        [0.49920794],\n",
       "        ...,\n",
       "        [0.5259928 ],\n",
       "        [0.62347347],\n",
       "        [0.29317093]]], dtype=float32)>"
      ]
     },
     "execution_count": 6,
     "metadata": {},
     "output_type": "execute_result"
    }
   ],
   "source": [
    "tf.reduce_mean(vol[:,:, 0:21:4], axis=-1, keep_dims=True)"
   ]
  },
  {
   "cell_type": "code",
   "execution_count": 12,
   "id": "eeb95e82",
   "metadata": {},
   "outputs": [
    {
     "data": {
      "text/plain": [
       "<tf.Tensor: id=17, shape=(262144, 6), dtype=float32, numpy=\n",
       "array([[0.3417115 , 0.8988732 , 0.8083679 , 0.67268854, 0.66478705,\n",
       "        0.6446315 ],\n",
       "       [0.48696908, 0.75066346, 0.35884008, 0.45907232, 0.17568973,\n",
       "        0.36224395],\n",
       "       [0.5443283 , 0.9681517 , 0.41807553, 0.71268153, 0.6669936 ,\n",
       "        0.7651957 ],\n",
       "       ...,\n",
       "       [0.6923137 , 0.8851998 , 0.00359805, 0.14819947, 0.5683861 ,\n",
       "        0.90413314],\n",
       "       [0.20858252, 0.86180985, 0.00103352, 0.19782951, 0.2651087 ,\n",
       "        0.25977874],\n",
       "       [0.56785935, 0.15481   , 0.6188424 , 0.9928004 , 0.9061434 ,\n",
       "        0.04529678]], dtype=float32)>"
      ]
     },
     "execution_count": 12,
     "metadata": {},
     "output_type": "execute_result"
    }
   ],
   "source": [
    "vol[0,:, 0:21:4]"
   ]
  },
  {
   "cell_type": "code",
   "execution_count": 6,
   "id": "0aab19ad",
   "metadata": {},
   "outputs": [],
   "source": [
    "a = np.random.rand(1, 262144, 21**2)"
   ]
  },
  {
   "cell_type": "code",
   "execution_count": 10,
   "id": "eee72d4e",
   "metadata": {},
   "outputs": [
    {
     "data": {
      "text/plain": [
       "(262144, 2)"
      ]
     },
     "execution_count": 10,
     "metadata": {},
     "output_type": "execute_result"
    }
   ],
   "source": [
    "a[0,:, 19:21].shape"
   ]
  },
  {
   "cell_type": "markdown",
   "id": "9ac7d8b4",
   "metadata": {},
   "source": [
    "# channel wise pooling"
   ]
  },
  {
   "cell_type": "code",
   "execution_count": 1,
   "id": "2e13cf12",
   "metadata": {},
   "outputs": [],
   "source": [
    "import tensorflow as tf\n",
    "import numpy as np\n",
    "from SOE_Net_model_full import *\n",
    "import init_SOE_NET as init_net\n",
    "import configure as cfg"
   ]
  },
  {
   "cell_type": "code",
   "execution_count": 2,
   "id": "0df05e27",
   "metadata": {},
   "outputs": [],
   "source": [
    "tf.compat.v1.enable_eager_execution()"
   ]
  },
  {
   "cell_type": "code",
   "execution_count": 3,
   "id": "aa23aa6a",
   "metadata": {},
   "outputs": [
    {
     "name": "stderr",
     "output_type": "stream",
     "text": [
      "2022-09-28 21:01:54.512365: I tensorflow/stream_executor/platform/default/dso_loader.cc:44] Successfully opened dynamic library libcuda.so.1\n",
      "2022-09-28 21:01:54.536311: I tensorflow/core/common_runtime/gpu/gpu_device.cc:1618] Found device 0 with properties: \n",
      "name: Quadro P6000 major: 6 minor: 1 memoryClockRate(GHz): 1.645\n",
      "pciBusID: 0000:65:00.0\n",
      "2022-09-28 21:01:54.536559: I tensorflow/stream_executor/platform/default/dso_loader.cc:44] Successfully opened dynamic library libcudart.so.10.0\n",
      "2022-09-28 21:01:54.538627: I tensorflow/stream_executor/platform/default/dso_loader.cc:44] Successfully opened dynamic library libcublas.so.10.0\n",
      "2022-09-28 21:01:54.540385: I tensorflow/stream_executor/platform/default/dso_loader.cc:44] Successfully opened dynamic library libcufft.so.10.0\n",
      "2022-09-28 21:01:54.540830: I tensorflow/stream_executor/platform/default/dso_loader.cc:44] Successfully opened dynamic library libcurand.so.10.0\n",
      "2022-09-28 21:01:54.543344: I tensorflow/stream_executor/platform/default/dso_loader.cc:44] Successfully opened dynamic library libcusolver.so.10.0\n",
      "2022-09-28 21:01:54.545232: I tensorflow/stream_executor/platform/default/dso_loader.cc:44] Successfully opened dynamic library libcusparse.so.10.0\n",
      "2022-09-28 21:01:54.549947: I tensorflow/stream_executor/platform/default/dso_loader.cc:44] Successfully opened dynamic library libcudnn.so.7\n",
      "2022-09-28 21:01:54.550384: I tensorflow/core/common_runtime/gpu/gpu_device.cc:1746] Adding visible gpu devices: 0\n",
      "2022-09-28 21:01:54.550770: I tensorflow/core/platform/cpu_feature_guard.cc:142] Your CPU supports instructions that this TensorFlow binary was not compiled to use: SSE4.1 SSE4.2 AVX AVX2 AVX512F FMA\n",
      "2022-09-28 21:01:54.575087: I tensorflow/core/platform/profile_utils/cpu_utils.cc:94] CPU Frequency: 3699850000 Hz\n",
      "2022-09-28 21:01:54.575835: I tensorflow/compiler/xla/service/service.cc:168] XLA service 0x55d60a5cd760 initialized for platform Host (this does not guarantee that XLA will be used). Devices:\n",
      "2022-09-28 21:01:54.575860: I tensorflow/compiler/xla/service/service.cc:176]   StreamExecutor device (0): Host, Default Version\n",
      "2022-09-28 21:01:54.576183: I tensorflow/core/common_runtime/gpu/gpu_device.cc:1618] Found device 0 with properties: \n",
      "name: Quadro P6000 major: 6 minor: 1 memoryClockRate(GHz): 1.645\n",
      "pciBusID: 0000:65:00.0\n",
      "2022-09-28 21:01:54.576217: I tensorflow/stream_executor/platform/default/dso_loader.cc:44] Successfully opened dynamic library libcudart.so.10.0\n",
      "2022-09-28 21:01:54.576229: I tensorflow/stream_executor/platform/default/dso_loader.cc:44] Successfully opened dynamic library libcublas.so.10.0\n",
      "2022-09-28 21:01:54.576240: I tensorflow/stream_executor/platform/default/dso_loader.cc:44] Successfully opened dynamic library libcufft.so.10.0\n",
      "2022-09-28 21:01:54.576251: I tensorflow/stream_executor/platform/default/dso_loader.cc:44] Successfully opened dynamic library libcurand.so.10.0\n",
      "2022-09-28 21:01:54.576261: I tensorflow/stream_executor/platform/default/dso_loader.cc:44] Successfully opened dynamic library libcusolver.so.10.0\n",
      "2022-09-28 21:01:54.576272: I tensorflow/stream_executor/platform/default/dso_loader.cc:44] Successfully opened dynamic library libcusparse.so.10.0\n",
      "2022-09-28 21:01:54.576283: I tensorflow/stream_executor/platform/default/dso_loader.cc:44] Successfully opened dynamic library libcudnn.so.7\n",
      "2022-09-28 21:01:54.576575: I tensorflow/core/common_runtime/gpu/gpu_device.cc:1746] Adding visible gpu devices: 0\n",
      "2022-09-28 21:01:54.576621: I tensorflow/stream_executor/platform/default/dso_loader.cc:44] Successfully opened dynamic library libcudart.so.10.0\n",
      "2022-09-28 21:01:54.637751: I tensorflow/core/common_runtime/gpu/gpu_device.cc:1159] Device interconnect StreamExecutor with strength 1 edge matrix:\n",
      "2022-09-28 21:01:54.637774: I tensorflow/core/common_runtime/gpu/gpu_device.cc:1165]      0 \n",
      "2022-09-28 21:01:54.637778: I tensorflow/core/common_runtime/gpu/gpu_device.cc:1178] 0:   N \n",
      "2022-09-28 21:01:54.638196: I tensorflow/core/common_runtime/gpu/gpu_device.cc:1304] Created TensorFlow device (/job:localhost/replica:0/task:0/device:GPU:0 with 21569 MB memory) -> physical GPU (device: 0, name: Quadro P6000, pci bus id: 0000:65:00.0, compute capability: 6.1)\n",
      "2022-09-28 21:01:54.639697: I tensorflow/compiler/xla/service/service.cc:168] XLA service 0x55d60b7cb000 initialized for platform CUDA (this does not guarantee that XLA will be used). Devices:\n",
      "2022-09-28 21:01:54.639712: I tensorflow/compiler/xla/service/service.cc:176]   StreamExecutor device (0): Quadro P6000, Compute Capability 6.1\n"
     ]
    }
   ],
   "source": [
    "vol = np.random.rand(1, 42, 4 * 21**2)\n",
    "vol = tf.constant(vol, dtype=tf.float32)"
   ]
  },
  {
   "cell_type": "code",
   "execution_count": 4,
   "id": "9e8fdfe7",
   "metadata": {},
   "outputs": [],
   "source": [
    "NUM_SCALE = 21"
   ]
  },
  {
   "cell_type": "code",
   "execution_count": 5,
   "id": "11ce6323",
   "metadata": {},
   "outputs": [],
   "source": [
    "num_ch = vol.get_shape().as_list()[-1]\n",
    "num_block = num_ch // (NUM_SCALE ** 2)\n",
    "pooled = []\n",
    "for i in range(num_block):\n",
    "    vol_slice = vol[:,:,i*(NUM_SCALE ** 2): (i + 1)*(NUM_SCALE ** 2)]\n",
    "    for j in range(NUM_SCALE):\n",
    "        pooled.append(tf.reduce_mean(vol_slice[:,:,j::NUM_SCALE], axis=-1, keepdims=True))\n",
    "output = tf.concat(pooled, axis=-1)"
   ]
  },
  {
   "cell_type": "code",
   "execution_count": 6,
   "id": "eb13eb1a",
   "metadata": {},
   "outputs": [
    {
     "name": "stderr",
     "output_type": "stream",
     "text": [
      "2022-09-28 21:01:55.173665: I tensorflow/stream_executor/platform/default/dso_loader.cc:44] Successfully opened dynamic library libcublas.so.10.0\n"
     ]
    }
   ],
   "source": [
    "num_ch = vol.get_shape().as_list()[-1]\n",
    "l = []\n",
    "for i in range(NUM_SCALE):\n",
    "    x = np.zeros((NUM_SCALE ** 2, 1), dtype=np.float32)\n",
    "    x[i::NUM_SCALE] = 1.0 / NUM_SCALE\n",
    "    l.append(x)\n",
    "chunk = np.concatenate(l, axis=-1)\n",
    "f = np.zeros((num_ch, num_ch // NUM_SCALE), dtype=np.float32)\n",
    "for i in range(num_ch // (NUM_SCALE ** 2)):\n",
    "    f[i * (NUM_SCALE ** 2): (i + 1) * (NUM_SCALE ** 2), i * NUM_SCALE: (i + 1) * NUM_SCALE] = chunk\n",
    "\n",
    "output1 = tf.nn.conv1d(vol, tf.constant(f[None,:,:], dtype=tf.float32), stride=[1, 1, 1], padding='VALID')\n"
   ]
  },
  {
   "cell_type": "code",
   "execution_count": 7,
   "id": "cbfd57cc",
   "metadata": {},
   "outputs": [
    {
     "data": {
      "text/plain": [
       "<tf.Tensor: id=532, shape=(), dtype=float32, numpy=1.1920929e-07>"
      ]
     },
     "execution_count": 7,
     "metadata": {},
     "output_type": "execute_result"
    }
   ],
   "source": [
    "tf.math.reduce_max(output - output1)"
   ]
  },
  {
   "cell_type": "code",
   "execution_count": 10,
   "id": "b5614a97",
   "metadata": {},
   "outputs": [
    {
     "data": {
      "text/plain": [
       "[1, 42, 84]"
      ]
     },
     "execution_count": 10,
     "metadata": {},
     "output_type": "execute_result"
    }
   ],
   "source": [
    "output1.get_shape().as_list()"
   ]
  },
  {
   "cell_type": "code",
   "execution_count": null,
   "id": "2e3aafd2",
   "metadata": {},
   "outputs": [],
   "source": []
  }
 ],
 "metadata": {
  "kernelspec": {
   "display_name": "Python 3 (ipykernel)",
   "language": "python",
   "name": "python3"
  },
  "language_info": {
   "codemirror_mode": {
    "name": "ipython",
    "version": 3
   },
   "file_extension": ".py",
   "mimetype": "text/x-python",
   "name": "python",
   "nbconvert_exporter": "python",
   "pygments_lexer": "ipython3",
   "version": "3.7.11"
  }
 },
 "nbformat": 4,
 "nbformat_minor": 5
}
