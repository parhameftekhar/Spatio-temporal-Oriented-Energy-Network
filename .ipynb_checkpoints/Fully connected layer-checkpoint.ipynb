{
 "cells": [
  {
   "cell_type": "code",
   "execution_count": 1,
   "id": "3f760623",
   "metadata": {},
   "outputs": [],
   "source": [
    "import numpy as np\n",
    "import os\n",
    "import pandas as pd\n",
    "from sklearn.metrics.pairwise import cosine_similarity\n",
    "from numpy import linalg as LA\n",
    "from sklearn.metrics import confusion_matrix\n",
    "import matplotlib.pyplot as plt\n",
    "import seaborn as sn\n",
    "from sklearn.model_selection import train_test_split"
   ]
  },
  {
   "cell_type": "code",
   "execution_count": 2,
   "id": "0849312c",
   "metadata": {},
   "outputs": [],
   "source": [
    "PATH_AUDIO = \"/home/eftekhar/Documents/Databases/AVDT_backup/Audios\"\n",
    "aud_names = []\n",
    "aud_classes = []\n",
    "for d in os.listdir(PATH_AUDIO):\n",
    "    for aud in os.listdir(os.path.join(PATH_AUDIO, d)[:100]):\n",
    "        aud_names.append(aud.split(\"/\")[-1].split(\".\")[0])\n",
    "        aud_classes.append(d) \n",
    "\n",
    "outputs = np.load(\"results_2layer_numscale20_downfac_root_2_no_norm1_librosa_44100_one_path_kaiser_fast_20_classes_100videos.npy\")\n",
    "\n",
    "aud_feats = list(outputs)\n",
    "aud_feats = list(map(lambda x: x[None, :], aud_feats))\n",
    "\n",
    "df_aud = pd.DataFrame(data={'name': aud_names, 'aud_features': aud_feats, 'class': aud_classes})\n",
    "\n",
    "\n",
    "vid_feats = np.load(\"./video_features/features_test_3layer_highresolution.npy\")\n",
    "PATH_TO_CLIPS = \"/home/eftekhar/Documents/Databases/AVDT_backup/Frames/clips.txt\"\n",
    "f = open(PATH_TO_CLIPS, \"r\")\n",
    "clips = f.readlines()\n",
    "\n",
    "\n",
    "vid_names = list(map(lambda x: x[::-1].split(\" \", 2)[-1][::-1].split(\"/\")[-1], clips))\n",
    "vid_classes = list(map(lambda x: x.split('/')[-2], clips))\n",
    "vid_feats = list(vid_feats)\n",
    "vid_feats = map(lambda x: x[None,:],vid_feats)\n",
    "\n",
    "df_vid = pd.DataFrame(data={'name': vid_names, 'vid_features': vid_feats, 'class': vid_classes})\n",
    "df_vid_agg = df_vid.groupby(['class', 'name'])['vid_features'].mean().to_frame().reset_index()\n",
    "# normalizing the features\n",
    "# df_vid_agg['vid_features'] = df_vid_agg['vid_features'].apply(lambda x: x / LA.norm(x))\n",
    "\n",
    "df_join = df_vid_agg.merge(df_aud, on=['class', 'name'], how='inner')\n",
    "df_join['concat_features'] = df_join.apply(lambda x: np.concatenate((x.vid_features, x.aud_features), axis=-1), axis=1)\n",
    "\n",
    "labels = [i // 100 for i in range(len(df_join))]\n",
    "df_join['label'] = labels\n",
    "\n",
    "df_join = df_join.sample(frac=1).reset_index(drop=True)\n",
    "\n",
    "X, y = np.concatenate(df_join['concat_features'].tolist(), axis=0), df_join['label'].tolist()\n",
    "X_train, X_test, y_train, y_test = train_test_split(X, y, test_size=0.3, shuffle=False)\n",
    "X_valid, X_test, y_valid, y_test = train_test_split(X_test, y_test, test_size=1/3, shuffle=False)\n",
    "features_len = df_join['concat_features'].iloc[0].shape[1]"
   ]
  },
  {
   "cell_type": "code",
   "execution_count": 3,
   "id": "b76885b2",
   "metadata": {},
   "outputs": [
    {
     "name": "stdout",
     "output_type": "stream",
     "text": [
      "WARNING:tensorflow:From /home/eftekhar/anaconda3/envs/SOE_NET/lib/python3.7/site-packages/tensorflow_core/python/ops/resource_variable_ops.py:1630: calling BaseResourceVariable.__init__ (from tensorflow.python.ops.resource_variable_ops) with constraint is deprecated and will be removed in a future version.\n",
      "Instructions for updating:\n",
      "If using Keras pass *_constraint arguments to layers.\n",
      "Train on 1400 samples, validate on 400 samples\n"
     ]
    },
    {
     "name": "stderr",
     "output_type": "stream",
     "text": [
      "2022-09-28 11:28:28.253192: I tensorflow/stream_executor/platform/default/dso_loader.cc:44] Successfully opened dynamic library libcuda.so.1\n",
      "2022-09-28 11:28:28.275112: I tensorflow/core/common_runtime/gpu/gpu_device.cc:1618] Found device 0 with properties: \n",
      "name: Quadro P6000 major: 6 minor: 1 memoryClockRate(GHz): 1.645\n",
      "pciBusID: 0000:65:00.0\n",
      "2022-09-28 11:28:28.275319: I tensorflow/stream_executor/platform/default/dso_loader.cc:44] Successfully opened dynamic library libcudart.so.10.0\n",
      "2022-09-28 11:28:28.276635: I tensorflow/stream_executor/platform/default/dso_loader.cc:44] Successfully opened dynamic library libcublas.so.10.0\n",
      "2022-09-28 11:28:28.277799: I tensorflow/stream_executor/platform/default/dso_loader.cc:44] Successfully opened dynamic library libcufft.so.10.0\n",
      "2022-09-28 11:28:28.278096: I tensorflow/stream_executor/platform/default/dso_loader.cc:44] Successfully opened dynamic library libcurand.so.10.0\n",
      "2022-09-28 11:28:28.279651: I tensorflow/stream_executor/platform/default/dso_loader.cc:44] Successfully opened dynamic library libcusolver.so.10.0\n",
      "2022-09-28 11:28:28.280847: I tensorflow/stream_executor/platform/default/dso_loader.cc:44] Successfully opened dynamic library libcusparse.so.10.0\n",
      "2022-09-28 11:28:28.284158: I tensorflow/stream_executor/platform/default/dso_loader.cc:44] Successfully opened dynamic library libcudnn.so.7\n",
      "2022-09-28 11:28:28.284483: I tensorflow/core/common_runtime/gpu/gpu_device.cc:1746] Adding visible gpu devices: 0\n",
      "2022-09-28 11:28:28.285367: I tensorflow/core/platform/cpu_feature_guard.cc:142] Your CPU supports instructions that this TensorFlow binary was not compiled to use: SSE4.1 SSE4.2 AVX AVX2 AVX512F FMA\n",
      "2022-09-28 11:28:28.307093: I tensorflow/core/platform/profile_utils/cpu_utils.cc:94] CPU Frequency: 3699850000 Hz\n",
      "2022-09-28 11:28:28.307742: I tensorflow/compiler/xla/service/service.cc:168] XLA service 0x5557b5927460 initialized for platform Host (this does not guarantee that XLA will be used). Devices:\n",
      "2022-09-28 11:28:28.307765: I tensorflow/compiler/xla/service/service.cc:176]   StreamExecutor device (0): Host, Default Version\n",
      "2022-09-28 11:28:28.308077: I tensorflow/core/common_runtime/gpu/gpu_device.cc:1618] Found device 0 with properties: \n",
      "name: Quadro P6000 major: 6 minor: 1 memoryClockRate(GHz): 1.645\n",
      "pciBusID: 0000:65:00.0\n",
      "2022-09-28 11:28:28.308125: I tensorflow/stream_executor/platform/default/dso_loader.cc:44] Successfully opened dynamic library libcudart.so.10.0\n",
      "2022-09-28 11:28:28.308138: I tensorflow/stream_executor/platform/default/dso_loader.cc:44] Successfully opened dynamic library libcublas.so.10.0\n",
      "2022-09-28 11:28:28.308149: I tensorflow/stream_executor/platform/default/dso_loader.cc:44] Successfully opened dynamic library libcufft.so.10.0\n",
      "2022-09-28 11:28:28.308160: I tensorflow/stream_executor/platform/default/dso_loader.cc:44] Successfully opened dynamic library libcurand.so.10.0\n",
      "2022-09-28 11:28:28.308170: I tensorflow/stream_executor/platform/default/dso_loader.cc:44] Successfully opened dynamic library libcusolver.so.10.0\n",
      "2022-09-28 11:28:28.308181: I tensorflow/stream_executor/platform/default/dso_loader.cc:44] Successfully opened dynamic library libcusparse.so.10.0\n",
      "2022-09-28 11:28:28.308192: I tensorflow/stream_executor/platform/default/dso_loader.cc:44] Successfully opened dynamic library libcudnn.so.7\n",
      "2022-09-28 11:28:28.308459: I tensorflow/core/common_runtime/gpu/gpu_device.cc:1746] Adding visible gpu devices: 0\n",
      "2022-09-28 11:28:28.308495: I tensorflow/stream_executor/platform/default/dso_loader.cc:44] Successfully opened dynamic library libcudart.so.10.0\n",
      "2022-09-28 11:28:28.375411: I tensorflow/core/common_runtime/gpu/gpu_device.cc:1159] Device interconnect StreamExecutor with strength 1 edge matrix:\n",
      "2022-09-28 11:28:28.375436: I tensorflow/core/common_runtime/gpu/gpu_device.cc:1165]      0 \n",
      "2022-09-28 11:28:28.375441: I tensorflow/core/common_runtime/gpu/gpu_device.cc:1178] 0:   N \n",
      "2022-09-28 11:28:28.375902: I tensorflow/core/common_runtime/gpu/gpu_device.cc:1304] Created TensorFlow device (/job:localhost/replica:0/task:0/device:GPU:0 with 21527 MB memory) -> physical GPU (device: 0, name: Quadro P6000, pci bus id: 0000:65:00.0, compute capability: 6.1)\n",
      "2022-09-28 11:28:28.377182: I tensorflow/compiler/xla/service/service.cc:168] XLA service 0x5557bb969250 initialized for platform CUDA (this does not guarantee that XLA will be used). Devices:\n",
      "2022-09-28 11:28:28.377200: I tensorflow/compiler/xla/service/service.cc:176]   StreamExecutor device (0): Quadro P6000, Compute Capability 6.1\n"
     ]
    },
    {
     "name": "stdout",
     "output_type": "stream",
     "text": [
      "Epoch 1/100\n",
      " 864/1400 [=================>............] - ETA: 0s - loss: 2156.5509 - acc: 0.2940"
     ]
    },
    {
     "name": "stderr",
     "output_type": "stream",
     "text": [
      "2022-09-28 11:28:28.977131: I tensorflow/stream_executor/platform/default/dso_loader.cc:44] Successfully opened dynamic library libcublas.so.10.0\n"
     ]
    },
    {
     "name": "stdout",
     "output_type": "stream",
     "text": [
      "1400/1400 [==============================] - 0s 201us/sample - loss: 1669.3257 - acc: 0.3707 - val_loss: 757.4654 - val_acc: 0.5050\n",
      "Epoch 2/100\n",
      "1400/1400 [==============================] - 0s 75us/sample - loss: 514.0160 - acc: 0.6179 - val_loss: 556.5602 - val_acc: 0.5775\n",
      "Epoch 3/100\n",
      "1400/1400 [==============================] - 0s 80us/sample - loss: 381.6547 - acc: 0.6786 - val_loss: 383.1035 - val_acc: 0.6975\n",
      "Epoch 4/100\n",
      "1400/1400 [==============================] - 0s 66us/sample - loss: 318.1286 - acc: 0.6921 - val_loss: 555.0627 - val_acc: 0.6900\n",
      "Epoch 5/100\n",
      "1400/1400 [==============================] - 0s 84us/sample - loss: 438.0827 - acc: 0.6807 - val_loss: 465.8322 - val_acc: 0.6500\n",
      "Epoch 6/100\n",
      "1400/1400 [==============================] - 0s 82us/sample - loss: 297.9610 - acc: 0.7307 - val_loss: 379.8328 - val_acc: 0.6875\n",
      "Epoch 7/100\n",
      "1400/1400 [==============================] - 0s 80us/sample - loss: 291.2516 - acc: 0.7529 - val_loss: 446.1094 - val_acc: 0.7050\n",
      "Epoch 8/100\n",
      "1400/1400 [==============================] - 0s 82us/sample - loss: 256.0891 - acc: 0.7736 - val_loss: 377.3397 - val_acc: 0.7425\n",
      "Epoch 9/100\n",
      "1400/1400 [==============================] - 0s 82us/sample - loss: 231.0401 - acc: 0.7836 - val_loss: 438.6011 - val_acc: 0.7075\n",
      "Epoch 10/100\n",
      "1400/1400 [==============================] - 0s 71us/sample - loss: 229.1393 - acc: 0.7757 - val_loss: 330.8706 - val_acc: 0.7575\n",
      "Epoch 11/100\n",
      "1400/1400 [==============================] - 0s 81us/sample - loss: 200.3570 - acc: 0.8157 - val_loss: 352.1999 - val_acc: 0.7450\n",
      "Epoch 12/100\n",
      "1400/1400 [==============================] - 0s 78us/sample - loss: 197.1886 - acc: 0.8114 - val_loss: 348.6651 - val_acc: 0.7425\n",
      "Epoch 13/100\n",
      "1400/1400 [==============================] - 0s 76us/sample - loss: 193.7313 - acc: 0.8043 - val_loss: 353.0956 - val_acc: 0.7500\n",
      "Epoch 14/100\n",
      "1400/1400 [==============================] - 0s 79us/sample - loss: 204.7341 - acc: 0.8086 - val_loss: 296.7167 - val_acc: 0.7375\n",
      "Epoch 15/100\n",
      "1400/1400 [==============================] - 0s 80us/sample - loss: 187.4942 - acc: 0.8221 - val_loss: 302.1341 - val_acc: 0.7750\n",
      "Epoch 16/100\n",
      "1400/1400 [==============================] - 0s 79us/sample - loss: 162.3193 - acc: 0.8500 - val_loss: 335.9971 - val_acc: 0.7650\n",
      "Epoch 17/100\n",
      "1400/1400 [==============================] - 0s 80us/sample - loss: 146.4659 - acc: 0.8486 - val_loss: 336.0796 - val_acc: 0.7775\n",
      "Epoch 18/100\n",
      "1400/1400 [==============================] - 0s 78us/sample - loss: 106.8892 - acc: 0.8721 - val_loss: 299.6930 - val_acc: 0.7900\n",
      "Epoch 19/100\n",
      "1400/1400 [==============================] - 0s 79us/sample - loss: 145.6292 - acc: 0.8421 - val_loss: 256.9050 - val_acc: 0.7925\n",
      "Epoch 20/100\n",
      "1400/1400 [==============================] - 0s 81us/sample - loss: 123.2681 - acc: 0.8543 - val_loss: 251.4735 - val_acc: 0.7875\n",
      "Epoch 21/100\n",
      "1400/1400 [==============================] - 0s 80us/sample - loss: 139.3722 - acc: 0.8557 - val_loss: 438.2521 - val_acc: 0.7100\n",
      "Epoch 22/100\n",
      "1400/1400 [==============================] - 0s 78us/sample - loss: 169.7806 - acc: 0.8400 - val_loss: 315.5119 - val_acc: 0.7925\n",
      "Epoch 23/100\n",
      "1400/1400 [==============================] - 0s 78us/sample - loss: 107.4221 - acc: 0.8657 - val_loss: 281.6225 - val_acc: 0.8175\n",
      "Epoch 24/100\n",
      "1400/1400 [==============================] - 0s 77us/sample - loss: 105.2623 - acc: 0.8743 - val_loss: 387.3021 - val_acc: 0.7175\n",
      "Epoch 25/100\n",
      "1400/1400 [==============================] - 0s 80us/sample - loss: 105.7691 - acc: 0.8793 - val_loss: 287.9921 - val_acc: 0.7975\n",
      "Epoch 26/100\n",
      "1400/1400 [==============================] - 0s 79us/sample - loss: 120.3108 - acc: 0.8557 - val_loss: 315.0247 - val_acc: 0.8000\n",
      "Epoch 27/100\n",
      "1400/1400 [==============================] - 0s 79us/sample - loss: 93.1556 - acc: 0.8829 - val_loss: 372.6059 - val_acc: 0.7675\n",
      "Epoch 28/100\n",
      "1400/1400 [==============================] - 0s 62us/sample - loss: 113.5265 - acc: 0.8757 - val_loss: 425.6363 - val_acc: 0.7625\n",
      "Epoch 29/100\n",
      "1400/1400 [==============================] - 0s 80us/sample - loss: 124.8742 - acc: 0.8521 - val_loss: 435.9009 - val_acc: 0.7525\n",
      "Epoch 30/100\n",
      "1400/1400 [==============================] - 0s 79us/sample - loss: 125.1934 - acc: 0.8600 - val_loss: 275.8322 - val_acc: 0.8200\n",
      "Epoch 31/100\n",
      "1400/1400 [==============================] - 0s 79us/sample - loss: 100.3125 - acc: 0.8721 - val_loss: 399.1310 - val_acc: 0.7250\n",
      "Epoch 32/100\n",
      "1400/1400 [==============================] - 0s 81us/sample - loss: 147.6751 - acc: 0.8579 - val_loss: 321.7674 - val_acc: 0.8300\n",
      "Epoch 33/100\n",
      "1400/1400 [==============================] - 0s 80us/sample - loss: 104.7135 - acc: 0.8829 - val_loss: 410.2510 - val_acc: 0.7725\n",
      "Epoch 34/100\n",
      "1400/1400 [==============================] - 0s 79us/sample - loss: 125.0444 - acc: 0.8686 - val_loss: 312.8003 - val_acc: 0.8125\n",
      "Epoch 35/100\n",
      "1400/1400 [==============================] - 0s 81us/sample - loss: 94.4207 - acc: 0.8921 - val_loss: 306.3663 - val_acc: 0.8150\n",
      "Epoch 36/100\n",
      "1400/1400 [==============================] - 0s 80us/sample - loss: 75.9671 - acc: 0.9050 - val_loss: 313.0022 - val_acc: 0.8225\n",
      "Epoch 37/100\n",
      "1400/1400 [==============================] - 0s 80us/sample - loss: 99.6584 - acc: 0.8793 - val_loss: 351.8730 - val_acc: 0.7950\n",
      "Epoch 38/100\n",
      "1400/1400 [==============================] - 0s 85us/sample - loss: 128.9823 - acc: 0.8786 - val_loss: 335.6966 - val_acc: 0.8150\n",
      "Epoch 39/100\n",
      "1400/1400 [==============================] - 0s 83us/sample - loss: 75.5566 - acc: 0.8936 - val_loss: 262.2372 - val_acc: 0.8300\n",
      "Epoch 40/100\n",
      "1400/1400 [==============================] - 0s 81us/sample - loss: 77.2011 - acc: 0.8979 - val_loss: 411.7402 - val_acc: 0.7675\n",
      "Epoch 41/100\n",
      "1400/1400 [==============================] - 0s 83us/sample - loss: 107.7815 - acc: 0.8793 - val_loss: 276.6208 - val_acc: 0.8175\n",
      "Epoch 42/100\n",
      "1400/1400 [==============================] - 0s 82us/sample - loss: 56.2977 - acc: 0.9214 - val_loss: 307.0848 - val_acc: 0.8225\n",
      "Epoch 43/100\n",
      "1400/1400 [==============================] - 0s 82us/sample - loss: 65.8154 - acc: 0.9107 - val_loss: 331.3332 - val_acc: 0.8125\n",
      "Epoch 44/100\n",
      "1400/1400 [==============================] - 0s 79us/sample - loss: 81.8341 - acc: 0.9050 - val_loss: 355.6430 - val_acc: 0.7950\n",
      "Epoch 45/100\n",
      "1400/1400 [==============================] - 0s 57us/sample - loss: 81.8648 - acc: 0.8850 - val_loss: 387.2536 - val_acc: 0.7850\n",
      "Epoch 46/100\n",
      "1400/1400 [==============================] - 0s 56us/sample - loss: 96.8417 - acc: 0.8879 - val_loss: 342.3960 - val_acc: 0.8125\n",
      "Epoch 47/100\n",
      "1400/1400 [==============================] - 0s 58us/sample - loss: 87.1404 - acc: 0.9050 - val_loss: 346.4518 - val_acc: 0.8125\n",
      "Epoch 48/100\n",
      "1400/1400 [==============================] - 0s 57us/sample - loss: 101.0556 - acc: 0.9021 - val_loss: 395.3229 - val_acc: 0.7925\n",
      "Epoch 49/100\n",
      "1400/1400 [==============================] - 0s 58us/sample - loss: 73.8489 - acc: 0.9143 - val_loss: 264.2491 - val_acc: 0.8300\n",
      "Epoch 50/100\n",
      "1400/1400 [==============================] - 0s 56us/sample - loss: 69.5799 - acc: 0.9093 - val_loss: 307.3176 - val_acc: 0.8150\n",
      "Epoch 51/100\n",
      "1400/1400 [==============================] - 0s 58us/sample - loss: 61.2376 - acc: 0.9164 - val_loss: 415.8713 - val_acc: 0.7875\n",
      "Epoch 52/100\n",
      "1400/1400 [==============================] - 0s 57us/sample - loss: 61.5324 - acc: 0.9114 - val_loss: 287.4722 - val_acc: 0.8450\n",
      "Epoch 53/100\n",
      "1400/1400 [==============================] - 0s 75us/sample - loss: 88.6286 - acc: 0.8971 - val_loss: 349.8693 - val_acc: 0.8025\n",
      "Epoch 54/100\n",
      "1400/1400 [==============================] - 0s 79us/sample - loss: 77.3438 - acc: 0.8993 - val_loss: 291.2781 - val_acc: 0.8325\n",
      "Epoch 55/100\n",
      "1400/1400 [==============================] - 0s 77us/sample - loss: 80.7466 - acc: 0.9143 - val_loss: 354.0516 - val_acc: 0.7875\n",
      "Epoch 56/100\n",
      "1400/1400 [==============================] - 0s 78us/sample - loss: 77.0617 - acc: 0.9029 - val_loss: 323.2479 - val_acc: 0.8400\n",
      "Epoch 57/100\n",
      "1400/1400 [==============================] - 0s 79us/sample - loss: 90.4473 - acc: 0.8943 - val_loss: 373.3511 - val_acc: 0.7850\n",
      "Epoch 58/100\n",
      "1400/1400 [==============================] - 0s 77us/sample - loss: 89.8277 - acc: 0.8993 - val_loss: 374.3513 - val_acc: 0.8100\n",
      "Epoch 59/100\n",
      "1400/1400 [==============================] - 0s 78us/sample - loss: 80.7335 - acc: 0.8886 - val_loss: 336.9998 - val_acc: 0.8125\n",
      "Epoch 60/100\n",
      "1400/1400 [==============================] - 0s 80us/sample - loss: 66.3426 - acc: 0.9050 - val_loss: 350.8708 - val_acc: 0.8250\n",
      "Epoch 61/100\n",
      "1400/1400 [==============================] - 0s 78us/sample - loss: 67.2749 - acc: 0.9114 - val_loss: 309.5187 - val_acc: 0.8300\n",
      "Epoch 62/100\n",
      "1400/1400 [==============================] - 0s 78us/sample - loss: 73.3909 - acc: 0.9157 - val_loss: 332.2831 - val_acc: 0.8200\n",
      "Epoch 63/100\n",
      "1400/1400 [==============================] - 0s 79us/sample - loss: 56.9371 - acc: 0.9129 - val_loss: 320.1056 - val_acc: 0.8250\n",
      "Epoch 64/100\n",
      "1400/1400 [==============================] - 0s 77us/sample - loss: 54.6558 - acc: 0.9236 - val_loss: 337.2729 - val_acc: 0.8200\n",
      "Epoch 65/100\n",
      "1400/1400 [==============================] - 0s 76us/sample - loss: 78.1467 - acc: 0.9029 - val_loss: 405.5879 - val_acc: 0.7975\n",
      "Epoch 66/100\n",
      "1400/1400 [==============================] - 0s 77us/sample - loss: 76.1212 - acc: 0.9007 - val_loss: 321.7419 - val_acc: 0.8300\n",
      "Epoch 67/100\n",
      "1400/1400 [==============================] - 0s 77us/sample - loss: 65.0810 - acc: 0.9100 - val_loss: 365.7582 - val_acc: 0.8075\n",
      "Epoch 68/100\n",
      "1400/1400 [==============================] - 0s 79us/sample - loss: 37.6079 - acc: 0.9471 - val_loss: 346.7925 - val_acc: 0.8200\n",
      "Epoch 69/100\n",
      "1400/1400 [==============================] - 0s 77us/sample - loss: 47.1629 - acc: 0.9257 - val_loss: 340.4005 - val_acc: 0.8075\n",
      "Epoch 70/100\n",
      "1400/1400 [==============================] - 0s 76us/sample - loss: 72.1434 - acc: 0.9107 - val_loss: 281.0013 - val_acc: 0.8325\n",
      "Epoch 71/100\n",
      "1400/1400 [==============================] - 0s 76us/sample - loss: 67.8876 - acc: 0.9086 - val_loss: 298.2150 - val_acc: 0.8400\n",
      "Epoch 72/100\n",
      "1400/1400 [==============================] - 0s 80us/sample - loss: 52.4918 - acc: 0.9207 - val_loss: 301.5645 - val_acc: 0.8350\n",
      "Epoch 73/100\n",
      "1400/1400 [==============================] - 0s 82us/sample - loss: 63.5717 - acc: 0.9229 - val_loss: 286.1645 - val_acc: 0.8350\n",
      "Epoch 74/100\n",
      "1400/1400 [==============================] - 0s 76us/sample - loss: 54.2834 - acc: 0.9371 - val_loss: 289.5328 - val_acc: 0.8550\n",
      "Epoch 75/100\n",
      "1400/1400 [==============================] - 0s 79us/sample - loss: 64.1463 - acc: 0.9186 - val_loss: 379.6458 - val_acc: 0.8150\n",
      "Epoch 76/100\n",
      "1400/1400 [==============================] - 0s 80us/sample - loss: 57.3916 - acc: 0.9186 - val_loss: 274.8820 - val_acc: 0.8500\n",
      "Epoch 77/100\n",
      "1400/1400 [==============================] - 0s 78us/sample - loss: 57.0683 - acc: 0.9286 - val_loss: 299.4183 - val_acc: 0.8275\n",
      "Epoch 78/100\n",
      "1400/1400 [==============================] - 0s 79us/sample - loss: 45.2707 - acc: 0.9357 - val_loss: 323.8074 - val_acc: 0.8300\n",
      "Epoch 79/100\n",
      "1400/1400 [==============================] - 0s 68us/sample - loss: 63.8311 - acc: 0.9200 - val_loss: 260.8321 - val_acc: 0.8525\n",
      "Epoch 80/100\n",
      "1400/1400 [==============================] - 0s 76us/sample - loss: 49.4886 - acc: 0.9343 - val_loss: 302.9998 - val_acc: 0.8125\n",
      "Epoch 81/100\n",
      "1400/1400 [==============================] - 0s 78us/sample - loss: 51.5917 - acc: 0.9300 - val_loss: 275.3214 - val_acc: 0.8425\n",
      "Epoch 82/100\n",
      "1400/1400 [==============================] - 0s 81us/sample - loss: 59.2049 - acc: 0.9371 - val_loss: 323.3038 - val_acc: 0.8275\n",
      "Epoch 83/100\n",
      "1400/1400 [==============================] - 0s 81us/sample - loss: 50.7052 - acc: 0.9243 - val_loss: 265.1629 - val_acc: 0.8225\n",
      "Epoch 84/100\n",
      "1400/1400 [==============================] - 0s 80us/sample - loss: 75.4127 - acc: 0.8979 - val_loss: 427.3321 - val_acc: 0.7875\n",
      "Epoch 85/100\n",
      "1400/1400 [==============================] - 0s 82us/sample - loss: 96.7288 - acc: 0.8986 - val_loss: 374.2736 - val_acc: 0.8125\n",
      "Epoch 86/100\n",
      "1400/1400 [==============================] - 0s 78us/sample - loss: 63.4943 - acc: 0.9164 - val_loss: 372.8856 - val_acc: 0.8175\n",
      "Epoch 87/100\n",
      "1400/1400 [==============================] - 0s 78us/sample - loss: 60.1035 - acc: 0.9236 - val_loss: 334.3344 - val_acc: 0.8225\n",
      "Epoch 88/100\n",
      "1400/1400 [==============================] - 0s 77us/sample - loss: 70.6229 - acc: 0.9214 - val_loss: 301.6389 - val_acc: 0.8325\n",
      "Epoch 89/100\n",
      "1400/1400 [==============================] - 0s 79us/sample - loss: 44.2431 - acc: 0.9357 - val_loss: 294.5181 - val_acc: 0.8500\n",
      "Epoch 90/100\n",
      "1400/1400 [==============================] - 0s 81us/sample - loss: 34.8698 - acc: 0.9407 - val_loss: 301.4648 - val_acc: 0.8300\n",
      "Epoch 91/100\n",
      "1400/1400 [==============================] - 0s 78us/sample - loss: 41.1528 - acc: 0.9436 - val_loss: 261.6922 - val_acc: 0.8325\n",
      "Epoch 92/100\n",
      "1400/1400 [==============================] - 0s 80us/sample - loss: 52.9124 - acc: 0.9293 - val_loss: 348.7599 - val_acc: 0.7875\n",
      "Epoch 93/100\n",
      "1400/1400 [==============================] - 0s 72us/sample - loss: 47.7246 - acc: 0.9336 - val_loss: 290.8149 - val_acc: 0.8300\n",
      "Epoch 94/100\n",
      "1400/1400 [==============================] - 0s 76us/sample - loss: 41.0955 - acc: 0.9350 - val_loss: 304.9844 - val_acc: 0.8225\n",
      "Epoch 95/100\n",
      "1400/1400 [==============================] - 0s 80us/sample - loss: 40.7482 - acc: 0.9393 - val_loss: 267.4946 - val_acc: 0.8425\n",
      "Epoch 96/100\n",
      "1400/1400 [==============================] - 0s 79us/sample - loss: 42.0502 - acc: 0.9371 - val_loss: 267.2478 - val_acc: 0.8400\n",
      "Epoch 97/100\n",
      "1400/1400 [==============================] - 0s 78us/sample - loss: 30.3655 - acc: 0.9507 - val_loss: 302.8637 - val_acc: 0.8275\n",
      "Epoch 98/100\n",
      "1400/1400 [==============================] - 0s 80us/sample - loss: 26.4207 - acc: 0.9457 - val_loss: 301.0054 - val_acc: 0.8425\n",
      "Epoch 99/100\n",
      "1400/1400 [==============================] - 0s 79us/sample - loss: 43.5868 - acc: 0.9443 - val_loss: 284.4502 - val_acc: 0.8575\n",
      "Epoch 100/100\n",
      "1400/1400 [==============================] - 0s 80us/sample - loss: 67.9270 - acc: 0.9164 - val_loss: 387.0900 - val_acc: 0.8025\n"
     ]
    }
   ],
   "source": [
    "import tensorflow as tf\n",
    "from matplotlib import pyplot as plt\n",
    "\n",
    "model = tf.keras.Sequential()\n",
    "model.add(tf.keras.layers.Dense(100, input_shape=(features_len,)))\n",
    "model.add(tf.keras.layers.Dense(20))\n",
    "model.add(tf.keras.layers.Softmax())\n",
    "opt = tf.keras.optimizers.Adam()\n",
    "model.compile(optimizer=opt, loss='sparse_categorical_crossentropy', metrics=['accuracy'])\n",
    "\n",
    "history = model.fit(X_train, y_train, epochs=100, batch_size=32, validation_data=(X_valid, y_valid))\n",
    "\n"
   ]
  },
  {
   "cell_type": "code",
   "execution_count": 4,
   "id": "ce5b896e",
   "metadata": {},
   "outputs": [
    {
     "data": {
      "image/png": "[encoded data removed]",
      "text/plain": [
       "<Figure size 432x288 with 1 Axes>"
      ]
     },
     "metadata": {
      "needs_background": "light"
     },
     "output_type": "display_data"
    }
   ],
   "source": [
    "plt.plot(history.history['acc'])\n",
    "plt.plot(history.history['val_acc'])\n",
    "plt.title('model accuracy')\n",
    "plt.ylabel('accuracy')\n",
    "plt.xlabel('epoch')\n",
    "plt.legend(['train', 'val'], loc='upper left')\n",
    "plt.show()"
   ]
  },
  {
   "cell_type": "code",
   "execution_count": 5,
   "id": "7295c382",
   "metadata": {},
   "outputs": [
    {
     "data": {
      "image/png": "[encoded data removed]",
      "text/plain": [
       "<Figure size 432x288 with 1 Axes>"
      ]
     },
     "metadata": {
      "needs_background": "light"
     },
     "output_type": "display_data"
    }
   ],
   "source": [
    "plt.plot(history.history['loss'])\n",
    "plt.plot(history.history['val_loss'])\n",
    "plt.title('model loss')\n",
    "plt.ylabel('loss')\n",
    "plt.xlabel('epoch')\n",
    "plt.legend(['train', 'val'], loc='upper left')\n",
    "plt.show()"
   ]
  },
  {
   "cell_type": "code",
   "execution_count": 6,
   "id": "7dc5419a",
   "metadata": {},
   "outputs": [
    {
     "data": {
      "text/plain": [
       "0.81"
      ]
     },
     "execution_count": 6,
     "metadata": {},
     "output_type": "execute_result"
    }
   ],
   "source": [
    "one_hot = model.predict(X_test)\n",
    "y_pred = np.argmax(one_hot, axis=1).tolist()\n",
    "sum(a == b for a, b in zip(y_pred, y_test)) / len(y_test)"
   ]
  },
  {
   "cell_type": "code",
   "execution_count": 7,
   "id": "b95d9968",
   "metadata": {},
   "outputs": [
    {
     "data": {
      "text/plain": [
       "0.8025"
      ]
     },
     "execution_count": 7,
     "metadata": {},
     "output_type": "execute_result"
    }
   ],
   "source": [
    "one_hot = model.predict(X_valid)\n",
    "y_pred = np.argmax(one_hot, axis=1).tolist()\n",
    "sum(a == b for a, b in zip(y_pred, y_valid)) / len(y_valid)"
   ]
  },
  {
   "cell_type": "code",
   "execution_count": 8,
   "id": "cbf82d57",
   "metadata": {},
   "outputs": [
    {
     "data": {
      "text/plain": [
       "0.9042857142857142"
      ]
     },
     "execution_count": 8,
     "metadata": {},
     "output_type": "execute_result"
    }
   ],
   "source": [
    "one_hot = model.predict(X_train)\n",
    "y_pred = np.argmax(one_hot, axis=1).tolist()\n",
    "sum(a == b for a, b in zip(y_pred, y_train)) / len(y_train)"
   ]
  },
  {
   "cell_type": "markdown",
   "id": "66359e7d",
   "metadata": {},
   "source": [
    "# Video only"
   ]
  },
  {
   "cell_type": "code",
   "execution_count": 1,
   "id": "59ef1e2d",
   "metadata": {},
   "outputs": [],
   "source": [
    "import numpy as np\n",
    "import os\n",
    "import pandas as pd\n",
    "from sklearn.metrics.pairwise import cosine_similarity\n",
    "from numpy import linalg as LA\n",
    "from sklearn.metrics import confusion_matrix\n",
    "import matplotlib.pyplot as plt\n",
    "import seaborn as sn\n",
    "from sklearn.model_selection import train_test_split\n",
    "\n",
    "vid_feats = np.load(\"./video_features/features_test_3layer_highresolution.npy\")\n",
    "PATH_TO_CLIPS = \"/home/eftekhar/Documents/Databases/AVDT_backup/Frames/clips.txt\"\n",
    "f = open(PATH_TO_CLIPS, \"r\")\n",
    "clips = f.readlines()\n",
    "\n",
    "vid_names = list(map(lambda x: x[::-1].split(\" \", 2)[-1][::-1].split(\"/\")[-1], clips))\n",
    "vid_classes = list(map(lambda x: x.split('/')[-2], clips))\n",
    "vid_feats = list(vid_feats)\n",
    "vid_feats = map(lambda x: x[None,:],vid_feats)\n",
    "\n",
    "df_vid = pd.DataFrame(data={'name': vid_names, 'vid_features': vid_feats, 'class': vid_classes})\n",
    "df_vid_agg = df_vid.groupby(['class', 'name'])['vid_features'].mean().to_frame().reset_index()\n",
    "labels = [i // 100 for i in range(len(df_vid_agg))]\n",
    "df_vid_agg['label'] = labels\n",
    "df_vid_agg = df_vid_agg.sample(frac=1).reset_index(drop=True)\n",
    "\n",
    "X, y = np.concatenate(df_vid_agg['vid_features'].tolist(), axis=0), df_vid_agg['label'].tolist()\n",
    "X_train, X_test, y_train, y_test = train_test_split(X, y, test_size=0.3, shuffle=False)\n",
    "X_valid, X_test, y_valid, y_test = train_test_split(X_test, y_test, test_size=1/3, shuffle=False)\n",
    "features_len = df_vid_agg['vid_features'].iloc[0].shape[1]"
   ]
  },
  {
   "cell_type": "code",
   "execution_count": 13,
   "id": "6aa22e10",
   "metadata": {},
   "outputs": [],
   "source": [
    "import tensorflow as tf\n",
    "from matplotlib import pyplot as plt\n",
    "\n",
    "model = tf.keras.Sequential()\n",
    "model.add(tf.keras.layers.Dense(100, input_shape=(features_len,)))\n",
    "model.add(tf.keras.layers.Dense(20))\n",
    "model.add(tf.keras.layers.Softmax())\n",
    "\n",
    "opt = tf.keras.optimizers.Adam()\n",
    "model.compile(optimizer=opt, loss='sparse_categorical_crossentropy', metrics=['accuracy'])\n",
    "history = model.fit(X_train, y_train, epochs=120, batch_size=32, validation_data=(X_valid, y_valid))"
   ]
  },
  {
   "cell_type": "code",
   "execution_count": 17,
   "id": "f1c829b9",
   "metadata": {},
   "outputs": [
    {
     "data": {
      "image/png": "[encoded data removed]",
      "text/plain": [
       "<Figure size 432x288 with 1 Axes>"
      ]
     },
     "metadata": {
      "needs_background": "light"
     },
     "output_type": "display_data"
    }
   ],
   "source": [
    "plt.plot(history.history['acc'])\n",
    "plt.plot(history.history['val_acc'])\n",
    "plt.title('model accuracy')\n",
    "plt.ylabel('accuracy')\n",
    "plt.xlabel('epoch')\n",
    "plt.legend(['train', 'val'], loc='upper left')\n",
    "plt.show()"
   ]
  },
  {
   "cell_type": "code",
   "execution_count": 18,
   "id": "43b50eed",
   "metadata": {},
   "outputs": [
    {
     "data": {
      "image/png": "[encoded data removed]",
      "text/plain": [
       "<Figure size 432x288 with 1 Axes>"
      ]
     },
     "metadata": {
      "needs_background": "light"
     },
     "output_type": "display_data"
    }
   ],
   "source": [
    "plt.plot(history.history['loss'])\n",
    "plt.plot(history.history['val_loss'])\n",
    "plt.title('model loss')\n",
    "plt.ylabel('loss')\n",
    "plt.xlabel('epoch')\n",
    "plt.legend(['train', 'val'], loc='upper left')\n",
    "plt.show()"
   ]
  },
  {
   "cell_type": "code",
   "execution_count": 19,
   "id": "e8be9873",
   "metadata": {},
   "outputs": [],
   "source": [
    "one_hot = model.predict(X_test)\n",
    "y_pred = np.argmax(one_hot, axis=1).tolist()\n",
    "sum(a == b for a, b in zip(y_pred, y_test)) / len(y_test)"
   ]
  },
  {
   "cell_type": "code",
   "execution_count": 21,
   "id": "b3dc0103",
   "metadata": {},
   "outputs": [
    {
     "data": {
      "text/plain": [
       "0.695"
      ]
     },
     "execution_count": 21,
     "metadata": {},
     "output_type": "execute_result"
    }
   ],
   "source": [
    "one_hot = model.predict(X_valid)\n",
    "y_pred = np.argmax(one_hot, axis=1).tolist()\n",
    "sum(a == b for a, b in zip(y_pred, y_valid)) / len(y_valid)"
   ]
  },
  {
   "cell_type": "code",
   "execution_count": 22,
   "id": "0b6c52b7",
   "metadata": {},
   "outputs": [
    {
     "data": {
      "text/plain": [
       "0.7978571428571428"
      ]
     },
     "execution_count": 22,
     "metadata": {},
     "output_type": "execute_result"
    }
   ],
   "source": [
    "one_hot = model.predict(X_train)\n",
    "y_pred = np.argmax(one_hot, axis=1).tolist()\n",
    "sum(a == b for a, b in zip(y_pred, y_train)) / len(y_train)"
   ]
  },
  {
   "cell_type": "markdown",
   "id": "fbe4b561",
   "metadata": {},
   "source": [
    "# Audio Only"
   ]
  },
  {
   "cell_type": "code",
   "execution_count": 158,
   "id": "15623a8f",
   "metadata": {},
   "outputs": [],
   "source": [
    "import numpy as np\n",
    "import os\n",
    "import pandas as pd\n",
    "from sklearn.metrics.pairwise import cosine_similarity\n",
    "from numpy import linalg as LA\n",
    "from sklearn.metrics import confusion_matrix\n",
    "import matplotlib.pyplot as plt\n",
    "import seaborn as sn\n",
    "from sklearn.model_selection import train_test_split"
   ]
  },
  {
   "cell_type": "code",
   "execution_count": 159,
   "id": "6f24d35d",
   "metadata": {},
   "outputs": [],
   "source": [
    "PATH_AUDIO = \"/home/eftekhar/Documents/Databases/AVDT_backup/Audios\"\n",
    "aud_names = []\n",
    "aud_classes = []\n",
    "for d in os.listdir(PATH_AUDIO):\n",
    "    for aud in os.listdir(os.path.join(PATH_AUDIO, d)[:100]):\n",
    "        aud_names.append(aud.split(\"/\")[-1].split(\".\")[0])\n",
    "        aud_classes.append(d) \n",
    "\n",
    "# outputs1 = np.load(\"results_2layer_numscale20_downfac_root_2_no_norm1_librosa_44100_one_path_kaiser_fast_20_classes_100videos.npy\")\n",
    "# outputs2 = np.load(\"results_3layer_numscale20_downfac_root_2_no_norm1_librosa_44100_one_path_kaiser_fast_20_classes_100videos.npy\")\n",
    "\n",
    "# outputs1 = outputs1 / np.linalg.norm(outputs1, axis=1)[:,None]\n",
    "# outputs2 = outputs2 / np.linalg.norm(outputs2, axis=1)[:,None]\n",
    "\n",
    "# outputs = np.concatenate((outputs1, outputs2), axis=-1)\n",
    "\n",
    "outputs = np.load(\"results_2layer_numscale20_downfac_root_2_no_norm1_librosa_44100_two_path_kaiser_fast_20_classes_100videos.npy\")\n",
    "\n",
    "\n",
    "aud_feats = list(outputs)\n",
    "aud_feats = list(map(lambda x: x[None, :], aud_feats))\n",
    "\n",
    "df_aud = pd.DataFrame(data={'name': aud_names, 'aud_features': aud_feats, 'class': aud_classes})\n",
    "labels = [i // 100 for i in range(len(df_aud))]\n",
    "df_aud['label'] = labels\n",
    "\n",
    "df_aud = df_aud.sample(frac=1, random_state=2022).reset_index(drop=True)\n",
    "\n",
    "X, y = np.concatenate(df_aud['aud_features'].tolist(), axis=0), df_aud['label'].tolist()\n",
    "X_train, X_test, y_train, y_test = train_test_split(X, y, test_size=0.3, shuffle=False)\n",
    "X_valid, X_test, y_valid, y_test = train_test_split(X_test, y_test, test_size=1/3, shuffle=False)\n",
    "features_len = df_aud['aud_features'].iloc[0].shape[1]\n"
   ]
  },
  {
   "cell_type": "code",
   "execution_count": 160,
   "id": "b8719145",
   "metadata": {},
   "outputs": [
    {
     "name": "stdout",
     "output_type": "stream",
     "text": [
      "Train on 1400 samples, validate on 400 samples\n",
      "Epoch 1/200\n",
      "1400/1400 [==============================] - 0s 264us/sample - loss: 729.5170 - acc: 0.1900 - val_loss: 538.9805 - val_acc: 0.2525\n",
      "Epoch 2/200\n",
      "1400/1400 [==============================] - 0s 51us/sample - loss: 371.7073 - acc: 0.3300 - val_loss: 287.6381 - val_acc: 0.3400\n",
      "Epoch 3/200\n",
      "1400/1400 [==============================] - 0s 60us/sample - loss: 238.8026 - acc: 0.4064 - val_loss: 273.0567 - val_acc: 0.3900\n",
      "Epoch 4/200\n",
      "1400/1400 [==============================] - 0s 60us/sample - loss: 186.7783 - acc: 0.4221 - val_loss: 204.0195 - val_acc: 0.3800\n",
      "Epoch 5/200\n",
      "1400/1400 [==============================] - 0s 58us/sample - loss: 153.1595 - acc: 0.4493 - val_loss: 179.8235 - val_acc: 0.4125\n",
      "Epoch 6/200\n",
      "1400/1400 [==============================] - 0s 60us/sample - loss: 161.8107 - acc: 0.4564 - val_loss: 158.2143 - val_acc: 0.4450\n",
      "Epoch 7/200\n",
      "1400/1400 [==============================] - 0s 60us/sample - loss: 148.3702 - acc: 0.4650 - val_loss: 203.2318 - val_acc: 0.4575\n",
      "Epoch 8/200\n",
      "1400/1400 [==============================] - 0s 60us/sample - loss: 168.7243 - acc: 0.4643 - val_loss: 193.7970 - val_acc: 0.4250\n",
      "Epoch 9/200\n",
      "1400/1400 [==============================] - 0s 60us/sample - loss: 165.2726 - acc: 0.4671 - val_loss: 140.9042 - val_acc: 0.4925\n",
      "Epoch 10/200\n",
      "1400/1400 [==============================] - 0s 39us/sample - loss: 147.3032 - acc: 0.4764 - val_loss: 171.2132 - val_acc: 0.4850\n",
      "Epoch 11/200\n",
      "1400/1400 [==============================] - 0s 38us/sample - loss: 148.9563 - acc: 0.4900 - val_loss: 182.2850 - val_acc: 0.4600\n",
      "Epoch 12/200\n",
      "1400/1400 [==============================] - 0s 57us/sample - loss: 140.7408 - acc: 0.4914 - val_loss: 146.8088 - val_acc: 0.4775\n",
      "Epoch 13/200\n",
      "1400/1400 [==============================] - 0s 47us/sample - loss: 144.9513 - acc: 0.5157 - val_loss: 151.8426 - val_acc: 0.4700\n",
      "Epoch 14/200\n",
      "1400/1400 [==============================] - 0s 55us/sample - loss: 119.3110 - acc: 0.5379 - val_loss: 153.8752 - val_acc: 0.5150\n",
      "Epoch 15/200\n",
      "1400/1400 [==============================] - 0s 59us/sample - loss: 125.6306 - acc: 0.5293 - val_loss: 122.7683 - val_acc: 0.4650\n",
      "Epoch 16/200\n",
      "1400/1400 [==============================] - 0s 59us/sample - loss: 119.4533 - acc: 0.5386 - val_loss: 194.6017 - val_acc: 0.4625\n",
      "Epoch 17/200\n",
      "1400/1400 [==============================] - 0s 58us/sample - loss: 161.8954 - acc: 0.4936 - val_loss: 199.7260 - val_acc: 0.4525\n",
      "Epoch 18/200\n",
      "1400/1400 [==============================] - 0s 55us/sample - loss: 145.3182 - acc: 0.4964 - val_loss: 205.0688 - val_acc: 0.4825\n",
      "Epoch 19/200\n",
      "1400/1400 [==============================] - 0s 55us/sample - loss: 155.6560 - acc: 0.5264 - val_loss: 186.5954 - val_acc: 0.5175\n",
      "Epoch 20/200\n",
      "1400/1400 [==============================] - 0s 55us/sample - loss: 126.9812 - acc: 0.5536 - val_loss: 161.0184 - val_acc: 0.5100\n",
      "Epoch 21/200\n",
      "1400/1400 [==============================] - 0s 57us/sample - loss: 138.4252 - acc: 0.5050 - val_loss: 225.5971 - val_acc: 0.4875\n",
      "Epoch 22/200\n",
      "1400/1400 [==============================] - 0s 58us/sample - loss: 105.6399 - acc: 0.5729 - val_loss: 157.6441 - val_acc: 0.5050\n",
      "Epoch 23/200\n",
      "1400/1400 [==============================] - 0s 57us/sample - loss: 77.5723 - acc: 0.6157 - val_loss: 110.5964 - val_acc: 0.5750\n",
      "Epoch 24/200\n",
      "1400/1400 [==============================] - 0s 58us/sample - loss: 81.7546 - acc: 0.6079 - val_loss: 123.7477 - val_acc: 0.5725\n",
      "Epoch 25/200\n",
      "1400/1400 [==============================] - 0s 59us/sample - loss: 90.6556 - acc: 0.5829 - val_loss: 144.5726 - val_acc: 0.4950\n",
      "Epoch 26/200\n",
      "1400/1400 [==============================] - 0s 59us/sample - loss: 85.3586 - acc: 0.5971 - val_loss: 158.6713 - val_acc: 0.5025\n",
      "Epoch 27/200\n",
      "1400/1400 [==============================] - 0s 59us/sample - loss: 101.2380 - acc: 0.5914 - val_loss: 162.6549 - val_acc: 0.5250\n",
      "Epoch 28/200\n",
      "1400/1400 [==============================] - 0s 58us/sample - loss: 113.2233 - acc: 0.5571 - val_loss: 135.8339 - val_acc: 0.5025\n",
      "Epoch 29/200\n",
      "1400/1400 [==============================] - 0s 60us/sample - loss: 88.3154 - acc: 0.5843 - val_loss: 138.3378 - val_acc: 0.5075\n",
      "Epoch 30/200\n",
      "1400/1400 [==============================] - 0s 59us/sample - loss: 98.6463 - acc: 0.5786 - val_loss: 132.1752 - val_acc: 0.5350\n",
      "Epoch 31/200\n",
      "1400/1400 [==============================] - 0s 59us/sample - loss: 108.2884 - acc: 0.5779 - val_loss: 155.3704 - val_acc: 0.5350\n",
      "Epoch 32/200\n",
      "1400/1400 [==============================] - 0s 59us/sample - loss: 97.4366 - acc: 0.5879 - val_loss: 143.4792 - val_acc: 0.5425\n",
      "Epoch 33/200\n",
      "1400/1400 [==============================] - 0s 59us/sample - loss: 87.3572 - acc: 0.6129 - val_loss: 164.7513 - val_acc: 0.4825\n",
      "Epoch 34/200\n",
      "1400/1400 [==============================] - 0s 57us/sample - loss: 117.0612 - acc: 0.5707 - val_loss: 151.6606 - val_acc: 0.5275\n",
      "Epoch 35/200\n",
      "1400/1400 [==============================] - 0s 54us/sample - loss: 113.4409 - acc: 0.5921 - val_loss: 144.9954 - val_acc: 0.4975\n",
      "Epoch 36/200\n",
      "1400/1400 [==============================] - 0s 57us/sample - loss: 104.1137 - acc: 0.5821 - val_loss: 147.9637 - val_acc: 0.5175\n",
      "Epoch 37/200\n",
      "1400/1400 [==============================] - 0s 57us/sample - loss: 91.9690 - acc: 0.5893 - val_loss: 133.2736 - val_acc: 0.5575\n",
      "Epoch 38/200\n",
      "1400/1400 [==============================] - 0s 54us/sample - loss: 110.1933 - acc: 0.5836 - val_loss: 146.9063 - val_acc: 0.5275\n",
      "Epoch 39/200\n",
      "1400/1400 [==============================] - 0s 58us/sample - loss: 91.5772 - acc: 0.6193 - val_loss: 158.6245 - val_acc: 0.5450\n",
      "Epoch 40/200\n",
      "1400/1400 [==============================] - 0s 59us/sample - loss: 114.9489 - acc: 0.5771 - val_loss: 171.2887 - val_acc: 0.4900\n",
      "Epoch 41/200\n",
      "1400/1400 [==============================] - 0s 60us/sample - loss: 103.1215 - acc: 0.5843 - val_loss: 141.4263 - val_acc: 0.5575\n",
      "Epoch 42/200\n",
      "1400/1400 [==============================] - 0s 56us/sample - loss: 112.1566 - acc: 0.5943 - val_loss: 189.1688 - val_acc: 0.4925\n",
      "Epoch 43/200\n",
      "1400/1400 [==============================] - 0s 56us/sample - loss: 78.2552 - acc: 0.6164 - val_loss: 145.3697 - val_acc: 0.5475\n",
      "Epoch 44/200\n",
      "1400/1400 [==============================] - 0s 58us/sample - loss: 80.6673 - acc: 0.6186 - val_loss: 133.2601 - val_acc: 0.5800\n",
      "Epoch 45/200\n",
      "1400/1400 [==============================] - 0s 57us/sample - loss: 76.0975 - acc: 0.6236 - val_loss: 130.3733 - val_acc: 0.5575\n",
      "Epoch 46/200\n",
      "1400/1400 [==============================] - 0s 59us/sample - loss: 78.0835 - acc: 0.6171 - val_loss: 129.2804 - val_acc: 0.5575\n",
      "Epoch 47/200\n",
      "1400/1400 [==============================] - 0s 48us/sample - loss: 76.7742 - acc: 0.6157 - val_loss: 149.6232 - val_acc: 0.5550\n",
      "Epoch 48/200\n",
      "1400/1400 [==============================] - 0s 59us/sample - loss: 76.6935 - acc: 0.6343 - val_loss: 143.6016 - val_acc: 0.5575\n",
      "Epoch 49/200\n",
      "1400/1400 [==============================] - 0s 56us/sample - loss: 72.2680 - acc: 0.6564 - val_loss: 103.3625 - val_acc: 0.5350\n",
      "Epoch 50/200\n",
      "1400/1400 [==============================] - 0s 57us/sample - loss: 67.4134 - acc: 0.6571 - val_loss: 123.9490 - val_acc: 0.5425\n",
      "Epoch 51/200\n",
      "1400/1400 [==============================] - 0s 59us/sample - loss: 64.9444 - acc: 0.6521 - val_loss: 106.6233 - val_acc: 0.5850\n",
      "Epoch 52/200\n",
      "1400/1400 [==============================] - 0s 58us/sample - loss: 54.6280 - acc: 0.6771 - val_loss: 108.4642 - val_acc: 0.5675\n",
      "Epoch 53/200\n",
      "1400/1400 [==============================] - 0s 58us/sample - loss: 54.7713 - acc: 0.6621 - val_loss: 108.0658 - val_acc: 0.6000\n",
      "Epoch 54/200\n",
      "1400/1400 [==============================] - 0s 57us/sample - loss: 56.8700 - acc: 0.6621 - val_loss: 102.1182 - val_acc: 0.5600\n",
      "Epoch 55/200\n",
      "1400/1400 [==============================] - 0s 53us/sample - loss: 62.7434 - acc: 0.6364 - val_loss: 116.2877 - val_acc: 0.5700\n",
      "Epoch 56/200\n",
      "1400/1400 [==============================] - 0s 54us/sample - loss: 67.9622 - acc: 0.6564 - val_loss: 117.5890 - val_acc: 0.5425\n",
      "Epoch 57/200\n",
      "1400/1400 [==============================] - 0s 53us/sample - loss: 55.2177 - acc: 0.6629 - val_loss: 111.2367 - val_acc: 0.5250\n",
      "Epoch 58/200\n",
      "1400/1400 [==============================] - 0s 61us/sample - loss: 84.4598 - acc: 0.6186 - val_loss: 135.7326 - val_acc: 0.5175\n",
      "Epoch 59/200\n",
      "1400/1400 [==============================] - 0s 48us/sample - loss: 70.7441 - acc: 0.6607 - val_loss: 129.6023 - val_acc: 0.5600\n",
      "Epoch 60/200\n",
      "1400/1400 [==============================] - 0s 59us/sample - loss: 54.7130 - acc: 0.6821 - val_loss: 120.7011 - val_acc: 0.5400\n",
      "Epoch 61/200\n",
      "1400/1400 [==============================] - 0s 57us/sample - loss: 54.7627 - acc: 0.6743 - val_loss: 117.1469 - val_acc: 0.5250\n",
      "Epoch 62/200\n",
      "1400/1400 [==============================] - 0s 51us/sample - loss: 63.4875 - acc: 0.6607 - val_loss: 125.2095 - val_acc: 0.5125\n",
      "Epoch 63/200\n",
      "1400/1400 [==============================] - 0s 50us/sample - loss: 73.5781 - acc: 0.6236 - val_loss: 143.8461 - val_acc: 0.5325\n",
      "Epoch 64/200\n",
      "1400/1400 [==============================] - 0s 60us/sample - loss: 70.5544 - acc: 0.6271 - val_loss: 102.0872 - val_acc: 0.5950\n",
      "Epoch 65/200\n",
      "1400/1400 [==============================] - 0s 59us/sample - loss: 50.5571 - acc: 0.6679 - val_loss: 109.1677 - val_acc: 0.5650\n",
      "Epoch 66/200\n",
      "1400/1400 [==============================] - 0s 60us/sample - loss: 56.2987 - acc: 0.6607 - val_loss: 113.9886 - val_acc: 0.5575\n",
      "Epoch 67/200\n",
      "1400/1400 [==============================] - 0s 48us/sample - loss: 54.6703 - acc: 0.6693 - val_loss: 85.6760 - val_acc: 0.6200\n",
      "Epoch 68/200\n",
      "1400/1400 [==============================] - 0s 60us/sample - loss: 58.8100 - acc: 0.6564 - val_loss: 137.4585 - val_acc: 0.5750\n",
      "Epoch 69/200\n",
      "1400/1400 [==============================] - 0s 55us/sample - loss: 62.8182 - acc: 0.6443 - val_loss: 97.8983 - val_acc: 0.5775\n",
      "Epoch 70/200\n",
      "1400/1400 [==============================] - 0s 59us/sample - loss: 51.8143 - acc: 0.6729 - val_loss: 112.1303 - val_acc: 0.5450\n",
      "Epoch 71/200\n",
      "1400/1400 [==============================] - 0s 60us/sample - loss: 57.1740 - acc: 0.6657 - val_loss: 122.9541 - val_acc: 0.4925\n",
      "Epoch 72/200\n",
      "1400/1400 [==============================] - 0s 59us/sample - loss: 53.1733 - acc: 0.6693 - val_loss: 108.5122 - val_acc: 0.5750\n",
      "Epoch 73/200\n",
      "1400/1400 [==============================] - 0s 39us/sample - loss: 52.4322 - acc: 0.6686 - val_loss: 108.6240 - val_acc: 0.5775\n",
      "Epoch 74/200\n",
      "1400/1400 [==============================] - 0s 47us/sample - loss: 65.3691 - acc: 0.6421 - val_loss: 114.0494 - val_acc: 0.5500\n",
      "Epoch 75/200\n",
      "1400/1400 [==============================] - 0s 57us/sample - loss: 46.1400 - acc: 0.6821 - val_loss: 96.8768 - val_acc: 0.5950\n",
      "Epoch 76/200\n",
      "1400/1400 [==============================] - 0s 60us/sample - loss: 43.2257 - acc: 0.6850 - val_loss: 95.6214 - val_acc: 0.6275\n",
      "Epoch 77/200\n",
      "1400/1400 [==============================] - 0s 59us/sample - loss: 55.9534 - acc: 0.6586 - val_loss: 138.2863 - val_acc: 0.4875\n",
      "Epoch 78/200\n",
      "1400/1400 [==============================] - 0s 59us/sample - loss: 50.5377 - acc: 0.6836 - val_loss: 107.6403 - val_acc: 0.5750\n",
      "Epoch 79/200\n",
      "1400/1400 [==============================] - 0s 58us/sample - loss: 59.6501 - acc: 0.6429 - val_loss: 143.6559 - val_acc: 0.5100\n",
      "Epoch 80/200\n",
      "1400/1400 [==============================] - 0s 59us/sample - loss: 54.8203 - acc: 0.6557 - val_loss: 98.0668 - val_acc: 0.5475\n",
      "Epoch 81/200\n",
      "1400/1400 [==============================] - 0s 59us/sample - loss: 54.6240 - acc: 0.6393 - val_loss: 101.4797 - val_acc: 0.5500\n",
      "Epoch 82/200\n",
      "1400/1400 [==============================] - 0s 60us/sample - loss: 53.5966 - acc: 0.6693 - val_loss: 92.7331 - val_acc: 0.5950\n",
      "Epoch 83/200\n",
      "1400/1400 [==============================] - 0s 60us/sample - loss: 53.4806 - acc: 0.6621 - val_loss: 114.3298 - val_acc: 0.5175\n",
      "Epoch 84/200\n",
      "1400/1400 [==============================] - 0s 59us/sample - loss: 78.0226 - acc: 0.6314 - val_loss: 113.6338 - val_acc: 0.5800\n",
      "Epoch 85/200\n",
      "1400/1400 [==============================] - 0s 58us/sample - loss: 49.9419 - acc: 0.6971 - val_loss: 79.3888 - val_acc: 0.6125\n",
      "Epoch 86/200\n",
      "1400/1400 [==============================] - 0s 40us/sample - loss: 45.0343 - acc: 0.6814 - val_loss: 96.3334 - val_acc: 0.5525\n",
      "Epoch 87/200\n",
      "1400/1400 [==============================] - 0s 39us/sample - loss: 55.4436 - acc: 0.6643 - val_loss: 101.3915 - val_acc: 0.5650\n",
      "Epoch 88/200\n",
      "1400/1400 [==============================] - 0s 38us/sample - loss: 45.1056 - acc: 0.6771 - val_loss: 100.9527 - val_acc: 0.5650\n",
      "Epoch 89/200\n",
      "1400/1400 [==============================] - 0s 40us/sample - loss: 50.0340 - acc: 0.6579 - val_loss: 96.9644 - val_acc: 0.5825\n",
      "Epoch 90/200\n",
      "1400/1400 [==============================] - 0s 59us/sample - loss: 46.1891 - acc: 0.6857 - val_loss: 99.6865 - val_acc: 0.5550\n",
      "Epoch 91/200\n",
      "1400/1400 [==============================] - 0s 60us/sample - loss: 34.9514 - acc: 0.7186 - val_loss: 105.2871 - val_acc: 0.5450\n",
      "Epoch 92/200\n",
      "1400/1400 [==============================] - 0s 61us/sample - loss: 44.4915 - acc: 0.6836 - val_loss: 108.9606 - val_acc: 0.5225\n",
      "Epoch 93/200\n",
      "1400/1400 [==============================] - 0s 60us/sample - loss: 47.1296 - acc: 0.6707 - val_loss: 97.8075 - val_acc: 0.5700\n",
      "Epoch 94/200\n",
      "1400/1400 [==============================] - 0s 59us/sample - loss: 34.7049 - acc: 0.7071 - val_loss: 89.7669 - val_acc: 0.5775\n",
      "Epoch 95/200\n",
      "1400/1400 [==============================] - 0s 59us/sample - loss: 37.7029 - acc: 0.6986 - val_loss: 94.4613 - val_acc: 0.5625\n",
      "Epoch 96/200\n",
      "1400/1400 [==============================] - 0s 59us/sample - loss: 48.9595 - acc: 0.6821 - val_loss: 111.7505 - val_acc: 0.5725\n",
      "Epoch 97/200\n",
      "1400/1400 [==============================] - 0s 55us/sample - loss: 48.7780 - acc: 0.6921 - val_loss: 98.1901 - val_acc: 0.5400\n",
      "Epoch 98/200\n",
      "1400/1400 [==============================] - 0s 50us/sample - loss: 34.2755 - acc: 0.7271 - val_loss: 78.4339 - val_acc: 0.5650\n",
      "Epoch 99/200\n",
      "1400/1400 [==============================] - 0s 59us/sample - loss: 29.8782 - acc: 0.7300 - val_loss: 104.2264 - val_acc: 0.5400\n",
      "Epoch 100/200\n",
      "1400/1400 [==============================] - 0s 58us/sample - loss: 41.1961 - acc: 0.6864 - val_loss: 81.6777 - val_acc: 0.5950\n",
      "Epoch 101/200\n",
      "1400/1400 [==============================] - 0s 56us/sample - loss: 34.4147 - acc: 0.6914 - val_loss: 80.3283 - val_acc: 0.5700\n",
      "Epoch 102/200\n",
      "1400/1400 [==============================] - 0s 58us/sample - loss: 34.5047 - acc: 0.6921 - val_loss: 92.7756 - val_acc: 0.5750\n",
      "Epoch 103/200\n",
      "1400/1400 [==============================] - 0s 58us/sample - loss: 54.9106 - acc: 0.6750 - val_loss: 76.8608 - val_acc: 0.5725\n",
      "Epoch 104/200\n",
      "1400/1400 [==============================] - 0s 58us/sample - loss: 36.9849 - acc: 0.6929 - val_loss: 101.3606 - val_acc: 0.5550\n",
      "Epoch 105/200\n",
      "1400/1400 [==============================] - 0s 58us/sample - loss: 37.2694 - acc: 0.7007 - val_loss: 100.9240 - val_acc: 0.5650\n",
      "Epoch 106/200\n",
      "1400/1400 [==============================] - 0s 58us/sample - loss: 39.6560 - acc: 0.6764 - val_loss: 79.8032 - val_acc: 0.5575\n",
      "Epoch 107/200\n",
      "1400/1400 [==============================] - 0s 56us/sample - loss: 38.8652 - acc: 0.6886 - val_loss: 102.6344 - val_acc: 0.5300\n",
      "Epoch 108/200\n",
      "1400/1400 [==============================] - 0s 55us/sample - loss: 43.0105 - acc: 0.6800 - val_loss: 93.6270 - val_acc: 0.5275\n",
      "Epoch 109/200\n",
      "1400/1400 [==============================] - 0s 54us/sample - loss: 43.6603 - acc: 0.6771 - val_loss: 93.6448 - val_acc: 0.5475\n",
      "Epoch 110/200\n",
      "1400/1400 [==============================] - 0s 55us/sample - loss: 44.6800 - acc: 0.6786 - val_loss: 95.5616 - val_acc: 0.5400\n",
      "Epoch 111/200\n",
      "1400/1400 [==============================] - 0s 55us/sample - loss: 43.0781 - acc: 0.6729 - val_loss: 96.6860 - val_acc: 0.5400\n",
      "Epoch 112/200\n",
      "1400/1400 [==============================] - 0s 58us/sample - loss: 39.2930 - acc: 0.6850 - val_loss: 85.8580 - val_acc: 0.5675\n",
      "Epoch 113/200\n",
      "1400/1400 [==============================] - 0s 51us/sample - loss: 39.9227 - acc: 0.6800 - val_loss: 78.5876 - val_acc: 0.5700\n",
      "Epoch 114/200\n",
      "1400/1400 [==============================] - 0s 54us/sample - loss: 31.3563 - acc: 0.7171 - val_loss: 97.9377 - val_acc: 0.5675\n",
      "Epoch 115/200\n",
      "1400/1400 [==============================] - 0s 58us/sample - loss: 39.5570 - acc: 0.6914 - val_loss: 89.8590 - val_acc: 0.5525\n"
     ]
    },
    {
     "name": "stdout",
     "output_type": "stream",
     "text": [
      "Epoch 116/200\n",
      "1400/1400 [==============================] - 0s 58us/sample - loss: 33.8948 - acc: 0.6986 - val_loss: 77.9094 - val_acc: 0.6150\n",
      "Epoch 117/200\n",
      "1400/1400 [==============================] - 0s 57us/sample - loss: 30.8946 - acc: 0.7157 - val_loss: 78.7021 - val_acc: 0.5625\n",
      "Epoch 118/200\n",
      "1400/1400 [==============================] - 0s 50us/sample - loss: 28.4369 - acc: 0.7179 - val_loss: 85.0928 - val_acc: 0.5000\n",
      "Epoch 119/200\n",
      "1400/1400 [==============================] - 0s 54us/sample - loss: 32.8139 - acc: 0.6986 - val_loss: 91.3939 - val_acc: 0.5175\n",
      "Epoch 120/200\n",
      "1400/1400 [==============================] - 0s 59us/sample - loss: 36.1403 - acc: 0.6900 - val_loss: 97.3973 - val_acc: 0.5475\n",
      "Epoch 121/200\n",
      "1400/1400 [==============================] - 0s 61us/sample - loss: 25.8685 - acc: 0.7300 - val_loss: 75.1564 - val_acc: 0.5725\n",
      "Epoch 122/200\n",
      "1400/1400 [==============================] - 0s 58us/sample - loss: 20.7764 - acc: 0.7486 - val_loss: 81.4685 - val_acc: 0.5600\n",
      "Epoch 123/200\n",
      "1400/1400 [==============================] - 0s 54us/sample - loss: 21.2165 - acc: 0.7586 - val_loss: 65.5753 - val_acc: 0.5725\n",
      "Epoch 124/200\n",
      "1400/1400 [==============================] - 0s 51us/sample - loss: 20.2013 - acc: 0.7471 - val_loss: 64.7847 - val_acc: 0.6250\n",
      "Epoch 125/200\n",
      "1400/1400 [==============================] - 0s 59us/sample - loss: 23.2114 - acc: 0.7343 - val_loss: 73.4960 - val_acc: 0.5750\n",
      "Epoch 126/200\n",
      "1400/1400 [==============================] - 0s 58us/sample - loss: 25.6180 - acc: 0.7250 - val_loss: 69.3176 - val_acc: 0.5775\n",
      "Epoch 127/200\n",
      "1400/1400 [==============================] - 0s 58us/sample - loss: 23.0686 - acc: 0.7264 - val_loss: 70.5857 - val_acc: 0.5675\n",
      "Epoch 128/200\n",
      "1400/1400 [==============================] - 0s 59us/sample - loss: 16.7428 - acc: 0.7679 - val_loss: 61.4098 - val_acc: 0.6550\n",
      "Epoch 129/200\n",
      "1400/1400 [==============================] - 0s 60us/sample - loss: 21.1101 - acc: 0.7421 - val_loss: 67.2646 - val_acc: 0.5700\n",
      "Epoch 130/200\n",
      "1400/1400 [==============================] - 0s 56us/sample - loss: 21.3610 - acc: 0.7286 - val_loss: 60.6950 - val_acc: 0.6150\n",
      "Epoch 131/200\n",
      "1400/1400 [==============================] - 0s 61us/sample - loss: 23.9580 - acc: 0.7307 - val_loss: 80.1484 - val_acc: 0.5500\n",
      "Epoch 132/200\n",
      "1400/1400 [==============================] - 0s 50us/sample - loss: 28.6792 - acc: 0.6979 - val_loss: 72.4584 - val_acc: 0.5400\n",
      "Epoch 133/200\n",
      "1400/1400 [==============================] - 0s 60us/sample - loss: 23.6764 - acc: 0.7257 - val_loss: 61.0816 - val_acc: 0.6075\n",
      "Epoch 134/200\n",
      "1400/1400 [==============================] - 0s 50us/sample - loss: 24.3971 - acc: 0.7257 - val_loss: 72.7956 - val_acc: 0.5550\n",
      "Epoch 135/200\n",
      "1400/1400 [==============================] - 0s 59us/sample - loss: 21.6443 - acc: 0.7414 - val_loss: 63.1922 - val_acc: 0.6000\n",
      "Epoch 136/200\n",
      "1400/1400 [==============================] - 0s 59us/sample - loss: 21.6748 - acc: 0.7307 - val_loss: 60.2993 - val_acc: 0.5825\n",
      "Epoch 137/200\n",
      "1400/1400 [==============================] - 0s 59us/sample - loss: 27.3806 - acc: 0.7150 - val_loss: 81.4467 - val_acc: 0.5050\n",
      "Epoch 138/200\n",
      "1400/1400 [==============================] - 0s 56us/sample - loss: 26.1658 - acc: 0.7229 - val_loss: 75.0092 - val_acc: 0.5250\n",
      "Epoch 139/200\n",
      "1400/1400 [==============================] - 0s 59us/sample - loss: 30.0878 - acc: 0.7107 - val_loss: 78.5805 - val_acc: 0.5550\n",
      "Epoch 140/200\n",
      "1400/1400 [==============================] - 0s 57us/sample - loss: 28.0650 - acc: 0.7086 - val_loss: 71.8551 - val_acc: 0.5350\n",
      "Epoch 141/200\n",
      "1400/1400 [==============================] - 0s 58us/sample - loss: 20.3994 - acc: 0.7443 - val_loss: 63.9053 - val_acc: 0.6050\n",
      "Epoch 142/200\n",
      "1400/1400 [==============================] - 0s 60us/sample - loss: 19.3338 - acc: 0.7421 - val_loss: 58.9392 - val_acc: 0.6075\n",
      "Epoch 143/200\n",
      "1400/1400 [==============================] - 0s 57us/sample - loss: 20.6770 - acc: 0.7414 - val_loss: 62.4682 - val_acc: 0.5600\n",
      "Epoch 144/200\n",
      "1400/1400 [==============================] - 0s 52us/sample - loss: 22.7417 - acc: 0.7157 - val_loss: 67.4086 - val_acc: 0.5400\n",
      "Epoch 145/200\n",
      "1400/1400 [==============================] - 0s 51us/sample - loss: 24.7910 - acc: 0.7193 - val_loss: 62.4715 - val_acc: 0.5850\n",
      "Epoch 146/200\n",
      "1400/1400 [==============================] - 0s 55us/sample - loss: 22.3625 - acc: 0.7243 - val_loss: 72.7724 - val_acc: 0.5225\n",
      "Epoch 147/200\n",
      "1400/1400 [==============================] - 0s 58us/sample - loss: 23.2845 - acc: 0.7150 - val_loss: 54.6656 - val_acc: 0.5975\n",
      "Epoch 148/200\n",
      "1400/1400 [==============================] - 0s 53us/sample - loss: 21.8203 - acc: 0.7186 - val_loss: 53.0243 - val_acc: 0.6375\n",
      "Epoch 149/200\n",
      "1400/1400 [==============================] - 0s 49us/sample - loss: 19.0785 - acc: 0.7450 - val_loss: 59.8123 - val_acc: 0.6125\n",
      "Epoch 150/200\n",
      "1400/1400 [==============================] - 0s 54us/sample - loss: 19.7123 - acc: 0.7393 - val_loss: 69.8824 - val_acc: 0.5825\n",
      "Epoch 151/200\n",
      "1400/1400 [==============================] - 0s 58us/sample - loss: 23.0322 - acc: 0.7086 - val_loss: 60.7007 - val_acc: 0.5750\n",
      "Epoch 152/200\n",
      "1400/1400 [==============================] - 0s 47us/sample - loss: 20.4413 - acc: 0.7086 - val_loss: 57.1432 - val_acc: 0.5825\n",
      "Epoch 153/200\n",
      "1400/1400 [==============================] - 0s 56us/sample - loss: 20.2352 - acc: 0.7214 - val_loss: 66.5026 - val_acc: 0.5325\n",
      "Epoch 154/200\n",
      "1400/1400 [==============================] - 0s 52us/sample - loss: 16.7231 - acc: 0.7464 - val_loss: 47.3000 - val_acc: 0.6150\n",
      "Epoch 155/200\n",
      "1400/1400 [==============================] - 0s 53us/sample - loss: 18.3401 - acc: 0.7300 - val_loss: 53.1415 - val_acc: 0.6200\n",
      "Epoch 156/200\n",
      "1400/1400 [==============================] - 0s 58us/sample - loss: 17.9193 - acc: 0.7314 - val_loss: 54.6274 - val_acc: 0.6125\n",
      "Epoch 157/200\n",
      "1400/1400 [==============================] - 0s 63us/sample - loss: 15.4341 - acc: 0.7564 - val_loss: 49.5286 - val_acc: 0.5975\n",
      "Epoch 158/200\n",
      "1400/1400 [==============================] - 0s 58us/sample - loss: 20.5764 - acc: 0.7186 - val_loss: 53.7364 - val_acc: 0.5875\n",
      "Epoch 159/200\n",
      "1400/1400 [==============================] - 0s 58us/sample - loss: 20.0958 - acc: 0.7264 - val_loss: 60.4146 - val_acc: 0.5650\n",
      "Epoch 160/200\n",
      "1400/1400 [==============================] - 0s 58us/sample - loss: 17.3686 - acc: 0.7343 - val_loss: 48.6416 - val_acc: 0.6225\n",
      "Epoch 161/200\n",
      "1400/1400 [==============================] - 0s 58us/sample - loss: 16.2969 - acc: 0.7529 - val_loss: 54.3785 - val_acc: 0.5950\n",
      "Epoch 162/200\n",
      "1400/1400 [==============================] - 0s 59us/sample - loss: 19.5112 - acc: 0.7164 - val_loss: 51.8595 - val_acc: 0.6050\n",
      "Epoch 163/200\n",
      "1400/1400 [==============================] - 0s 56us/sample - loss: 17.0732 - acc: 0.7336 - val_loss: 60.3325 - val_acc: 0.5825\n",
      "Epoch 164/200\n",
      "1400/1400 [==============================] - 0s 58us/sample - loss: 16.3568 - acc: 0.7421 - val_loss: 53.4730 - val_acc: 0.5675\n",
      "Epoch 165/200\n",
      "1400/1400 [==============================] - 0s 58us/sample - loss: 16.8125 - acc: 0.7507 - val_loss: 48.4925 - val_acc: 0.5975\n",
      "Epoch 166/200\n",
      "1400/1400 [==============================] - 0s 58us/sample - loss: 14.3680 - acc: 0.7579 - val_loss: 52.4007 - val_acc: 0.5650\n",
      "Epoch 167/200\n",
      "1400/1400 [==============================] - 0s 58us/sample - loss: 20.9766 - acc: 0.7086 - val_loss: 52.1490 - val_acc: 0.5475\n",
      "Epoch 168/200\n",
      "1400/1400 [==============================] - 0s 56us/sample - loss: 19.9150 - acc: 0.7086 - val_loss: 50.1760 - val_acc: 0.5725\n",
      "Epoch 169/200\n",
      "1400/1400 [==============================] - 0s 56us/sample - loss: 20.6217 - acc: 0.7164 - val_loss: 49.7887 - val_acc: 0.5800\n",
      "Epoch 170/200\n",
      "1400/1400 [==============================] - 0s 56us/sample - loss: 16.6998 - acc: 0.7393 - val_loss: 58.4478 - val_acc: 0.5675\n",
      "Epoch 171/200\n",
      "1400/1400 [==============================] - 0s 57us/sample - loss: 16.0846 - acc: 0.7421 - val_loss: 51.4457 - val_acc: 0.5950\n",
      "Epoch 172/200\n",
      "1400/1400 [==============================] - 0s 58us/sample - loss: 16.1181 - acc: 0.7321 - val_loss: 54.6908 - val_acc: 0.5575\n",
      "Epoch 173/200\n",
      "1400/1400 [==============================] - 0s 56us/sample - loss: 16.5225 - acc: 0.7207 - val_loss: 45.2934 - val_acc: 0.5900\n"
     ]
    },
    {
     "name": "stdout",
     "output_type": "stream",
     "text": [
      "Epoch 174/200\n",
      "1400/1400 [==============================] - 0s 57us/sample - loss: 16.8882 - acc: 0.7300 - val_loss: 50.8167 - val_acc: 0.5350\n",
      "Epoch 175/200\n",
      "1400/1400 [==============================] - 0s 56us/sample - loss: 17.2859 - acc: 0.7079 - val_loss: 46.9215 - val_acc: 0.5725\n",
      "Epoch 176/200\n",
      "1400/1400 [==============================] - 0s 57us/sample - loss: 14.2953 - acc: 0.7429 - val_loss: 42.5252 - val_acc: 0.6000\n",
      "Epoch 177/200\n",
      "1400/1400 [==============================] - 0s 57us/sample - loss: 14.3202 - acc: 0.7393 - val_loss: 44.4939 - val_acc: 0.5950\n",
      "Epoch 178/200\n",
      "1400/1400 [==============================] - 0s 56us/sample - loss: 15.9831 - acc: 0.7293 - val_loss: 47.0647 - val_acc: 0.5875\n",
      "Epoch 179/200\n",
      "1400/1400 [==============================] - 0s 58us/sample - loss: 13.9787 - acc: 0.7479 - val_loss: 34.5693 - val_acc: 0.6375\n",
      "Epoch 180/200\n",
      "1400/1400 [==============================] - 0s 52us/sample - loss: 9.5317 - acc: 0.7793 - val_loss: 35.7813 - val_acc: 0.6100\n",
      "Epoch 181/200\n",
      "1400/1400 [==============================] - 0s 58us/sample - loss: 9.6460 - acc: 0.7800 - val_loss: 38.0461 - val_acc: 0.6000\n",
      "Epoch 182/200\n",
      "1400/1400 [==============================] - 0s 59us/sample - loss: 10.7703 - acc: 0.7607 - val_loss: 36.2088 - val_acc: 0.6325\n",
      "Epoch 183/200\n",
      "1400/1400 [==============================] - 0s 58us/sample - loss: 10.4741 - acc: 0.7793 - val_loss: 49.4358 - val_acc: 0.5750\n",
      "Epoch 184/200\n",
      "1400/1400 [==============================] - 0s 59us/sample - loss: 14.4130 - acc: 0.7271 - val_loss: 38.7516 - val_acc: 0.6175\n",
      "Epoch 185/200\n",
      "1400/1400 [==============================] - 0s 58us/sample - loss: 10.7760 - acc: 0.7507 - val_loss: 41.0207 - val_acc: 0.5775\n",
      "Epoch 186/200\n",
      "1400/1400 [==============================] - 0s 59us/sample - loss: 11.1803 - acc: 0.7579 - val_loss: 47.0659 - val_acc: 0.5550\n",
      "Epoch 187/200\n",
      "1400/1400 [==============================] - 0s 56us/sample - loss: 13.5134 - acc: 0.7293 - val_loss: 52.6311 - val_acc: 0.5650\n",
      "Epoch 188/200\n",
      "1400/1400 [==============================] - 0s 57us/sample - loss: 15.2792 - acc: 0.7393 - val_loss: 45.6285 - val_acc: 0.5825\n",
      "Epoch 189/200\n",
      "1400/1400 [==============================] - 0s 57us/sample - loss: 12.7984 - acc: 0.7450 - val_loss: 43.1962 - val_acc: 0.5850\n",
      "Epoch 190/200\n",
      "1400/1400 [==============================] - 0s 50us/sample - loss: 14.4854 - acc: 0.7271 - val_loss: 38.5601 - val_acc: 0.6000\n",
      "Epoch 191/200\n",
      "1400/1400 [==============================] - 0s 55us/sample - loss: 12.4269 - acc: 0.7364 - val_loss: 46.6317 - val_acc: 0.5750\n",
      "Epoch 192/200\n",
      "1400/1400 [==============================] - 0s 51us/sample - loss: 16.6889 - acc: 0.7071 - val_loss: 44.8078 - val_acc: 0.5775\n",
      "Epoch 193/200\n",
      "1400/1400 [==============================] - 0s 55us/sample - loss: 14.6352 - acc: 0.7400 - val_loss: 43.3873 - val_acc: 0.5825\n",
      "Epoch 194/200\n",
      "1400/1400 [==============================] - 0s 56us/sample - loss: 16.1858 - acc: 0.7143 - val_loss: 40.4529 - val_acc: 0.5975\n",
      "Epoch 195/200\n",
      "1400/1400 [==============================] - 0s 56us/sample - loss: 12.7421 - acc: 0.7343 - val_loss: 35.9847 - val_acc: 0.6100\n",
      "Epoch 196/200\n",
      "1400/1400 [==============================] - 0s 54us/sample - loss: 13.6348 - acc: 0.7557 - val_loss: 45.1316 - val_acc: 0.5850\n",
      "Epoch 197/200\n",
      "1400/1400 [==============================] - 0s 55us/sample - loss: 15.7833 - acc: 0.7064 - val_loss: 42.0010 - val_acc: 0.5850\n",
      "Epoch 198/200\n",
      "1400/1400 [==============================] - 0s 58us/sample - loss: 15.7566 - acc: 0.7200 - val_loss: 36.4869 - val_acc: 0.6000\n",
      "Epoch 199/200\n",
      "1400/1400 [==============================] - 0s 56us/sample - loss: 14.1029 - acc: 0.7357 - val_loss: 38.8126 - val_acc: 0.6100\n",
      "Epoch 200/200\n",
      "1400/1400 [==============================] - 0s 56us/sample - loss: 10.0834 - acc: 0.7650 - val_loss: 34.4276 - val_acc: 0.5850\n"
     ]
    }
   ],
   "source": [
    "import tensorflow as tf\n",
    "from matplotlib import pyplot as plt\n",
    "\n",
    "model = tf.keras.Sequential()\n",
    "model.add(tf.keras.layers.Dense(100, input_shape=(features_len,)))\n",
    "model.add(tf.keras.layers.Dense(20))\n",
    "model.add(tf.keras.layers.Softmax())\n",
    "opt = tf.keras.optimizers.Adam()\n",
    "model.compile(optimizer=opt, loss='sparse_categorical_crossentropy', metrics=['accuracy'])\n",
    "\n",
    "history = model.fit(X_train, y_train, epochs=200, batch_size=64, validation_data=(X_valid, y_valid))\n",
    "\n"
   ]
  },
  {
   "cell_type": "code",
   "execution_count": 161,
   "id": "2b9589ea",
   "metadata": {},
   "outputs": [
    {
     "data": {
      "image/png": "[encoded data removed]",
      "text/plain": [
       "<Figure size 432x288 with 1 Axes>"
      ]
     },
     "metadata": {
      "needs_background": "light"
     },
     "output_type": "display_data"
    }
   ],
   "source": [
    "plt.plot(history.history['acc'])\n",
    "plt.plot(history.history['val_acc'])\n",
    "plt.title('model accuracy')\n",
    "plt.ylabel('accuracy')\n",
    "plt.xlabel('epoch')\n",
    "plt.legend(['train', 'val'], loc='upper left')\n",
    "plt.show()"
   ]
  },
  {
   "cell_type": "code",
   "execution_count": 162,
   "id": "97573178",
   "metadata": {},
   "outputs": [
    {
     "data": {
      "image/png": "[encoded data removed]",
      "text/plain": [
       "<Figure size 432x288 with 1 Axes>"
      ]
     },
     "metadata": {
      "needs_background": "light"
     },
     "output_type": "display_data"
    }
   ],
   "source": [
    "plt.plot(history.history['loss'])\n",
    "plt.plot(history.history['val_loss'])\n",
    "plt.title('model loss')\n",
    "plt.ylabel('loss')\n",
    "plt.xlabel('epoch')\n",
    "plt.legend(['train', 'val'], loc='upper left')\n",
    "plt.show()"
   ]
  },
  {
   "cell_type": "code",
   "execution_count": 163,
   "id": "663ec764",
   "metadata": {},
   "outputs": [
    {
     "data": {
      "text/plain": [
       "0.635"
      ]
     },
     "execution_count": 163,
     "metadata": {},
     "output_type": "execute_result"
    }
   ],
   "source": [
    "one_hot = model.predict(X_test)\n",
    "y_pred = np.argmax(one_hot, axis=1).tolist()\n",
    "sum(a == b for a, b in zip(y_pred, y_test)) / len(y_test)"
   ]
  },
  {
   "cell_type": "code",
   "execution_count": 164,
   "id": "26a555a6",
   "metadata": {},
   "outputs": [
    {
     "data": {
      "text/plain": [
       "0.585"
      ]
     },
     "execution_count": 164,
     "metadata": {},
     "output_type": "execute_result"
    }
   ],
   "source": [
    "one_hot = model.predict(X_valid)\n",
    "y_pred = np.argmax(one_hot, axis=1).tolist()\n",
    "sum(a == b for a, b in zip(y_pred, y_valid)) / len(y_valid)"
   ]
  },
  {
   "cell_type": "code",
   "execution_count": 165,
   "id": "db232487",
   "metadata": {},
   "outputs": [
    {
     "data": {
      "text/plain": [
       "0.7664285714285715"
      ]
     },
     "execution_count": 165,
     "metadata": {},
     "output_type": "execute_result"
    }
   ],
   "source": [
    "one_hot = model.predict(X_train)\n",
    "y_pred = np.argmax(one_hot, axis=1).tolist()\n",
    "sum(a == b for a, b in zip(y_pred, y_train)) / len(y_train)"
   ]
  },
  {
   "cell_type": "code",
   "execution_count": null,
   "id": "2dd4f6ff",
   "metadata": {},
   "outputs": [],
   "source": []
  },
  {
   "cell_type": "code",
   "execution_count": null,
   "id": "8bca1411",
   "metadata": {},
   "outputs": [],
   "source": []
  },
  {
   "cell_type": "markdown",
   "id": "2df3fea8",
   "metadata": {},
   "source": [
    "# 2 audio and 1 video features"
   ]
  },
  {
   "cell_type": "code",
   "execution_count": 1,
   "id": "d59f9d53",
   "metadata": {},
   "outputs": [],
   "source": [
    "import numpy as np\n",
    "import os\n",
    "import pandas as pd\n",
    "from sklearn.metrics.pairwise import cosine_similarity\n",
    "from numpy import linalg as LA\n",
    "from sklearn.metrics import confusion_matrix\n",
    "import matplotlib.pyplot as plt\n",
    "import seaborn as sn\n",
    "from sklearn.model_selection import train_test_split"
   ]
  },
  {
   "cell_type": "code",
   "execution_count": 2,
   "id": "4064242a",
   "metadata": {},
   "outputs": [],
   "source": [
    "PATH_AUDIO = \"/home/eftekhar/Documents/Databases/AVDT_backup/Audios\"\n",
    "aud_names = []\n",
    "aud_classes = []\n",
    "for d in os.listdir(PATH_AUDIO):\n",
    "    for aud in os.listdir(os.path.join(PATH_AUDIO, d)[:100]):\n",
    "        aud_names.append(aud.split(\"/\")[-1].split(\".\")[0])\n",
    "        aud_classes.append(d) \n",
    "\n",
    "outputs1 = np.load(\"results_2layer_numscale20_downfac_root_2_no_norm1_librosa_44100_one_path_kaiser_fast_20_classes_100videos.npy\")\n",
    "outputs2 = np.load(\"results_3layer_numscale20_downfac_root_2_no_norm1_librosa_44100_one_path_kaiser_fast_20_classes_100videos.npy\")\n",
    "\n",
    "# outputs1 = outputs1 / np.linalg.norm(outputs1, axis=1)[:,None]\n",
    "# outputs2 = outputs2 / np.linalg.norm(outputs2, axis=1)[:,None]\n",
    "\n",
    "outputs = np.concatenate((outputs1, outputs2), axis=-1)\n",
    "\n",
    "aud_feats = list(outputs)\n",
    "aud_feats = list(map(lambda x: x[None, :], aud_feats))\n",
    "\n",
    "df_aud = pd.DataFrame(data={'name': aud_names, 'aud_features': aud_feats, 'class': aud_classes})\n",
    "\n",
    "\n",
    "vid_feats = np.load(\"./video_features/features_test_3layer_highresolution.npy\")\n",
    "PATH_TO_CLIPS = \"/home/eftekhar/Documents/Databases/AVDT_backup/Frames/clips.txt\"\n",
    "f = open(PATH_TO_CLIPS, \"r\")\n",
    "clips = f.readlines()\n",
    "\n",
    "\n",
    "vid_names = list(map(lambda x: x[::-1].split(\" \", 2)[-1][::-1].split(\"/\")[-1], clips))\n",
    "vid_classes = list(map(lambda x: x.split('/')[-2], clips))\n",
    "vid_feats = list(vid_feats)\n",
    "vid_feats = map(lambda x: x[None,:],vid_feats)\n",
    "\n",
    "df_vid = pd.DataFrame(data={'name': vid_names, 'vid_features': vid_feats, 'class': vid_classes})\n",
    "df_vid_agg = df_vid.groupby(['class', 'name'])['vid_features'].mean().to_frame().reset_index()\n",
    "# normalizing the features\n",
    "# df_vid_agg['vid_features'] = df_vid_agg['vid_features'].apply(lambda x: x / LA.norm(x))\n",
    "\n",
    "df_join = df_vid_agg.merge(df_aud, on=['class', 'name'], how='inner')\n",
    "df_join['concat_features'] = df_join.apply(lambda x: np.concatenate((x.vid_features, x.aud_features), axis=-1), axis=1)\n",
    "\n",
    "labels = [i // 100 for i in range(len(df_join))]\n",
    "df_join['label'] = labels\n",
    "\n",
    "df_join = df_join.sample(frac=1).reset_index(drop=True)\n",
    "\n",
    "X, y = np.concatenate(df_join['concat_features'].tolist(), axis=0), df_join['label'].tolist()\n",
    "X_train, X_test, y_train, y_test = train_test_split(X, y, test_size=0.3, shuffle=False)\n",
    "X_valid, X_test, y_valid, y_test = train_test_split(X_test, y_test, test_size=1/3, shuffle=False)\n",
    "features_len = df_join['concat_features'].iloc[0].shape[1]"
   ]
  },
  {
   "cell_type": "code",
   "execution_count": 3,
   "id": "4eae289d",
   "metadata": {},
   "outputs": [
    {
     "name": "stdout",
     "output_type": "stream",
     "text": [
      "WARNING:tensorflow:From /home/eftekhar/anaconda3/envs/SOE_NET/lib/python3.7/site-packages/tensorflow_core/python/ops/resource_variable_ops.py:1630: calling BaseResourceVariable.__init__ (from tensorflow.python.ops.resource_variable_ops) with constraint is deprecated and will be removed in a future version.\n",
      "Instructions for updating:\n",
      "If using Keras pass *_constraint arguments to layers.\n",
      "Train on 1400 samples, validate on 400 samples\n"
     ]
    },
    {
     "name": "stderr",
     "output_type": "stream",
     "text": [
      "2022-10-11 18:02:46.924206: I tensorflow/stream_executor/platform/default/dso_loader.cc:44] Successfully opened dynamic library libcuda.so.1\n",
      "2022-10-11 18:02:46.947898: I tensorflow/core/common_runtime/gpu/gpu_device.cc:1618] Found device 0 with properties: \n",
      "name: Quadro P6000 major: 6 minor: 1 memoryClockRate(GHz): 1.645\n",
      "pciBusID: 0000:65:00.0\n",
      "2022-10-11 18:02:46.948114: I tensorflow/stream_executor/platform/default/dso_loader.cc:44] Successfully opened dynamic library libcudart.so.10.0\n",
      "2022-10-11 18:02:46.949492: I tensorflow/stream_executor/platform/default/dso_loader.cc:44] Successfully opened dynamic library libcublas.so.10.0\n",
      "2022-10-11 18:02:46.950672: I tensorflow/stream_executor/platform/default/dso_loader.cc:44] Successfully opened dynamic library libcufft.so.10.0\n",
      "2022-10-11 18:02:46.950979: I tensorflow/stream_executor/platform/default/dso_loader.cc:44] Successfully opened dynamic library libcurand.so.10.0\n",
      "2022-10-11 18:02:46.952445: I tensorflow/stream_executor/platform/default/dso_loader.cc:44] Successfully opened dynamic library libcusolver.so.10.0\n",
      "2022-10-11 18:02:46.953502: I tensorflow/stream_executor/platform/default/dso_loader.cc:44] Successfully opened dynamic library libcusparse.so.10.0\n",
      "2022-10-11 18:02:46.956956: I tensorflow/stream_executor/platform/default/dso_loader.cc:44] Successfully opened dynamic library libcudnn.so.7\n",
      "2022-10-11 18:02:46.957371: I tensorflow/core/common_runtime/gpu/gpu_device.cc:1746] Adding visible gpu devices: 0\n",
      "2022-10-11 18:02:46.958285: I tensorflow/core/platform/cpu_feature_guard.cc:142] Your CPU supports instructions that this TensorFlow binary was not compiled to use: SSE4.1 SSE4.2 AVX AVX2 AVX512F FMA\n",
      "2022-10-11 18:02:46.983553: I tensorflow/core/platform/profile_utils/cpu_utils.cc:94] CPU Frequency: 3699850000 Hz\n",
      "2022-10-11 18:02:46.984435: I tensorflow/compiler/xla/service/service.cc:168] XLA service 0x557de6df2f90 initialized for platform Host (this does not guarantee that XLA will be used). Devices:\n",
      "2022-10-11 18:02:46.984464: I tensorflow/compiler/xla/service/service.cc:176]   StreamExecutor device (0): Host, Default Version\n",
      "2022-10-11 18:02:46.984898: I tensorflow/core/common_runtime/gpu/gpu_device.cc:1618] Found device 0 with properties: \n",
      "name: Quadro P6000 major: 6 minor: 1 memoryClockRate(GHz): 1.645\n",
      "pciBusID: 0000:65:00.0\n",
      "2022-10-11 18:02:46.984960: I tensorflow/stream_executor/platform/default/dso_loader.cc:44] Successfully opened dynamic library libcudart.so.10.0\n",
      "2022-10-11 18:02:46.984981: I tensorflow/stream_executor/platform/default/dso_loader.cc:44] Successfully opened dynamic library libcublas.so.10.0\n",
      "2022-10-11 18:02:46.984997: I tensorflow/stream_executor/platform/default/dso_loader.cc:44] Successfully opened dynamic library libcufft.so.10.0\n",
      "2022-10-11 18:02:46.985012: I tensorflow/stream_executor/platform/default/dso_loader.cc:44] Successfully opened dynamic library libcurand.so.10.0\n",
      "2022-10-11 18:02:46.985028: I tensorflow/stream_executor/platform/default/dso_loader.cc:44] Successfully opened dynamic library libcusolver.so.10.0\n",
      "2022-10-11 18:02:46.985043: I tensorflow/stream_executor/platform/default/dso_loader.cc:44] Successfully opened dynamic library libcusparse.so.10.0\n",
      "2022-10-11 18:02:46.985058: I tensorflow/stream_executor/platform/default/dso_loader.cc:44] Successfully opened dynamic library libcudnn.so.7\n",
      "2022-10-11 18:02:46.985407: I tensorflow/core/common_runtime/gpu/gpu_device.cc:1746] Adding visible gpu devices: 0\n",
      "2022-10-11 18:02:46.985459: I tensorflow/stream_executor/platform/default/dso_loader.cc:44] Successfully opened dynamic library libcudart.so.10.0\n",
      "2022-10-11 18:02:47.055444: I tensorflow/core/common_runtime/gpu/gpu_device.cc:1159] Device interconnect StreamExecutor with strength 1 edge matrix:\n",
      "2022-10-11 18:02:47.055469: I tensorflow/core/common_runtime/gpu/gpu_device.cc:1165]      0 \n",
      "2022-10-11 18:02:47.055474: I tensorflow/core/common_runtime/gpu/gpu_device.cc:1178] 0:   N \n",
      "2022-10-11 18:02:47.055943: I tensorflow/core/common_runtime/gpu/gpu_device.cc:1304] Created TensorFlow device (/job:localhost/replica:0/task:0/device:GPU:0 with 21549 MB memory) -> physical GPU (device: 0, name: Quadro P6000, pci bus id: 0000:65:00.0, compute capability: 6.1)\n",
      "2022-10-11 18:02:47.057227: I tensorflow/compiler/xla/service/service.cc:168] XLA service 0x557de939bbc0 initialized for platform CUDA (this does not guarantee that XLA will be used). Devices:\n",
      "2022-10-11 18:02:47.057245: I tensorflow/compiler/xla/service/service.cc:176]   StreamExecutor device (0): Quadro P6000, Compute Capability 6.1\n"
     ]
    },
    {
     "name": "stdout",
     "output_type": "stream",
     "text": [
      "Epoch 1/20\n",
      "\r",
      "  64/1400 [>.............................] - ETA: 3s - loss: 6259.2051 - acc: 0.0469"
     ]
    },
    {
     "name": "stderr",
     "output_type": "stream",
     "text": [
      "2022-10-11 18:02:47.618267: I tensorflow/stream_executor/platform/default/dso_loader.cc:44] Successfully opened dynamic library libcublas.so.10.0\n"
     ]
    },
    {
     "name": "stdout",
     "output_type": "stream",
     "text": [
      "1400/1400 [==============================] - 0s 175us/sample - loss: 2174.9141 - acc: 0.3164 - val_loss: 921.4950 - val_acc: 0.5225\n",
      "Epoch 2/20\n",
      "1400/1400 [==============================] - 0s 41us/sample - loss: 735.0067 - acc: 0.5686 - val_loss: 646.3412 - val_acc: 0.6100\n",
      "Epoch 3/20\n",
      "1400/1400 [==============================] - 0s 47us/sample - loss: 512.4012 - acc: 0.6493 - val_loss: 414.7560 - val_acc: 0.6850\n",
      "Epoch 4/20\n",
      "1400/1400 [==============================] - 0s 48us/sample - loss: 357.4797 - acc: 0.6936 - val_loss: 386.0957 - val_acc: 0.6950\n",
      "Epoch 5/20\n",
      "1400/1400 [==============================] - 0s 46us/sample - loss: 312.5832 - acc: 0.7071 - val_loss: 379.3539 - val_acc: 0.7050\n",
      "Epoch 6/20\n",
      "1400/1400 [==============================] - 0s 48us/sample - loss: 278.8259 - acc: 0.7421 - val_loss: 288.5761 - val_acc: 0.7550\n",
      "Epoch 7/20\n",
      "1400/1400 [==============================] - 0s 45us/sample - loss: 227.7060 - acc: 0.7621 - val_loss: 266.9738 - val_acc: 0.7450\n",
      "Epoch 8/20\n",
      "1400/1400 [==============================] - 0s 47us/sample - loss: 248.0787 - acc: 0.7493 - val_loss: 386.6847 - val_acc: 0.7300\n",
      "Epoch 9/20\n",
      "1400/1400 [==============================] - 0s 45us/sample - loss: 308.1260 - acc: 0.7479 - val_loss: 619.2658 - val_acc: 0.6175\n",
      "Epoch 10/20\n",
      "1400/1400 [==============================] - 0s 46us/sample - loss: 352.7715 - acc: 0.7521 - val_loss: 494.4993 - val_acc: 0.6900\n",
      "Epoch 11/20\n",
      "1400/1400 [==============================] - 0s 47us/sample - loss: 264.6261 - acc: 0.7764 - val_loss: 314.1514 - val_acc: 0.7700\n",
      "Epoch 12/20\n",
      "1400/1400 [==============================] - 0s 45us/sample - loss: 214.3509 - acc: 0.8079 - val_loss: 363.5006 - val_acc: 0.7700\n",
      "Epoch 13/20\n",
      "1400/1400 [==============================] - 0s 45us/sample - loss: 190.8456 - acc: 0.8293 - val_loss: 281.1093 - val_acc: 0.7450\n",
      "Epoch 14/20\n",
      "1400/1400 [==============================] - 0s 43us/sample - loss: 213.1659 - acc: 0.7821 - val_loss: 211.3254 - val_acc: 0.8050\n",
      "Epoch 15/20\n",
      "1400/1400 [==============================] - 0s 42us/sample - loss: 156.9105 - acc: 0.8329 - val_loss: 256.4870 - val_acc: 0.7925\n",
      "Epoch 16/20\n",
      "1400/1400 [==============================] - 0s 37us/sample - loss: 137.9743 - acc: 0.8479 - val_loss: 228.0519 - val_acc: 0.8350\n",
      "Epoch 17/20\n",
      "1400/1400 [==============================] - 0s 47us/sample - loss: 152.8797 - acc: 0.8364 - val_loss: 226.4311 - val_acc: 0.8050\n",
      "Epoch 18/20\n",
      "1400/1400 [==============================] - 0s 47us/sample - loss: 146.6692 - acc: 0.8329 - val_loss: 220.0313 - val_acc: 0.8300\n",
      "Epoch 19/20\n",
      "1400/1400 [==============================] - 0s 47us/sample - loss: 132.2548 - acc: 0.8579 - val_loss: 205.0928 - val_acc: 0.8325\n",
      "Epoch 20/20\n",
      "1400/1400 [==============================] - 0s 48us/sample - loss: 98.9035 - acc: 0.8771 - val_loss: 252.4657 - val_acc: 0.8125\n"
     ]
    }
   ],
   "source": [
    "import tensorflow as tf\n",
    "from matplotlib import pyplot as plt\n",
    "\n",
    "model = tf.keras.Sequential()\n",
    "model.add(tf.keras.layers.Dense(100, input_shape=(features_len,)))\n",
    "model.add(tf.keras.layers.Dense(20))\n",
    "model.add(tf.keras.layers.Softmax())\n",
    "opt = tf.keras.optimizers.Adam()\n",
    "model.compile(optimizer=opt, loss='sparse_categorical_crossentropy', metrics=['accuracy'])\n",
    "\n",
    "history = model.fit(X_train, y_train, epochs=20, batch_size=64, validation_data=(X_valid, y_valid))"
   ]
  },
  {
   "cell_type": "code",
   "execution_count": 4,
   "id": "9a7406f0",
   "metadata": {},
   "outputs": [
    {
     "data": {
      "image/png": "[encoded data removed]",
      "text/plain": [
       "<Figure size 432x288 with 1 Axes>"
      ]
     },
     "metadata": {
      "needs_background": "light"
     },
     "output_type": "display_data"
    }
   ],
   "source": [
    "plt.plot(history.history['acc'])\n",
    "plt.plot(history.history['val_acc'])\n",
    "plt.title('model accuracy')\n",
    "plt.ylabel('accuracy')\n",
    "plt.xlabel('epoch')\n",
    "plt.legend(['train', 'val'], loc='upper left')\n",
    "plt.show()"
   ]
  },
  {
   "cell_type": "code",
   "execution_count": 5,
   "id": "8d01a487",
   "metadata": {},
   "outputs": [
    {
     "data": {
      "image/png": "[encoded data removed]",
      "text/plain": [
       "<Figure size 432x288 with 1 Axes>"
      ]
     },
     "metadata": {
      "needs_background": "light"
     },
     "output_type": "display_data"
    }
   ],
   "source": [
    "plt.plot(history.history['loss'])\n",
    "plt.plot(history.history['val_loss'])\n",
    "plt.title('model loss')\n",
    "plt.ylabel('loss')\n",
    "plt.xlabel('epoch')\n",
    "plt.legend(['train', 'val'], loc='upper left')\n",
    "plt.show()"
   ]
  },
  {
   "cell_type": "code",
   "execution_count": 6,
   "id": "1fefe146",
   "metadata": {},
   "outputs": [
    {
     "data": {
      "text/plain": [
       "0.765"
      ]
     },
     "execution_count": 6,
     "metadata": {},
     "output_type": "execute_result"
    }
   ],
   "source": [
    "one_hot = model.predict(X_test)\n",
    "y_pred = np.argmax(one_hot, axis=1).tolist()\n",
    "sum(a == b for a, b in zip(y_pred, y_test)) / len(y_test)"
   ]
  },
  {
   "cell_type": "code",
   "execution_count": 7,
   "id": "300dbe20",
   "metadata": {},
   "outputs": [
    {
     "data": {
      "text/plain": [
       "0.805"
      ]
     },
     "execution_count": 7,
     "metadata": {},
     "output_type": "execute_result"
    }
   ],
   "source": [
    "one_hot = model.predict(X_valid)\n",
    "y_pred = np.argmax(one_hot, axis=1).tolist()\n",
    "sum(a == b for a, b in zip(y_pred, y_valid)) / len(y_valid)"
   ]
  },
  {
   "cell_type": "code",
   "execution_count": 8,
   "id": "d6fa2f1a",
   "metadata": {},
   "outputs": [
    {
     "data": {
      "text/plain": [
       "0.9685714285714285"
      ]
     },
     "execution_count": 8,
     "metadata": {},
     "output_type": "execute_result"
    }
   ],
   "source": [
    "one_hot = model.predict(X_train)\n",
    "y_pred = np.argmax(one_hot, axis=1).tolist()\n",
    "sum(a == b for a, b in zip(y_pred, y_train)) / len(y_train)"
   ]
  },
  {
   "cell_type": "code",
   "execution_count": null,
   "id": "4b930020",
   "metadata": {},
   "outputs": [],
   "source": []
  },
  {
   "cell_type": "code",
   "execution_count": null,
   "id": "47ea4455",
   "metadata": {},
   "outputs": [],
   "source": []
  },
  {
   "cell_type": "markdown",
   "id": "0b3b487b",
   "metadata": {},
   "source": [
    "# Augmentation for 2 audio and 1 video"
   ]
  },
  {
   "cell_type": "code",
   "execution_count": 1,
   "id": "f91b59d5",
   "metadata": {},
   "outputs": [],
   "source": [
    "import numpy as np\n",
    "import os\n",
    "import pandas as pd\n",
    "from sklearn.metrics.pairwise import cosine_similarity\n",
    "from numpy import linalg as LA\n",
    "from sklearn.metrics import confusion_matrix\n",
    "import matplotlib.pyplot as plt\n",
    "import seaborn as sn\n",
    "from sklearn.model_selection import train_test_split\n",
    "import itertools  "
   ]
  },
  {
   "cell_type": "code",
   "execution_count": 2,
   "id": "86432800",
   "metadata": {},
   "outputs": [],
   "source": [
    "PATH_AUDIO = \"/home/eftekhar/Documents/Databases/AVDT_backup/Audios\"\n",
    "aud_names = []\n",
    "aud_classes = []\n",
    "for d in os.listdir(PATH_AUDIO):\n",
    "    for aud in os.listdir(os.path.join(PATH_AUDIO, d)[:100]):\n",
    "        aud_names.append(aud.split(\"/\")[-1].split(\".\")[0])\n",
    "        aud_classes.append(d) \n",
    "\n",
    "outputs1 = np.load(\"results_2layer_numscale20_downfac_root_2_no_norm1_librosa_44100_one_path_kaiser_fast_20_classes_100videos.npy\")\n",
    "outputs2 = np.load(\"results_3layer_numscale20_downfac_root_2_no_norm1_librosa_44100_one_path_kaiser_fast_20_classes_100videos.npy\")\n",
    "\n",
    "# outputs1 = outputs1 / np.linalg.norm(outputs1, axis=1)[:,None]\n",
    "# outputs2 = outputs2 / np.linalg.norm(outputs2, axis=1)[:,None]\n",
    "\n",
    "outputs = np.concatenate((outputs1, outputs2), axis=-1)\n",
    "\n",
    "aud_feats = list(outputs)\n",
    "aud_feats = list(map(lambda x: x[None, :], aud_feats))\n",
    "\n",
    "df_aud = pd.DataFrame(data={'name': aud_names, 'aud_features': aud_feats, 'class': aud_classes})\n",
    "\n",
    "\n",
    "vid_feats = np.load(\"./video_features/features_test_3layer_highresolution.npy\")\n",
    "PATH_TO_CLIPS = \"/home/eftekhar/Documents/Databases/AVDT_backup/Frames/clips.txt\"\n",
    "f = open(PATH_TO_CLIPS, \"r\")\n",
    "clips = f.readlines()\n",
    "\n",
    "\n",
    "vid_names = list(map(lambda x: x[::-1].split(\" \", 2)[-1][::-1].split(\"/\")[-1], clips))\n",
    "vid_classes = list(map(lambda x: x.split('/')[-2], clips))\n",
    "vid_feats = list(vid_feats)\n",
    "vid_feats = map(lambda x: x[None,:],vid_feats)\n",
    "\n",
    "df_vid = pd.DataFrame(data={'name': vid_names, 'vid_features': vid_feats, 'class': vid_classes})\n",
    "df_vid_agg = df_vid.groupby(['class', 'name'])['vid_features'].mean().to_frame().reset_index()\n",
    "# normalizing the features\n",
    "# df_vid_agg['vid_features'] = df_vid_agg['vid_features'].apply(lambda x: x / LA.norm(x))\n",
    "\n",
    "df_join = df_vid_agg.merge(df_aud, on=['class', 'name'], how='inner')\n",
    "df_join['concat_features'] = df_join.apply(lambda x: np.concatenate((x.vid_features, x.aud_features), axis=-1), axis=1)\n",
    "\n",
    "labels = [i // 100 for i in range(len(df_join))]\n",
    "df_join['label'] = labels\n",
    "\n",
    "df_join = df_join.sample(frac=1).reset_index(drop=True)\n",
    "\n",
    "features_len = df_join['concat_features'].iloc[0].shape[1]\n",
    "\n",
    "######### splitting data into train and test for all groups. \n",
    "######### This is better since every class will have the same amount in both datasets\n",
    "\n",
    "groups_train = []\n",
    "groups_test = []\n",
    "for name, g in df_join.groupby(['class']):\n",
    "    g_train, g_test = train_test_split(g, train_size=0.7)\n",
    "    groups_train.append(g_train)\n",
    "    groups_test.append(g_test)\n",
    "df_train  = pd.concat(groups_train, axis=0)\n",
    "df_test = pd.concat(groups_test, axis=0)\n",
    "\n",
    "X_test, y_test = np.concatenate(df_test['concat_features'].tolist(), axis=0), df_test['label'].tolist()\n",
    "X_valid, X_test, y_valid, y_test = train_test_split(X_test, y_test, test_size=0.5, shuffle=False)\n",
    "\n",
    "######### Augmenting train data \n",
    "\n",
    "X_train = []\n",
    "y_train = []\n",
    "\n",
    "labels = list(range(20))\n",
    "for l in labels:\n",
    "    temp = df_train.loc[df_join['label'] == l]\n",
    "    vid_f, aud_f = temp['vid_features'].tolist(), temp['aud_features'].tolist()\n",
    "    all_pairs = list(itertools.product(vid_f, aud_f))\n",
    "    all_pairs = list(map(lambda x: np.concatenate(x, axis=1), all_pairs))\n",
    "    X_train.extend(all_pairs)\n",
    "    y_train.extend([l] * len(all_pairs))\n",
    "\n",
    "X_train = np.concatenate(X_train, axis=0)"
   ]
  },
  {
   "cell_type": "code",
   "execution_count": 3,
   "id": "2b65d4b7",
   "metadata": {},
   "outputs": [
    {
     "name": "stdout",
     "output_type": "stream",
     "text": [
      "WARNING:tensorflow:From /home/eftekhar/anaconda3/envs/SOE_NET/lib/python3.7/site-packages/tensorflow_core/python/ops/resource_variable_ops.py:1630: calling BaseResourceVariable.__init__ (from tensorflow.python.ops.resource_variable_ops) with constraint is deprecated and will be removed in a future version.\n",
      "Instructions for updating:\n",
      "If using Keras pass *_constraint arguments to layers.\n",
      "Train on 98000 samples, validate on 300 samples\n"
     ]
    },
    {
     "name": "stderr",
     "output_type": "stream",
     "text": [
      "2022-10-12 16:22:25.991401: I tensorflow/stream_executor/platform/default/dso_loader.cc:44] Successfully opened dynamic library libcuda.so.1\n",
      "2022-10-12 16:22:26.014895: I tensorflow/core/common_runtime/gpu/gpu_device.cc:1618] Found device 0 with properties: \n",
      "name: Quadro P6000 major: 6 minor: 1 memoryClockRate(GHz): 1.645\n",
      "pciBusID: 0000:65:00.0\n",
      "2022-10-12 16:22:26.015097: I tensorflow/stream_executor/platform/default/dso_loader.cc:44] Successfully opened dynamic library libcudart.so.10.0\n",
      "2022-10-12 16:22:26.016181: I tensorflow/stream_executor/platform/default/dso_loader.cc:44] Successfully opened dynamic library libcublas.so.10.0\n",
      "2022-10-12 16:22:26.017181: I tensorflow/stream_executor/platform/default/dso_loader.cc:44] Successfully opened dynamic library libcufft.so.10.0\n",
      "2022-10-12 16:22:26.017472: I tensorflow/stream_executor/platform/default/dso_loader.cc:44] Successfully opened dynamic library libcurand.so.10.0\n",
      "2022-10-12 16:22:26.018719: I tensorflow/stream_executor/platform/default/dso_loader.cc:44] Successfully opened dynamic library libcusolver.so.10.0\n",
      "2022-10-12 16:22:26.019659: I tensorflow/stream_executor/platform/default/dso_loader.cc:44] Successfully opened dynamic library libcusparse.so.10.0\n",
      "2022-10-12 16:22:26.022862: I tensorflow/stream_executor/platform/default/dso_loader.cc:44] Successfully opened dynamic library libcudnn.so.7\n",
      "2022-10-12 16:22:26.023273: I tensorflow/core/common_runtime/gpu/gpu_device.cc:1746] Adding visible gpu devices: 0\n",
      "2022-10-12 16:22:26.023919: I tensorflow/core/platform/cpu_feature_guard.cc:142] Your CPU supports instructions that this TensorFlow binary was not compiled to use: SSE4.1 SSE4.2 AVX AVX2 AVX512F FMA\n",
      "2022-10-12 16:22:26.047090: I tensorflow/core/platform/profile_utils/cpu_utils.cc:94] CPU Frequency: 3699850000 Hz\n",
      "2022-10-12 16:22:26.047714: I tensorflow/compiler/xla/service/service.cc:168] XLA service 0x564a97591de0 initialized for platform Host (this does not guarantee that XLA will be used). Devices:\n",
      "2022-10-12 16:22:26.047742: I tensorflow/compiler/xla/service/service.cc:176]   StreamExecutor device (0): Host, Default Version\n",
      "2022-10-12 16:22:26.048088: I tensorflow/core/common_runtime/gpu/gpu_device.cc:1618] Found device 0 with properties: \n",
      "name: Quadro P6000 major: 6 minor: 1 memoryClockRate(GHz): 1.645\n",
      "pciBusID: 0000:65:00.0\n",
      "2022-10-12 16:22:26.048135: I tensorflow/stream_executor/platform/default/dso_loader.cc:44] Successfully opened dynamic library libcudart.so.10.0\n",
      "2022-10-12 16:22:26.048150: I tensorflow/stream_executor/platform/default/dso_loader.cc:44] Successfully opened dynamic library libcublas.so.10.0\n",
      "2022-10-12 16:22:26.048164: I tensorflow/stream_executor/platform/default/dso_loader.cc:44] Successfully opened dynamic library libcufft.so.10.0\n",
      "2022-10-12 16:22:26.048178: I tensorflow/stream_executor/platform/default/dso_loader.cc:44] Successfully opened dynamic library libcurand.so.10.0\n",
      "2022-10-12 16:22:26.048192: I tensorflow/stream_executor/platform/default/dso_loader.cc:44] Successfully opened dynamic library libcusolver.so.10.0\n",
      "2022-10-12 16:22:26.048205: I tensorflow/stream_executor/platform/default/dso_loader.cc:44] Successfully opened dynamic library libcusparse.so.10.0\n",
      "2022-10-12 16:22:26.048219: I tensorflow/stream_executor/platform/default/dso_loader.cc:44] Successfully opened dynamic library libcudnn.so.7\n",
      "2022-10-12 16:22:26.048550: I tensorflow/core/common_runtime/gpu/gpu_device.cc:1746] Adding visible gpu devices: 0\n",
      "2022-10-12 16:22:26.048590: I tensorflow/stream_executor/platform/default/dso_loader.cc:44] Successfully opened dynamic library libcudart.so.10.0\n",
      "2022-10-12 16:22:26.111524: I tensorflow/core/common_runtime/gpu/gpu_device.cc:1159] Device interconnect StreamExecutor with strength 1 edge matrix:\n",
      "2022-10-12 16:22:26.111550: I tensorflow/core/common_runtime/gpu/gpu_device.cc:1165]      0 \n",
      "2022-10-12 16:22:26.111554: I tensorflow/core/common_runtime/gpu/gpu_device.cc:1178] 0:   N \n",
      "2022-10-12 16:22:26.112020: I tensorflow/core/common_runtime/gpu/gpu_device.cc:1304] Created TensorFlow device (/job:localhost/replica:0/task:0/device:GPU:0 with 21549 MB memory) -> physical GPU (device: 0, name: Quadro P6000, pci bus id: 0000:65:00.0, compute capability: 6.1)\n",
      "2022-10-12 16:22:26.113560: I tensorflow/compiler/xla/service/service.cc:168] XLA service 0x564a948b5590 initialized for platform CUDA (this does not guarantee that XLA will be used). Devices:\n",
      "2022-10-12 16:22:26.113580: I tensorflow/compiler/xla/service/service.cc:176]   StreamExecutor device (0): Quadro P6000, Compute Capability 6.1\n"
     ]
    },
    {
     "name": "stdout",
     "output_type": "stream",
     "text": [
      "Epoch 1/20\n",
      " 3456/98000 [>.............................] - ETA: 6s - loss: 1270.9278 - acc: 0.4742"
     ]
    },
    {
     "name": "stderr",
     "output_type": "stream",
     "text": [
      "2022-10-12 16:22:26.666756: I tensorflow/stream_executor/platform/default/dso_loader.cc:44] Successfully opened dynamic library libcublas.so.10.0\n"
     ]
    },
    {
     "name": "stdout",
     "output_type": "stream",
     "text": [
      "98000/98000 [==============================] - 4s 37us/sample - loss: 187.3273 - acc: 0.8400 - val_loss: 212.8585 - val_acc: 0.8400\n",
      "Epoch 2/20\n",
      "98000/98000 [==============================] - 3s 34us/sample - loss: 67.9922 - acc: 0.9168 - val_loss: 309.6681 - val_acc: 0.7833\n",
      "Epoch 3/20\n",
      "98000/98000 [==============================] - 3s 31us/sample - loss: 46.6906 - acc: 0.9318 - val_loss: 233.0542 - val_acc: 0.7767\n",
      "Epoch 4/20\n",
      "98000/98000 [==============================] - 3s 31us/sample - loss: 33.8462 - acc: 0.9376 - val_loss: 128.8818 - val_acc: 0.8667\n",
      "Epoch 5/20\n",
      "98000/98000 [==============================] - 3s 33us/sample - loss: 26.2471 - acc: 0.9436 - val_loss: 193.6420 - val_acc: 0.8367\n",
      "Epoch 6/20\n",
      "98000/98000 [==============================] - 3s 32us/sample - loss: 21.8465 - acc: 0.9459 - val_loss: 108.2035 - val_acc: 0.8733\n",
      "Epoch 7/20\n",
      "98000/98000 [==============================] - 3s 33us/sample - loss: 19.3186 - acc: 0.9484 - val_loss: 135.2594 - val_acc: 0.8133\n",
      "Epoch 8/20\n",
      "98000/98000 [==============================] - 3s 32us/sample - loss: 18.5619 - acc: 0.9508 - val_loss: 102.7451 - val_acc: 0.8500\n",
      "Epoch 9/20\n",
      "98000/98000 [==============================] - 3s 32us/sample - loss: 16.0862 - acc: 0.9548 - val_loss: 104.1054 - val_acc: 0.8433\n",
      "Epoch 10/20\n",
      "98000/98000 [==============================] - 3s 35us/sample - loss: 16.9580 - acc: 0.9548 - val_loss: 201.7280 - val_acc: 0.8167\n",
      "Epoch 11/20\n",
      "98000/98000 [==============================] - 3s 31us/sample - loss: 15.8327 - acc: 0.9588 - val_loss: 117.9181 - val_acc: 0.8667\n",
      "Epoch 12/20\n",
      "98000/98000 [==============================] - 3s 32us/sample - loss: 14.5442 - acc: 0.9628 - val_loss: 183.6953 - val_acc: 0.8133\n",
      "Epoch 13/20\n",
      "98000/98000 [==============================] - 3s 30us/sample - loss: 15.0787 - acc: 0.9631 - val_loss: 122.4609 - val_acc: 0.8500\n",
      "Epoch 14/20\n",
      "98000/98000 [==============================] - 3s 30us/sample - loss: 14.8132 - acc: 0.9647 - val_loss: 163.2525 - val_acc: 0.8600\n",
      "Epoch 15/20\n",
      "98000/98000 [==============================] - 3s 33us/sample - loss: 14.2344 - acc: 0.9671 - val_loss: 138.1644 - val_acc: 0.8533\n",
      "Epoch 16/20\n",
      "98000/98000 [==============================] - 3s 34us/sample - loss: 14.1422 - acc: 0.9695 - val_loss: 121.4237 - val_acc: 0.8933\n",
      "Epoch 17/20\n",
      "98000/98000 [==============================] - 3s 33us/sample - loss: 14.0589 - acc: 0.9708 - val_loss: 184.6157 - val_acc: 0.8567\n",
      "Epoch 18/20\n",
      "98000/98000 [==============================] - 3s 33us/sample - loss: 14.6873 - acc: 0.9709 - val_loss: 135.5001 - val_acc: 0.8667\n",
      "Epoch 19/20\n",
      "98000/98000 [==============================] - 3s 33us/sample - loss: 12.1961 - acc: 0.9749 - val_loss: 202.4918 - val_acc: 0.8467\n",
      "Epoch 20/20\n",
      "98000/98000 [==============================] - 3s 33us/sample - loss: 14.1946 - acc: 0.9739 - val_loss: 190.6224 - val_acc: 0.8567\n"
     ]
    }
   ],
   "source": [
    "import tensorflow as tf\n",
    "from matplotlib import pyplot as plt\n",
    "\n",
    "model = tf.keras.Sequential()\n",
    "model.add(tf.keras.layers.Dense(100, input_shape=(features_len,)))\n",
    "model.add(tf.keras.layers.Dense(20))\n",
    "model.add(tf.keras.layers.Softmax())\n",
    "opt = tf.keras.optimizers.Adam()\n",
    "model.compile(optimizer=opt, loss='sparse_categorical_crossentropy', metrics=['accuracy'])\n",
    "\n",
    "EPOCHS = 3\n",
    "history = model.fit(X_train, y_train, epochs=EPOCHS, batch_size=64, validation_data=(X_valid, y_valid))"
   ]
  },
  {
   "cell_type": "code",
   "execution_count": 4,
   "id": "7bcc2ba3",
   "metadata": {},
   "outputs": [
    {
     "data": {
      "image/png": "[encoded data removed]",
      "text/plain": [
       "<Figure size 432x288 with 1 Axes>"
      ]
     },
     "metadata": {
      "needs_background": "light"
     },
     "output_type": "display_data"
    }
   ],
   "source": [
    "plt.plot(history.history['acc'])\n",
    "plt.plot(history.history['val_acc'])\n",
    "plt.title('model accuracy')\n",
    "plt.ylabel('accuracy')\n",
    "plt.xlabel('epoch')\n",
    "plt.legend(['train', 'val'], loc='upper left')\n",
    "xint = range(EPOCHS)\n",
    "plt.xticks(xint)\n",
    "plt.show()"
   ]
  },
  {
   "cell_type": "code",
   "execution_count": 5,
   "id": "c1bb1d6a",
   "metadata": {},
   "outputs": [
    {
     "data": {
      "image/png": "[encoded data removed]",
      "text/plain": [
       "<Figure size 432x288 with 1 Axes>"
      ]
     },
     "metadata": {
      "needs_background": "light"
     },
     "output_type": "display_data"
    }
   ],
   "source": [
    "plt.plot(history.history['loss'])\n",
    "plt.plot(history.history['val_loss'])\n",
    "plt.title('model loss')\n",
    "plt.ylabel('loss')\n",
    "plt.xlabel('epoch')\n",
    "plt.legend(['train', 'val'], loc='upper left')\n",
    "xint = range(EPOCHS)\n",
    "plt.xticks(xint)\n",
    "plt.show()"
   ]
  },
  {
   "cell_type": "code",
   "execution_count": 6,
   "id": "403bb179",
   "metadata": {},
   "outputs": [
    {
     "data": {
      "text/plain": [
       "0.7933333333333333"
      ]
     },
     "execution_count": 6,
     "metadata": {},
     "output_type": "execute_result"
    }
   ],
   "source": [
    "one_hot = model.predict(X_test)\n",
    "y_pred = np.argmax(one_hot, axis=1).tolist()\n",
    "sum(a == b for a, b in zip(y_pred, y_test)) / len(y_test)"
   ]
  },
  {
   "cell_type": "code",
   "execution_count": 7,
   "id": "79f80a13",
   "metadata": {},
   "outputs": [
    {
     "data": {
      "text/plain": [
       "0.8566666666666667"
      ]
     },
     "execution_count": 7,
     "metadata": {},
     "output_type": "execute_result"
    }
   ],
   "source": [
    "one_hot = model.predict(X_valid)\n",
    "y_pred = np.argmax(one_hot, axis=1).tolist()\n",
    "sum(a == b for a, b in zip(y_pred, y_valid)) / len(y_valid)"
   ]
  },
  {
   "cell_type": "code",
   "execution_count": 8,
   "id": "ed4e8b2e",
   "metadata": {},
   "outputs": [
    {
     "data": {
      "text/plain": [
       "0.9745408163265306"
      ]
     },
     "execution_count": 8,
     "metadata": {},
     "output_type": "execute_result"
    }
   ],
   "source": [
    "one_hot = model.predict(X_train)\n",
    "y_pred = np.argmax(one_hot, axis=1).tolist()\n",
    "sum(a == b for a, b in zip(y_pred, y_train)) / len(y_train)"
   ]
  },
  {
   "cell_type": "code",
   "execution_count": null,
   "id": "b2e5a833",
   "metadata": {},
   "outputs": [],
   "source": []
  },
  {
   "cell_type": "code",
   "execution_count": 18,
   "id": "0311199b",
   "metadata": {},
   "outputs": [],
   "source": [
    "for x in X_train:\n",
    "    if x.shape[0] != 1682:\n",
    "        print(\"hi\")"
   ]
  },
  {
   "cell_type": "code",
   "execution_count": 20,
   "id": "09201d18",
   "metadata": {},
   "outputs": [
    {
     "data": {
      "text/plain": [
       "1682"
      ]
     },
     "execution_count": 20,
     "metadata": {},
     "output_type": "execute_result"
    }
   ],
   "source": [
    "X_train[0].shape[0]"
   ]
  },
  {
   "cell_type": "code",
   "execution_count": 4,
   "id": "1753dd93",
   "metadata": {},
   "outputs": [
    {
     "data": {
      "text/plain": [
       "(1682,)"
      ]
     },
     "execution_count": 4,
     "metadata": {},
     "output_type": "execute_result"
    }
   ],
   "source": [
    "X_test[0].shape"
   ]
  },
  {
   "cell_type": "code",
   "execution_count": 5,
   "id": "3a8d87da",
   "metadata": {},
   "outputs": [
    {
     "data": {
      "text/plain": [
       "(1682,)"
      ]
     },
     "execution_count": 5,
     "metadata": {},
     "output_type": "execute_result"
    }
   ],
   "source": [
    "X_valid[0].shape"
   ]
  },
  {
   "cell_type": "code",
   "execution_count": 7,
   "id": "afcd3348",
   "metadata": {},
   "outputs": [
    {
     "data": {
      "text/plain": [
       "1682"
      ]
     },
     "execution_count": 7,
     "metadata": {},
     "output_type": "execute_result"
    }
   ],
   "source": [
    "features_len"
   ]
  },
  {
   "cell_type": "code",
   "execution_count": 11,
   "id": "f5573153",
   "metadata": {},
   "outputs": [
    {
     "data": {
      "text/plain": [
       "(98000, 1682)"
      ]
     },
     "execution_count": 11,
     "metadata": {},
     "output_type": "execute_result"
    }
   ],
   "source": [
    "X_train.shape"
   ]
  },
  {
   "cell_type": "code",
   "execution_count": 12,
   "id": "c63cc36b",
   "metadata": {},
   "outputs": [
    {
     "data": {
      "text/plain": [
       "(300, 1682)"
      ]
     },
     "execution_count": 12,
     "metadata": {},
     "output_type": "execute_result"
    }
   ],
   "source": [
    "X_valid.shape"
   ]
  },
  {
   "cell_type": "code",
   "execution_count": 7,
   "id": "b768a664",
   "metadata": {},
   "outputs": [
    {
     "data": {
      "text/plain": [
       "98000"
      ]
     },
     "execution_count": 7,
     "metadata": {},
     "output_type": "execute_result"
    }
   ],
   "source": [
    "len(X_train)"
   ]
  }
 ],
 "metadata": {
  "kernelspec": {
   "display_name": "Python 3 (ipykernel)",
   "language": "python",
   "name": "python3"
  },
  "language_info": {
   "codemirror_mode": {
    "name": "ipython",
    "version": 3
   },
   "file_extension": ".py",
   "mimetype": "text/x-python",
   "name": "python",
   "nbconvert_exporter": "python",
   "pygments_lexer": "ipython3",
   "version": "3.7.11"
  }
 },
 "nbformat": 4,
 "nbformat_minor": 5
}
