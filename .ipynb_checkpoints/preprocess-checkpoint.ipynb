{
 "cells": [
  {
   "cell_type": "code",
   "execution_count": 18,
   "id": "6eb0aaab",
   "metadata": {},
   "outputs": [],
   "source": [
    "import os \n",
    "import re"
   ]
  },
  {
   "cell_type": "code",
   "execution_count": 36,
   "id": "50f1aade",
   "metadata": {},
   "outputs": [],
   "source": [
    "PATH = \"/home/eftekhar/Documents/DTDB/DTDB/BY_DYNAMIC_FINAL/frames_test\"\n",
    "OUT_PATH = \"/home/eftekhar/Documents/DTDB/DTDB/BY_DYNAMIC_FINAL/frames_test_clips\""
   ]
  },
  {
   "cell_type": "code",
   "execution_count": 32,
   "id": "2c4d24e0",
   "metadata": {},
   "outputs": [
    {
     "name": "stdout",
     "output_type": "stream",
     "text": [
      "/home/eftekhar/Documents/DTDB/DTDB/BY_DYNAMIC_FINAL/frames_test_clips\n"
     ]
    }
   ],
   "source": [
    "print(OUT_PATH)"
   ]
  },
  {
   "cell_type": "code",
   "execution_count": 33,
   "id": "75f4a1db",
   "metadata": {},
   "outputs": [],
   "source": [
    "CLIP_LENGTH = 42\n",
    "OVERLAP = 6"
   ]
  },
  {
   "cell_type": "code",
   "execution_count": 50,
   "id": "46948447",
   "metadata": {},
   "outputs": [],
   "source": [
    "for d in sorted(os.listdir(PATH)):\n",
    "    if d == \"clips.txt\":\n",
    "        continue\n",
    "    class_num = re.findall(r'\\d+', d.split(\"_\")[0])[0]\n",
    "    path_to_vid = os.path.join(PATH, d)\n",
    "    num_frm = len(os.listdir(path_to_vid))\n",
    "    if num_frm < CLIP_LENGTH:\n",
    "        print(\"yes\")\n",
    "        continue\n",
    "    SHIFT = CLIP_LENGTH - OVERLAP\n",
    "    num_chunks = (num_frm - CLIP_LENGTH)//(SHIFT) + 1\n",
    "    f = open(os.path.join(OUT_PATH, d) + \".txt\", \"a\")\n",
    "    for i in range(num_chunks):\n",
    "        start_frame_index = i * SHIFT\n",
    "        f.write(path_to_vid + \" \" + str(start_frame_index) + \" \" + class_num + \"\\n\")\n",
    "    f.close()    \n",
    "#     if i%100==0:\n",
    "#         print(i)"
   ]
  },
  {
   "cell_type": "code",
   "execution_count": 51,
   "id": "28b3957c",
   "metadata": {},
   "outputs": [
    {
     "data": {
      "text/plain": [
       "8"
      ]
     },
     "execution_count": 51,
     "metadata": {},
     "output_type": "execute_result"
    }
   ],
   "source": [
    "(300 - CLIP_LENGTH)//(SHIFT) + 1\n"
   ]
  },
  {
   "cell_type": "code",
   "execution_count": 40,
   "id": "a4b0ed57",
   "metadata": {},
   "outputs": [
    {
     "data": {
      "text/plain": [
       "8"
      ]
     },
     "execution_count": 40,
     "metadata": {},
     "output_type": "execute_result"
    }
   ],
   "source": [
    "f = open(os.path.join(OUT_PATH, d) + \".txt\", \"r\")\n",
    "len(f.readlines())"
   ]
  },
  {
   "cell_type": "code",
   "execution_count": null,
   "id": "d7f188d6",
   "metadata": {},
   "outputs": [],
   "source": []
  }
 ],
 "metadata": {
  "kernelspec": {
   "display_name": "Python 3 (ipykernel)",
   "language": "python",
   "name": "python3"
  },
  "language_info": {
   "codemirror_mode": {
    "name": "ipython",
    "version": 3
   },
   "file_extension": ".py",
   "mimetype": "text/x-python",
   "name": "python",
   "nbconvert_exporter": "python",
   "pygments_lexer": "ipython3",
   "version": "3.7.11"
  }
 },
 "nbformat": 4,
 "nbformat_minor": 5
}
