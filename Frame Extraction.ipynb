{
 "cells": [
  {
   "cell_type": "code",
   "execution_count": 1,
   "id": "3a4841a6",
   "metadata": {},
   "outputs": [],
   "source": [
    "import os\n",
    "import cv2"
   ]
  },
  {
   "cell_type": "code",
   "execution_count": 23,
   "id": "ea37c868",
   "metadata": {},
   "outputs": [],
   "source": [
    "PATH_TO_FRAMES = \"/home/eftekhar/Documents/Databases/AVDT_backup/Frames\"\n",
    "PATH_TO_VIDEOS = \"/home/eftekhar/Documents/Databases/AVDT_backup/videos\""
   ]
  },
  {
   "cell_type": "code",
   "execution_count": null,
   "id": "1b8c2ab1",
   "metadata": {},
   "outputs": [],
   "source": [
    "for d in os.listdir(PATH_TO_VIDEOS):\n",
    "    cls = os.path.join(PATH_TO_FRAMES, d)\n",
    "    os.mkdir(cls)\n",
    "    for vid in os.listdir(os.path.join(PATH_TO_VIDEOS, d)):\n",
    "        file_path = os.path.join(PATH_TO_VIDEOS, d, vid)\n",
    "        os.mkdir(os.path.join(PATH_TO_FRAMES, d, vid.split(\".\")[0]))\n",
    "#         print(file_path)\n",
    "        count = 0\n",
    "#         print(os.path.join(cls , \"%d.jpg\" % count))\n",
    "        vidcap = cv2.VideoCapture(file_path)\n",
    "        success,image = vidcap.read()\n",
    "        count = 0\n",
    "        print(vid.split(\".\")[0])\n",
    "        while success:\n",
    "            cv2.imwrite(os.path.join(PATH_TO_FRAMES, d, vid.split(\".\")[0], \"%d.jpg\" % count), image)     # save frame as JPEG file      \n",
    "            success,image = vidcap.read()\n",
    "#             print('Read a new frame: ', success, d)\n",
    "            count += 1\n"
   ]
  },
  {
   "cell_type": "code",
   "execution_count": null,
   "id": "5c168bd9",
   "metadata": {},
   "outputs": [],
   "source": [
    "a=os.listdir(\"/home/eftekhar/Documents/Databases/AVDT_backup/Frames/piano/piano_239\")"
   ]
  },
  {
   "cell_type": "code",
   "execution_count": null,
   "id": "eedf10b2",
   "metadata": {},
   "outputs": [],
   "source": []
  }
 ],
 "metadata": {
  "kernelspec": {
   "display_name": "Python 3 (ipykernel)",
   "language": "python",
   "name": "python3"
  },
  "language_info": {
   "codemirror_mode": {
    "name": "ipython",
    "version": 3
   },
   "file_extension": ".py",
   "mimetype": "text/x-python",
   "name": "python",
   "nbconvert_exporter": "python",
   "pygments_lexer": "ipython3",
   "version": "3.7.11"
  }
 },
 "nbformat": 4,
 "nbformat_minor": 5
}
