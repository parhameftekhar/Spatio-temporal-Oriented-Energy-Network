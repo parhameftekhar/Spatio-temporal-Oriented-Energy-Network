{
 "cells": [
  {
   "cell_type": "markdown",
   "id": "c95bbbb2",
   "metadata": {},
   "source": [
    "# Classifying only based on video"
   ]
  },
  {
   "cell_type": "code",
   "execution_count": 12,
   "id": "a7709beb",
   "metadata": {},
   "outputs": [],
   "source": [
    "####### caution #########\n",
    "### clips has labels 0 to 20 and 3 is missing so 0, 1, 2, 4, 5, ..., 20\n",
    "### names of the audios contain space. Be careful ###"
   ]
  },
  {
   "cell_type": "code",
   "execution_count": 12,
   "id": "14552fd6",
   "metadata": {},
   "outputs": [],
   "source": [
    "import numpy as np\n",
    "import os\n",
    "import pandas as pd\n",
    "from sklearn.metrics.pairwise import cosine_similarity"
   ]
  },
  {
   "cell_type": "code",
   "execution_count": 103,
   "id": "c56c9622",
   "metadata": {},
   "outputs": [],
   "source": [
    "feat = np.load(\"./video_features/features_test_3layer_highresolution.npy\")\n",
    "PATH_TO_CLIPS = \"/home/eftekhar/Documents/Databases/AVDT_backup/Frames/clips.txt\"\n",
    "f = open(PATH_TO_CLIPS, \"r\")\n",
    "clips = f.readlines()"
   ]
  },
  {
   "cell_type": "code",
   "execution_count": 104,
   "id": "fe489a7b",
   "metadata": {},
   "outputs": [
    {
     "data": {
      "text/plain": [
       "(20113, 800)"
      ]
     },
     "execution_count": 104,
     "metadata": {},
     "output_type": "execute_result"
    }
   ],
   "source": [
    "feat.shape"
   ]
  },
  {
   "cell_type": "code",
   "execution_count": 105,
   "id": "851fb377",
   "metadata": {},
   "outputs": [],
   "source": [
    "names = list(map(lambda x: x[::-1].split(\" \", 2)[-1][::-1], clips))\n",
    "labels = list(map(lambda x: int(x.strip().split(\" \")[-1]), clips))\n",
    "df = pd.DataFrame(data={'name': names, 'features': list(feat), 'label': labels})"
   ]
  },
  {
   "cell_type": "code",
   "execution_count": 106,
   "id": "188c59d3",
   "metadata": {},
   "outputs": [],
   "source": [
    "mean_df = df.groupby(['label', 'name'])['features'].mean().to_frame().reset_index()"
   ]
  },
  {
   "cell_type": "code",
   "execution_count": 107,
   "id": "e3f849bb",
   "metadata": {},
   "outputs": [
    {
     "data": {
      "text/html": [
       "<div>\n",
       "<style scoped>\n",
       "    .dataframe tbody tr th:only-of-type {\n",
       "        vertical-align: middle;\n",
       "    }\n",
       "\n",
       "    .dataframe tbody tr th {\n",
       "        vertical-align: top;\n",
       "    }\n",
       "\n",
       "    .dataframe thead th {\n",
       "        text-align: right;\n",
       "    }\n",
       "</style>\n",
       "<table border=\"1\" class=\"dataframe\">\n",
       "  <thead>\n",
       "    <tr style=\"text-align: right;\">\n",
       "      <th></th>\n",
       "      <th>label</th>\n",
       "      <th>name</th>\n",
       "      <th>features</th>\n",
       "    </tr>\n",
       "  </thead>\n",
       "  <tbody>\n",
       "    <tr>\n",
       "      <th>0</th>\n",
       "      <td>0</td>\n",
       "      <td>flag_1</td>\n",
       "      <td>[[2987.1858, 1185.8834, 142.83228, 2078.2097, ...</td>\n",
       "    </tr>\n",
       "    <tr>\n",
       "      <th>1</th>\n",
       "      <td>0</td>\n",
       "      <td>flag_101</td>\n",
       "      <td>[[1743.1072, 2133.899, 27.645844, 1730.807, 21...</td>\n",
       "    </tr>\n",
       "    <tr>\n",
       "      <th>2</th>\n",
       "      <td>0</td>\n",
       "      <td>flag_102</td>\n",
       "      <td>[[2365.9001, 65.33182, 706.6563, 2124.341, 28....</td>\n",
       "    </tr>\n",
       "    <tr>\n",
       "      <th>3</th>\n",
       "      <td>0</td>\n",
       "      <td>flag_103</td>\n",
       "      <td>[[4122.72, 643.9878, 79.201355, 3195.1614, 725...</td>\n",
       "    </tr>\n",
       "    <tr>\n",
       "      <th>4</th>\n",
       "      <td>0</td>\n",
       "      <td>flag_105</td>\n",
       "      <td>[[10561.734, 148.13034, 173.10446, 6108.829, 2...</td>\n",
       "    </tr>\n",
       "    <tr>\n",
       "      <th>...</th>\n",
       "      <td>...</td>\n",
       "      <td>...</td>\n",
       "      <td>...</td>\n",
       "    </tr>\n",
       "    <tr>\n",
       "      <th>1995</th>\n",
       "      <td>20</td>\n",
       "      <td>string_orchestra_198</td>\n",
       "      <td>[[881.8559, 2.3222785, 2217.538, 812.1161, 2.0...</td>\n",
       "    </tr>\n",
       "    <tr>\n",
       "      <th>1996</th>\n",
       "      <td>20</td>\n",
       "      <td>string_orchestra_199</td>\n",
       "      <td>[[1016.7166, 4.661582, 1469.5963, 905.13965, 4...</td>\n",
       "    </tr>\n",
       "    <tr>\n",
       "      <th>1997</th>\n",
       "      <td>20</td>\n",
       "      <td>string_orchestra_200</td>\n",
       "      <td>[[1502.305, 1.8790399, 1632.4657, 1472.9017, 1...</td>\n",
       "    </tr>\n",
       "    <tr>\n",
       "      <th>1998</th>\n",
       "      <td>20</td>\n",
       "      <td>string_orchestra_201</td>\n",
       "      <td>[[1367.8671, 4.681981, 1226.6238, 1278.631, 3....</td>\n",
       "    </tr>\n",
       "    <tr>\n",
       "      <th>1999</th>\n",
       "      <td>20</td>\n",
       "      <td>string_orchestra_202</td>\n",
       "      <td>[[883.66205, 1.640999, 1353.9684, 865.1235, 1....</td>\n",
       "    </tr>\n",
       "  </tbody>\n",
       "</table>\n",
       "<p>2000 rows × 3 columns</p>\n",
       "</div>"
      ],
      "text/plain": [
       "      label                  name  \\\n",
       "0         0                flag_1   \n",
       "1         0              flag_101   \n",
       "2         0              flag_102   \n",
       "3         0              flag_103   \n",
       "4         0              flag_105   \n",
       "...     ...                   ...   \n",
       "1995     20  string_orchestra_198   \n",
       "1996     20  string_orchestra_199   \n",
       "1997     20  string_orchestra_200   \n",
       "1998     20  string_orchestra_201   \n",
       "1999     20  string_orchestra_202   \n",
       "\n",
       "                                               features  \n",
       "0     [[2987.1858, 1185.8834, 142.83228, 2078.2097, ...  \n",
       "1     [[1743.1072, 2133.899, 27.645844, 1730.807, 21...  \n",
       "2     [[2365.9001, 65.33182, 706.6563, 2124.341, 28....  \n",
       "3     [[4122.72, 643.9878, 79.201355, 3195.1614, 725...  \n",
       "4     [[10561.734, 148.13034, 173.10446, 6108.829, 2...  \n",
       "...                                                 ...  \n",
       "1995  [[881.8559, 2.3222785, 2217.538, 812.1161, 2.0...  \n",
       "1996  [[1016.7166, 4.661582, 1469.5963, 905.13965, 4...  \n",
       "1997  [[1502.305, 1.8790399, 1632.4657, 1472.9017, 1...  \n",
       "1998  [[1367.8671, 4.681981, 1226.6238, 1278.631, 3....  \n",
       "1999  [[883.66205, 1.640999, 1353.9684, 865.1235, 1....  \n",
       "\n",
       "[2000 rows x 3 columns]"
      ]
     },
     "execution_count": 107,
     "metadata": {},
     "output_type": "execute_result"
    }
   ],
   "source": [
    "mean_df['name'] = mean_df['name'].apply(lambda x: x.split(\"/\")[-1])\n",
    "mean_df['features'] = mean_df['features'].apply(lambda x: x[None,:])\n",
    "mean_df"
   ]
  },
  {
   "cell_type": "code",
   "execution_count": 108,
   "id": "67f433f7",
   "metadata": {},
   "outputs": [],
   "source": [
    "features = np.concatenate(mean_df['features'].tolist(), axis=0)"
   ]
  },
  {
   "cell_type": "code",
   "execution_count": 109,
   "id": "26c39eb2",
   "metadata": {},
   "outputs": [],
   "source": [
    "# features = features[:500]"
   ]
  },
  {
   "cell_type": "code",
   "execution_count": 110,
   "id": "f4a12511",
   "metadata": {},
   "outputs": [],
   "source": [
    "sim_pairs = cosine_similarity(features)"
   ]
  },
  {
   "cell_type": "code",
   "execution_count": 111,
   "id": "82058a8a",
   "metadata": {},
   "outputs": [],
   "source": [
    "sorted_sim = np.argsort(sim_pairs, axis=1)"
   ]
  },
  {
   "cell_type": "code",
   "execution_count": 112,
   "id": "1491fe9a",
   "metadata": {},
   "outputs": [
    {
     "data": {
      "text/plain": [
       "array([[1153,  770, 1143, ...,   20,   35,    0],\n",
       "       [ 765,  213,  102, ...,  371,  621,    1],\n",
       "       [ 622,  674,  678, ..., 1561, 1867,    2],\n",
       "       ...,\n",
       "       [ 622,  674,  685, ..., 1947, 1925, 1997],\n",
       "       [ 622,  674,  685, ..., 1934, 1924, 1998],\n",
       "       [ 622,  674,  685, ..., 1922, 1936, 1999]])"
      ]
     },
     "execution_count": 112,
     "metadata": {},
     "output_type": "execute_result"
    }
   ],
   "source": [
    "sorted_sim"
   ]
  },
  {
   "cell_type": "code",
   "execution_count": 113,
   "id": "adb2a1e2",
   "metadata": {},
   "outputs": [
    {
     "data": {
      "text/plain": [
       "0.5315"
      ]
     },
     "execution_count": 113,
     "metadata": {},
     "output_type": "execute_result"
    }
   ],
   "source": [
    "NN = sorted_sim[:,-2].tolist()\n",
    "l = mean_df['label'].tolist()\n",
    "for j in range(len(l)):\n",
    "    if l[j] > 3:\n",
    "        l[j] = l[j] - 1\n",
    "c = 0\n",
    "for i, s in enumerate(NN):\n",
    "    if s // 100 == l[i]:\n",
    "        c = c + 1\n",
    "c / len(NN)        "
   ]
  },
  {
   "cell_type": "code",
   "execution_count": 80,
   "id": "08965a39",
   "metadata": {},
   "outputs": [
    {
     "data": {
      "text/plain": [
       "0.864"
      ]
     },
     "execution_count": 80,
     "metadata": {},
     "output_type": "execute_result"
    }
   ],
   "source": [
    "top5 = sorted_sim[:,-11:-1]\n",
    "c = 0\n",
    "for i in range(top5.shape[0]):\n",
    "    if (i // 100) in (top5[i] // 100).tolist():\n",
    "        c += 1\n",
    "c / top5.shape[0]"
   ]
  },
  {
   "cell_type": "markdown",
   "id": "2372b27a",
   "metadata": {},
   "source": [
    "# Classifying using concatenated features"
   ]
  },
  {
   "cell_type": "code",
   "execution_count": 76,
   "id": "9dbb9b4a",
   "metadata": {},
   "outputs": [],
   "source": [
    "import numpy as np\n",
    "import os\n",
    "import pandas as pd\n",
    "from sklearn.metrics.pairwise import cosine_similarity"
   ]
  },
  {
   "cell_type": "code",
   "execution_count": 77,
   "id": "a3effed4",
   "metadata": {},
   "outputs": [],
   "source": [
    "feat1 = np.load(\"./video_features/features_test_3layer.npy\")\n",
    "feat2 = np.load(\"./video_features/features_test1.npy\")\n",
    "PATH_TO_CLIPS = \"/home/eftekhar/Documents/Databases/AVDT_backup/Frames/clips.txt\"\n",
    "f = open(PATH_TO_CLIPS, \"r\")\n",
    "clips = f.readlines()"
   ]
  },
  {
   "cell_type": "code",
   "execution_count": 78,
   "id": "2a39a520",
   "metadata": {},
   "outputs": [],
   "source": [
    "names = list(map(lambda x: x[::-1].split(\" \", 2)[-1][::-1], clips))\n",
    "labels = list(map(lambda x: int(x.strip().split(\" \")[-1]), clips))\n",
    "df1 = pd.DataFrame(data={'name': names, 'features': list(feat1), 'label': labels})\n",
    "df2 = pd.DataFrame(data={'name': names, 'features': list(feat2), 'label': labels})"
   ]
  },
  {
   "cell_type": "code",
   "execution_count": 79,
   "id": "8be3619d",
   "metadata": {},
   "outputs": [],
   "source": [
    "mean_df1 = df1.groupby(['label', 'name'])['features'].mean().to_frame().reset_index()\n",
    "mean_df2 = df2.groupby(['label', 'name'])['features'].mean().to_frame().reset_index()"
   ]
  },
  {
   "cell_type": "code",
   "execution_count": 80,
   "id": "5d4ff6ac",
   "metadata": {},
   "outputs": [],
   "source": [
    "mean_df1['name'] = mean_df1['name'].apply(lambda x: x.split(\"/\")[-1])\n",
    "mean_df1['features'] = mean_df1['features'].apply(lambda x: x[None,:])\n",
    "mean_df2['name'] = mean_df2['name'].apply(lambda x: x.split(\"/\")[-1])\n",
    "mean_df2['features'] = mean_df2['features'].apply(lambda x: x[None,:])"
   ]
  },
  {
   "cell_type": "code",
   "execution_count": 81,
   "id": "ff71f6de",
   "metadata": {},
   "outputs": [],
   "source": [
    "features1 = np.concatenate(mean_df1['features'].tolist(), axis=0)\n",
    "features2 = np.concatenate(mean_df2['features'].tolist(), axis=0)"
   ]
  },
  {
   "cell_type": "code",
   "execution_count": 82,
   "id": "9d33ccb4",
   "metadata": {},
   "outputs": [],
   "source": [
    "features1 = features1 / np.linalg.norm(features1, axis=1)[:,None]\n",
    "features2 = features2 / np.linalg.norm(features2, axis=1)[:,None]"
   ]
  },
  {
   "cell_type": "code",
   "execution_count": 83,
   "id": "0f210bfa",
   "metadata": {},
   "outputs": [],
   "source": [
    "features = np.concatenate((features1, features2), axis=-1)"
   ]
  },
  {
   "cell_type": "code",
   "execution_count": 84,
   "id": "6fcc80b1",
   "metadata": {},
   "outputs": [],
   "source": [
    "sim_pairs = cosine_similarity(features)\n",
    "sorted_sim = np.argsort(sim_pairs, axis=1)"
   ]
  },
  {
   "cell_type": "code",
   "execution_count": 85,
   "id": "da4ac496",
   "metadata": {},
   "outputs": [
    {
     "data": {
      "text/plain": [
       "0.5275"
      ]
     },
     "execution_count": 85,
     "metadata": {},
     "output_type": "execute_result"
    }
   ],
   "source": [
    "NN = sorted_sim[:,-2].tolist()\n",
    "c = 0\n",
    "for i, s in enumerate(NN):\n",
    "    if s // 100 == i // 100:\n",
    "        c = c + 1\n",
    "c / len(NN)        "
   ]
  },
  {
   "cell_type": "code",
   "execution_count": 86,
   "id": "d56c3ad5",
   "metadata": {},
   "outputs": [
    {
     "data": {
      "text/plain": [
       "0.5275"
      ]
     },
     "execution_count": 86,
     "metadata": {},
     "output_type": "execute_result"
    }
   ],
   "source": [
    "NN = sorted_sim[:,-2].tolist()\n",
    "l = mean_df['label'].tolist()\n",
    "for j in range(len(l)):\n",
    "    if l[j] > 3:\n",
    "        l[j] = l[j] - 1\n",
    "c = 0\n",
    "for i, s in enumerate(NN):\n",
    "    if s // 100 == l[i]:\n",
    "        c = c + 1\n",
    "c / len(NN)  "
   ]
  },
  {
   "cell_type": "markdown",
   "id": "82a2c3f4",
   "metadata": {},
   "source": [
    "# classifying with combined features"
   ]
  },
  {
   "cell_type": "markdown",
   "id": "e0740d96",
   "metadata": {},
   "source": [
    "## creating a dataframe for audio features"
   ]
  },
  {
   "cell_type": "code",
   "execution_count": 181,
   "id": "6ef24b3b",
   "metadata": {},
   "outputs": [],
   "source": [
    "import numpy as np\n",
    "import os\n",
    "import pandas as pd\n",
    "from sklearn.metrics.pairwise import cosine_similarity\n",
    "from numpy import linalg as LA"
   ]
  },
  {
   "cell_type": "code",
   "execution_count": 182,
   "id": "5657c029",
   "metadata": {},
   "outputs": [],
   "source": [
    "PATH_AUDIO = \"/home/eftekhar/Documents/Databases/AVDT_backup/Audios\"\n",
    "aud_names = []\n",
    "aud_classes = []\n",
    "for d in os.listdir(PATH_AUDIO):\n",
    "    for aud in os.listdir(os.path.join(PATH_AUDIO, d))[:100]:\n",
    "        aud_names.append(aud.split(\"/\")[-1].split(\".\")[0])\n",
    "        aud_classes.append(d) "
   ]
  },
  {
   "cell_type": "code",
   "execution_count": 183,
   "id": "a1e265f2",
   "metadata": {},
   "outputs": [],
   "source": [
    "outputs1 = np.load(\"results_2layer_numscale20_downfac_root_2_no_norm1_librosa_44100_one_path_kaiser_fast_20_classes_100videos.npy\")\n",
    "outputs2 = np.load(\"results_3layer_numscale20_downfac_root_2_no_norm1_librosa_44100_one_path_kaiser_fast_20_classes_100videos.npy\")"
   ]
  },
  {
   "cell_type": "code",
   "execution_count": null,
   "id": "04033bed",
   "metadata": {},
   "outputs": [],
   "source": []
  },
  {
   "cell_type": "code",
   "execution_count": 159,
   "id": "94719a36",
   "metadata": {},
   "outputs": [],
   "source": [
    "outputs1 = outputs1 / np.linalg.norm(outputs1, axis=1)[:,None]\n",
    "outputs2 = outputs2 / np.linalg.norm(outputs2, axis=1)[:,None]"
   ]
  },
  {
   "cell_type": "code",
   "execution_count": 184,
   "id": "83d4f213",
   "metadata": {},
   "outputs": [],
   "source": [
    "outputs = np.concatenate((outputs1, outputs2), axis=-1)"
   ]
  },
  {
   "cell_type": "code",
   "execution_count": 185,
   "id": "66867a79",
   "metadata": {},
   "outputs": [],
   "source": [
    "aud_feats = list(outputs)\n",
    "aud_feats = list(map(lambda x: x[None, :], aud_feats))"
   ]
  },
  {
   "cell_type": "code",
   "execution_count": 186,
   "id": "8309945e",
   "metadata": {},
   "outputs": [
    {
     "data": {
      "text/html": [
       "<div>\n",
       "<style scoped>\n",
       "    .dataframe tbody tr th:only-of-type {\n",
       "        vertical-align: middle;\n",
       "    }\n",
       "\n",
       "    .dataframe tbody tr th {\n",
       "        vertical-align: top;\n",
       "    }\n",
       "\n",
       "    .dataframe thead th {\n",
       "        text-align: right;\n",
       "    }\n",
       "</style>\n",
       "<table border=\"1\" class=\"dataframe\">\n",
       "  <thead>\n",
       "    <tr style=\"text-align: right;\">\n",
       "      <th></th>\n",
       "      <th>name</th>\n",
       "      <th>aud_features</th>\n",
       "      <th>class</th>\n",
       "    </tr>\n",
       "  </thead>\n",
       "  <tbody>\n",
       "    <tr>\n",
       "      <th>0</th>\n",
       "      <td>flag_101</td>\n",
       "      <td>[[2.1365194, 17.354778, 75.42825, 186.926, 275...</td>\n",
       "      <td>flag</td>\n",
       "    </tr>\n",
       "    <tr>\n",
       "      <th>1</th>\n",
       "      <td>flag_246</td>\n",
       "      <td>[[0.0002535897, 0.00029681105, 0.0004447087, 0...</td>\n",
       "      <td>flag</td>\n",
       "    </tr>\n",
       "    <tr>\n",
       "      <th>2</th>\n",
       "      <td>flag_7</td>\n",
       "      <td>[[0.022771936, 0.16868882, 0.41200954, 0.34676...</td>\n",
       "      <td>flag</td>\n",
       "    </tr>\n",
       "    <tr>\n",
       "      <th>3</th>\n",
       "      <td>flag_115</td>\n",
       "      <td>[[20.277924, 114.41226, 141.63818, 39.822044, ...</td>\n",
       "      <td>flag</td>\n",
       "    </tr>\n",
       "    <tr>\n",
       "      <th>4</th>\n",
       "      <td>flag_34</td>\n",
       "      <td>[[0.0011513757, 0.0031094966, 0.0056750514, 0....</td>\n",
       "      <td>flag</td>\n",
       "    </tr>\n",
       "    <tr>\n",
       "      <th>...</th>\n",
       "      <td>...</td>\n",
       "      <td>...</td>\n",
       "      <td>...</td>\n",
       "    </tr>\n",
       "    <tr>\n",
       "      <th>1995</th>\n",
       "      <td>string_orchestra_191</td>\n",
       "      <td>[[36.218887, 319.73907, 1231.3457, 1665.2405, ...</td>\n",
       "      <td>string_orchestra</td>\n",
       "    </tr>\n",
       "    <tr>\n",
       "      <th>1996</th>\n",
       "      <td>string_orchestra_154</td>\n",
       "      <td>[[49.12696, 268.49466, 717.13214, 1165.6162, 1...</td>\n",
       "      <td>string_orchestra</td>\n",
       "    </tr>\n",
       "    <tr>\n",
       "      <th>1997</th>\n",
       "      <td>string_orchestra_159</td>\n",
       "      <td>[[0.11542471, 1.7100778, 13.5913725, 45.75505,...</td>\n",
       "      <td>string_orchestra</td>\n",
       "    </tr>\n",
       "    <tr>\n",
       "      <th>1998</th>\n",
       "      <td>string_orchestra_110</td>\n",
       "      <td>[[0.087360196, 0.89432883, 5.175479, 14.185384...</td>\n",
       "      <td>string_orchestra</td>\n",
       "    </tr>\n",
       "    <tr>\n",
       "      <th>1999</th>\n",
       "      <td>string_orchestra_118</td>\n",
       "      <td>[[1.3514396, 12.469723, 53.49459, 121.89577, 1...</td>\n",
       "      <td>string_orchestra</td>\n",
       "    </tr>\n",
       "  </tbody>\n",
       "</table>\n",
       "<p>2000 rows × 3 columns</p>\n",
       "</div>"
      ],
      "text/plain": [
       "                      name                                       aud_features  \\\n",
       "0                 flag_101  [[2.1365194, 17.354778, 75.42825, 186.926, 275...   \n",
       "1                 flag_246  [[0.0002535897, 0.00029681105, 0.0004447087, 0...   \n",
       "2                   flag_7  [[0.022771936, 0.16868882, 0.41200954, 0.34676...   \n",
       "3                 flag_115  [[20.277924, 114.41226, 141.63818, 39.822044, ...   \n",
       "4                  flag_34  [[0.0011513757, 0.0031094966, 0.0056750514, 0....   \n",
       "...                    ...                                                ...   \n",
       "1995  string_orchestra_191  [[36.218887, 319.73907, 1231.3457, 1665.2405, ...   \n",
       "1996  string_orchestra_154  [[49.12696, 268.49466, 717.13214, 1165.6162, 1...   \n",
       "1997  string_orchestra_159  [[0.11542471, 1.7100778, 13.5913725, 45.75505,...   \n",
       "1998  string_orchestra_110  [[0.087360196, 0.89432883, 5.175479, 14.185384...   \n",
       "1999  string_orchestra_118  [[1.3514396, 12.469723, 53.49459, 121.89577, 1...   \n",
       "\n",
       "                 class  \n",
       "0                 flag  \n",
       "1                 flag  \n",
       "2                 flag  \n",
       "3                 flag  \n",
       "4                 flag  \n",
       "...                ...  \n",
       "1995  string_orchestra  \n",
       "1996  string_orchestra  \n",
       "1997  string_orchestra  \n",
       "1998  string_orchestra  \n",
       "1999  string_orchestra  \n",
       "\n",
       "[2000 rows x 3 columns]"
      ]
     },
     "execution_count": 186,
     "metadata": {},
     "output_type": "execute_result"
    }
   ],
   "source": [
    "df_aud = pd.DataFrame(data={'name': aud_names, 'aud_features': aud_feats, 'class': aud_classes})\n",
    "df_aud"
   ]
  },
  {
   "cell_type": "markdown",
   "id": "1a575bb6",
   "metadata": {},
   "source": [
    "## creating a dataframe for video features"
   ]
  },
  {
   "cell_type": "code",
   "execution_count": 187,
   "id": "b261e4a0",
   "metadata": {},
   "outputs": [],
   "source": [
    "vid_feats = np.load(\"./video_features/features_test_3layer_highresolution.npy\")\n",
    "PATH_TO_CLIPS = \"/home/eftekhar/Documents/Databases/AVDT_backup/Frames/clips.txt\"\n",
    "f = open(PATH_TO_CLIPS, \"r\")\n",
    "clips = f.readlines()"
   ]
  },
  {
   "cell_type": "code",
   "execution_count": 188,
   "id": "766ba275",
   "metadata": {},
   "outputs": [],
   "source": [
    "vid_names = list(map(lambda x: x[::-1].split(\" \", 2)[-1][::-1].split(\"/\")[-1], clips))\n",
    "vid_classes = list(map(lambda x: x.split('/')[-2], clips))\n",
    "vid_feats = list(vid_feats)\n",
    "vid_feats = map(lambda x: x[None,:],vid_feats)"
   ]
  },
  {
   "cell_type": "code",
   "execution_count": 189,
   "id": "d685d1c9",
   "metadata": {},
   "outputs": [],
   "source": [
    "df_vid = pd.DataFrame(data={'name': vid_names, 'vid_features': vid_feats, 'class': vid_classes})"
   ]
  },
  {
   "cell_type": "code",
   "execution_count": 190,
   "id": "b892f7ec",
   "metadata": {},
   "outputs": [
    {
     "data": {
      "text/html": [
       "<div>\n",
       "<style scoped>\n",
       "    .dataframe tbody tr th:only-of-type {\n",
       "        vertical-align: middle;\n",
       "    }\n",
       "\n",
       "    .dataframe tbody tr th {\n",
       "        vertical-align: top;\n",
       "    }\n",
       "\n",
       "    .dataframe thead th {\n",
       "        text-align: right;\n",
       "    }\n",
       "</style>\n",
       "<table border=\"1\" class=\"dataframe\">\n",
       "  <thead>\n",
       "    <tr style=\"text-align: right;\">\n",
       "      <th></th>\n",
       "      <th>class</th>\n",
       "      <th>name</th>\n",
       "      <th>vid_features</th>\n",
       "    </tr>\n",
       "  </thead>\n",
       "  <tbody>\n",
       "    <tr>\n",
       "      <th>0</th>\n",
       "      <td>airshow</td>\n",
       "      <td>airshow_101</td>\n",
       "      <td>[[2816.6287, 9.47722, 192.81572, 2728.111, 11....</td>\n",
       "    </tr>\n",
       "    <tr>\n",
       "      <th>1</th>\n",
       "      <td>airshow</td>\n",
       "      <td>airshow_105</td>\n",
       "      <td>[[3124.3916, 315.91003, 9.992618, 3055.7607, 2...</td>\n",
       "    </tr>\n",
       "    <tr>\n",
       "      <th>2</th>\n",
       "      <td>airshow</td>\n",
       "      <td>airshow_106</td>\n",
       "      <td>[[3518.321, 86.879486, 93.2425, 2951.9517, 32....</td>\n",
       "    </tr>\n",
       "    <tr>\n",
       "      <th>3</th>\n",
       "      <td>airshow</td>\n",
       "      <td>airshow_111</td>\n",
       "      <td>[[2829.6687, 611.2611, 17.659845, 2753.021, 53...</td>\n",
       "    </tr>\n",
       "    <tr>\n",
       "      <th>4</th>\n",
       "      <td>airshow</td>\n",
       "      <td>airshow_113</td>\n",
       "      <td>[[2742.2278, 27.201656, 78.0075, 2655.1685, 24...</td>\n",
       "    </tr>\n",
       "    <tr>\n",
       "      <th>...</th>\n",
       "      <td>...</td>\n",
       "      <td>...</td>\n",
       "      <td>...</td>\n",
       "    </tr>\n",
       "    <tr>\n",
       "      <th>1995</th>\n",
       "      <td>wavy_water</td>\n",
       "      <td>wavy_water_290</td>\n",
       "      <td>[[3062.683, 1309.364, 139.66742, 2356.3357, 11...</td>\n",
       "    </tr>\n",
       "    <tr>\n",
       "      <th>1996</th>\n",
       "      <td>wavy_water</td>\n",
       "      <td>wavy_water_294</td>\n",
       "      <td>[[2816.8025, 16.513369, 345.25955, 6201.9126, ...</td>\n",
       "    </tr>\n",
       "    <tr>\n",
       "      <th>1997</th>\n",
       "      <td>wavy_water</td>\n",
       "      <td>wavy_water_295</td>\n",
       "      <td>[[1111.7102, 1.2423995, 1462.0837, 1272.3047, ...</td>\n",
       "    </tr>\n",
       "    <tr>\n",
       "      <th>1998</th>\n",
       "      <td>wavy_water</td>\n",
       "      <td>wavy_water_296</td>\n",
       "      <td>[[3766.695, 34.115597, 1248.9575, 3672.1328, 2...</td>\n",
       "    </tr>\n",
       "    <tr>\n",
       "      <th>1999</th>\n",
       "      <td>wavy_water</td>\n",
       "      <td>wavy_water_297</td>\n",
       "      <td>[[4782.3184, 15.876362, 619.816, 3851.6282, 15...</td>\n",
       "    </tr>\n",
       "  </tbody>\n",
       "</table>\n",
       "<p>2000 rows × 3 columns</p>\n",
       "</div>"
      ],
      "text/plain": [
       "           class            name  \\\n",
       "0        airshow     airshow_101   \n",
       "1        airshow     airshow_105   \n",
       "2        airshow     airshow_106   \n",
       "3        airshow     airshow_111   \n",
       "4        airshow     airshow_113   \n",
       "...          ...             ...   \n",
       "1995  wavy_water  wavy_water_290   \n",
       "1996  wavy_water  wavy_water_294   \n",
       "1997  wavy_water  wavy_water_295   \n",
       "1998  wavy_water  wavy_water_296   \n",
       "1999  wavy_water  wavy_water_297   \n",
       "\n",
       "                                           vid_features  \n",
       "0     [[2816.6287, 9.47722, 192.81572, 2728.111, 11....  \n",
       "1     [[3124.3916, 315.91003, 9.992618, 3055.7607, 2...  \n",
       "2     [[3518.321, 86.879486, 93.2425, 2951.9517, 32....  \n",
       "3     [[2829.6687, 611.2611, 17.659845, 2753.021, 53...  \n",
       "4     [[2742.2278, 27.201656, 78.0075, 2655.1685, 24...  \n",
       "...                                                 ...  \n",
       "1995  [[3062.683, 1309.364, 139.66742, 2356.3357, 11...  \n",
       "1996  [[2816.8025, 16.513369, 345.25955, 6201.9126, ...  \n",
       "1997  [[1111.7102, 1.2423995, 1462.0837, 1272.3047, ...  \n",
       "1998  [[3766.695, 34.115597, 1248.9575, 3672.1328, 2...  \n",
       "1999  [[4782.3184, 15.876362, 619.816, 3851.6282, 15...  \n",
       "\n",
       "[2000 rows x 3 columns]"
      ]
     },
     "execution_count": 190,
     "metadata": {},
     "output_type": "execute_result"
    }
   ],
   "source": [
    "df_vid_agg = df_vid.groupby(['class', 'name'])['vid_features'].mean().to_frame().reset_index()\n",
    "df_vid_agg"
   ]
  },
  {
   "cell_type": "code",
   "execution_count": 167,
   "id": "a4ac6174",
   "metadata": {},
   "outputs": [
    {
     "data": {
      "text/html": [
       "<div>\n",
       "<style scoped>\n",
       "    .dataframe tbody tr th:only-of-type {\n",
       "        vertical-align: middle;\n",
       "    }\n",
       "\n",
       "    .dataframe tbody tr th {\n",
       "        vertical-align: top;\n",
       "    }\n",
       "\n",
       "    .dataframe thead th {\n",
       "        text-align: right;\n",
       "    }\n",
       "</style>\n",
       "<table border=\"1\" class=\"dataframe\">\n",
       "  <thead>\n",
       "    <tr style=\"text-align: right;\">\n",
       "      <th></th>\n",
       "      <th>class</th>\n",
       "      <th>name</th>\n",
       "      <th>vid_features</th>\n",
       "    </tr>\n",
       "  </thead>\n",
       "  <tbody>\n",
       "    <tr>\n",
       "      <th>0</th>\n",
       "      <td>airshow</td>\n",
       "      <td>airshow_101</td>\n",
       "      <td>[[0.13272996, 0.00044660165, 0.009086191, 0.12...</td>\n",
       "    </tr>\n",
       "    <tr>\n",
       "      <th>1</th>\n",
       "      <td>airshow</td>\n",
       "      <td>airshow_105</td>\n",
       "      <td>[[0.1383579, 0.0139894895, 0.00044250453, 0.13...</td>\n",
       "    </tr>\n",
       "    <tr>\n",
       "      <th>2</th>\n",
       "      <td>airshow</td>\n",
       "      <td>airshow_106</td>\n",
       "      <td>[[0.17508079, 0.004323349, 0.004639989, 0.1468...</td>\n",
       "    </tr>\n",
       "    <tr>\n",
       "      <th>3</th>\n",
       "      <td>airshow</td>\n",
       "      <td>airshow_111</td>\n",
       "      <td>[[0.12706187, 0.02744773, 0.00079298794, 0.123...</td>\n",
       "    </tr>\n",
       "    <tr>\n",
       "      <th>4</th>\n",
       "      <td>airshow</td>\n",
       "      <td>airshow_113</td>\n",
       "      <td>[[0.13462837, 0.0013354523, 0.003829741, 0.130...</td>\n",
       "    </tr>\n",
       "    <tr>\n",
       "      <th>...</th>\n",
       "      <td>...</td>\n",
       "      <td>...</td>\n",
       "      <td>...</td>\n",
       "    </tr>\n",
       "    <tr>\n",
       "      <th>1995</th>\n",
       "      <td>wavy_water</td>\n",
       "      <td>wavy_water_290</td>\n",
       "      <td>[[0.093758404, 0.04008377, 0.004275661, 0.0721...</td>\n",
       "    </tr>\n",
       "    <tr>\n",
       "      <th>1996</th>\n",
       "      <td>wavy_water</td>\n",
       "      <td>wavy_water_294</td>\n",
       "      <td>[[0.067186035, 0.0003938749, 0.0082350895, 0.1...</td>\n",
       "    </tr>\n",
       "    <tr>\n",
       "      <th>1997</th>\n",
       "      <td>wavy_water</td>\n",
       "      <td>wavy_water_295</td>\n",
       "      <td>[[0.05102048, 5.7018293e-05, 0.06710041, 0.058...</td>\n",
       "    </tr>\n",
       "    <tr>\n",
       "      <th>1998</th>\n",
       "      <td>wavy_water</td>\n",
       "      <td>wavy_water_296</td>\n",
       "      <td>[[0.10363331, 0.0009386245, 0.034362644, 0.101...</td>\n",
       "    </tr>\n",
       "    <tr>\n",
       "      <th>1999</th>\n",
       "      <td>wavy_water</td>\n",
       "      <td>wavy_water_297</td>\n",
       "      <td>[[0.17185666, 0.0005705305, 0.022273611, 0.138...</td>\n",
       "    </tr>\n",
       "  </tbody>\n",
       "</table>\n",
       "<p>2000 rows × 3 columns</p>\n",
       "</div>"
      ],
      "text/plain": [
       "           class            name  \\\n",
       "0        airshow     airshow_101   \n",
       "1        airshow     airshow_105   \n",
       "2        airshow     airshow_106   \n",
       "3        airshow     airshow_111   \n",
       "4        airshow     airshow_113   \n",
       "...          ...             ...   \n",
       "1995  wavy_water  wavy_water_290   \n",
       "1996  wavy_water  wavy_water_294   \n",
       "1997  wavy_water  wavy_water_295   \n",
       "1998  wavy_water  wavy_water_296   \n",
       "1999  wavy_water  wavy_water_297   \n",
       "\n",
       "                                           vid_features  \n",
       "0     [[0.13272996, 0.00044660165, 0.009086191, 0.12...  \n",
       "1     [[0.1383579, 0.0139894895, 0.00044250453, 0.13...  \n",
       "2     [[0.17508079, 0.004323349, 0.004639989, 0.1468...  \n",
       "3     [[0.12706187, 0.02744773, 0.00079298794, 0.123...  \n",
       "4     [[0.13462837, 0.0013354523, 0.003829741, 0.130...  \n",
       "...                                                 ...  \n",
       "1995  [[0.093758404, 0.04008377, 0.004275661, 0.0721...  \n",
       "1996  [[0.067186035, 0.0003938749, 0.0082350895, 0.1...  \n",
       "1997  [[0.05102048, 5.7018293e-05, 0.06710041, 0.058...  \n",
       "1998  [[0.10363331, 0.0009386245, 0.034362644, 0.101...  \n",
       "1999  [[0.17185666, 0.0005705305, 0.022273611, 0.138...  \n",
       "\n",
       "[2000 rows x 3 columns]"
      ]
     },
     "execution_count": 167,
     "metadata": {},
     "output_type": "execute_result"
    }
   ],
   "source": [
    "# LA.norm(df_vid_agg['vid_features'].iloc[0])\n",
    "df_vid_agg['vid_features'] = df_vid_agg['vid_features'].apply(lambda x: x / LA.norm(x))\n",
    "df_vid_agg"
   ]
  },
  {
   "cell_type": "markdown",
   "id": "f56d337f",
   "metadata": {},
   "source": [
    "## joining two tables"
   ]
  },
  {
   "cell_type": "code",
   "execution_count": 191,
   "id": "9912b36c",
   "metadata": {},
   "outputs": [
    {
     "data": {
      "text/html": [
       "<div>\n",
       "<style scoped>\n",
       "    .dataframe tbody tr th:only-of-type {\n",
       "        vertical-align: middle;\n",
       "    }\n",
       "\n",
       "    .dataframe tbody tr th {\n",
       "        vertical-align: top;\n",
       "    }\n",
       "\n",
       "    .dataframe thead th {\n",
       "        text-align: right;\n",
       "    }\n",
       "</style>\n",
       "<table border=\"1\" class=\"dataframe\">\n",
       "  <thead>\n",
       "    <tr style=\"text-align: right;\">\n",
       "      <th></th>\n",
       "      <th>class</th>\n",
       "      <th>name</th>\n",
       "      <th>vid_features</th>\n",
       "      <th>aud_features</th>\n",
       "    </tr>\n",
       "  </thead>\n",
       "  <tbody>\n",
       "    <tr>\n",
       "      <th>0</th>\n",
       "      <td>airshow</td>\n",
       "      <td>airshow_101</td>\n",
       "      <td>[[2816.6287, 9.47722, 192.81572, 2728.111, 11....</td>\n",
       "      <td>[[0.41099924, 5.820086, 33.199326, 68.61189, 5...</td>\n",
       "    </tr>\n",
       "    <tr>\n",
       "      <th>1</th>\n",
       "      <td>airshow</td>\n",
       "      <td>airshow_105</td>\n",
       "      <td>[[3124.3916, 315.91003, 9.992618, 3055.7607, 2...</td>\n",
       "      <td>[[0.374, 4.3718967, 26.678083, 76.11595, 104.2...</td>\n",
       "    </tr>\n",
       "    <tr>\n",
       "      <th>2</th>\n",
       "      <td>airshow</td>\n",
       "      <td>airshow_106</td>\n",
       "      <td>[[3518.321, 86.879486, 93.2425, 2951.9517, 32....</td>\n",
       "      <td>[[2.8767335, 31.134998, 138.75296, 246.62137, ...</td>\n",
       "    </tr>\n",
       "    <tr>\n",
       "      <th>3</th>\n",
       "      <td>airshow</td>\n",
       "      <td>airshow_111</td>\n",
       "      <td>[[2829.6687, 611.2611, 17.659845, 2753.021, 53...</td>\n",
       "      <td>[[4.09848, 41.572945, 135.6698, 130.38594, 70....</td>\n",
       "    </tr>\n",
       "    <tr>\n",
       "      <th>4</th>\n",
       "      <td>airshow</td>\n",
       "      <td>airshow_113</td>\n",
       "      <td>[[2742.2278, 27.201656, 78.0075, 2655.1685, 24...</td>\n",
       "      <td>[[2.8163543, 7.622316, 14.0644, 22.121418, 16....</td>\n",
       "    </tr>\n",
       "    <tr>\n",
       "      <th>...</th>\n",
       "      <td>...</td>\n",
       "      <td>...</td>\n",
       "      <td>...</td>\n",
       "      <td>...</td>\n",
       "    </tr>\n",
       "    <tr>\n",
       "      <th>1995</th>\n",
       "      <td>wavy_water</td>\n",
       "      <td>wavy_water_290</td>\n",
       "      <td>[[3062.683, 1309.364, 139.66742, 2356.3357, 11...</td>\n",
       "      <td>[[1329.852, 2639.401, 4492.262, 2525.1885, 113...</td>\n",
       "    </tr>\n",
       "    <tr>\n",
       "      <th>1996</th>\n",
       "      <td>wavy_water</td>\n",
       "      <td>wavy_water_294</td>\n",
       "      <td>[[2816.8025, 16.513369, 345.25955, 6201.9126, ...</td>\n",
       "      <td>[[470.01443, 1810.3854, 3566.5278, 2140.524, 1...</td>\n",
       "    </tr>\n",
       "    <tr>\n",
       "      <th>1997</th>\n",
       "      <td>wavy_water</td>\n",
       "      <td>wavy_water_295</td>\n",
       "      <td>[[1111.7102, 1.2423995, 1462.0837, 1272.3047, ...</td>\n",
       "      <td>[[46.846176, 252.69846, 570.3358, 721.82886, 6...</td>\n",
       "    </tr>\n",
       "    <tr>\n",
       "      <th>1998</th>\n",
       "      <td>wavy_water</td>\n",
       "      <td>wavy_water_296</td>\n",
       "      <td>[[3766.695, 34.115597, 1248.9575, 3672.1328, 2...</td>\n",
       "      <td>[[9.46862, 39.560623, 82.90611, 77.62255, 46.9...</td>\n",
       "    </tr>\n",
       "    <tr>\n",
       "      <th>1999</th>\n",
       "      <td>wavy_water</td>\n",
       "      <td>wavy_water_297</td>\n",
       "      <td>[[4782.3184, 15.876362, 619.816, 3851.6282, 15...</td>\n",
       "      <td>[[21.71115, 54.826767, 109.82437, 216.87952, 3...</td>\n",
       "    </tr>\n",
       "  </tbody>\n",
       "</table>\n",
       "<p>2000 rows × 4 columns</p>\n",
       "</div>"
      ],
      "text/plain": [
       "           class            name  \\\n",
       "0        airshow     airshow_101   \n",
       "1        airshow     airshow_105   \n",
       "2        airshow     airshow_106   \n",
       "3        airshow     airshow_111   \n",
       "4        airshow     airshow_113   \n",
       "...          ...             ...   \n",
       "1995  wavy_water  wavy_water_290   \n",
       "1996  wavy_water  wavy_water_294   \n",
       "1997  wavy_water  wavy_water_295   \n",
       "1998  wavy_water  wavy_water_296   \n",
       "1999  wavy_water  wavy_water_297   \n",
       "\n",
       "                                           vid_features  \\\n",
       "0     [[2816.6287, 9.47722, 192.81572, 2728.111, 11....   \n",
       "1     [[3124.3916, 315.91003, 9.992618, 3055.7607, 2...   \n",
       "2     [[3518.321, 86.879486, 93.2425, 2951.9517, 32....   \n",
       "3     [[2829.6687, 611.2611, 17.659845, 2753.021, 53...   \n",
       "4     [[2742.2278, 27.201656, 78.0075, 2655.1685, 24...   \n",
       "...                                                 ...   \n",
       "1995  [[3062.683, 1309.364, 139.66742, 2356.3357, 11...   \n",
       "1996  [[2816.8025, 16.513369, 345.25955, 6201.9126, ...   \n",
       "1997  [[1111.7102, 1.2423995, 1462.0837, 1272.3047, ...   \n",
       "1998  [[3766.695, 34.115597, 1248.9575, 3672.1328, 2...   \n",
       "1999  [[4782.3184, 15.876362, 619.816, 3851.6282, 15...   \n",
       "\n",
       "                                           aud_features  \n",
       "0     [[0.41099924, 5.820086, 33.199326, 68.61189, 5...  \n",
       "1     [[0.374, 4.3718967, 26.678083, 76.11595, 104.2...  \n",
       "2     [[2.8767335, 31.134998, 138.75296, 246.62137, ...  \n",
       "3     [[4.09848, 41.572945, 135.6698, 130.38594, 70....  \n",
       "4     [[2.8163543, 7.622316, 14.0644, 22.121418, 16....  \n",
       "...                                                 ...  \n",
       "1995  [[1329.852, 2639.401, 4492.262, 2525.1885, 113...  \n",
       "1996  [[470.01443, 1810.3854, 3566.5278, 2140.524, 1...  \n",
       "1997  [[46.846176, 252.69846, 570.3358, 721.82886, 6...  \n",
       "1998  [[9.46862, 39.560623, 82.90611, 77.62255, 46.9...  \n",
       "1999  [[21.71115, 54.826767, 109.82437, 216.87952, 3...  \n",
       "\n",
       "[2000 rows x 4 columns]"
      ]
     },
     "execution_count": 191,
     "metadata": {},
     "output_type": "execute_result"
    }
   ],
   "source": [
    "df_join = df_vid_agg.merge(df_aud, on=['class', 'name'], how='inner')\n",
    "df_join"
   ]
  },
  {
   "cell_type": "code",
   "execution_count": 192,
   "id": "ad519ff9",
   "metadata": {},
   "outputs": [
    {
     "data": {
      "text/html": [
       "<div>\n",
       "<style scoped>\n",
       "    .dataframe tbody tr th:only-of-type {\n",
       "        vertical-align: middle;\n",
       "    }\n",
       "\n",
       "    .dataframe tbody tr th {\n",
       "        vertical-align: top;\n",
       "    }\n",
       "\n",
       "    .dataframe thead th {\n",
       "        text-align: right;\n",
       "    }\n",
       "</style>\n",
       "<table border=\"1\" class=\"dataframe\">\n",
       "  <thead>\n",
       "    <tr style=\"text-align: right;\">\n",
       "      <th></th>\n",
       "      <th>class</th>\n",
       "      <th>name</th>\n",
       "      <th>vid_features</th>\n",
       "      <th>aud_features</th>\n",
       "      <th>concat_features</th>\n",
       "    </tr>\n",
       "  </thead>\n",
       "  <tbody>\n",
       "    <tr>\n",
       "      <th>0</th>\n",
       "      <td>airshow</td>\n",
       "      <td>airshow_101</td>\n",
       "      <td>[[2816.6287, 9.47722, 192.81572, 2728.111, 11....</td>\n",
       "      <td>[[0.41099924, 5.820086, 33.199326, 68.61189, 5...</td>\n",
       "      <td>[[2816.6287, 9.47722, 192.81572, 2728.111, 11....</td>\n",
       "    </tr>\n",
       "    <tr>\n",
       "      <th>1</th>\n",
       "      <td>airshow</td>\n",
       "      <td>airshow_105</td>\n",
       "      <td>[[3124.3916, 315.91003, 9.992618, 3055.7607, 2...</td>\n",
       "      <td>[[0.374, 4.3718967, 26.678083, 76.11595, 104.2...</td>\n",
       "      <td>[[3124.3916, 315.91003, 9.992618, 3055.7607, 2...</td>\n",
       "    </tr>\n",
       "    <tr>\n",
       "      <th>2</th>\n",
       "      <td>airshow</td>\n",
       "      <td>airshow_106</td>\n",
       "      <td>[[3518.321, 86.879486, 93.2425, 2951.9517, 32....</td>\n",
       "      <td>[[2.8767335, 31.134998, 138.75296, 246.62137, ...</td>\n",
       "      <td>[[3518.321, 86.879486, 93.2425, 2951.9517, 32....</td>\n",
       "    </tr>\n",
       "    <tr>\n",
       "      <th>3</th>\n",
       "      <td>airshow</td>\n",
       "      <td>airshow_111</td>\n",
       "      <td>[[2829.6687, 611.2611, 17.659845, 2753.021, 53...</td>\n",
       "      <td>[[4.09848, 41.572945, 135.6698, 130.38594, 70....</td>\n",
       "      <td>[[2829.6687, 611.2611, 17.659845, 2753.021, 53...</td>\n",
       "    </tr>\n",
       "    <tr>\n",
       "      <th>4</th>\n",
       "      <td>airshow</td>\n",
       "      <td>airshow_113</td>\n",
       "      <td>[[2742.2278, 27.201656, 78.0075, 2655.1685, 24...</td>\n",
       "      <td>[[2.8163543, 7.622316, 14.0644, 22.121418, 16....</td>\n",
       "      <td>[[2742.2278, 27.201656, 78.0075, 2655.1685, 24...</td>\n",
       "    </tr>\n",
       "    <tr>\n",
       "      <th>...</th>\n",
       "      <td>...</td>\n",
       "      <td>...</td>\n",
       "      <td>...</td>\n",
       "      <td>...</td>\n",
       "      <td>...</td>\n",
       "    </tr>\n",
       "    <tr>\n",
       "      <th>1995</th>\n",
       "      <td>wavy_water</td>\n",
       "      <td>wavy_water_290</td>\n",
       "      <td>[[3062.683, 1309.364, 139.66742, 2356.3357, 11...</td>\n",
       "      <td>[[1329.852, 2639.401, 4492.262, 2525.1885, 113...</td>\n",
       "      <td>[[3062.683, 1309.364, 139.66742, 2356.3357, 11...</td>\n",
       "    </tr>\n",
       "    <tr>\n",
       "      <th>1996</th>\n",
       "      <td>wavy_water</td>\n",
       "      <td>wavy_water_294</td>\n",
       "      <td>[[2816.8025, 16.513369, 345.25955, 6201.9126, ...</td>\n",
       "      <td>[[470.01443, 1810.3854, 3566.5278, 2140.524, 1...</td>\n",
       "      <td>[[2816.8025, 16.513369, 345.25955, 6201.9126, ...</td>\n",
       "    </tr>\n",
       "    <tr>\n",
       "      <th>1997</th>\n",
       "      <td>wavy_water</td>\n",
       "      <td>wavy_water_295</td>\n",
       "      <td>[[1111.7102, 1.2423995, 1462.0837, 1272.3047, ...</td>\n",
       "      <td>[[46.846176, 252.69846, 570.3358, 721.82886, 6...</td>\n",
       "      <td>[[1111.7102, 1.2423995, 1462.0837, 1272.3047, ...</td>\n",
       "    </tr>\n",
       "    <tr>\n",
       "      <th>1998</th>\n",
       "      <td>wavy_water</td>\n",
       "      <td>wavy_water_296</td>\n",
       "      <td>[[3766.695, 34.115597, 1248.9575, 3672.1328, 2...</td>\n",
       "      <td>[[9.46862, 39.560623, 82.90611, 77.62255, 46.9...</td>\n",
       "      <td>[[3766.695, 34.115597, 1248.9575, 3672.1328, 2...</td>\n",
       "    </tr>\n",
       "    <tr>\n",
       "      <th>1999</th>\n",
       "      <td>wavy_water</td>\n",
       "      <td>wavy_water_297</td>\n",
       "      <td>[[4782.3184, 15.876362, 619.816, 3851.6282, 15...</td>\n",
       "      <td>[[21.71115, 54.826767, 109.82437, 216.87952, 3...</td>\n",
       "      <td>[[4782.3184, 15.876362, 619.816, 3851.6282, 15...</td>\n",
       "    </tr>\n",
       "  </tbody>\n",
       "</table>\n",
       "<p>2000 rows × 5 columns</p>\n",
       "</div>"
      ],
      "text/plain": [
       "           class            name  \\\n",
       "0        airshow     airshow_101   \n",
       "1        airshow     airshow_105   \n",
       "2        airshow     airshow_106   \n",
       "3        airshow     airshow_111   \n",
       "4        airshow     airshow_113   \n",
       "...          ...             ...   \n",
       "1995  wavy_water  wavy_water_290   \n",
       "1996  wavy_water  wavy_water_294   \n",
       "1997  wavy_water  wavy_water_295   \n",
       "1998  wavy_water  wavy_water_296   \n",
       "1999  wavy_water  wavy_water_297   \n",
       "\n",
       "                                           vid_features  \\\n",
       "0     [[2816.6287, 9.47722, 192.81572, 2728.111, 11....   \n",
       "1     [[3124.3916, 315.91003, 9.992618, 3055.7607, 2...   \n",
       "2     [[3518.321, 86.879486, 93.2425, 2951.9517, 32....   \n",
       "3     [[2829.6687, 611.2611, 17.659845, 2753.021, 53...   \n",
       "4     [[2742.2278, 27.201656, 78.0075, 2655.1685, 24...   \n",
       "...                                                 ...   \n",
       "1995  [[3062.683, 1309.364, 139.66742, 2356.3357, 11...   \n",
       "1996  [[2816.8025, 16.513369, 345.25955, 6201.9126, ...   \n",
       "1997  [[1111.7102, 1.2423995, 1462.0837, 1272.3047, ...   \n",
       "1998  [[3766.695, 34.115597, 1248.9575, 3672.1328, 2...   \n",
       "1999  [[4782.3184, 15.876362, 619.816, 3851.6282, 15...   \n",
       "\n",
       "                                           aud_features  \\\n",
       "0     [[0.41099924, 5.820086, 33.199326, 68.61189, 5...   \n",
       "1     [[0.374, 4.3718967, 26.678083, 76.11595, 104.2...   \n",
       "2     [[2.8767335, 31.134998, 138.75296, 246.62137, ...   \n",
       "3     [[4.09848, 41.572945, 135.6698, 130.38594, 70....   \n",
       "4     [[2.8163543, 7.622316, 14.0644, 22.121418, 16....   \n",
       "...                                                 ...   \n",
       "1995  [[1329.852, 2639.401, 4492.262, 2525.1885, 113...   \n",
       "1996  [[470.01443, 1810.3854, 3566.5278, 2140.524, 1...   \n",
       "1997  [[46.846176, 252.69846, 570.3358, 721.82886, 6...   \n",
       "1998  [[9.46862, 39.560623, 82.90611, 77.62255, 46.9...   \n",
       "1999  [[21.71115, 54.826767, 109.82437, 216.87952, 3...   \n",
       "\n",
       "                                        concat_features  \n",
       "0     [[2816.6287, 9.47722, 192.81572, 2728.111, 11....  \n",
       "1     [[3124.3916, 315.91003, 9.992618, 3055.7607, 2...  \n",
       "2     [[3518.321, 86.879486, 93.2425, 2951.9517, 32....  \n",
       "3     [[2829.6687, 611.2611, 17.659845, 2753.021, 53...  \n",
       "4     [[2742.2278, 27.201656, 78.0075, 2655.1685, 24...  \n",
       "...                                                 ...  \n",
       "1995  [[3062.683, 1309.364, 139.66742, 2356.3357, 11...  \n",
       "1996  [[2816.8025, 16.513369, 345.25955, 6201.9126, ...  \n",
       "1997  [[1111.7102, 1.2423995, 1462.0837, 1272.3047, ...  \n",
       "1998  [[3766.695, 34.115597, 1248.9575, 3672.1328, 2...  \n",
       "1999  [[4782.3184, 15.876362, 619.816, 3851.6282, 15...  \n",
       "\n",
       "[2000 rows x 5 columns]"
      ]
     },
     "execution_count": 192,
     "metadata": {},
     "output_type": "execute_result"
    }
   ],
   "source": [
    "df_join['concat_features'] = df_join.apply(lambda x: np.concatenate((x.vid_features, x.aud_features), axis=-1), axis=1)\n",
    "df_join\n"
   ]
  },
  {
   "cell_type": "code",
   "execution_count": 193,
   "id": "b2614c33",
   "metadata": {},
   "outputs": [],
   "source": [
    "concat_features = df_join['concat_features'].tolist()\n",
    "mat_feats = np.concatenate(concat_features, axis=0)"
   ]
  },
  {
   "cell_type": "code",
   "execution_count": 194,
   "id": "a9175181",
   "metadata": {},
   "outputs": [],
   "source": [
    "sim_pairs = cosine_similarity(mat_feats)\n",
    "sorted_sim = np.argsort(sim_pairs, axis=1)"
   ]
  },
  {
   "cell_type": "code",
   "execution_count": 195,
   "id": "008b0b9f",
   "metadata": {},
   "outputs": [
    {
     "data": {
      "text/plain": [
       "0.7115"
      ]
     },
     "execution_count": 195,
     "metadata": {},
     "output_type": "execute_result"
    }
   ],
   "source": [
    "NN = sorted_sim[:,-2].tolist()\n",
    "c = 0\n",
    "for i, s in enumerate(NN):\n",
    "    if s // 100 == i // 100:\n",
    "        c = c + 1\n",
    "c / len(NN)        "
   ]
  },
  {
   "cell_type": "code",
   "execution_count": 196,
   "id": "11ff936f",
   "metadata": {},
   "outputs": [
    {
     "data": {
      "text/plain": [
       "(2000, 1682)"
      ]
     },
     "execution_count": 196,
     "metadata": {},
     "output_type": "execute_result"
    }
   ],
   "source": [
    "mat_feats.shape"
   ]
  },
  {
   "cell_type": "code",
   "execution_count": 197,
   "id": "7ba97694",
   "metadata": {},
   "outputs": [],
   "source": [
    "concat_features = df_join['vid_features'].tolist()\n",
    "mat_feats = np.concatenate(concat_features, axis=0)"
   ]
  },
  {
   "cell_type": "code",
   "execution_count": 198,
   "id": "14a26d0b",
   "metadata": {},
   "outputs": [],
   "source": [
    "c = df_join['class'].tolist()"
   ]
  },
  {
   "cell_type": "code",
   "execution_count": 199,
   "id": "29c44ff9",
   "metadata": {},
   "outputs": [],
   "source": [
    "labels = [i//100 for i in range(mat_feats.shape[0])]\n",
    "threshold = int(100 * 0.8)"
   ]
  },
  {
   "cell_type": "code",
   "execution_count": 200,
   "id": "d930ccfc",
   "metadata": {},
   "outputs": [],
   "source": [
    "x_train = []\n",
    "x_test = []\n",
    "y_train = []\n",
    "y_test = []\n",
    "for i in range(mat_feats.shape[0]):\n",
    "    if i % 100 <= threshold:\n",
    "        x_train.append(mat_feats[i][None, :])\n",
    "        y_train.append(labels[i])\n",
    "    else:\n",
    "        x_test.append(mat_feats[i][None, :])\n",
    "        y_test.append(labels[i])\n"
   ]
  },
  {
   "cell_type": "code",
   "execution_count": 201,
   "id": "711d7dda",
   "metadata": {},
   "outputs": [],
   "source": [
    "x_train = np.concatenate(x_train, axis=0)\n",
    "x_test = np.concatenate(x_test, axis=0)"
   ]
  },
  {
   "cell_type": "code",
   "execution_count": 202,
   "id": "72677faf",
   "metadata": {},
   "outputs": [],
   "source": [
    "from sklearn import svm, datasets"
   ]
  },
  {
   "cell_type": "code",
   "execution_count": 203,
   "id": "42da0f9a",
   "metadata": {},
   "outputs": [],
   "source": [
    "linear = svm.SVC(kernel='linear', C=1, decision_function_shape='ovo').fit(x_train, y_train)\n",
    "rbf = svm.SVC(kernel='rbf', gamma=1, C=1, decision_function_shape='ovo').fit(x_train, y_train)\n",
    "poly = svm.SVC(kernel='poly', degree=3, C=1, decision_function_shape='ovo').fit(x_train, y_train)\n",
    "sig = svm.SVC(kernel='sigmoid', C=1, decision_function_shape='ovo').fit(x_train, y_train)"
   ]
  },
  {
   "cell_type": "code",
   "execution_count": 204,
   "id": "1a2642c0",
   "metadata": {},
   "outputs": [
    {
     "name": "stdout",
     "output_type": "stream",
     "text": [
      "Accuracy Linear Kernel: 0.6921052631578948\n",
      "Accuracy Polynomial Kernel: 0.4473684210526316\n",
      "Accuracy Radial Basis Kernel: 0.05\n",
      "Accuracy Sigmoid Kernel: 0.19736842105263158\n"
     ]
    }
   ],
   "source": [
    "accuracy_lin = linear.score(x_test, y_test)\n",
    "accuracy_poly = poly.score(x_test, y_test)\n",
    "accuracy_rbf = rbf.score(x_test, y_test)\n",
    "accuracy_sig = sig.score(x_test, y_test)\n",
    "print(\"Accuracy Linear Kernel:\", accuracy_lin)\n",
    "print(\"Accuracy Polynomial Kernel:\", accuracy_poly)\n",
    "print(\"Accuracy Radial Basis Kernel:\", accuracy_rbf)\n",
    "print(\"Accuracy Sigmoid Kernel:\", accuracy_sig)"
   ]
  },
  {
   "cell_type": "code",
   "execution_count": null,
   "id": "3e44af28",
   "metadata": {},
   "outputs": [],
   "source": []
  },
  {
   "cell_type": "code",
   "execution_count": null,
   "id": "a9d496c9",
   "metadata": {},
   "outputs": [],
   "source": []
  },
  {
   "cell_type": "code",
   "execution_count": null,
   "id": "064365fd",
   "metadata": {},
   "outputs": [],
   "source": []
  },
  {
   "cell_type": "markdown",
   "id": "2d462af0",
   "metadata": {},
   "source": [
    "# Classification with top 2,3, ... "
   ]
  },
  {
   "cell_type": "code",
   "execution_count": 1,
   "id": "73c264d2",
   "metadata": {},
   "outputs": [],
   "source": [
    "import numpy as np\n",
    "import os\n",
    "import pandas as pd\n",
    "from sklearn.metrics.pairwise import cosine_similarity\n",
    "from numpy import linalg as LA\n",
    "from sklearn.metrics import confusion_matrix\n",
    "import matplotlib.pyplot as plt\n",
    "import seaborn as sn"
   ]
  },
  {
   "cell_type": "code",
   "execution_count": 2,
   "id": "10aaf63e",
   "metadata": {},
   "outputs": [],
   "source": [
    "PATH_AUDIO = \"/home/eftekhar/Documents/Databases/AVDT_backup/Audios\"\n",
    "aud_names = []\n",
    "aud_classes = []\n",
    "for d in os.listdir(PATH_AUDIO):\n",
    "    for aud in os.listdir(os.path.join(PATH_AUDIO, d)[:100]):\n",
    "        aud_names.append(aud.split(\"/\")[-1].split(\".\")[0])\n",
    "        aud_classes.append(d) "
   ]
  },
  {
   "cell_type": "code",
   "execution_count": 3,
   "id": "de2433fa",
   "metadata": {},
   "outputs": [],
   "source": [
    "outputs = np.load(\"results_2layer_numscale20_downfac_root_2_no_norm1_librosa_44100_one_path_kaiser_fast_20_classes_100videos.npy\")"
   ]
  },
  {
   "cell_type": "code",
   "execution_count": 4,
   "id": "810c2c9e",
   "metadata": {},
   "outputs": [],
   "source": [
    "aud_feats = list(outputs)\n",
    "aud_feats = list(map(lambda x: x[None, :], aud_feats))"
   ]
  },
  {
   "cell_type": "code",
   "execution_count": 5,
   "id": "b90ce806",
   "metadata": {},
   "outputs": [
    {
     "data": {
      "text/html": [
       "<div>\n",
       "<style scoped>\n",
       "    .dataframe tbody tr th:only-of-type {\n",
       "        vertical-align: middle;\n",
       "    }\n",
       "\n",
       "    .dataframe tbody tr th {\n",
       "        vertical-align: top;\n",
       "    }\n",
       "\n",
       "    .dataframe thead th {\n",
       "        text-align: right;\n",
       "    }\n",
       "</style>\n",
       "<table border=\"1\" class=\"dataframe\">\n",
       "  <thead>\n",
       "    <tr style=\"text-align: right;\">\n",
       "      <th></th>\n",
       "      <th>name</th>\n",
       "      <th>aud_features</th>\n",
       "      <th>class</th>\n",
       "    </tr>\n",
       "  </thead>\n",
       "  <tbody>\n",
       "    <tr>\n",
       "      <th>0</th>\n",
       "      <td>flag_101</td>\n",
       "      <td>[[2.1365194, 17.354778, 75.42825, 186.926, 275...</td>\n",
       "      <td>flag</td>\n",
       "    </tr>\n",
       "    <tr>\n",
       "      <th>1</th>\n",
       "      <td>flag_246</td>\n",
       "      <td>[[0.0002535897, 0.00029681105, 0.0004447087, 0...</td>\n",
       "      <td>flag</td>\n",
       "    </tr>\n",
       "    <tr>\n",
       "      <th>2</th>\n",
       "      <td>flag_7</td>\n",
       "      <td>[[0.022771936, 0.16868882, 0.41200954, 0.34676...</td>\n",
       "      <td>flag</td>\n",
       "    </tr>\n",
       "    <tr>\n",
       "      <th>3</th>\n",
       "      <td>flag_115</td>\n",
       "      <td>[[20.277924, 114.41226, 141.63818, 39.822044, ...</td>\n",
       "      <td>flag</td>\n",
       "    </tr>\n",
       "    <tr>\n",
       "      <th>4</th>\n",
       "      <td>flag_34</td>\n",
       "      <td>[[0.0011513757, 0.0031094966, 0.0056750514, 0....</td>\n",
       "      <td>flag</td>\n",
       "    </tr>\n",
       "    <tr>\n",
       "      <th>...</th>\n",
       "      <td>...</td>\n",
       "      <td>...</td>\n",
       "      <td>...</td>\n",
       "    </tr>\n",
       "    <tr>\n",
       "      <th>1995</th>\n",
       "      <td>string_orchestra_191</td>\n",
       "      <td>[[36.218887, 319.73907, 1231.3457, 1665.2405, ...</td>\n",
       "      <td>string_orchestra</td>\n",
       "    </tr>\n",
       "    <tr>\n",
       "      <th>1996</th>\n",
       "      <td>string_orchestra_154</td>\n",
       "      <td>[[49.12696, 268.49466, 717.13214, 1165.6162, 1...</td>\n",
       "      <td>string_orchestra</td>\n",
       "    </tr>\n",
       "    <tr>\n",
       "      <th>1997</th>\n",
       "      <td>string_orchestra_159</td>\n",
       "      <td>[[0.11542471, 1.7100778, 13.5913725, 45.75505,...</td>\n",
       "      <td>string_orchestra</td>\n",
       "    </tr>\n",
       "    <tr>\n",
       "      <th>1998</th>\n",
       "      <td>string_orchestra_110</td>\n",
       "      <td>[[0.087360196, 0.89432883, 5.175479, 14.185384...</td>\n",
       "      <td>string_orchestra</td>\n",
       "    </tr>\n",
       "    <tr>\n",
       "      <th>1999</th>\n",
       "      <td>string_orchestra_118</td>\n",
       "      <td>[[1.3514396, 12.469723, 53.49459, 121.89577, 1...</td>\n",
       "      <td>string_orchestra</td>\n",
       "    </tr>\n",
       "  </tbody>\n",
       "</table>\n",
       "<p>2000 rows × 3 columns</p>\n",
       "</div>"
      ],
      "text/plain": [
       "                      name                                       aud_features  \\\n",
       "0                 flag_101  [[2.1365194, 17.354778, 75.42825, 186.926, 275...   \n",
       "1                 flag_246  [[0.0002535897, 0.00029681105, 0.0004447087, 0...   \n",
       "2                   flag_7  [[0.022771936, 0.16868882, 0.41200954, 0.34676...   \n",
       "3                 flag_115  [[20.277924, 114.41226, 141.63818, 39.822044, ...   \n",
       "4                  flag_34  [[0.0011513757, 0.0031094966, 0.0056750514, 0....   \n",
       "...                    ...                                                ...   \n",
       "1995  string_orchestra_191  [[36.218887, 319.73907, 1231.3457, 1665.2405, ...   \n",
       "1996  string_orchestra_154  [[49.12696, 268.49466, 717.13214, 1165.6162, 1...   \n",
       "1997  string_orchestra_159  [[0.11542471, 1.7100778, 13.5913725, 45.75505,...   \n",
       "1998  string_orchestra_110  [[0.087360196, 0.89432883, 5.175479, 14.185384...   \n",
       "1999  string_orchestra_118  [[1.3514396, 12.469723, 53.49459, 121.89577, 1...   \n",
       "\n",
       "                 class  \n",
       "0                 flag  \n",
       "1                 flag  \n",
       "2                 flag  \n",
       "3                 flag  \n",
       "4                 flag  \n",
       "...                ...  \n",
       "1995  string_orchestra  \n",
       "1996  string_orchestra  \n",
       "1997  string_orchestra  \n",
       "1998  string_orchestra  \n",
       "1999  string_orchestra  \n",
       "\n",
       "[2000 rows x 3 columns]"
      ]
     },
     "execution_count": 5,
     "metadata": {},
     "output_type": "execute_result"
    }
   ],
   "source": [
    "df_aud = pd.DataFrame(data={'name': aud_names, 'aud_features': aud_feats, 'class': aud_classes})\n",
    "df_aud"
   ]
  },
  {
   "cell_type": "code",
   "execution_count": null,
   "id": "bf58800c",
   "metadata": {},
   "outputs": [],
   "source": []
  },
  {
   "cell_type": "code",
   "execution_count": 6,
   "id": "3f4ad412",
   "metadata": {},
   "outputs": [],
   "source": [
    "vid_feats = np.load(\"./video_features/features_test_3layer_highresolution.npy\")\n",
    "PATH_TO_CLIPS = \"/home/eftekhar/Documents/Databases/AVDT_backup/Frames/clips.txt\"\n",
    "f = open(PATH_TO_CLIPS, \"r\")\n",
    "clips = f.readlines()"
   ]
  },
  {
   "cell_type": "code",
   "execution_count": 7,
   "id": "da590b84",
   "metadata": {},
   "outputs": [],
   "source": [
    "vid_names = list(map(lambda x: x[::-1].split(\" \", 2)[-1][::-1].split(\"/\")[-1], clips))\n",
    "vid_classes = list(map(lambda x: x.split('/')[-2], clips))\n",
    "vid_feats = list(vid_feats)\n",
    "vid_feats = map(lambda x: x[None,:],vid_feats)"
   ]
  },
  {
   "cell_type": "code",
   "execution_count": 8,
   "id": "13e10a10",
   "metadata": {},
   "outputs": [],
   "source": [
    "df_vid = pd.DataFrame(data={'name': vid_names, 'vid_features': vid_feats, 'class': vid_classes})"
   ]
  },
  {
   "cell_type": "code",
   "execution_count": 9,
   "id": "9b0868c6",
   "metadata": {},
   "outputs": [],
   "source": [
    "df_vid_agg = df_vid.groupby(['class', 'name'])['vid_features'].mean().to_frame().reset_index()"
   ]
  },
  {
   "cell_type": "code",
   "execution_count": 10,
   "id": "cf281b91",
   "metadata": {},
   "outputs": [],
   "source": [
    "# df_vid_agg['vid_features'] = df_vid_agg['vid_features'].apply(lambda x: x / LA.norm(x))\n",
    "# df_vid_agg"
   ]
  },
  {
   "cell_type": "code",
   "execution_count": 11,
   "id": "fffee423",
   "metadata": {},
   "outputs": [],
   "source": [
    "df_join = df_vid_agg.merge(df_aud, on=['class', 'name'], how='inner')\n",
    "# df_join"
   ]
  },
  {
   "cell_type": "code",
   "execution_count": 12,
   "id": "7eb273e0",
   "metadata": {},
   "outputs": [
    {
     "data": {
      "text/html": [
       "<div>\n",
       "<style scoped>\n",
       "    .dataframe tbody tr th:only-of-type {\n",
       "        vertical-align: middle;\n",
       "    }\n",
       "\n",
       "    .dataframe tbody tr th {\n",
       "        vertical-align: top;\n",
       "    }\n",
       "\n",
       "    .dataframe thead th {\n",
       "        text-align: right;\n",
       "    }\n",
       "</style>\n",
       "<table border=\"1\" class=\"dataframe\">\n",
       "  <thead>\n",
       "    <tr style=\"text-align: right;\">\n",
       "      <th></th>\n",
       "      <th>class</th>\n",
       "      <th>name</th>\n",
       "      <th>vid_features</th>\n",
       "      <th>aud_features</th>\n",
       "    </tr>\n",
       "  </thead>\n",
       "  <tbody>\n",
       "    <tr>\n",
       "      <th>0</th>\n",
       "      <td>airshow</td>\n",
       "      <td>airshow_101</td>\n",
       "      <td>[[2816.6287, 9.47722, 192.81572, 2728.111, 11....</td>\n",
       "      <td>[[0.41099924, 5.820086, 33.199326, 68.61189, 5...</td>\n",
       "    </tr>\n",
       "    <tr>\n",
       "      <th>1</th>\n",
       "      <td>airshow</td>\n",
       "      <td>airshow_105</td>\n",
       "      <td>[[3124.3916, 315.91003, 9.992618, 3055.7607, 2...</td>\n",
       "      <td>[[0.374, 4.3718967, 26.678083, 76.11595, 104.2...</td>\n",
       "    </tr>\n",
       "    <tr>\n",
       "      <th>2</th>\n",
       "      <td>airshow</td>\n",
       "      <td>airshow_106</td>\n",
       "      <td>[[3518.321, 86.879486, 93.2425, 2951.9517, 32....</td>\n",
       "      <td>[[2.8767335, 31.134998, 138.75296, 246.62137, ...</td>\n",
       "    </tr>\n",
       "    <tr>\n",
       "      <th>3</th>\n",
       "      <td>airshow</td>\n",
       "      <td>airshow_111</td>\n",
       "      <td>[[2829.6687, 611.2611, 17.659845, 2753.021, 53...</td>\n",
       "      <td>[[4.09848, 41.572945, 135.6698, 130.38594, 70....</td>\n",
       "    </tr>\n",
       "    <tr>\n",
       "      <th>4</th>\n",
       "      <td>airshow</td>\n",
       "      <td>airshow_113</td>\n",
       "      <td>[[2742.2278, 27.201656, 78.0075, 2655.1685, 24...</td>\n",
       "      <td>[[2.8163543, 7.622316, 14.0644, 22.121418, 16....</td>\n",
       "    </tr>\n",
       "    <tr>\n",
       "      <th>...</th>\n",
       "      <td>...</td>\n",
       "      <td>...</td>\n",
       "      <td>...</td>\n",
       "      <td>...</td>\n",
       "    </tr>\n",
       "    <tr>\n",
       "      <th>1995</th>\n",
       "      <td>wavy_water</td>\n",
       "      <td>wavy_water_290</td>\n",
       "      <td>[[3062.683, 1309.364, 139.66742, 2356.3357, 11...</td>\n",
       "      <td>[[1329.852, 2639.401, 4492.262, 2525.1885, 113...</td>\n",
       "    </tr>\n",
       "    <tr>\n",
       "      <th>1996</th>\n",
       "      <td>wavy_water</td>\n",
       "      <td>wavy_water_294</td>\n",
       "      <td>[[2816.8025, 16.513369, 345.25955, 6201.9126, ...</td>\n",
       "      <td>[[470.01443, 1810.3854, 3566.5278, 2140.524, 1...</td>\n",
       "    </tr>\n",
       "    <tr>\n",
       "      <th>1997</th>\n",
       "      <td>wavy_water</td>\n",
       "      <td>wavy_water_295</td>\n",
       "      <td>[[1111.7102, 1.2423995, 1462.0837, 1272.3047, ...</td>\n",
       "      <td>[[46.846176, 252.69846, 570.3358, 721.82886, 6...</td>\n",
       "    </tr>\n",
       "    <tr>\n",
       "      <th>1998</th>\n",
       "      <td>wavy_water</td>\n",
       "      <td>wavy_water_296</td>\n",
       "      <td>[[3766.695, 34.115597, 1248.9575, 3672.1328, 2...</td>\n",
       "      <td>[[9.46862, 39.560623, 82.90611, 77.62255, 46.9...</td>\n",
       "    </tr>\n",
       "    <tr>\n",
       "      <th>1999</th>\n",
       "      <td>wavy_water</td>\n",
       "      <td>wavy_water_297</td>\n",
       "      <td>[[4782.3184, 15.876362, 619.816, 3851.6282, 15...</td>\n",
       "      <td>[[21.71115, 54.826767, 109.82437, 216.87952, 3...</td>\n",
       "    </tr>\n",
       "  </tbody>\n",
       "</table>\n",
       "<p>2000 rows × 4 columns</p>\n",
       "</div>"
      ],
      "text/plain": [
       "           class            name  \\\n",
       "0        airshow     airshow_101   \n",
       "1        airshow     airshow_105   \n",
       "2        airshow     airshow_106   \n",
       "3        airshow     airshow_111   \n",
       "4        airshow     airshow_113   \n",
       "...          ...             ...   \n",
       "1995  wavy_water  wavy_water_290   \n",
       "1996  wavy_water  wavy_water_294   \n",
       "1997  wavy_water  wavy_water_295   \n",
       "1998  wavy_water  wavy_water_296   \n",
       "1999  wavy_water  wavy_water_297   \n",
       "\n",
       "                                           vid_features  \\\n",
       "0     [[2816.6287, 9.47722, 192.81572, 2728.111, 11....   \n",
       "1     [[3124.3916, 315.91003, 9.992618, 3055.7607, 2...   \n",
       "2     [[3518.321, 86.879486, 93.2425, 2951.9517, 32....   \n",
       "3     [[2829.6687, 611.2611, 17.659845, 2753.021, 53...   \n",
       "4     [[2742.2278, 27.201656, 78.0075, 2655.1685, 24...   \n",
       "...                                                 ...   \n",
       "1995  [[3062.683, 1309.364, 139.66742, 2356.3357, 11...   \n",
       "1996  [[2816.8025, 16.513369, 345.25955, 6201.9126, ...   \n",
       "1997  [[1111.7102, 1.2423995, 1462.0837, 1272.3047, ...   \n",
       "1998  [[3766.695, 34.115597, 1248.9575, 3672.1328, 2...   \n",
       "1999  [[4782.3184, 15.876362, 619.816, 3851.6282, 15...   \n",
       "\n",
       "                                           aud_features  \n",
       "0     [[0.41099924, 5.820086, 33.199326, 68.61189, 5...  \n",
       "1     [[0.374, 4.3718967, 26.678083, 76.11595, 104.2...  \n",
       "2     [[2.8767335, 31.134998, 138.75296, 246.62137, ...  \n",
       "3     [[4.09848, 41.572945, 135.6698, 130.38594, 70....  \n",
       "4     [[2.8163543, 7.622316, 14.0644, 22.121418, 16....  \n",
       "...                                                 ...  \n",
       "1995  [[1329.852, 2639.401, 4492.262, 2525.1885, 113...  \n",
       "1996  [[470.01443, 1810.3854, 3566.5278, 2140.524, 1...  \n",
       "1997  [[46.846176, 252.69846, 570.3358, 721.82886, 6...  \n",
       "1998  [[9.46862, 39.560623, 82.90611, 77.62255, 46.9...  \n",
       "1999  [[21.71115, 54.826767, 109.82437, 216.87952, 3...  \n",
       "\n",
       "[2000 rows x 4 columns]"
      ]
     },
     "execution_count": 12,
     "metadata": {},
     "output_type": "execute_result"
    }
   ],
   "source": [
    "df_join"
   ]
  },
  {
   "cell_type": "code",
   "execution_count": null,
   "id": "7060116d",
   "metadata": {},
   "outputs": [],
   "source": []
  },
  {
   "cell_type": "code",
   "execution_count": 13,
   "id": "2f7f28f4",
   "metadata": {},
   "outputs": [],
   "source": [
    "aud_features = df_join['aud_features'].tolist()\n",
    "vid_features = df_join['vid_features'].tolist()"
   ]
  },
  {
   "cell_type": "code",
   "execution_count": 14,
   "id": "8c305385",
   "metadata": {},
   "outputs": [],
   "source": [
    "aud_features = np.concatenate(aud_features, axis=0)\n",
    "vid_features = np.concatenate(vid_features, axis=0)"
   ]
  },
  {
   "cell_type": "code",
   "execution_count": 15,
   "id": "94e21eb5",
   "metadata": {},
   "outputs": [],
   "source": [
    "aud_sim_pairs = cosine_similarity(aud_features)\n",
    "sorted_aud_sim = np.argsort(aud_sim_pairs, axis=1)\n",
    "\n",
    "vid_sim_pairs = cosine_similarity(vid_features)\n",
    "sorted_vid_sim = np.argsort(vid_sim_pairs, axis=1)"
   ]
  },
  {
   "cell_type": "code",
   "execution_count": 16,
   "id": "008933c4",
   "metadata": {},
   "outputs": [
    {
     "data": {
      "text/plain": [
       "array([[ 5,  5,  5, ...,  0,  0,  0],\n",
       "       [11, 12,  2, ...,  0,  0,  0],\n",
       "       [ 5,  5,  5, ...,  0,  0,  0],\n",
       "       ...,\n",
       "       [ 5,  5,  5, ..., 12, 17, 17],\n",
       "       [ 5,  5,  5, ..., 12, 15, 15],\n",
       "       [ 5,  5,  5, ..., 19, 12,  9]])"
      ]
     },
     "execution_count": 16,
     "metadata": {},
     "output_type": "execute_result"
    }
   ],
   "source": [
    "# sorted_vid_sim = sorted_vid_sim[:,:-1] // 100\n",
    "# sorted_vid_sim"
   ]
  },
  {
   "cell_type": "code",
   "execution_count": 20,
   "id": "946c78e9",
   "metadata": {},
   "outputs": [
    {
     "data": {
      "text/plain": [
       "array([[ 0,  0],\n",
       "       [14, 14],\n",
       "       [ 3,  0],\n",
       "       ...,\n",
       "       [14, 18],\n",
       "       [13, 14],\n",
       "       [14, 14]])"
      ]
     },
     "execution_count": 20,
     "metadata": {},
     "output_type": "execute_result"
    }
   ],
   "source": [
    "# aud_top2 = sorted_aud_sim[:,-3:-1] // 100\n",
    "# aud_top2"
   ]
  },
  {
   "cell_type": "code",
   "execution_count": 21,
   "id": "fe437e57",
   "metadata": {},
   "outputs": [],
   "source": [
    "# pred = []\n",
    "# for i in range(aud_top2.shape[0]):\n",
    "#     if aud_top2[i][0] == aud_top2[i][1]:\n",
    "#         pred.append(aud_top2[i][0].item())\n",
    "#         continue\n",
    "    \n",
    "#     row_i = sorted_vid_sim[i]\n",
    "#     ind1 = np.where(row_i == aud_top2[i][0])[0][-1]\n",
    "#     ind2 = np.where(row_i == aud_top2[i][1])[0][-1]\n",
    "    \n",
    "#     if ind1 > ind2:\n",
    "#         pred.append(aud_top2[i][0].item())\n",
    "#     else:\n",
    "#         pred.append(aud_top2[i][1].item())"
   ]
  },
  {
   "cell_type": "code",
   "execution_count": 22,
   "id": "d05a9520",
   "metadata": {},
   "outputs": [
    {
     "data": {
      "text/plain": [
       "0.6495"
      ]
     },
     "execution_count": 22,
     "metadata": {},
     "output_type": "execute_result"
    }
   ],
   "source": [
    "# ground_truth = [i // 100 for i in range(aud_top2.shape[0])]\n",
    "# sum([g == p for g, p in zip(ground_truth, pred)]) / len(pred)"
   ]
  },
  {
   "cell_type": "code",
   "execution_count": 109,
   "id": "85f8507e",
   "metadata": {},
   "outputs": [
    {
     "data": {
      "text/plain": [
       "0.746"
      ]
     },
     "execution_count": 109,
     "metadata": {},
     "output_type": "execute_result"
    }
   ],
   "source": [
    "# aud_top2 = sorted_aud_sim[:,-4:-1]\n",
    "# c = 0\n",
    "# for i in range(aud_top2.shape[0]):\n",
    "#     if (i // 100) in (aud_top2[i] // 100).tolist():\n",
    "#         c += 1\n",
    "# c / aud_top2.shape[0]"
   ]
  },
  {
   "cell_type": "code",
   "execution_count": 106,
   "id": "76faca99",
   "metadata": {},
   "outputs": [
    {
     "data": {
      "text/plain": [
       "0.6295"
      ]
     },
     "execution_count": 106,
     "metadata": {},
     "output_type": "execute_result"
    }
   ],
   "source": [
    "# aud_top2 = sorted_aud_sim[:,-3:-1]\n",
    "# vid_NN = sorted_vid_sim[:,-2].tolist()\n",
    "# c = 0\n",
    "# for i in range(aud_top2.shape[0]):\n",
    "#     if (vid_NN[i] // 100) in (aud_top2[i] // 100):\n",
    "#         if (vid_NN[i] // 100) == i // 100:\n",
    "#             c += 1\n",
    "#     else:\n",
    "#         if (aud_top2[i][1] // 100) == (i // 100):\n",
    "#             c += 1 \n",
    "# c / aud_top2.shape[0]"
   ]
  },
  {
   "cell_type": "code",
   "execution_count": 113,
   "id": "8733e32b",
   "metadata": {},
   "outputs": [
    {
     "data": {
      "text/plain": [
       "0.6285"
      ]
     },
     "execution_count": 113,
     "metadata": {},
     "output_type": "execute_result"
    }
   ],
   "source": [
    "# vid_top2 = sorted_vid_sim[:,-6:-1]\n",
    "# aud_NN = sorted_aud_sim[:,-2].tolist()\n",
    "# c = 0\n",
    "# for i in range(vid_top2.shape[0]):\n",
    "#     if (aud_NN[i] // 100) in (vid_top2[i] // 100):\n",
    "#         if (aud_NN[i] // 100) == i // 100:\n",
    "#             c += 1\n",
    "#     else:\n",
    "#         if (vid_top2[i][1] // 100) == (i // 100):\n",
    "#             c += 1 \n",
    "# c / vid_top2.shape[0]"
   ]
  },
  {
   "cell_type": "code",
   "execution_count": 16,
   "id": "1d4270f9",
   "metadata": {},
   "outputs": [],
   "source": [
    "vid_NN = (sorted_vid_sim[:,-2] // 100).tolist()\n",
    "aud_NN = (sorted_aud_sim[:,-2] // 100).tolist()"
   ]
  },
  {
   "cell_type": "code",
   "execution_count": 17,
   "id": "821220b3",
   "metadata": {},
   "outputs": [],
   "source": [
    "c = df_join['class'].tolist()\n",
    "class_names = [c[100 * i] for i in range(20)]"
   ]
  },
  {
   "cell_type": "code",
   "execution_count": 18,
   "id": "782f8bed",
   "metadata": {},
   "outputs": [],
   "source": [
    "ground_truth = [i // 100 for i in range(len(vid_NN))]"
   ]
  },
  {
   "cell_type": "code",
   "execution_count": 19,
   "id": "0eac5700",
   "metadata": {},
   "outputs": [],
   "source": [
    "conf_mat_vid = confusion_matrix(ground_truth, vid_NN, normalize='true')\n",
    "conf_mat_aud = confusion_matrix(ground_truth, aud_NN, normalize='true')"
   ]
  },
  {
   "cell_type": "code",
   "execution_count": 20,
   "id": "d07b0cba",
   "metadata": {},
   "outputs": [],
   "source": [
    "aud_diag = conf_mat_aud.diagonal()\n",
    "vid_diag = conf_mat_vid.diagonal()\n",
    "priority = vid_diag > aud_diag"
   ]
  },
  {
   "cell_type": "code",
   "execution_count": 21,
   "id": "ebdd7392",
   "metadata": {},
   "outputs": [
    {
     "data": {
      "text/plain": [
       "0.6515"
      ]
     },
     "execution_count": 21,
     "metadata": {},
     "output_type": "execute_result"
    }
   ],
   "source": [
    "fused_pred = []\n",
    "for vid_pred, aud_pred in zip(vid_NN, aud_NN):\n",
    "    if priority[vid_pred]:\n",
    "        fused_pred.append(vid_pred)\n",
    "    else:\n",
    "        fused_pred.append(aud_pred)\n",
    "ground_truth = [i // 100 for i in range(len(fused_pred))]\n",
    "sum([g == p for g, p in zip(ground_truth, fused_pred)]) / len(fused_pred)"
   ]
  },
  {
   "cell_type": "code",
   "execution_count": 23,
   "id": "ebd6d76d",
   "metadata": {},
   "outputs": [],
   "source": [
    "conf_mat_fused = confusion_matrix(ground_truth, fused_pred, normalize='true')"
   ]
  },
  {
   "cell_type": "code",
   "execution_count": 41,
   "id": "773342ac",
   "metadata": {},
   "outputs": [
    {
     "data": {
      "text/plain": [
       "0.6747368421052632"
      ]
     },
     "execution_count": 41,
     "metadata": {},
     "output_type": "execute_result"
    }
   ],
   "source": [
    "a = conf_mat_fused.diagonal().tolist()\n",
    "a.remove(0.21)\n",
    "sum(a)/len(a)"
   ]
  },
  {
   "cell_type": "code",
   "execution_count": 24,
   "id": "86d818dd",
   "metadata": {},
   "outputs": [
    {
     "data": {
      "text/plain": [
       "<AxesSubplot:>"
      ]
     },
     "execution_count": 24,
     "metadata": {},
     "output_type": "execute_result"
    },
    {
     "data": {
      "image/png": "[encoded data removed]",
      "text/plain": [
       "<Figure size 1440x720 with 2 Axes>"
      ]
     },
     "metadata": {
      "needs_background": "light"
     },
     "output_type": "display_data"
    }
   ],
   "source": [
    "df_cm = pd.DataFrame(conf_mat_fused, index = class_names, columns = class_names)\n",
    "plt.figure(figsize = (20,10))\n",
    "sn.heatmap(df_cm, annot=True)"
   ]
  },
  {
   "cell_type": "code",
   "execution_count": 26,
   "id": "4b79af6f",
   "metadata": {},
   "outputs": [
    {
     "data": {
      "text/plain": [
       "<AxesSubplot:>"
      ]
     },
     "execution_count": 26,
     "metadata": {},
     "output_type": "execute_result"
    },
    {
     "data": {
      "image/png": "[encoded data removed]",
      "text/plain": [
       "<Figure size 1440x720 with 2 Axes>"
      ]
     },
     "metadata": {
      "needs_background": "light"
     },
     "output_type": "display_data"
    }
   ],
   "source": [
    "df_cm = pd.DataFrame(conf_mat_aud, index = class_names, columns = class_names)\n",
    "plt.figure(figsize = (20,10))\n",
    "sn.heatmap(df_cm, annot=True)"
   ]
  },
  {
   "cell_type": "code",
   "execution_count": 27,
   "id": "8046f743",
   "metadata": {},
   "outputs": [
    {
     "data": {
      "text/plain": [
       "<AxesSubplot:>"
      ]
     },
     "execution_count": 27,
     "metadata": {},
     "output_type": "execute_result"
    },
    {
     "data": {
      "image/png": "[encoded data removed]",
      "text/plain": [
       "<Figure size 1440x720 with 2 Axes>"
      ]
     },
     "metadata": {
      "needs_background": "light"
     },
     "output_type": "display_data"
    }
   ],
   "source": [
    "df_cm = pd.DataFrame(conf_mat_vid, index = class_names, columns = class_names)\n",
    "plt.figure(figsize = (20,10))\n",
    "sn.heatmap(df_cm, annot=True)"
   ]
  },
  {
   "cell_type": "code",
   "execution_count": 31,
   "id": "6d0e47ac",
   "metadata": {},
   "outputs": [
    {
     "data": {
      "text/html": [
       "<div>\n",
       "<style scoped>\n",
       "    .dataframe tbody tr th:only-of-type {\n",
       "        vertical-align: middle;\n",
       "    }\n",
       "\n",
       "    .dataframe tbody tr th {\n",
       "        vertical-align: top;\n",
       "    }\n",
       "\n",
       "    .dataframe thead th {\n",
       "        text-align: right;\n",
       "    }\n",
       "</style>\n",
       "<table border=\"1\" class=\"dataframe\">\n",
       "  <thead>\n",
       "    <tr style=\"text-align: right;\">\n",
       "      <th></th>\n",
       "      <th>audio</th>\n",
       "      <th>video</th>\n",
       "      <th>diff</th>\n",
       "    </tr>\n",
       "  </thead>\n",
       "  <tbody>\n",
       "    <tr>\n",
       "      <th>airshow</th>\n",
       "      <td>0.34</td>\n",
       "      <td>0.89</td>\n",
       "      <td>-0.55</td>\n",
       "    </tr>\n",
       "    <tr>\n",
       "      <th>applause</th>\n",
       "      <td>0.97</td>\n",
       "      <td>0.46</td>\n",
       "      <td>0.51</td>\n",
       "    </tr>\n",
       "    <tr>\n",
       "      <th>bee</th>\n",
       "      <td>0.73</td>\n",
       "      <td>0.28</td>\n",
       "      <td>0.45</td>\n",
       "    </tr>\n",
       "    <tr>\n",
       "      <th>car_traffic</th>\n",
       "      <td>0.27</td>\n",
       "      <td>0.25</td>\n",
       "      <td>0.02</td>\n",
       "    </tr>\n",
       "    <tr>\n",
       "      <th>drumline</th>\n",
       "      <td>0.50</td>\n",
       "      <td>0.42</td>\n",
       "      <td>0.08</td>\n",
       "    </tr>\n",
       "    <tr>\n",
       "      <th>fire</th>\n",
       "      <td>0.63</td>\n",
       "      <td>0.92</td>\n",
       "      <td>-0.29</td>\n",
       "    </tr>\n",
       "    <tr>\n",
       "      <th>firework</th>\n",
       "      <td>0.72</td>\n",
       "      <td>0.63</td>\n",
       "      <td>0.09</td>\n",
       "    </tr>\n",
       "    <tr>\n",
       "      <th>flag</th>\n",
       "      <td>0.74</td>\n",
       "      <td>0.48</td>\n",
       "      <td>0.26</td>\n",
       "    </tr>\n",
       "    <tr>\n",
       "      <th>flock_of_sheep</th>\n",
       "      <td>0.55</td>\n",
       "      <td>0.46</td>\n",
       "      <td>0.09</td>\n",
       "    </tr>\n",
       "    <tr>\n",
       "      <th>geyser_fountain</th>\n",
       "      <td>0.52</td>\n",
       "      <td>0.30</td>\n",
       "      <td>0.22</td>\n",
       "    </tr>\n",
       "    <tr>\n",
       "      <th>keyboard_typing</th>\n",
       "      <td>0.69</td>\n",
       "      <td>0.48</td>\n",
       "      <td>0.21</td>\n",
       "    </tr>\n",
       "    <tr>\n",
       "      <th>piano</th>\n",
       "      <td>0.55</td>\n",
       "      <td>0.95</td>\n",
       "      <td>-0.40</td>\n",
       "    </tr>\n",
       "    <tr>\n",
       "      <th>rainfall</th>\n",
       "      <td>0.57</td>\n",
       "      <td>0.44</td>\n",
       "      <td>0.13</td>\n",
       "    </tr>\n",
       "    <tr>\n",
       "      <th>running_train</th>\n",
       "      <td>0.27</td>\n",
       "      <td>0.63</td>\n",
       "      <td>-0.36</td>\n",
       "    </tr>\n",
       "    <tr>\n",
       "      <th>rushing river</th>\n",
       "      <td>0.57</td>\n",
       "      <td>0.62</td>\n",
       "      <td>-0.05</td>\n",
       "    </tr>\n",
       "    <tr>\n",
       "      <th>school_of_fish</th>\n",
       "      <td>0.64</td>\n",
       "      <td>0.32</td>\n",
       "      <td>0.32</td>\n",
       "    </tr>\n",
       "    <tr>\n",
       "      <th>string_orchestra</th>\n",
       "      <td>0.75</td>\n",
       "      <td>0.84</td>\n",
       "      <td>-0.09</td>\n",
       "    </tr>\n",
       "    <tr>\n",
       "      <th>vegetation</th>\n",
       "      <td>0.61</td>\n",
       "      <td>0.38</td>\n",
       "      <td>0.23</td>\n",
       "    </tr>\n",
       "    <tr>\n",
       "      <th>waterfall</th>\n",
       "      <td>0.67</td>\n",
       "      <td>0.35</td>\n",
       "      <td>0.32</td>\n",
       "    </tr>\n",
       "    <tr>\n",
       "      <th>wavy_water</th>\n",
       "      <td>0.39</td>\n",
       "      <td>0.53</td>\n",
       "      <td>-0.14</td>\n",
       "    </tr>\n",
       "  </tbody>\n",
       "</table>\n",
       "</div>"
      ],
      "text/plain": [
       "                  audio  video  diff\n",
       "airshow            0.34   0.89 -0.55\n",
       "applause           0.97   0.46  0.51\n",
       "bee                0.73   0.28  0.45\n",
       "car_traffic        0.27   0.25  0.02\n",
       "drumline           0.50   0.42  0.08\n",
       "fire               0.63   0.92 -0.29\n",
       "firework           0.72   0.63  0.09\n",
       "flag               0.74   0.48  0.26\n",
       "flock_of_sheep     0.55   0.46  0.09\n",
       "geyser_fountain    0.52   0.30  0.22\n",
       "keyboard_typing    0.69   0.48  0.21\n",
       "piano              0.55   0.95 -0.40\n",
       "rainfall           0.57   0.44  0.13\n",
       "running_train      0.27   0.63 -0.36\n",
       "rushing river      0.57   0.62 -0.05\n",
       "school_of_fish     0.64   0.32  0.32\n",
       "string_orchestra   0.75   0.84 -0.09\n",
       "vegetation         0.61   0.38  0.23\n",
       "waterfall          0.67   0.35  0.32\n",
       "wavy_water         0.39   0.53 -0.14"
      ]
     },
     "execution_count": 31,
     "metadata": {},
     "output_type": "execute_result"
    }
   ],
   "source": [
    "d = {'audio': aud_diag, 'video': vid_diag}\n",
    "diag_df = pd.DataFrame(data=d, index = class_names)\n",
    "diag_df['diff'] = diag_df['audio'] - diag_df['video']\n",
    "diag_df"
   ]
  },
  {
   "cell_type": "code",
   "execution_count": 38,
   "id": "1c1c1d67",
   "metadata": {},
   "outputs": [
    {
     "data": {
      "text/plain": [
       "airshow             0.89\n",
       "applause            0.97\n",
       "bee                 0.73\n",
       "car_traffic         0.27\n",
       "drumline            0.50\n",
       "fire                0.92\n",
       "firework            0.72\n",
       "flag                0.74\n",
       "flock_of_sheep      0.55\n",
       "geyser_fountain     0.52\n",
       "keyboard_typing     0.69\n",
       "piano               0.95\n",
       "rainfall            0.57\n",
       "running_train       0.63\n",
       "rushing river       0.62\n",
       "school_of_fish      0.64\n",
       "string_orchestra    0.84\n",
       "vegetation          0.61\n",
       "waterfall           0.67\n",
       "wavy_water          0.53\n",
       "dtype: float64"
      ]
     },
     "execution_count": 38,
     "metadata": {},
     "output_type": "execute_result"
    }
   ],
   "source": [
    "diag_df.apply(lambda x: max(x.audio, x.video), axis=1)"
   ]
  },
  {
   "cell_type": "code",
   "execution_count": 39,
   "id": "63424e1a",
   "metadata": {},
   "outputs": [
    {
     "data": {
      "text/plain": [
       "0.6779999999999999"
      ]
     },
     "execution_count": 39,
     "metadata": {},
     "output_type": "execute_result"
    }
   ],
   "source": [
    "diag_df.apply(lambda x: max(x.audio, x.video), axis=1).mean()"
   ]
  },
  {
   "cell_type": "code",
   "execution_count": null,
   "id": "151bb737",
   "metadata": {},
   "outputs": [],
   "source": []
  },
  {
   "cell_type": "code",
   "execution_count": null,
   "id": "d7dacc0e",
   "metadata": {},
   "outputs": [],
   "source": []
  },
  {
   "cell_type": "code",
   "execution_count": null,
   "id": "6d90e871",
   "metadata": {},
   "outputs": [],
   "source": []
  },
  {
   "cell_type": "code",
   "execution_count": 122,
   "id": "9c1260c2",
   "metadata": {},
   "outputs": [],
   "source": [
    "pairs = list(zip(vid_NN, aud_NN))"
   ]
  },
  {
   "cell_type": "code",
   "execution_count": 125,
   "id": "b3812c54",
   "metadata": {},
   "outputs": [
    {
     "data": {
      "text/plain": [
       "0.802"
      ]
     },
     "execution_count": 125,
     "metadata": {},
     "output_type": "execute_result"
    }
   ],
   "source": [
    "c = 0\n",
    "for i in range(len(pairs)):\n",
    "    if (i//100) in pairs[i]:\n",
    "        c += 1\n",
    "c / len(pairs)"
   ]
  },
  {
   "cell_type": "code",
   "execution_count": 78,
   "id": "712bf2f3",
   "metadata": {},
   "outputs": [
    {
     "data": {
      "text/plain": [
       "array([  66, 1430,   88, ..., 1855, 1479, 1413])"
      ]
     },
     "execution_count": 78,
     "metadata": {},
     "output_type": "execute_result"
    }
   ],
   "source": [
    "sorted_aud_sim[:,-2]"
   ]
  },
  {
   "cell_type": "code",
   "execution_count": 77,
   "id": "8179394c",
   "metadata": {},
   "outputs": [
    {
     "data": {
      "text/plain": [
       "array([[  17,   66],\n",
       "       [1431, 1430],\n",
       "       [ 357,   88],\n",
       "       ...,\n",
       "       [1489, 1855],\n",
       "       [1326, 1479],\n",
       "       [1470, 1413]])"
      ]
     },
     "execution_count": 77,
     "metadata": {},
     "output_type": "execute_result"
    }
   ],
   "source": [
    "aud_top2"
   ]
  },
  {
   "cell_type": "code",
   "execution_count": null,
   "id": "8e9150db",
   "metadata": {},
   "outputs": [
    {
     "name": "stdout",
     "output_type": "stream",
     "text": [
      "WARNING:tensorflow:From /home/eftekhar/Project/init_SOE_NET.py:103: The name tf.get_variable is deprecated. Please use tf.compat.v1.get_variable instead.\n",
      "\n"
     ]
    },
    {
     "name": "stderr",
     "output_type": "stream",
     "text": [
      "2022-09-14 16:48:29.802653: I tensorflow/stream_executor/platform/default/dso_loader.cc:44] Successfully opened dynamic library libcuda.so.1\n",
      "2022-09-14 16:48:29.827253: I tensorflow/core/common_runtime/gpu/gpu_device.cc:1618] Found device 0 with properties: \n",
      "name: Quadro P6000 major: 6 minor: 1 memoryClockRate(GHz): 1.645\n",
      "pciBusID: 0000:65:00.0\n",
      "2022-09-14 16:48:29.827462: I tensorflow/stream_executor/platform/default/dso_loader.cc:44] Successfully opened dynamic library libcudart.so.10.0\n",
      "2022-09-14 16:48:29.828808: I tensorflow/stream_executor/platform/default/dso_loader.cc:44] Successfully opened dynamic library libcublas.so.10.0\n",
      "2022-09-14 16:48:29.829936: I tensorflow/stream_executor/platform/default/dso_loader.cc:44] Successfully opened dynamic library libcufft.so.10.0\n",
      "2022-09-14 16:48:29.830226: I tensorflow/stream_executor/platform/default/dso_loader.cc:44] Successfully opened dynamic library libcurand.so.10.0\n",
      "2022-09-14 16:48:29.831828: I tensorflow/stream_executor/platform/default/dso_loader.cc:44] Successfully opened dynamic library libcusolver.so.10.0\n",
      "2022-09-14 16:48:29.833042: I tensorflow/stream_executor/platform/default/dso_loader.cc:44] Successfully opened dynamic library libcusparse.so.10.0\n",
      "2022-09-14 16:48:29.837140: I tensorflow/stream_executor/platform/default/dso_loader.cc:44] Successfully opened dynamic library libcudnn.so.7\n",
      "2022-09-14 16:48:29.837567: I tensorflow/core/common_runtime/gpu/gpu_device.cc:1746] Adding visible gpu devices: 0\n",
      "2022-09-14 16:48:29.838261: I tensorflow/core/platform/cpu_feature_guard.cc:142] Your CPU supports instructions that this TensorFlow binary was not compiled to use: SSE4.1 SSE4.2 AVX AVX2 AVX512F FMA\n",
      "2022-09-14 16:48:29.863090: I tensorflow/core/platform/profile_utils/cpu_utils.cc:94] CPU Frequency: 3699850000 Hz\n",
      "2022-09-14 16:48:29.863975: I tensorflow/compiler/xla/service/service.cc:168] XLA service 0x55e3d6f2a4e0 initialized for platform Host (this does not guarantee that XLA will be used). Devices:\n",
      "2022-09-14 16:48:29.864006: I tensorflow/compiler/xla/service/service.cc:176]   StreamExecutor device (0): Host, Default Version\n",
      "2022-09-14 16:48:29.864408: I tensorflow/core/common_runtime/gpu/gpu_device.cc:1618] Found device 0 with properties: \n",
      "name: Quadro P6000 major: 6 minor: 1 memoryClockRate(GHz): 1.645\n",
      "pciBusID: 0000:65:00.0\n",
      "2022-09-14 16:48:29.864457: I tensorflow/stream_executor/platform/default/dso_loader.cc:44] Successfully opened dynamic library libcudart.so.10.0\n",
      "2022-09-14 16:48:29.864473: I tensorflow/stream_executor/platform/default/dso_loader.cc:44] Successfully opened dynamic library libcublas.so.10.0\n",
      "2022-09-14 16:48:29.864489: I tensorflow/stream_executor/platform/default/dso_loader.cc:44] Successfully opened dynamic library libcufft.so.10.0\n",
      "2022-09-14 16:48:29.864504: I tensorflow/stream_executor/platform/default/dso_loader.cc:44] Successfully opened dynamic library libcurand.so.10.0\n",
      "2022-09-14 16:48:29.864518: I tensorflow/stream_executor/platform/default/dso_loader.cc:44] Successfully opened dynamic library libcusolver.so.10.0\n",
      "2022-09-14 16:48:29.864533: I tensorflow/stream_executor/platform/default/dso_loader.cc:44] Successfully opened dynamic library libcusparse.so.10.0\n",
      "2022-09-14 16:48:29.864548: I tensorflow/stream_executor/platform/default/dso_loader.cc:44] Successfully opened dynamic library libcudnn.so.7\n",
      "2022-09-14 16:48:29.864906: I tensorflow/core/common_runtime/gpu/gpu_device.cc:1746] Adding visible gpu devices: 0\n",
      "2022-09-14 16:48:29.864945: I tensorflow/stream_executor/platform/default/dso_loader.cc:44] Successfully opened dynamic library libcudart.so.10.0\n",
      "2022-09-14 16:48:29.944570: I tensorflow/core/common_runtime/gpu/gpu_device.cc:1159] Device interconnect StreamExecutor with strength 1 edge matrix:\n",
      "2022-09-14 16:48:29.944588: I tensorflow/core/common_runtime/gpu/gpu_device.cc:1165]      0 \n",
      "2022-09-14 16:48:29.944592: I tensorflow/core/common_runtime/gpu/gpu_device.cc:1178] 0:   N \n",
      "2022-09-14 16:48:29.945014: I tensorflow/core/common_runtime/gpu/gpu_device.cc:1304] Created TensorFlow device (/job:localhost/replica:0/task:0/device:GPU:0 with 21595 MB memory) -> physical GPU (device: 0, name: Quadro P6000, pci bus id: 0000:65:00.0, compute capability: 6.1)\n",
      "2022-09-14 16:48:29.946465: I tensorflow/compiler/xla/service/service.cc:168] XLA service 0x55e3d80e1ec0 initialized for platform CUDA (this does not guarantee that XLA will be used). Devices:\n",
      "2022-09-14 16:48:29.946478: I tensorflow/compiler/xla/service/service.cc:176]   StreamExecutor device (0): Quadro P6000, Compute Capability 6.1\n"
     ]
    },
    {
     "name": "stdout",
     "output_type": "stream",
     "text": [
      "[INFO] READING IN TEST DATA FROM : /home/eftekhar/Documents/Databases/AVDT_backup/Frames/clips.txt\n",
      "[Info] loading lists...\n",
      "[INFO] TOTAL NUMBER OF TESTING VIDEO CLIPS : 20113\n",
      "[INFO] NUMPBER OF ITERATIONS TO GO THROUGH TEST SET IS:  20113\n",
      "['/home/eftekhar/Documents/Databases/AVDT_backup/Frames/flag/flag_115']\n",
      "[0]\n",
      "(1, 42, 200, 200, 1)\n",
      "size of clips in batch is :  (1, 42, 200, 200, 1)\n",
      "stop_idx is :  1\n",
      "This is iteration number:0\n"
     ]
    },
    {
     "name": "stderr",
     "output_type": "stream",
     "text": [
      "2022-09-14 16:48:30.594223: I tensorflow/stream_executor/platform/default/dso_loader.cc:44] Successfully opened dynamic library libcudnn.so.7\n",
      "2022-09-14 16:48:31.476752: I tensorflow/stream_executor/platform/default/dso_loader.cc:44] Successfully opened dynamic library libcublas.so.10.0\n"
     ]
    }
   ],
   "source": [
    "import time\n",
    "import tensorflow as tf\n",
    "import numpy as np\n",
    "import sys\n",
    "import input_data, os\n",
    "import configure as cfg\n",
    "import init_SOE_NET as init_net\n",
    "import SOE_Net_model_full as model\n",
    "\n",
    "\n",
    "################################################################################################\n",
    "#\"\"\" INITIALIZE SOE-NET PARAMETERS \"\"\"\n",
    "################################################################################################\n",
    "# tf.reset_default_graph()\n",
    "tf.compat.v1.enable_eager_execution()\n",
    "\n",
    "orientations = np.array(init_net.initOrientations (cfg.ORIENTATIONS,cfg.SPEEDS,cfg.NUM_DIRECTIONS), dtype=np.float32)\n",
    "                \n",
    "#print(\"[INFO] INIT\", orientations,\"STANDARD ORIENTATIONS...\")\n",
    "basis = init_net.initSeparableFilters('basis', cfg.FILTER_TAPS, filter_type=\"G3\")\n",
    "\n",
    "basis_2d = init_net.initSeparableFilters_SO('basis2d', cfg.FILTER_TAPS, filter_type=\"G2\")\n",
    "#print(\"[INFO] INIT\", basis,\"3D SEPARABLE FILTERS...\")\n",
    "#print(\"[INFO] INIT\", basis_2d,\"2D SEPARABLE FILTERS...\")\n",
    "\n",
    "biases_soe = init_net.initBiases('bias', 0)\n",
    "              \n",
    "#print(\"[INFO] INIT\", biases_soe,\"SEPARABLE FILTERS...\")\n",
    "\n",
    "################################################################################################\n",
    "#\"\"\" READ THE INPUT DATA \"\"\"\n",
    "################################################################################################\n",
    "\n",
    "# TEST DATA\n",
    "tiny_batch_size = 1 # to extract features for one video at a time for this example code purposes\n",
    "vid_path = \"/home/eftekhar/Documents/Databases/AVDT_backup/Frames/clips.txt\"\n",
    "print(\"[INFO] READING IN TEST DATA FROM :\", vid_path)\n",
    "test_clips, test_start_indices, test_labels = input_data.load_clips_labels(vid_path)\n",
    "num_test_clips = len(test_clips)\n",
    "print(\"[INFO] TOTAL NUMBER OF TESTING VIDEO CLIPS :\", num_test_clips)\n",
    "#raw_input('Press enter to continue ... ')\n",
    "TEST_ITERS = int(float(num_test_clips)/float(tiny_batch_size))\n",
    "print(\"[INFO] NUMPBER OF ITERATIONS TO GO THROUGH TEST SET IS: \", TEST_ITERS)\n",
    "\n",
    "################################################################################################\n",
    "#\"\"\" PREPARE DATA FOR TENSORFLOW \"\"\"\n",
    "################################################################################################\n",
    "# if cfg.CROP:\n",
    "#     input_shape   = [tiny_batch_size, cfg.TIME_S, cfg.IMG_S, cfg.IMG_S, 1]\n",
    "# else:\n",
    "#     input_shape   = [None, None, None, None, None]\n",
    " \n",
    "# batch_videos_ph = tf.placeholder(tf.float32, shape=input_shape, name=\"batch_videos\")\n",
    "# print(batch_videos_ph)\n",
    "\n",
    "################################################################################################   \n",
    "#\"\"\" BUILD THE TENSORFLOW GRAPH \"\"\"\n",
    "################################################################################################\n",
    "# example 4: Extract SOE_Net features\n",
    "# soenet = model.SOE_Net(batch_videos_ph, basis, orientations, biases_soe)\n",
    "\n",
    "# # example 2: Extract MSOE features\n",
    "# msoe = model.get_MSOE(batch_videos_ph, basis, orientations, biases_soe)\n",
    "\n",
    "\n",
    "# init = tf.global_variables_initializer()\n",
    "# sess = tf.Session()\n",
    "# # sess = tf.Session(config=tf.ConfigProto(log_device_placement=True))\n",
    "# # initialize the non-trained variables\n",
    "# sess.run(init)\n",
    "\n",
    "test_indices = np.arange(num_test_clips)\n",
    "test_start_idx = 0\n",
    "\n",
    "SOE_NET_FEAT = []\n",
    "tic = time.time()\n",
    "excluded_vid = []\n",
    "for iter in range(TEST_ITERS):\n",
    "    \"\"\" LOAD VIDEOS ONE BATCH AT A TIME \"\"\"\n",
    "    test_batch_clips, test_batch_indices, test_batch_labels, test_stop_idx = input_data.select_batch(test_clips,test_start_indices, test_labels, test_start_idx, test_indices, tiny_batch_size)\n",
    "    print(test_batch_clips)\n",
    "    print(test_batch_indices)\n",
    "    try:\n",
    "        batch_videos=input_data.load_frames(test_batch_clips,test_batch_indices,crop=False)\n",
    "        print(batch_videos.shape)\n",
    "        \n",
    "    except:\n",
    "        excluded_vid.append(test_batch_clips[0])\n",
    "        test_start_idx = test_stop_idx\n",
    "        continue \n",
    "    print(\"size of clips in batch is : \", np.shape(batch_videos))\n",
    "    print(\"stop_idx is : \", test_stop_idx)\n",
    "    test_start_idx = test_stop_idx\n",
    "    print(\"This is iteration number:{}\".format(iter))\n",
    "    #tic = time.time()\n",
    "#     soenet_feat = sess.run(soenet, feed_dict={batch_videos_ph: batch_videos}) \n",
    "    soenet_feat = model.SOE_Net(batch_videos, basis, orientations, biases_soe)\n",
    "    #print(\"time to run through one mini-batch is: \", time.time()-tic)\n",
    "    \"\"\" EXAMPLE: SAVE THE RESULTS FOR FURTHER USE (IN ANOTHER APPLICATION FOR EXAMPLE)\"\"\"\n",
    "    for b in range(soenet_feat.shape[0]):\n",
    "        # TODO: INSTEAD OF APPENDING ACCUMULATE RESULTS OBTAINED BY APPLYING GSP\n",
    "        SOE_NET_FEAT.append(soenet_feat)\n",
    "# SOE_NET_FEAT = np.concatenate(SOE_NET_FEAT, axis=0)   \n",
    "# print(SOE_NET_FEAT.shape)\n",
    "# # save results to npy file\n",
    "\n",
    "# feat_path = \"./video_features/\" + \"features_test_3layer_highresolution.npy\"\n",
    "# np.save(feat_path, SOE_NET_FEAT)\n",
    "# print(\"time to run through one mini-batch is: \", time.time()-tic)\n",
    "# print(excluded_vid)\n",
    "# print('Done')"
   ]
  },
  {
   "cell_type": "code",
   "execution_count": 41,
   "id": "e1d6830c",
   "metadata": {},
   "outputs": [],
   "source": [
    "import cv2\n",
    "video_path = '/home/eftekhar/Documents/Databases/AVDT_backup/Frames/flag/flag_1'\n",
    "filename = cfg.IMAGE_FORMAT.format(0)\n",
    "img = cv2.imread(os.path.join(video_path, filename))"
   ]
  },
  {
   "cell_type": "code",
   "execution_count": 42,
   "id": "8e2c9c42",
   "metadata": {},
   "outputs": [],
   "source": [
    "img = cv2.cvtColor( img, cv2.COLOR_RGB2GRAY )"
   ]
  },
  {
   "cell_type": "code",
   "execution_count": 43,
   "id": "d88315a2",
   "metadata": {},
   "outputs": [],
   "source": [
    "img_H, img_W = img.shape"
   ]
  },
  {
   "cell_type": "code",
   "execution_count": 44,
   "id": "3ccdf50a",
   "metadata": {},
   "outputs": [],
   "source": [
    "import math\n",
    "scale = math.sqrt((200.0 ** 2) / (img_H * img_W))\n",
    "new_H, new_W = int(img_H * scale), int(img_W * scale)"
   ]
  },
  {
   "cell_type": "code",
   "execution_count": 45,
   "id": "61067d26",
   "metadata": {},
   "outputs": [],
   "source": [
    "img_new = cv2.resize(img, (new_W, new_H), interpolation=cv2.INTER_LINEAR)"
   ]
  },
  {
   "cell_type": "code",
   "execution_count": 46,
   "id": "e28d3848",
   "metadata": {},
   "outputs": [
    {
     "data": {
      "text/plain": [
       "(266, 150)"
      ]
     },
     "execution_count": 46,
     "metadata": {},
     "output_type": "execute_result"
    }
   ],
   "source": [
    "img_new.shape"
   ]
  },
  {
   "cell_type": "code",
   "execution_count": 47,
   "id": "c56d744c",
   "metadata": {},
   "outputs": [
    {
     "data": {
      "text/plain": [
       "(640, 360)"
      ]
     },
     "execution_count": 47,
     "metadata": {},
     "output_type": "execute_result"
    }
   ],
   "source": [
    "img.shape"
   ]
  },
  {
   "cell_type": "code",
   "execution_count": 48,
   "id": "ea4bc7a3",
   "metadata": {},
   "outputs": [
    {
     "data": {
      "text/plain": [
       "39900"
      ]
     },
     "execution_count": 48,
     "metadata": {},
     "output_type": "execute_result"
    }
   ],
   "source": [
    "img_new.shape[0] * img_new.shape[1]"
   ]
  },
  {
   "cell_type": "code",
   "execution_count": 6,
   "id": "d4bf51bc",
   "metadata": {},
   "outputs": [
    {
     "data": {
      "text/plain": [
       "[1, None]"
      ]
     },
     "execution_count": 6,
     "metadata": {},
     "output_type": "execute_result"
    }
   ],
   "source": [
    "[1,None]"
   ]
  }
 ],
 "metadata": {
  "kernelspec": {
   "display_name": "Python 3 (ipykernel)",
   "language": "python",
   "name": "python3"
  },
  "language_info": {
   "codemirror_mode": {
    "name": "ipython",
    "version": 3
   },
   "file_extension": ".py",
   "mimetype": "text/x-python",
   "name": "python",
   "nbconvert_exporter": "python",
   "pygments_lexer": "ipython3",
   "version": "3.7.11"
  }
 },
 "nbformat": 4,
 "nbformat_minor": 5
}
