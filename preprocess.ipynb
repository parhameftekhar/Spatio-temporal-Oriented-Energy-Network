{
 "cells": [
  {
   "cell_type": "code",
   "execution_count": 18,
   "id": "3305e3ea",
   "metadata": {},
   "outputs": [],
   "source": [
    "import os \n",
    "import re"
   ]
  },
  {
   "cell_type": "code",
   "execution_count": 36,
   "id": "73ac5b8f",
   "metadata": {},
   "outputs": [],
   "source": [
    "PATH = \"/home/eftekhar/Documents/DTDB/DTDB/BY_DYNAMIC_FINAL/frames_test\"\n",
    "OUT_PATH = \"/home/eftekhar/Documents/DTDB/DTDB/BY_DYNAMIC_FINAL/frames_test_clips\""
   ]
  },
  {
   "cell_type": "code",
   "execution_count": 32,
   "id": "00f91e54",
   "metadata": {},
   "outputs": [
    {
     "name": "stdout",
     "output_type": "stream",
     "text": [
      "/home/eftekhar/Documents/DTDB/DTDB/BY_DYNAMIC_FINAL/frames_test_clips\n"
     ]
    }
   ],
   "source": [
    "print(OUT_PATH)"
   ]
  },
  {
   "cell_type": "code",
   "execution_count": 33,
   "id": "a39a87be",
   "metadata": {},
   "outputs": [],
   "source": [
    "CLIP_LENGTH = 42\n",
    "OVERLAP = 6"
   ]
  },
  {
   "cell_type": "code",
   "execution_count": 50,
   "id": "0c48f7ba",
   "metadata": {},
   "outputs": [],
   "source": [
    "for d in sorted(os.listdir(PATH)):\n",
    "    if d == \"clips.txt\":\n",
    "        continue\n",
    "    class_num = re.findall(r'\\d+', d.split(\"_\")[0])[0]\n",
    "    path_to_vid = os.path.join(PATH, d)\n",
    "    num_frm = len(os.listdir(path_to_vid))\n",
    "    if num_frm < CLIP_LENGTH:\n",
    "        print(\"yes\")\n",
    "        continue\n",
    "    SHIFT = CLIP_LENGTH - OVERLAP\n",
    "    num_chunks = (num_frm - CLIP_LENGTH)//(SHIFT) + 1\n",
    "    f = open(os.path.join(OUT_PATH, d) + \".txt\", \"a\")\n",
    "    for i in range(num_chunks):\n",
    "        start_frame_index = i * SHIFT\n",
    "        f.write(path_to_vid + \" \" + str(start_frame_index) + \" \" + class_num + \"\\n\")\n",
    "    f.close()    \n",
    "#     if i%100==0:\n",
    "#         print(i)"
   ]
  },
  {
   "cell_type": "code",
   "execution_count": 51,
   "id": "3e5a1920",
   "metadata": {},
   "outputs": [
    {
     "data": {
      "text/plain": [
       "8"
      ]
     },
     "execution_count": 51,
     "metadata": {},
     "output_type": "execute_result"
    }
   ],
   "source": [
    "(300 - CLIP_LENGTH)//(SHIFT) + 1\n"
   ]
  },
  {
   "cell_type": "code",
   "execution_count": 40,
   "id": "c7931d2b",
   "metadata": {},
   "outputs": [
    {
     "data": {
      "text/plain": [
       "8"
      ]
     },
     "execution_count": 40,
     "metadata": {},
     "output_type": "execute_result"
    }
   ],
   "source": [
    "f = open(os.path.join(OUT_PATH, d) + \".txt\", \"r\")\n",
    "len(f.readlines())"
   ]
  },
  {
   "cell_type": "code",
   "execution_count": 52,
   "id": "e8f60464",
   "metadata": {},
   "outputs": [],
   "source": [
    "count_chunks = []\n",
    "for d in sorted(os.listdir(PATH)):\n",
    "    if d == \"clips.txt\":\n",
    "        continue\n",
    "#     class_num = re.findall(r'\\d+', d.split(\"_\")[0])[0]\n",
    "    path_to_vid = os.path.join(PATH, d)\n",
    "    num_frm = len(os.listdir(path_to_vid))\n",
    "    if num_frm < CLIP_LENGTH:\n",
    "        print(\"yes\")\n",
    "        continue\n",
    "    SHIFT = CLIP_LENGTH - OVERLAP\n",
    "    num_chunks = (num_frm - CLIP_LENGTH)//(SHIFT) + 1\n",
    "    count_chunks.append(num_chunks)"
   ]
  },
  {
   "cell_type": "code",
   "execution_count": 56,
   "id": "2960b635",
   "metadata": {},
   "outputs": [
    {
     "data": {
      "text/plain": [
       "1"
      ]
     },
     "execution_count": 56,
     "metadata": {},
     "output_type": "execute_result"
    }
   ],
   "source": [
    "min(count_chunks)"
   ]
  },
  {
   "cell_type": "code",
   "execution_count": 60,
   "id": "8da7bdda",
   "metadata": {},
   "outputs": [
    {
     "data": {
      "image/png": "[encoded data removed]",
      "text/plain": [
       "<Figure size 432x288 with 1 Axes>"
      ]
     },
     "metadata": {
      "needs_background": "light"
     },
     "output_type": "display_data"
    }
   ],
   "source": [
    "import numpy as np\n",
    "import random\n",
    "from matplotlib import pyplot as plt\n",
    "\n",
    "data = np.random.normal(0, 20, 1000) \n",
    "\n",
    "# fixed bin size\n",
    "bins = np.arange(-10, 30, 1) # fixed bin size\n",
    "\n",
    "plt.xlim([min(data)-5, max(data)+5])\n",
    "\n",
    "plt.hist(count_chunks, bins=bins, alpha=0.5)\n",
    "plt.title('Random Gaussian data (fixed bin size)')\n",
    "plt.xlabel('variable X (bin size = 5)')\n",
    "plt.ylabel('count')\n",
    "\n",
    "plt.show()"
   ]
  },
  {
   "cell_type": "code",
   "execution_count": null,
   "id": "297bd40e",
   "metadata": {},
   "outputs": [],
   "source": []
  },
  {
   "cell_type": "code",
   "execution_count": null,
   "id": "f5537886",
   "metadata": {},
   "outputs": [],
   "source": []
  }
 ],
 "metadata": {
  "kernelspec": {
   "display_name": "Python 3 (ipykernel)",
   "language": "python",
   "name": "python3"
  },
  "language_info": {
   "codemirror_mode": {
    "name": "ipython",
    "version": 3
   },
   "file_extension": ".py",
   "mimetype": "text/x-python",
   "name": "python",
   "nbconvert_exporter": "python",
   "pygments_lexer": "ipython3",
   "version": "3.7.11"
  }
 },
 "nbformat": 4,
 "nbformat_minor": 5
}
