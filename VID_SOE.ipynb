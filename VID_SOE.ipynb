{
 "cells": [
  {
   "cell_type": "code",
   "execution_count": 1,
   "id": "bf4e0e5b",
   "metadata": {},
   "outputs": [],
   "source": [
    "import tensorflow as tf\n",
    "import numpy as np\n",
    "from SOE_Net_model_full import *\n",
    "import init_SOE_NET as init_net\n",
    "import configure as cfg"
   ]
  },
  {
   "cell_type": "code",
   "execution_count": 2,
   "id": "f3416200",
   "metadata": {},
   "outputs": [],
   "source": [
    "tf.compat.v1.enable_eager_execution()"
   ]
  },
  {
   "cell_type": "code",
   "execution_count": 5,
   "id": "068e1e6c",
   "metadata": {},
   "outputs": [
    {
     "name": "stdout",
     "output_type": "stream",
     "text": [
      "(1, 42, 100, 100, 20)\n",
      "(1, 42, 100, 100, 40)\n",
      "(1, 21, 50, 50, 80)\n",
      "(1, 7, 17, 17, 160)\n",
      "(1, 3200)\n",
      "--- 4.07513689994812 seconds ---\n"
     ]
    }
   ],
   "source": [
    "import time\n",
    "start_time = time.time()\n",
    "\n",
    "\n",
    "vol = np.random.rand(1, 42, 100, 100, 1)\n",
    "vol = tf.constant(vol, dtype=tf.float32)\n",
    "orientations = np.array(init_net.initOrientations (cfg.ORIENTATIONS,cfg.SPEEDS,cfg.NUM_DIRECTIONS), dtype=np.float32)\n",
    "basis = init_net.initSeparableFilters('basis', cfg.FILTER_TAPS, filter_type=\"G3\")\n",
    "# biases_soe = init_net.initBiases('bias', 0)\n",
    "SOE_Net(vol, basis, orientations, 0)\n",
    "\n",
    "print(\"--- %s seconds ---\" % (time.time() - start_time))"
   ]
  },
  {
   "cell_type": "markdown",
   "id": "6cdbd2bf",
   "metadata": {},
   "source": [
    "# Channel wise pooling"
   ]
  },
  {
   "cell_type": "code",
   "execution_count": 6,
   "id": "817fd4b2",
   "metadata": {},
   "outputs": [],
   "source": [
    "vol = np.random.rand(1, 42, 10, 10, 1600)\n",
    "vol = tf.constant(vol, dtype=tf.float32)"
   ]
  },
  {
   "cell_type": "code",
   "execution_count": 7,
   "id": "4b6d2f77",
   "metadata": {},
   "outputs": [],
   "source": [
    "NUM_ORIENTATION = 10"
   ]
  },
  {
   "cell_type": "code",
   "execution_count": 8,
   "id": "afcaf8d0",
   "metadata": {},
   "outputs": [],
   "source": [
    "num_ch = vol.get_shape().as_list()[-1]\n",
    "num_block = num_ch // (NUM_ORIENTATION ** 2)\n",
    "pooled = []\n",
    "for i in range(num_block):\n",
    "    vol_slice = vol[:,:,:,:,i*(NUM_ORIENTATION ** 2): (i + 1)*(NUM_ORIENTATION ** 2)]\n",
    "    for j in range(NUM_ORIENTATION):\n",
    "        pooled.append(tf.reduce_mean(vol_slice[:,:,:,:,j::NUM_ORIENTATION], axis=-1, keepdims=True))\n",
    "output = tf.concat(pooled, axis=-1)"
   ]
  },
  {
   "cell_type": "code",
   "execution_count": 9,
   "id": "19ba694e",
   "metadata": {},
   "outputs": [
    {
     "data": {
      "text/plain": [
       "TensorShape([Dimension(1), Dimension(42), Dimension(10), Dimension(10), Dimension(160)])"
      ]
     },
     "execution_count": 9,
     "metadata": {},
     "output_type": "execute_result"
    }
   ],
   "source": [
    "output.get_shape()"
   ]
  },
  {
   "cell_type": "code",
   "execution_count": 10,
   "id": "adb169ed",
   "metadata": {},
   "outputs": [
    {
     "name": "stderr",
     "output_type": "stream",
     "text": [
      "2022-09-01 17:58:35.820110: I tensorflow/stream_executor/platform/default/dso_loader.cc:44] Successfully opened dynamic library libcublas.so.10.0\n"
     ]
    }
   ],
   "source": [
    "num_ch = vol.get_shape().as_list()[-1]\n",
    "l = []\n",
    "for i in range(NUM_ORIENTATION):\n",
    "    x = np.zeros((NUM_ORIENTATION ** 2, 1), dtype=np.float32)\n",
    "    x[i::NUM_ORIENTATION] = 1.0 / NUM_ORIENTATION\n",
    "    l.append(x)\n",
    "chunk = np.concatenate(l, axis=-1)\n",
    "f = np.zeros((num_ch, num_ch // NUM_ORIENTATION), dtype=np.float32)\n",
    "for i in range(num_ch // (NUM_ORIENTATION ** 2)):\n",
    "    f[i * (NUM_ORIENTATION ** 2): (i + 1) * (NUM_ORIENTATION ** 2), i * NUM_ORIENTATION: (i + 1) * NUM_ORIENTATION] = chunk\n",
    "\n",
    "output1 = tf.nn.conv3d(vol, tf.constant(f[None, None, None, :, :], dtype=tf.float32), strides=[1, 1, 1, 1, 1], padding='VALID')\n"
   ]
  },
  {
   "cell_type": "code",
   "execution_count": 11,
   "id": "e5500ef8",
   "metadata": {},
   "outputs": [
    {
     "data": {
      "text/plain": [
       "TensorShape([Dimension(1), Dimension(42), Dimension(10), Dimension(10), Dimension(160)])"
      ]
     },
     "execution_count": 11,
     "metadata": {},
     "output_type": "execute_result"
    }
   ],
   "source": [
    "output1.get_shape()"
   ]
  },
  {
   "cell_type": "code",
   "execution_count": 12,
   "id": "81b26530",
   "metadata": {},
   "outputs": [
    {
     "data": {
      "text/plain": [
       "<tf.Tensor: id=2058, shape=(), dtype=float32, numpy=1.7881393e-07>"
      ]
     },
     "execution_count": 12,
     "metadata": {},
     "output_type": "execute_result"
    }
   ],
   "source": [
    "tf.math.reduce_max(output - output1)"
   ]
  },
  {
   "cell_type": "code",
   "execution_count": 25,
   "id": "e09e5e83",
   "metadata": {},
   "outputs": [],
   "source": [
    "# def CP3D(name, in_data):\n",
    "#     num_ch = vol.get_shape().as_list()[-1]\n",
    "#     cc_filter = CPP(name, cfg.NUM_DIRECTIONS, num_ch, cfg.REC_STYLE)\n",
    "#     print(cc_filter.get_shape())\n",
    "#     if cfg.REC_STYLE == 'two_path':\n",
    "#         shape_L1 = 2*cfg.NUM_DIRECTIONS\n",
    "#     else:\n",
    "#         shape_L1 = cfg.NUM_DIRECTIONS\n",
    "    \n",
    "#     if in_data.shape[-1] == shape_L1:\n",
    "#         cc_pool = in_data    \n",
    "#     else:\n",
    "#         cc_pool = tf.nn.conv3d(in_data, cc_filter, strides=[1, 1, 1, 1, 1], padding='VALID')\n",
    "#     return cc_pool"
   ]
  },
  {
   "cell_type": "code",
   "execution_count": 26,
   "id": "bd983d2c",
   "metadata": {},
   "outputs": [],
   "source": [
    "# def CPP(name, num_dir, num_ch, rec_style):\n",
    "#     if rec_style == 'two_path':\n",
    "#         l = []\n",
    "#         for i in range(num_dir):\n",
    "#             x = np.zeros((num_dir ** 2, 1), dtype=np.float32)\n",
    "#             x[i::num_dir] = 1.0 / num_dir\n",
    "#             l.append(x)\n",
    "#         chunk = np.concatenate(l, axis=-1)\n",
    "#         f = np.zeros((num_ch, num_ch // num_dir), dtype=np.float32)\n",
    "#         for i in range(num_ch // (num_dir ** 2)):\n",
    "#             f[i * (num_dir ** 2): (i + 1) * (num_dir ** 2), i * num_dir: (i + 1) * num_dir] = chunk\n",
    "#         return tf.constant(f[None, None, None, :, :], dtype=tf.float32)\n",
    "#     else:\n",
    "#         pass"
   ]
  },
  {
   "cell_type": "code",
   "execution_count": 27,
   "id": "8fa15686",
   "metadata": {},
   "outputs": [
    {
     "name": "stdout",
     "output_type": "stream",
     "text": [
      "(1, 1, 1, 1600, 160)\n"
     ]
    }
   ],
   "source": [
    "output2 = CP3D(\"a\", vol)"
   ]
  },
  {
   "cell_type": "code",
   "execution_count": 29,
   "id": "51f87af9",
   "metadata": {},
   "outputs": [
    {
     "data": {
      "text/plain": [
       "<tf.Tensor: id=2067, shape=(), dtype=float32, numpy=0.0>"
      ]
     },
     "execution_count": 29,
     "metadata": {},
     "output_type": "execute_result"
    }
   ],
   "source": [
    "tf.math.reduce_max(output1 - output2)"
   ]
  }
 ],
 "metadata": {
  "kernelspec": {
   "display_name": "Python 3 (ipykernel)",
   "language": "python",
   "name": "python3"
  },
  "language_info": {
   "codemirror_mode": {
    "name": "ipython",
    "version": 3
   },
   "file_extension": ".py",
   "mimetype": "text/x-python",
   "name": "python",
   "nbconvert_exporter": "python",
   "pygments_lexer": "ipython3",
   "version": "3.7.11"
  }
 },
 "nbformat": 4,
 "nbformat_minor": 5
}
